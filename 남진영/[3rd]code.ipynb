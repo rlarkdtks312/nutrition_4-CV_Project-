{
  "nbformat": 4,
  "nbformat_minor": 0,
  "metadata": {
    "colab": {
      "name": "[3rd]code.ipynb",
      "provenance": [],
      "collapsed_sections": [
        "OSB2Z7gDA2lW",
        "xWcbFFw1ruIb",
        "cLfFIwIzs2ZS",
        "NKkY_jdhBZNu",
        "x7r8hOn_Bn_m",
        "cIvhXiOfLAYK"
      ]
    },
    "kernelspec": {
      "name": "python3",
      "display_name": "Python 3"
    },
    "language_info": {
      "name": "python"
    }
  },
  "cells": [
    {
      "cell_type": "code",
      "execution_count": 1,
      "metadata": {
        "colab": {
          "base_uri": "https://localhost:8080/"
        },
        "id": "xMWl0M_g-5dR",
        "outputId": "6aaf7410-1d3c-47fe-da21-b02d4f993ab4"
      },
      "outputs": [
        {
          "output_type": "stream",
          "name": "stdout",
          "text": [
            "Mounted at /content/drive\n"
          ]
        }
      ],
      "source": [
        "from google.colab import drive\n",
        "drive.mount('/content/drive')"
      ]
    },
    {
      "cell_type": "code",
      "source": [
        "# 기본 데이터베이스에 해당하는 파일 디렉토리(모델 넣기)\n",
        "!mkdir datafile"
      ],
      "metadata": {
        "id": "kPrfQ5oPAtsg"
      },
      "execution_count": 2,
      "outputs": []
    },
    {
      "cell_type": "code",
      "source": [
        "file_path = './datafile/' # 데이터베이스 path"
      ],
      "metadata": {
        "id": "__zsJoZwBARq"
      },
      "execution_count": 3,
      "outputs": []
    },
    {
      "cell_type": "code",
      "source": [
        "# static 디렉토리 생성\n",
        "!mkdir static"
      ],
      "metadata": {
        "id": "M3uXrKlYAxBG"
      },
      "execution_count": 4,
      "outputs": []
    },
    {
      "cell_type": "markdown",
      "source": [
        "- datafile 에 학습모델, 분류파일 넣기"
      ],
      "metadata": {
        "id": "k67dxHewdBVh"
      }
    },
    {
      "cell_type": "code",
      "source": [
        "# 임포트\n",
        "import numpy as np\n",
        "import pandas as pd"
      ],
      "metadata": {
        "id": "zyLm69gjAyl6"
      },
      "execution_count": 5,
      "outputs": []
    },
    {
      "cell_type": "markdown",
      "source": [
        "# 모델 =====\n",
        "- 모델 불러오기"
      ],
      "metadata": {
        "id": "OSB2Z7gDA2lW"
      }
    },
    {
      "cell_type": "code",
      "source": [
        "# 모델 임포트\n"
      ],
      "metadata": {
        "id": "467hcpT0A2aa"
      },
      "execution_count": null,
      "outputs": []
    },
    {
      "cell_type": "code",
      "source": [
        "# 모델 로드\n"
      ],
      "metadata": {
        "id": "bvl4Zp_GBALK"
      },
      "execution_count": null,
      "outputs": []
    },
    {
      "cell_type": "markdown",
      "source": [
        "# 이미지 모듈 ====="
      ],
      "metadata": {
        "id": "xWcbFFw1ruIb"
      }
    },
    {
      "cell_type": "code",
      "source": [
        "# 추가 모듈 임포트\n",
        "import json\n",
        "from PIL import Image"
      ],
      "metadata": {
        "id": "L21wLSWLBABG"
      },
      "execution_count": null,
      "outputs": []
    },
    {
      "cell_type": "code",
      "source": [
        "img_path = './image/'"
      ],
      "metadata": {
        "id": "d41eBkajBJ_N"
      },
      "execution_count": null,
      "outputs": []
    },
    {
      "cell_type": "markdown",
      "source": [
        "# 이미지 Predict ====="
      ],
      "metadata": {
        "id": "cLfFIwIzs2ZS"
      }
    },
    {
      "cell_type": "code",
      "source": [
        "# 추출된 인덱스 값 1\n",
        "# 인덱스의 라벨 값 2"
      ],
      "metadata": {
        "id": "hCRFtWFABMer"
      },
      "execution_count": null,
      "outputs": []
    },
    {
      "cell_type": "markdown",
      "source": [
        "# 데이터 =====\n",
        "- 영양정보 DB 가져오기"
      ],
      "metadata": {
        "id": "yvMBKfr8BNP9"
      }
    },
    {
      "cell_type": "code",
      "source": [
        "DATA = pd.read_excel('/content/drive/MyDrive/영양4조/dataset/음식 이미지 및 영양정보 텍스트/nutritionDB/음식분류 AI 데이터 영양DB.xlsx', index_col='음 식 명')\n",
        "DATA"
      ],
      "metadata": {
        "colab": {
          "base_uri": "https://localhost:8080/",
          "height": 917
        },
        "id": "CF1I7qnXBTlz",
        "outputId": "baf59378-d2f8-44c5-cb16-4aa1bf611730"
      },
      "execution_count": 7,
      "outputs": [
        {
          "output_type": "execute_result",
          "data": {
            "text/plain": [
              "       중량(g)  에너지(kcal)    탄수화물(g)      당류(g)    지방(g)    단백질(g)   칼슘(mg)  \\\n",
              "음 식 명                                                                       \n",
              "쌀밥     210.0   334.8000   73.71000   0.000000  0.45000   5.76000      3.6   \n",
              "기타잡곡밥  200.0   302.3620   65.52110   0.000000  0.74620   6.70920    12.06   \n",
              "콩밥     200.0   322.9000   65.84600   0.000000  1.66600   8.42800     24.7   \n",
              "보리밥    200.0   316.1000   70.57000   0.000000  0.14000   5.55000      6.7   \n",
              "돌솥밥    350.0   528.8550  101.85000   0.000000  8.34700  10.18700   61.455   \n",
              "...      ...        ...        ...        ...      ...       ...      ...   \n",
              "다식      30.0   105.1665   20.81070   6.455700  1.72860   3.54630   1.4274   \n",
              "약과      30.0   113.8494   22.18320   2.151900  1.23870   2.57400    4.449   \n",
              "유과      30.0   129.0600   24.13650   1.120950  3.50400   0.36090   1.2084   \n",
              "산자      30.0   121.6985   24.70195  10.632825  1.19665   0.91035  2.00165   \n",
              "깨강정     30.0   150.3000   13.62000   0.000000  9.87000   4.50000      156   \n",
              "\n",
              "          인(mg)    나트륨(mg)    칼륨(mg) 마그네슘(mg)   철(mg)   아연(mg)  콜레스테롤(mg)  \\\n",
              "음 식 명                                                                       \n",
              "쌀밥          126   59.40000     146.7        -    0.36     1.35      0.000   \n",
              "기타잡곡밥   117.836    3.39200   166.718      6.9  1.7447   1.8264      0.000   \n",
              "콩밥        126.9    4.10000     258.4     22.5    1.74     1.61      0.000   \n",
              "보리밥        68.8    4.50000     100.6        0    1.26     1.41      0.000   \n",
              "돌솥밥      193.72  618.31500    624.32   57.785   3.321    2.582      2.365   \n",
              "...         ...        ...       ...      ...     ...      ...        ...   \n",
              "다식     100.0665    3.84900  206.7144        -  0.5175   0.0411      0.000   \n",
              "약과        28.23   16.45980   59.4219        -  0.5661   0.1431      0.000   \n",
              "유과          3.6    7.05540    0.0285        -    0.24   0.1968      0.000   \n",
              "산자     20.36125    8.01255   60.9266        -  0.4053  0.27195      0.000   \n",
              "깨강정       125.7   24.30000      67.5        0    1.38     2.13      0.000   \n",
              "\n",
              "       트랜스지방(g)  \n",
              "음 식 명            \n",
              "쌀밥            0  \n",
              "기타잡곡밥         0  \n",
              "콩밥            0  \n",
              "보리밥           0  \n",
              "돌솥밥           0  \n",
              "...         ...  \n",
              "다식            0  \n",
              "약과            0  \n",
              "유과            0  \n",
              "산자            0  \n",
              "깨강정           0  \n",
              "\n",
              "[400 rows x 15 columns]"
            ],
            "text/html": [
              "\n",
              "  <div id=\"df-e956231d-3e2e-4270-b233-a1146bdb31a5\">\n",
              "    <div class=\"colab-df-container\">\n",
              "      <div>\n",
              "<style scoped>\n",
              "    .dataframe tbody tr th:only-of-type {\n",
              "        vertical-align: middle;\n",
              "    }\n",
              "\n",
              "    .dataframe tbody tr th {\n",
              "        vertical-align: top;\n",
              "    }\n",
              "\n",
              "    .dataframe thead th {\n",
              "        text-align: right;\n",
              "    }\n",
              "</style>\n",
              "<table border=\"1\" class=\"dataframe\">\n",
              "  <thead>\n",
              "    <tr style=\"text-align: right;\">\n",
              "      <th></th>\n",
              "      <th>중량(g)</th>\n",
              "      <th>에너지(kcal)</th>\n",
              "      <th>탄수화물(g)</th>\n",
              "      <th>당류(g)</th>\n",
              "      <th>지방(g)</th>\n",
              "      <th>단백질(g)</th>\n",
              "      <th>칼슘(mg)</th>\n",
              "      <th>인(mg)</th>\n",
              "      <th>나트륨(mg)</th>\n",
              "      <th>칼륨(mg)</th>\n",
              "      <th>마그네슘(mg)</th>\n",
              "      <th>철(mg)</th>\n",
              "      <th>아연(mg)</th>\n",
              "      <th>콜레스테롤(mg)</th>\n",
              "      <th>트랜스지방(g)</th>\n",
              "    </tr>\n",
              "    <tr>\n",
              "      <th>음 식 명</th>\n",
              "      <th></th>\n",
              "      <th></th>\n",
              "      <th></th>\n",
              "      <th></th>\n",
              "      <th></th>\n",
              "      <th></th>\n",
              "      <th></th>\n",
              "      <th></th>\n",
              "      <th></th>\n",
              "      <th></th>\n",
              "      <th></th>\n",
              "      <th></th>\n",
              "      <th></th>\n",
              "      <th></th>\n",
              "      <th></th>\n",
              "    </tr>\n",
              "  </thead>\n",
              "  <tbody>\n",
              "    <tr>\n",
              "      <th>쌀밥</th>\n",
              "      <td>210.0</td>\n",
              "      <td>334.8000</td>\n",
              "      <td>73.71000</td>\n",
              "      <td>0.000000</td>\n",
              "      <td>0.45000</td>\n",
              "      <td>5.76000</td>\n",
              "      <td>3.6</td>\n",
              "      <td>126</td>\n",
              "      <td>59.40000</td>\n",
              "      <td>146.7</td>\n",
              "      <td>-</td>\n",
              "      <td>0.36</td>\n",
              "      <td>1.35</td>\n",
              "      <td>0.000</td>\n",
              "      <td>0</td>\n",
              "    </tr>\n",
              "    <tr>\n",
              "      <th>기타잡곡밥</th>\n",
              "      <td>200.0</td>\n",
              "      <td>302.3620</td>\n",
              "      <td>65.52110</td>\n",
              "      <td>0.000000</td>\n",
              "      <td>0.74620</td>\n",
              "      <td>6.70920</td>\n",
              "      <td>12.06</td>\n",
              "      <td>117.836</td>\n",
              "      <td>3.39200</td>\n",
              "      <td>166.718</td>\n",
              "      <td>6.9</td>\n",
              "      <td>1.7447</td>\n",
              "      <td>1.8264</td>\n",
              "      <td>0.000</td>\n",
              "      <td>0</td>\n",
              "    </tr>\n",
              "    <tr>\n",
              "      <th>콩밥</th>\n",
              "      <td>200.0</td>\n",
              "      <td>322.9000</td>\n",
              "      <td>65.84600</td>\n",
              "      <td>0.000000</td>\n",
              "      <td>1.66600</td>\n",
              "      <td>8.42800</td>\n",
              "      <td>24.7</td>\n",
              "      <td>126.9</td>\n",
              "      <td>4.10000</td>\n",
              "      <td>258.4</td>\n",
              "      <td>22.5</td>\n",
              "      <td>1.74</td>\n",
              "      <td>1.61</td>\n",
              "      <td>0.000</td>\n",
              "      <td>0</td>\n",
              "    </tr>\n",
              "    <tr>\n",
              "      <th>보리밥</th>\n",
              "      <td>200.0</td>\n",
              "      <td>316.1000</td>\n",
              "      <td>70.57000</td>\n",
              "      <td>0.000000</td>\n",
              "      <td>0.14000</td>\n",
              "      <td>5.55000</td>\n",
              "      <td>6.7</td>\n",
              "      <td>68.8</td>\n",
              "      <td>4.50000</td>\n",
              "      <td>100.6</td>\n",
              "      <td>0</td>\n",
              "      <td>1.26</td>\n",
              "      <td>1.41</td>\n",
              "      <td>0.000</td>\n",
              "      <td>0</td>\n",
              "    </tr>\n",
              "    <tr>\n",
              "      <th>돌솥밥</th>\n",
              "      <td>350.0</td>\n",
              "      <td>528.8550</td>\n",
              "      <td>101.85000</td>\n",
              "      <td>0.000000</td>\n",
              "      <td>8.34700</td>\n",
              "      <td>10.18700</td>\n",
              "      <td>61.455</td>\n",
              "      <td>193.72</td>\n",
              "      <td>618.31500</td>\n",
              "      <td>624.32</td>\n",
              "      <td>57.785</td>\n",
              "      <td>3.321</td>\n",
              "      <td>2.582</td>\n",
              "      <td>2.365</td>\n",
              "      <td>0</td>\n",
              "    </tr>\n",
              "    <tr>\n",
              "      <th>...</th>\n",
              "      <td>...</td>\n",
              "      <td>...</td>\n",
              "      <td>...</td>\n",
              "      <td>...</td>\n",
              "      <td>...</td>\n",
              "      <td>...</td>\n",
              "      <td>...</td>\n",
              "      <td>...</td>\n",
              "      <td>...</td>\n",
              "      <td>...</td>\n",
              "      <td>...</td>\n",
              "      <td>...</td>\n",
              "      <td>...</td>\n",
              "      <td>...</td>\n",
              "      <td>...</td>\n",
              "    </tr>\n",
              "    <tr>\n",
              "      <th>다식</th>\n",
              "      <td>30.0</td>\n",
              "      <td>105.1665</td>\n",
              "      <td>20.81070</td>\n",
              "      <td>6.455700</td>\n",
              "      <td>1.72860</td>\n",
              "      <td>3.54630</td>\n",
              "      <td>1.4274</td>\n",
              "      <td>100.0665</td>\n",
              "      <td>3.84900</td>\n",
              "      <td>206.7144</td>\n",
              "      <td>-</td>\n",
              "      <td>0.5175</td>\n",
              "      <td>0.0411</td>\n",
              "      <td>0.000</td>\n",
              "      <td>0</td>\n",
              "    </tr>\n",
              "    <tr>\n",
              "      <th>약과</th>\n",
              "      <td>30.0</td>\n",
              "      <td>113.8494</td>\n",
              "      <td>22.18320</td>\n",
              "      <td>2.151900</td>\n",
              "      <td>1.23870</td>\n",
              "      <td>2.57400</td>\n",
              "      <td>4.449</td>\n",
              "      <td>28.23</td>\n",
              "      <td>16.45980</td>\n",
              "      <td>59.4219</td>\n",
              "      <td>-</td>\n",
              "      <td>0.5661</td>\n",
              "      <td>0.1431</td>\n",
              "      <td>0.000</td>\n",
              "      <td>0</td>\n",
              "    </tr>\n",
              "    <tr>\n",
              "      <th>유과</th>\n",
              "      <td>30.0</td>\n",
              "      <td>129.0600</td>\n",
              "      <td>24.13650</td>\n",
              "      <td>1.120950</td>\n",
              "      <td>3.50400</td>\n",
              "      <td>0.36090</td>\n",
              "      <td>1.2084</td>\n",
              "      <td>3.6</td>\n",
              "      <td>7.05540</td>\n",
              "      <td>0.0285</td>\n",
              "      <td>-</td>\n",
              "      <td>0.24</td>\n",
              "      <td>0.1968</td>\n",
              "      <td>0.000</td>\n",
              "      <td>0</td>\n",
              "    </tr>\n",
              "    <tr>\n",
              "      <th>산자</th>\n",
              "      <td>30.0</td>\n",
              "      <td>121.6985</td>\n",
              "      <td>24.70195</td>\n",
              "      <td>10.632825</td>\n",
              "      <td>1.19665</td>\n",
              "      <td>0.91035</td>\n",
              "      <td>2.00165</td>\n",
              "      <td>20.36125</td>\n",
              "      <td>8.01255</td>\n",
              "      <td>60.9266</td>\n",
              "      <td>-</td>\n",
              "      <td>0.4053</td>\n",
              "      <td>0.27195</td>\n",
              "      <td>0.000</td>\n",
              "      <td>0</td>\n",
              "    </tr>\n",
              "    <tr>\n",
              "      <th>깨강정</th>\n",
              "      <td>30.0</td>\n",
              "      <td>150.3000</td>\n",
              "      <td>13.62000</td>\n",
              "      <td>0.000000</td>\n",
              "      <td>9.87000</td>\n",
              "      <td>4.50000</td>\n",
              "      <td>156</td>\n",
              "      <td>125.7</td>\n",
              "      <td>24.30000</td>\n",
              "      <td>67.5</td>\n",
              "      <td>0</td>\n",
              "      <td>1.38</td>\n",
              "      <td>2.13</td>\n",
              "      <td>0.000</td>\n",
              "      <td>0</td>\n",
              "    </tr>\n",
              "  </tbody>\n",
              "</table>\n",
              "<p>400 rows × 15 columns</p>\n",
              "</div>\n",
              "      <button class=\"colab-df-convert\" onclick=\"convertToInteractive('df-e956231d-3e2e-4270-b233-a1146bdb31a5')\"\n",
              "              title=\"Convert this dataframe to an interactive table.\"\n",
              "              style=\"display:none;\">\n",
              "        \n",
              "  <svg xmlns=\"http://www.w3.org/2000/svg\" height=\"24px\"viewBox=\"0 0 24 24\"\n",
              "       width=\"24px\">\n",
              "    <path d=\"M0 0h24v24H0V0z\" fill=\"none\"/>\n",
              "    <path d=\"M18.56 5.44l.94 2.06.94-2.06 2.06-.94-2.06-.94-.94-2.06-.94 2.06-2.06.94zm-11 1L8.5 8.5l.94-2.06 2.06-.94-2.06-.94L8.5 2.5l-.94 2.06-2.06.94zm10 10l.94 2.06.94-2.06 2.06-.94-2.06-.94-.94-2.06-.94 2.06-2.06.94z\"/><path d=\"M17.41 7.96l-1.37-1.37c-.4-.4-.92-.59-1.43-.59-.52 0-1.04.2-1.43.59L10.3 9.45l-7.72 7.72c-.78.78-.78 2.05 0 2.83L4 21.41c.39.39.9.59 1.41.59.51 0 1.02-.2 1.41-.59l7.78-7.78 2.81-2.81c.8-.78.8-2.07 0-2.86zM5.41 20L4 18.59l7.72-7.72 1.47 1.35L5.41 20z\"/>\n",
              "  </svg>\n",
              "      </button>\n",
              "      \n",
              "  <style>\n",
              "    .colab-df-container {\n",
              "      display:flex;\n",
              "      flex-wrap:wrap;\n",
              "      gap: 12px;\n",
              "    }\n",
              "\n",
              "    .colab-df-convert {\n",
              "      background-color: #E8F0FE;\n",
              "      border: none;\n",
              "      border-radius: 50%;\n",
              "      cursor: pointer;\n",
              "      display: none;\n",
              "      fill: #1967D2;\n",
              "      height: 32px;\n",
              "      padding: 0 0 0 0;\n",
              "      width: 32px;\n",
              "    }\n",
              "\n",
              "    .colab-df-convert:hover {\n",
              "      background-color: #E2EBFA;\n",
              "      box-shadow: 0px 1px 2px rgba(60, 64, 67, 0.3), 0px 1px 3px 1px rgba(60, 64, 67, 0.15);\n",
              "      fill: #174EA6;\n",
              "    }\n",
              "\n",
              "    [theme=dark] .colab-df-convert {\n",
              "      background-color: #3B4455;\n",
              "      fill: #D2E3FC;\n",
              "    }\n",
              "\n",
              "    [theme=dark] .colab-df-convert:hover {\n",
              "      background-color: #434B5C;\n",
              "      box-shadow: 0px 1px 3px 1px rgba(0, 0, 0, 0.15);\n",
              "      filter: drop-shadow(0px 1px 2px rgba(0, 0, 0, 0.3));\n",
              "      fill: #FFFFFF;\n",
              "    }\n",
              "  </style>\n",
              "\n",
              "      <script>\n",
              "        const buttonEl =\n",
              "          document.querySelector('#df-e956231d-3e2e-4270-b233-a1146bdb31a5 button.colab-df-convert');\n",
              "        buttonEl.style.display =\n",
              "          google.colab.kernel.accessAllowed ? 'block' : 'none';\n",
              "\n",
              "        async function convertToInteractive(key) {\n",
              "          const element = document.querySelector('#df-e956231d-3e2e-4270-b233-a1146bdb31a5');\n",
              "          const dataTable =\n",
              "            await google.colab.kernel.invokeFunction('convertToInteractive',\n",
              "                                                     [key], {});\n",
              "          if (!dataTable) return;\n",
              "\n",
              "          const docLinkHtml = 'Like what you see? Visit the ' +\n",
              "            '<a target=\"_blank\" href=https://colab.research.google.com/notebooks/data_table.ipynb>data table notebook</a>'\n",
              "            + ' to learn more about interactive tables.';\n",
              "          element.innerHTML = '';\n",
              "          dataTable['output_type'] = 'display_data';\n",
              "          await google.colab.output.renderOutput(dataTable, element);\n",
              "          const docLink = document.createElement('div');\n",
              "          docLink.innerHTML = docLinkHtml;\n",
              "          element.appendChild(docLink);\n",
              "        }\n",
              "      </script>\n",
              "    </div>\n",
              "  </div>\n",
              "  "
            ]
          },
          "metadata": {},
          "execution_count": 7
        }
      ]
    },
    {
      "cell_type": "markdown",
      "source": [
        "# 영양성분정보 추출 함수 ====="
      ],
      "metadata": {
        "id": "Ca6uaXbEBYs3"
      }
    },
    {
      "cell_type": "code",
      "source": [
        "# 음식명별 영양성분 정보\n",
        "Nutrition = {'중량': ['중량(g)'],\n",
        "             '성분': ['에너지(kcal)','탄수화물(g)','당류(g)','지방(g)','단백질(g)','칼슘(mg)','인(mg)','나트륨(mg)','칼륨(mg)','마그네슘(mg)','철(mg)','아연(mg)','콜레스테롤(mg)','트랜스지방(g)']\n",
        "             }"
      ],
      "metadata": {
        "id": "W7gp6E47tr-S"
      },
      "execution_count": 8,
      "outputs": []
    },
    {
      "cell_type": "code",
      "source": [
        "names = ['곤드레밥', '라면']"
      ],
      "metadata": {
        "id": "WSf_WZzZ4EJL"
      },
      "execution_count": 9,
      "outputs": []
    },
    {
      "cell_type": "code",
      "source": [
        "names = ['곤드레밥', 'fkaus']"
      ],
      "metadata": {
        "id": "yZ_hwLHAJ9U8"
      },
      "execution_count": null,
      "outputs": []
    },
    {
      "cell_type": "code",
      "source": [
        "names = ['ㅇㅇ', 'fkaus']"
      ],
      "metadata": {
        "id": "jrog_dKhVT8W"
      },
      "execution_count": null,
      "outputs": []
    },
    {
      "cell_type": "code",
      "source": [
        "# predict된 음식명에 따라 영양성분 출력 함수 정의\n",
        "def nutrition_info(names):\n",
        "    # 예측된 음식명 담기\n",
        "    food_name = []\n",
        "    # 없는 음식명 담기\n",
        "    food_name_x = []\n",
        "    # 예측된 음식의 영양성분 담기\n",
        "    food_info = {}\n",
        "    # 예측된 음식명들중에 하나씩 반복해서 이름은 음식명에 담고, 영양정보는 영양성분에 담기\n",
        "    for name in names:\n",
        "        if name in DATA.index:\n",
        "            food_name.append(name)\n",
        "            food_info[name] = dict(DATA.loc[name][Nutrition['성분']])\n",
        "        # 음식명이 없으면 없는 음식명에 담고 없는 정보를 출력할 준비 함\n",
        "        else:\n",
        "            food_name_x.append(name)\n",
        "            a = '없는 정보 :', food_name_x\n",
        "    # 결과1: 없는음식명이 없다면 예측된 음식명 리스트와 그에대한 영양성분 정보 출력\n",
        "    if food_name_x == []:\n",
        "        return food_name, food_info\n",
        "    # 결과2: 음식명이 없으면 없는음식명 정보를 출력\n",
        "    elif food_name == []:\n",
        "        return  print(a)\n",
        "    # 결과3: 음식명이 있고, 없는것도 있으면 없는 음식명정보도 출력하고 예측된 음식명 리스트와 영양성분정보 출력\n",
        "    else:\n",
        "        print(a)\n",
        "        return food_name, food_info"
      ],
      "metadata": {
        "id": "05fc7CLNFc2v"
      },
      "execution_count": 10,
      "outputs": []
    },
    {
      "cell_type": "code",
      "source": [
        "nutrition_info(names)"
      ],
      "metadata": {
        "colab": {
          "base_uri": "https://localhost:8080/"
        },
        "id": "NWimv7QizBlx",
        "outputId": "4dd56a24-3887-4e23-b685-b889c20c45cb"
      },
      "execution_count": 11,
      "outputs": [
        {
          "output_type": "execute_result",
          "data": {
            "text/plain": [
              "(['곤드레밥', '라면'],\n",
              " {'곤드레밥': {'나트륨(mg)': 88.753,\n",
              "   '단백질(g)': 14.14,\n",
              "   '당류(g)': 0.0,\n",
              "   '마그네슘(mg)': 22.400000000000002,\n",
              "   '아연(mg)': 1.7779999999999998,\n",
              "   '에너지(kcal)': 506.8,\n",
              "   '인(mg)': 95.47999999999999,\n",
              "   '지방(g)': 8.372,\n",
              "   '철(mg)': 1.8760000000000001,\n",
              "   '칼륨(mg)': 815.9235000000001,\n",
              "   '칼슘(mg)': 30.324,\n",
              "   '콜레스테롤(mg)': 0.0,\n",
              "   '탄수화물(g)': 108.05199999999999,\n",
              "   '트랜스지방(g)': 0},\n",
              "  '라면': {'나트륨(mg)': 1695.5009999999997,\n",
              "   '단백질(g)': 14.077000000000002,\n",
              "   '당류(g)': 0.0,\n",
              "   '마그네슘(mg)': 0.97,\n",
              "   '아연(mg)': 1.1909999999999998,\n",
              "   '에너지(kcal)': 509.32800000000003,\n",
              "   '인(mg)': 145.281,\n",
              "   '지방(g)': 17.748,\n",
              "   '철(mg)': 1.226,\n",
              "   '칼륨(mg)': 374.069,\n",
              "   '칼슘(mg)': 32.993,\n",
              "   '콜레스테롤(mg)': 2.344,\n",
              "   '탄수화물(g)': 83.16800000000002,\n",
              "   '트랜스지방(g)': 0}})"
            ]
          },
          "metadata": {},
          "execution_count": 11
        }
      ]
    },
    {
      "cell_type": "code",
      "source": [
        "# 음식별 영양성분 더하기\n",
        "def nutri_add(names):\n",
        "    # 전체음식의 영양성분을 한번에 담을 변수 생성 Nutri\n",
        "    Nutri = {'에너지(kcal)': 0, '콜레스테롤(mg)': 0, '트랜스지방(g)': 0, '탄수화물(g)': 0, '당류(g)': 0, '지방(g)': 0,\n",
        "    '단백질(g)': 0, '칼슘(mg)': 0, '인(mg)': 0, '나트륨(mg)': 0, '칼륨(mg)': 0, '마그네슘(mg)': 0, '철(mg)': 0, '아연(mg)': 0}\n",
        "    # 추출된 전체 음식의 성분별로 영양성분 더하여 dict에 저장\n",
        "    for name in names[0]:\n",
        "        for k in Nutrition['성분']:\n",
        "            Nutri[k] += names[1][name][k]\n",
        "    return Nutri"
      ],
      "metadata": {
        "id": "6vWIPjgFE_E7"
      },
      "execution_count": 14,
      "outputs": []
    },
    {
      "cell_type": "code",
      "source": [
        "result = nutri_add(nutrition_info(names))\n",
        "result"
      ],
      "metadata": {
        "colab": {
          "base_uri": "https://localhost:8080/"
        },
        "id": "mcFCFPEWFAZh",
        "outputId": "1d337d00-228a-48b5-df99-76b76c0c72df"
      },
      "execution_count": 17,
      "outputs": [
        {
          "output_type": "execute_result",
          "data": {
            "text/plain": [
              "{'나트륨(mg)': 1784.2539999999997,\n",
              " '단백질(g)': 28.217000000000002,\n",
              " '당류(g)': 0.0,\n",
              " '마그네슘(mg)': 23.37,\n",
              " '아연(mg)': 2.9689999999999994,\n",
              " '에너지(kcal)': 1016.128,\n",
              " '인(mg)': 240.761,\n",
              " '지방(g)': 26.12,\n",
              " '철(mg)': 3.1020000000000003,\n",
              " '칼륨(mg)': 1189.9925,\n",
              " '칼슘(mg)': 63.31700000000001,\n",
              " '콜레스테롤(mg)': 2.344,\n",
              " '탄수화물(g)': 191.22000000000003,\n",
              " '트랜스지방(g)': 0}"
            ]
          },
          "metadata": {},
          "execution_count": 17
        }
      ]
    },
    {
      "cell_type": "code",
      "source": [
        "result['나트륨(mg)']"
      ],
      "metadata": {
        "colab": {
          "base_uri": "https://localhost:8080/"
        },
        "id": "Vkh1v5X_FA6s",
        "outputId": "1d62c633-1923-4c26-a3a8-7b0b616a48d8"
      },
      "execution_count": 18,
      "outputs": [
        {
          "output_type": "execute_result",
          "data": {
            "text/plain": [
              "1784.2539999999997"
            ]
          },
          "metadata": {},
          "execution_count": 18
        }
      ]
    },
    {
      "cell_type": "markdown",
      "source": [
        "# 가공정보 추출 함수 ====="
      ],
      "metadata": {
        "id": "0DJRvpkME1o0"
      }
    },
    {
      "cell_type": "code",
      "source": [
        "DATA2 = pd.read_excel('/content/drive/MyDrive/영양4조/[최종]영양권장량.xlsx')\n",
        "DATA2"
      ],
      "metadata": {
        "colab": {
          "base_uri": "https://localhost:8080/",
          "height": 480
        },
        "id": "JG65oEIIE51o",
        "outputId": "a819bcb3-4495-41e7-a1f8-b9a2b49a6e7e"
      },
      "execution_count": 19,
      "outputs": [
        {
          "output_type": "stream",
          "name": "stderr",
          "text": [
            "/usr/local/lib/python3.7/dist-packages/openpyxl/worksheet/_reader.py:312: UserWarning: Unknown extension is not supported and will be removed\n",
            "  warn(msg)\n"
          ]
        },
        {
          "output_type": "execute_result",
          "data": {
            "text/plain": [
              "    성별     연령       영양성분 권장(g/일) 상한(g/일)\n",
              "0   남자  19-29  탄수화물(g/일)     130       -\n",
              "1   남자  30-49  탄수화물(g/일)     130       -\n",
              "2   남자  50-64  탄수화물(g/일)     130       -\n",
              "3   여자  19-29  탄수화물(g/일)     130       -\n",
              "4   여자  30-49  탄수화물(g/일)     130       -\n",
              "..  ..    ...        ...     ...     ...\n",
              "61  남자  30-49   아연(mg/일)      10      35\n",
              "62  남자  50-64   아연(mg/일)      10      35\n",
              "63  여자  19-29   아연(mg/일)       8      35\n",
              "64  여자  30-49   아연(mg/일)       8      35\n",
              "65  여자  50-64   아연(mg/일)       8      35\n",
              "\n",
              "[66 rows x 5 columns]"
            ],
            "text/html": [
              "\n",
              "  <div id=\"df-5c4dc5cd-946f-4798-966f-4081dc8897f1\">\n",
              "    <div class=\"colab-df-container\">\n",
              "      <div>\n",
              "<style scoped>\n",
              "    .dataframe tbody tr th:only-of-type {\n",
              "        vertical-align: middle;\n",
              "    }\n",
              "\n",
              "    .dataframe tbody tr th {\n",
              "        vertical-align: top;\n",
              "    }\n",
              "\n",
              "    .dataframe thead th {\n",
              "        text-align: right;\n",
              "    }\n",
              "</style>\n",
              "<table border=\"1\" class=\"dataframe\">\n",
              "  <thead>\n",
              "    <tr style=\"text-align: right;\">\n",
              "      <th></th>\n",
              "      <th>성별</th>\n",
              "      <th>연령</th>\n",
              "      <th>영양성분</th>\n",
              "      <th>권장(g/일)</th>\n",
              "      <th>상한(g/일)</th>\n",
              "    </tr>\n",
              "  </thead>\n",
              "  <tbody>\n",
              "    <tr>\n",
              "      <th>0</th>\n",
              "      <td>남자</td>\n",
              "      <td>19-29</td>\n",
              "      <td>탄수화물(g/일)</td>\n",
              "      <td>130</td>\n",
              "      <td>-</td>\n",
              "    </tr>\n",
              "    <tr>\n",
              "      <th>1</th>\n",
              "      <td>남자</td>\n",
              "      <td>30-49</td>\n",
              "      <td>탄수화물(g/일)</td>\n",
              "      <td>130</td>\n",
              "      <td>-</td>\n",
              "    </tr>\n",
              "    <tr>\n",
              "      <th>2</th>\n",
              "      <td>남자</td>\n",
              "      <td>50-64</td>\n",
              "      <td>탄수화물(g/일)</td>\n",
              "      <td>130</td>\n",
              "      <td>-</td>\n",
              "    </tr>\n",
              "    <tr>\n",
              "      <th>3</th>\n",
              "      <td>여자</td>\n",
              "      <td>19-29</td>\n",
              "      <td>탄수화물(g/일)</td>\n",
              "      <td>130</td>\n",
              "      <td>-</td>\n",
              "    </tr>\n",
              "    <tr>\n",
              "      <th>4</th>\n",
              "      <td>여자</td>\n",
              "      <td>30-49</td>\n",
              "      <td>탄수화물(g/일)</td>\n",
              "      <td>130</td>\n",
              "      <td>-</td>\n",
              "    </tr>\n",
              "    <tr>\n",
              "      <th>...</th>\n",
              "      <td>...</td>\n",
              "      <td>...</td>\n",
              "      <td>...</td>\n",
              "      <td>...</td>\n",
              "      <td>...</td>\n",
              "    </tr>\n",
              "    <tr>\n",
              "      <th>61</th>\n",
              "      <td>남자</td>\n",
              "      <td>30-49</td>\n",
              "      <td>아연(mg/일)</td>\n",
              "      <td>10</td>\n",
              "      <td>35</td>\n",
              "    </tr>\n",
              "    <tr>\n",
              "      <th>62</th>\n",
              "      <td>남자</td>\n",
              "      <td>50-64</td>\n",
              "      <td>아연(mg/일)</td>\n",
              "      <td>10</td>\n",
              "      <td>35</td>\n",
              "    </tr>\n",
              "    <tr>\n",
              "      <th>63</th>\n",
              "      <td>여자</td>\n",
              "      <td>19-29</td>\n",
              "      <td>아연(mg/일)</td>\n",
              "      <td>8</td>\n",
              "      <td>35</td>\n",
              "    </tr>\n",
              "    <tr>\n",
              "      <th>64</th>\n",
              "      <td>여자</td>\n",
              "      <td>30-49</td>\n",
              "      <td>아연(mg/일)</td>\n",
              "      <td>8</td>\n",
              "      <td>35</td>\n",
              "    </tr>\n",
              "    <tr>\n",
              "      <th>65</th>\n",
              "      <td>여자</td>\n",
              "      <td>50-64</td>\n",
              "      <td>아연(mg/일)</td>\n",
              "      <td>8</td>\n",
              "      <td>35</td>\n",
              "    </tr>\n",
              "  </tbody>\n",
              "</table>\n",
              "<p>66 rows × 5 columns</p>\n",
              "</div>\n",
              "      <button class=\"colab-df-convert\" onclick=\"convertToInteractive('df-5c4dc5cd-946f-4798-966f-4081dc8897f1')\"\n",
              "              title=\"Convert this dataframe to an interactive table.\"\n",
              "              style=\"display:none;\">\n",
              "        \n",
              "  <svg xmlns=\"http://www.w3.org/2000/svg\" height=\"24px\"viewBox=\"0 0 24 24\"\n",
              "       width=\"24px\">\n",
              "    <path d=\"M0 0h24v24H0V0z\" fill=\"none\"/>\n",
              "    <path d=\"M18.56 5.44l.94 2.06.94-2.06 2.06-.94-2.06-.94-.94-2.06-.94 2.06-2.06.94zm-11 1L8.5 8.5l.94-2.06 2.06-.94-2.06-.94L8.5 2.5l-.94 2.06-2.06.94zm10 10l.94 2.06.94-2.06 2.06-.94-2.06-.94-.94-2.06-.94 2.06-2.06.94z\"/><path d=\"M17.41 7.96l-1.37-1.37c-.4-.4-.92-.59-1.43-.59-.52 0-1.04.2-1.43.59L10.3 9.45l-7.72 7.72c-.78.78-.78 2.05 0 2.83L4 21.41c.39.39.9.59 1.41.59.51 0 1.02-.2 1.41-.59l7.78-7.78 2.81-2.81c.8-.78.8-2.07 0-2.86zM5.41 20L4 18.59l7.72-7.72 1.47 1.35L5.41 20z\"/>\n",
              "  </svg>\n",
              "      </button>\n",
              "      \n",
              "  <style>\n",
              "    .colab-df-container {\n",
              "      display:flex;\n",
              "      flex-wrap:wrap;\n",
              "      gap: 12px;\n",
              "    }\n",
              "\n",
              "    .colab-df-convert {\n",
              "      background-color: #E8F0FE;\n",
              "      border: none;\n",
              "      border-radius: 50%;\n",
              "      cursor: pointer;\n",
              "      display: none;\n",
              "      fill: #1967D2;\n",
              "      height: 32px;\n",
              "      padding: 0 0 0 0;\n",
              "      width: 32px;\n",
              "    }\n",
              "\n",
              "    .colab-df-convert:hover {\n",
              "      background-color: #E2EBFA;\n",
              "      box-shadow: 0px 1px 2px rgba(60, 64, 67, 0.3), 0px 1px 3px 1px rgba(60, 64, 67, 0.15);\n",
              "      fill: #174EA6;\n",
              "    }\n",
              "\n",
              "    [theme=dark] .colab-df-convert {\n",
              "      background-color: #3B4455;\n",
              "      fill: #D2E3FC;\n",
              "    }\n",
              "\n",
              "    [theme=dark] .colab-df-convert:hover {\n",
              "      background-color: #434B5C;\n",
              "      box-shadow: 0px 1px 3px 1px rgba(0, 0, 0, 0.15);\n",
              "      filter: drop-shadow(0px 1px 2px rgba(0, 0, 0, 0.3));\n",
              "      fill: #FFFFFF;\n",
              "    }\n",
              "  </style>\n",
              "\n",
              "      <script>\n",
              "        const buttonEl =\n",
              "          document.querySelector('#df-5c4dc5cd-946f-4798-966f-4081dc8897f1 button.colab-df-convert');\n",
              "        buttonEl.style.display =\n",
              "          google.colab.kernel.accessAllowed ? 'block' : 'none';\n",
              "\n",
              "        async function convertToInteractive(key) {\n",
              "          const element = document.querySelector('#df-5c4dc5cd-946f-4798-966f-4081dc8897f1');\n",
              "          const dataTable =\n",
              "            await google.colab.kernel.invokeFunction('convertToInteractive',\n",
              "                                                     [key], {});\n",
              "          if (!dataTable) return;\n",
              "\n",
              "          const docLinkHtml = 'Like what you see? Visit the ' +\n",
              "            '<a target=\"_blank\" href=https://colab.research.google.com/notebooks/data_table.ipynb>data table notebook</a>'\n",
              "            + ' to learn more about interactive tables.';\n",
              "          element.innerHTML = '';\n",
              "          dataTable['output_type'] = 'display_data';\n",
              "          await google.colab.output.renderOutput(dataTable, element);\n",
              "          const docLink = document.createElement('div');\n",
              "          docLink.innerHTML = docLinkHtml;\n",
              "          element.appendChild(docLink);\n",
              "        }\n",
              "      </script>\n",
              "    </div>\n",
              "  </div>\n",
              "  "
            ]
          },
          "metadata": {},
          "execution_count": 19
        }
      ]
    },
    {
      "cell_type": "code",
      "source": [
        "DATA2[(DATA2['성별'] =='남자') & (DATA2['연령']=='19-29') & (DATA2['영양성분']=='탄수화물(g/일)')]"
      ],
      "metadata": {
        "colab": {
          "base_uri": "https://localhost:8080/",
          "height": 81
        },
        "id": "X2VkcEafFH1I",
        "outputId": "cf0eba71-0ca8-4071-feba-3354c3babf30"
      },
      "execution_count": 20,
      "outputs": [
        {
          "output_type": "execute_result",
          "data": {
            "text/plain": [
              "   성별     연령       영양성분 권장(g/일) 상한(g/일)\n",
              "0  남자  19-29  탄수화물(g/일)     130       -"
            ],
            "text/html": [
              "\n",
              "  <div id=\"df-a3029556-580c-41e6-a126-83df88dc2bbf\">\n",
              "    <div class=\"colab-df-container\">\n",
              "      <div>\n",
              "<style scoped>\n",
              "    .dataframe tbody tr th:only-of-type {\n",
              "        vertical-align: middle;\n",
              "    }\n",
              "\n",
              "    .dataframe tbody tr th {\n",
              "        vertical-align: top;\n",
              "    }\n",
              "\n",
              "    .dataframe thead th {\n",
              "        text-align: right;\n",
              "    }\n",
              "</style>\n",
              "<table border=\"1\" class=\"dataframe\">\n",
              "  <thead>\n",
              "    <tr style=\"text-align: right;\">\n",
              "      <th></th>\n",
              "      <th>성별</th>\n",
              "      <th>연령</th>\n",
              "      <th>영양성분</th>\n",
              "      <th>권장(g/일)</th>\n",
              "      <th>상한(g/일)</th>\n",
              "    </tr>\n",
              "  </thead>\n",
              "  <tbody>\n",
              "    <tr>\n",
              "      <th>0</th>\n",
              "      <td>남자</td>\n",
              "      <td>19-29</td>\n",
              "      <td>탄수화물(g/일)</td>\n",
              "      <td>130</td>\n",
              "      <td>-</td>\n",
              "    </tr>\n",
              "  </tbody>\n",
              "</table>\n",
              "</div>\n",
              "      <button class=\"colab-df-convert\" onclick=\"convertToInteractive('df-a3029556-580c-41e6-a126-83df88dc2bbf')\"\n",
              "              title=\"Convert this dataframe to an interactive table.\"\n",
              "              style=\"display:none;\">\n",
              "        \n",
              "  <svg xmlns=\"http://www.w3.org/2000/svg\" height=\"24px\"viewBox=\"0 0 24 24\"\n",
              "       width=\"24px\">\n",
              "    <path d=\"M0 0h24v24H0V0z\" fill=\"none\"/>\n",
              "    <path d=\"M18.56 5.44l.94 2.06.94-2.06 2.06-.94-2.06-.94-.94-2.06-.94 2.06-2.06.94zm-11 1L8.5 8.5l.94-2.06 2.06-.94-2.06-.94L8.5 2.5l-.94 2.06-2.06.94zm10 10l.94 2.06.94-2.06 2.06-.94-2.06-.94-.94-2.06-.94 2.06-2.06.94z\"/><path d=\"M17.41 7.96l-1.37-1.37c-.4-.4-.92-.59-1.43-.59-.52 0-1.04.2-1.43.59L10.3 9.45l-7.72 7.72c-.78.78-.78 2.05 0 2.83L4 21.41c.39.39.9.59 1.41.59.51 0 1.02-.2 1.41-.59l7.78-7.78 2.81-2.81c.8-.78.8-2.07 0-2.86zM5.41 20L4 18.59l7.72-7.72 1.47 1.35L5.41 20z\"/>\n",
              "  </svg>\n",
              "      </button>\n",
              "      \n",
              "  <style>\n",
              "    .colab-df-container {\n",
              "      display:flex;\n",
              "      flex-wrap:wrap;\n",
              "      gap: 12px;\n",
              "    }\n",
              "\n",
              "    .colab-df-convert {\n",
              "      background-color: #E8F0FE;\n",
              "      border: none;\n",
              "      border-radius: 50%;\n",
              "      cursor: pointer;\n",
              "      display: none;\n",
              "      fill: #1967D2;\n",
              "      height: 32px;\n",
              "      padding: 0 0 0 0;\n",
              "      width: 32px;\n",
              "    }\n",
              "\n",
              "    .colab-df-convert:hover {\n",
              "      background-color: #E2EBFA;\n",
              "      box-shadow: 0px 1px 2px rgba(60, 64, 67, 0.3), 0px 1px 3px 1px rgba(60, 64, 67, 0.15);\n",
              "      fill: #174EA6;\n",
              "    }\n",
              "\n",
              "    [theme=dark] .colab-df-convert {\n",
              "      background-color: #3B4455;\n",
              "      fill: #D2E3FC;\n",
              "    }\n",
              "\n",
              "    [theme=dark] .colab-df-convert:hover {\n",
              "      background-color: #434B5C;\n",
              "      box-shadow: 0px 1px 3px 1px rgba(0, 0, 0, 0.15);\n",
              "      filter: drop-shadow(0px 1px 2px rgba(0, 0, 0, 0.3));\n",
              "      fill: #FFFFFF;\n",
              "    }\n",
              "  </style>\n",
              "\n",
              "      <script>\n",
              "        const buttonEl =\n",
              "          document.querySelector('#df-a3029556-580c-41e6-a126-83df88dc2bbf button.colab-df-convert');\n",
              "        buttonEl.style.display =\n",
              "          google.colab.kernel.accessAllowed ? 'block' : 'none';\n",
              "\n",
              "        async function convertToInteractive(key) {\n",
              "          const element = document.querySelector('#df-a3029556-580c-41e6-a126-83df88dc2bbf');\n",
              "          const dataTable =\n",
              "            await google.colab.kernel.invokeFunction('convertToInteractive',\n",
              "                                                     [key], {});\n",
              "          if (!dataTable) return;\n",
              "\n",
              "          const docLinkHtml = 'Like what you see? Visit the ' +\n",
              "            '<a target=\"_blank\" href=https://colab.research.google.com/notebooks/data_table.ipynb>data table notebook</a>'\n",
              "            + ' to learn more about interactive tables.';\n",
              "          element.innerHTML = '';\n",
              "          dataTable['output_type'] = 'display_data';\n",
              "          await google.colab.output.renderOutput(dataTable, element);\n",
              "          const docLink = document.createElement('div');\n",
              "          docLink.innerHTML = docLinkHtml;\n",
              "          element.appendChild(docLink);\n",
              "        }\n",
              "      </script>\n",
              "    </div>\n",
              "  </div>\n",
              "  "
            ]
          },
          "metadata": {},
          "execution_count": 20
        }
      ]
    },
    {
      "cell_type": "markdown",
      "source": [
        "# 권장섭취량 판별 함수 ====="
      ],
      "metadata": {
        "id": "NKkY_jdhBZNu"
      }
    },
    {
      "cell_type": "code",
      "source": [
        "# 권장섭취량 DB\n",
        "DATA2 = pd.read_excel(file_path+'=====.xlsx', index_col='=====')"
      ],
      "metadata": {
        "id": "gmjFn8NbBd2G"
      },
      "execution_count": null,
      "outputs": []
    },
    {
      "cell_type": "code",
      "source": [
        "# 추출된 값이 권장섭취량 이상인 경우 경고하는 함수 정의\n",
        "def warning(name):\n",
        "    warn_ment = str('경고')\n",
        "    # a\n",
        "    try:\n",
        "        a\n",
        "        result\n",
        "    except:\n",
        "        pass  \n",
        "\n",
        "    # 예측값에서 가져온 영양성분(총합)이 권장섭취량보다 높은지 확인\n",
        "    if a >= db:\n",
        "      return result\n",
        "    else:\n",
        "      return result"
      ],
      "metadata": {
        "id": "1ycg2_DBBi8h"
      },
      "execution_count": null,
      "outputs": []
    },
    {
      "cell_type": "markdown",
      "source": [
        "# FASTAPI 연결 ====="
      ],
      "metadata": {
        "id": "x7r8hOn_Bn_m"
      }
    },
    {
      "cell_type": "code",
      "source": [
        "!pip install fastapi nest-asyncio pyngrok uvicorn aiofiles python-multipart"
      ],
      "metadata": {
        "id": "gpdvnVwjB3p5"
      },
      "execution_count": null,
      "outputs": []
    },
    {
      "cell_type": "code",
      "source": [
        "# 모듈 임포트\n",
        "from fastapi import FastAPI, Request, Form, File, UploadFile\n",
        "from fastapi.responses import HTMLResponse\n",
        "from fastapi.staticfiles import StaticFiles\n",
        "from fastapi.templating import Jinja2Templates\n",
        "import nest_asyncio\n",
        "from pyngrok import ngrok\n",
        "\n",
        "import uvicorn"
      ],
      "metadata": {
        "id": "rz7B5Wn1CAvK"
      },
      "execution_count": null,
      "outputs": []
    },
    {
      "cell_type": "code",
      "source": [
        "# API 화면 출력용 html 작성\n"
      ],
      "metadata": {
        "id": "RwVwQvNGCBXD"
      },
      "execution_count": null,
      "outputs": []
    },
    {
      "cell_type": "code",
      "source": [
        "# 템플릿 디렉토리 생성\n",
        "!mkdir templates"
      ],
      "metadata": {
        "id": "vbmenvFOfPBg"
      },
      "execution_count": null,
      "outputs": []
    },
    {
      "cell_type": "markdown",
      "source": [
        "- templates 디렉토리에 index.html / result.html 파일 넣기\n",
        "- static 디렉토리에 style.css 파일 넣기"
      ],
      "metadata": {
        "id": "CZTqAm4GKwtn"
      }
    },
    {
      "cell_type": "markdown",
      "source": [
        "# API 실행"
      ],
      "metadata": {
        "id": "cIvhXiOfLAYK"
      }
    },
    {
      "cell_type": "code",
      "source": [
        "# FastAPI\n",
        "from fastapi.staticfiles import StaticFiles\n",
        "\n",
        "app=FastAPI()\n",
        "templates = Jinja2Templates(directory=\"templates\")\n",
        "app.mount('/static', StaticFiles(directory='static'), name='static')\n",
        "\n",
        "@app.get('/', response_class=HTMLResponse)\n",
        "async def read_page(request: Request):\n",
        "  return templates.TemplateResponse(\"index.html\", {\"request\": request})\n",
        "\n",
        "@app.post('/topic', response_class=HTMLResponse)\n",
        "async def get_page(request: Request, img: UploadFile = File(...), lng: str = Form(...)):\n",
        "  return templates.TemplateResponse(\"result.html\", {\"request\": request})           "
      ],
      "metadata": {
        "id": "HLROcN0zKsvU"
      },
      "execution_count": null,
      "outputs": []
    },
    {
      "cell_type": "code",
      "source": [
        "#ngrok authtoken\n",
        "!ngrok authtoken ====="
      ],
      "metadata": {
        "id": "MZ847sKCLGIg"
      },
      "execution_count": null,
      "outputs": []
    },
    {
      "cell_type": "code",
      "source": [
        "ngrok_tunnel = ngrok.connect(8000)\n",
        "print ('Public URL:', ngrok_tunnel.public_url) \n",
        "nest_asyncio.apply()\n",
        "uvicorn.run(app, host='0.0.0.0', port=8000)"
      ],
      "metadata": {
        "id": "G_jRznyNLKos"
      },
      "execution_count": null,
      "outputs": []
    }
  ]
}