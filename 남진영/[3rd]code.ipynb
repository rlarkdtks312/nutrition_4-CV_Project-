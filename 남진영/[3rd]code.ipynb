{
  "nbformat": 4,
  "nbformat_minor": 0,
  "metadata": {
    "colab": {
      "name": "[3rd]code.ipynb",
      "provenance": [],
      "collapsed_sections": [
        "SAyV0-qfBIo-",
        "xWcbFFw1ruIb",
        "cLfFIwIzs2ZS",
        "yvMBKfr8BNP9",
        "-lb03y6H2whn",
        "NKkY_jdhBZNu",
        "XsTN1nBjtR_2",
        "gLsFCklBoFQn"
      ]
    },
    "kernelspec": {
      "name": "python3",
      "display_name": "Python 3"
    },
    "language_info": {
      "name": "python"
    }
  },
  "cells": [
    {
      "cell_type": "code",
      "execution_count": null,
      "metadata": {
        "colab": {
          "base_uri": "https://localhost:8080/"
        },
        "id": "xMWl0M_g-5dR",
        "outputId": "a744e5e2-d0d6-4f54-c2f0-b6bb0d9ce1dc"
      },
      "outputs": [
        {
          "output_type": "stream",
          "name": "stdout",
          "text": [
            "Mounted at /content/drive\n"
          ]
        }
      ],
      "source": [
        "from google.colab import drive\n",
        "drive.mount('/content/drive')"
      ]
    },
    {
      "cell_type": "markdown",
      "source": [
        "# SQLite"
      ],
      "metadata": {
        "id": "SAyV0-qfBIo-"
      }
    },
    {
      "cell_type": "code",
      "source": [
        "!apt install sqlite3"
      ],
      "metadata": {
        "colab": {
          "base_uri": "https://localhost:8080/"
        },
        "id": "ClMJ6cYnBIOZ",
        "outputId": "68db405f-a57f-4edf-debb-7f95bc8b3094"
      },
      "execution_count": null,
      "outputs": [
        {
          "output_type": "stream",
          "name": "stdout",
          "text": [
            "Reading package lists... Done\n",
            "Building dependency tree       \n",
            "Reading state information... Done\n",
            "Suggested packages:\n",
            "  sqlite3-doc\n",
            "The following NEW packages will be installed:\n",
            "  sqlite3\n",
            "0 upgraded, 1 newly installed, 0 to remove and 39 not upgraded.\n",
            "Need to get 752 kB of archives.\n",
            "After this operation, 2,482 kB of additional disk space will be used.\n",
            "Get:1 http://archive.ubuntu.com/ubuntu bionic-updates/main amd64 sqlite3 amd64 3.22.0-1ubuntu0.4 [752 kB]\n",
            "Fetched 752 kB in 1s (980 kB/s)\n",
            "Selecting previously unselected package sqlite3.\n",
            "(Reading database ... 155455 files and directories currently installed.)\n",
            "Preparing to unpack .../sqlite3_3.22.0-1ubuntu0.4_amd64.deb ...\n",
            "Unpacking sqlite3 (3.22.0-1ubuntu0.4) ...\n",
            "Setting up sqlite3 (3.22.0-1ubuntu0.4) ...\n",
            "Processing triggers for man-db (2.8.3-2ubuntu0.1) ...\n"
          ]
        }
      ]
    },
    {
      "cell_type": "markdown",
      "source": [
        "# 폴더(path) 생성"
      ],
      "metadata": {
        "id": "OONLumKYpz-m"
      }
    },
    {
      "cell_type": "code",
      "source": [
        "# 기본 데이터베이스에 해당하는 파일 디렉토리(모델 넣기)\n",
        "!mkdir datafile"
      ],
      "metadata": {
        "id": "kPrfQ5oPAtsg"
      },
      "execution_count": null,
      "outputs": []
    },
    {
      "cell_type": "markdown",
      "source": [
        "- datafile 에 학습모델, 분류파일 넣기"
      ],
      "metadata": {
        "id": "k67dxHewdBVh"
      }
    },
    {
      "cell_type": "code",
      "source": [
        "# 템플릿 디렉토리 생성\n",
        "!mkdir templates"
      ],
      "metadata": {
        "id": "vbmenvFOfPBg"
      },
      "execution_count": null,
      "outputs": []
    },
    {
      "cell_type": "code",
      "source": [
        "# static 디렉토리 생성\n",
        "!mkdir static"
      ],
      "metadata": {
        "id": "M3uXrKlYAxBG"
      },
      "execution_count": null,
      "outputs": []
    },
    {
      "cell_type": "code",
      "source": [
        "# img 디렉토리 생성\n",
        "!mkdir img"
      ],
      "metadata": {
        "id": "JCcmJ2UpcgJ3"
      },
      "execution_count": null,
      "outputs": []
    },
    {
      "cell_type": "markdown",
      "source": [
        "- templates 디렉토리에 main.html / result.html 파일 넣기\n",
        "- img 디렉토리에 사용image(png/svg등) 넣기\n",
        "- static 디렉토리에 style.css 파일 넣기"
      ],
      "metadata": {
        "id": "CZTqAm4GKwtn"
      }
    },
    {
      "cell_type": "code",
      "source": [
        "file_path = './datafile/' # 데이터베이스 path"
      ],
      "metadata": {
        "id": "__zsJoZwBARq"
      },
      "execution_count": null,
      "outputs": []
    },
    {
      "cell_type": "markdown",
      "source": [
        "# 기본모듈(pd/np) 임포트"
      ],
      "metadata": {
        "id": "KlNJys0xqMHO"
      }
    },
    {
      "cell_type": "code",
      "source": [
        "import numpy as np\n",
        "import pandas as pd"
      ],
      "metadata": {
        "id": "zyLm69gjAyl6"
      },
      "execution_count": null,
      "outputs": []
    },
    {
      "cell_type": "markdown",
      "source": [
        "# 모델 =====\n",
        "- 모델 불러오기"
      ],
      "metadata": {
        "id": "OSB2Z7gDA2lW"
      }
    },
    {
      "cell_type": "code",
      "source": [
        "# 모델 임포트\n"
      ],
      "metadata": {
        "id": "467hcpT0A2aa"
      },
      "execution_count": null,
      "outputs": []
    },
    {
      "cell_type": "code",
      "source": [
        "# 모델 로드\n"
      ],
      "metadata": {
        "id": "bvl4Zp_GBALK"
      },
      "execution_count": null,
      "outputs": []
    },
    {
      "cell_type": "markdown",
      "source": [
        "# 이미지 모듈 ====="
      ],
      "metadata": {
        "id": "xWcbFFw1ruIb"
      }
    },
    {
      "cell_type": "code",
      "source": [
        "# 추가 모듈 임포트\n",
        "import json\n",
        "from PIL import Image"
      ],
      "metadata": {
        "id": "L21wLSWLBABG"
      },
      "execution_count": null,
      "outputs": []
    },
    {
      "cell_type": "code",
      "source": [
        "img_path = './image/'"
      ],
      "metadata": {
        "id": "d41eBkajBJ_N"
      },
      "execution_count": null,
      "outputs": []
    },
    {
      "cell_type": "markdown",
      "source": [
        "# 이미지 Predict ====="
      ],
      "metadata": {
        "id": "cLfFIwIzs2ZS"
      }
    },
    {
      "cell_type": "code",
      "source": [
        "# 추출된 인덱스 값 1\n",
        "# 인덱스의 라벨 값 2"
      ],
      "metadata": {
        "id": "hCRFtWFABMer"
      },
      "execution_count": null,
      "outputs": []
    },
    {
      "cell_type": "markdown",
      "source": [
        "# 데이터 =====\n",
        "- 영양정보 DB 가져오기"
      ],
      "metadata": {
        "id": "yvMBKfr8BNP9"
      }
    },
    {
      "cell_type": "code",
      "source": [
        "DATA = pd.read_excel('/content/drive/MyDrive/영양4조/dataset/nutritionDB/음식분류 AI 데이터 영양DB.xlsx', index_col='음 식 명')\n",
        "DATA"
      ],
      "metadata": {
        "colab": {
          "base_uri": "https://localhost:8080/",
          "height": 455
        },
        "id": "CF1I7qnXBTlz",
        "outputId": "55549ad4-1d2f-4e7f-b783-ed61996935b4"
      },
      "execution_count": null,
      "outputs": [
        {
          "output_type": "execute_result",
          "data": {
            "text/plain": [
              "       중량(g)  에너지(kcal)    탄수화물(g)      당류(g)    지방(g)    단백질(g)   칼슘(mg)  \\\n",
              "음 식 명                                                                       \n",
              "쌀밥     210.0   334.8000   73.71000   0.000000  0.45000   5.76000      3.6   \n",
              "기타잡곡밥  200.0   302.3620   65.52110   0.000000  0.74620   6.70920    12.06   \n",
              "콩밥     200.0   322.9000   65.84600   0.000000  1.66600   8.42800     24.7   \n",
              "보리밥    200.0   316.1000   70.57000   0.000000  0.14000   5.55000      6.7   \n",
              "돌솥밥    350.0   528.8550  101.85000   0.000000  8.34700  10.18700   61.455   \n",
              "...      ...        ...        ...        ...      ...       ...      ...   \n",
              "다식      30.0   105.1665   20.81070   6.455700  1.72860   3.54630   1.4274   \n",
              "약과      30.0   113.8494   22.18320   2.151900  1.23870   2.57400    4.449   \n",
              "유과      30.0   129.0600   24.13650   1.120950  3.50400   0.36090   1.2084   \n",
              "산자      30.0   121.6985   24.70195  10.632825  1.19665   0.91035  2.00165   \n",
              "깨강정     30.0   150.3000   13.62000   0.000000  9.87000   4.50000    156.0   \n",
              "\n",
              "          인(mg)    나트륨(mg)    칼륨(mg) 마그네슘(mg)   철(mg)   아연(mg)  콜레스테롤(mg)  \\\n",
              "음 식 명                                                                       \n",
              "쌀밥        126.0   59.40000     146.7        -    0.36     1.35      0.000   \n",
              "기타잡곡밥   117.836    3.39200   166.718      6.9  1.7447   1.8264      0.000   \n",
              "콩밥        126.9    4.10000     258.4     22.5    1.74     1.61      0.000   \n",
              "보리밥        68.8    4.50000     100.6      0.0    1.26     1.41      0.000   \n",
              "돌솥밥      193.72  618.31500    624.32   57.785   3.321    2.582      2.365   \n",
              "...         ...        ...       ...      ...     ...      ...        ...   \n",
              "다식     100.0665    3.84900  206.7144        -  0.5175   0.0411      0.000   \n",
              "약과        28.23   16.45980   59.4219        -  0.5661   0.1431      0.000   \n",
              "유과          3.6    7.05540    0.0285        -    0.24   0.1968      0.000   \n",
              "산자     20.36125    8.01255   60.9266        -  0.4053  0.27195      0.000   \n",
              "깨강정       125.7   24.30000      67.5      0.0    1.38     2.13      0.000   \n",
              "\n",
              "       트랜스지방(g)  \n",
              "음 식 명            \n",
              "쌀밥          0.0  \n",
              "기타잡곡밥       0.0  \n",
              "콩밥          0.0  \n",
              "보리밥         0.0  \n",
              "돌솥밥         0.0  \n",
              "...         ...  \n",
              "다식          0.0  \n",
              "약과          0.0  \n",
              "유과          0.0  \n",
              "산자          0.0  \n",
              "깨강정         0.0  \n",
              "\n",
              "[400 rows x 15 columns]"
            ],
            "text/html": [
              "\n",
              "  <div id=\"df-8649910c-f294-4445-8c4c-2f3f3678740a\">\n",
              "    <div class=\"colab-df-container\">\n",
              "      <div>\n",
              "<style scoped>\n",
              "    .dataframe tbody tr th:only-of-type {\n",
              "        vertical-align: middle;\n",
              "    }\n",
              "\n",
              "    .dataframe tbody tr th {\n",
              "        vertical-align: top;\n",
              "    }\n",
              "\n",
              "    .dataframe thead th {\n",
              "        text-align: right;\n",
              "    }\n",
              "</style>\n",
              "<table border=\"1\" class=\"dataframe\">\n",
              "  <thead>\n",
              "    <tr style=\"text-align: right;\">\n",
              "      <th></th>\n",
              "      <th>중량(g)</th>\n",
              "      <th>에너지(kcal)</th>\n",
              "      <th>탄수화물(g)</th>\n",
              "      <th>당류(g)</th>\n",
              "      <th>지방(g)</th>\n",
              "      <th>단백질(g)</th>\n",
              "      <th>칼슘(mg)</th>\n",
              "      <th>인(mg)</th>\n",
              "      <th>나트륨(mg)</th>\n",
              "      <th>칼륨(mg)</th>\n",
              "      <th>마그네슘(mg)</th>\n",
              "      <th>철(mg)</th>\n",
              "      <th>아연(mg)</th>\n",
              "      <th>콜레스테롤(mg)</th>\n",
              "      <th>트랜스지방(g)</th>\n",
              "    </tr>\n",
              "    <tr>\n",
              "      <th>음 식 명</th>\n",
              "      <th></th>\n",
              "      <th></th>\n",
              "      <th></th>\n",
              "      <th></th>\n",
              "      <th></th>\n",
              "      <th></th>\n",
              "      <th></th>\n",
              "      <th></th>\n",
              "      <th></th>\n",
              "      <th></th>\n",
              "      <th></th>\n",
              "      <th></th>\n",
              "      <th></th>\n",
              "      <th></th>\n",
              "      <th></th>\n",
              "    </tr>\n",
              "  </thead>\n",
              "  <tbody>\n",
              "    <tr>\n",
              "      <th>쌀밥</th>\n",
              "      <td>210.0</td>\n",
              "      <td>334.8000</td>\n",
              "      <td>73.71000</td>\n",
              "      <td>0.000000</td>\n",
              "      <td>0.45000</td>\n",
              "      <td>5.76000</td>\n",
              "      <td>3.6</td>\n",
              "      <td>126.0</td>\n",
              "      <td>59.40000</td>\n",
              "      <td>146.7</td>\n",
              "      <td>-</td>\n",
              "      <td>0.36</td>\n",
              "      <td>1.35</td>\n",
              "      <td>0.000</td>\n",
              "      <td>0.0</td>\n",
              "    </tr>\n",
              "    <tr>\n",
              "      <th>기타잡곡밥</th>\n",
              "      <td>200.0</td>\n",
              "      <td>302.3620</td>\n",
              "      <td>65.52110</td>\n",
              "      <td>0.000000</td>\n",
              "      <td>0.74620</td>\n",
              "      <td>6.70920</td>\n",
              "      <td>12.06</td>\n",
              "      <td>117.836</td>\n",
              "      <td>3.39200</td>\n",
              "      <td>166.718</td>\n",
              "      <td>6.9</td>\n",
              "      <td>1.7447</td>\n",
              "      <td>1.8264</td>\n",
              "      <td>0.000</td>\n",
              "      <td>0.0</td>\n",
              "    </tr>\n",
              "    <tr>\n",
              "      <th>콩밥</th>\n",
              "      <td>200.0</td>\n",
              "      <td>322.9000</td>\n",
              "      <td>65.84600</td>\n",
              "      <td>0.000000</td>\n",
              "      <td>1.66600</td>\n",
              "      <td>8.42800</td>\n",
              "      <td>24.7</td>\n",
              "      <td>126.9</td>\n",
              "      <td>4.10000</td>\n",
              "      <td>258.4</td>\n",
              "      <td>22.5</td>\n",
              "      <td>1.74</td>\n",
              "      <td>1.61</td>\n",
              "      <td>0.000</td>\n",
              "      <td>0.0</td>\n",
              "    </tr>\n",
              "    <tr>\n",
              "      <th>보리밥</th>\n",
              "      <td>200.0</td>\n",
              "      <td>316.1000</td>\n",
              "      <td>70.57000</td>\n",
              "      <td>0.000000</td>\n",
              "      <td>0.14000</td>\n",
              "      <td>5.55000</td>\n",
              "      <td>6.7</td>\n",
              "      <td>68.8</td>\n",
              "      <td>4.50000</td>\n",
              "      <td>100.6</td>\n",
              "      <td>0.0</td>\n",
              "      <td>1.26</td>\n",
              "      <td>1.41</td>\n",
              "      <td>0.000</td>\n",
              "      <td>0.0</td>\n",
              "    </tr>\n",
              "    <tr>\n",
              "      <th>돌솥밥</th>\n",
              "      <td>350.0</td>\n",
              "      <td>528.8550</td>\n",
              "      <td>101.85000</td>\n",
              "      <td>0.000000</td>\n",
              "      <td>8.34700</td>\n",
              "      <td>10.18700</td>\n",
              "      <td>61.455</td>\n",
              "      <td>193.72</td>\n",
              "      <td>618.31500</td>\n",
              "      <td>624.32</td>\n",
              "      <td>57.785</td>\n",
              "      <td>3.321</td>\n",
              "      <td>2.582</td>\n",
              "      <td>2.365</td>\n",
              "      <td>0.0</td>\n",
              "    </tr>\n",
              "    <tr>\n",
              "      <th>...</th>\n",
              "      <td>...</td>\n",
              "      <td>...</td>\n",
              "      <td>...</td>\n",
              "      <td>...</td>\n",
              "      <td>...</td>\n",
              "      <td>...</td>\n",
              "      <td>...</td>\n",
              "      <td>...</td>\n",
              "      <td>...</td>\n",
              "      <td>...</td>\n",
              "      <td>...</td>\n",
              "      <td>...</td>\n",
              "      <td>...</td>\n",
              "      <td>...</td>\n",
              "      <td>...</td>\n",
              "    </tr>\n",
              "    <tr>\n",
              "      <th>다식</th>\n",
              "      <td>30.0</td>\n",
              "      <td>105.1665</td>\n",
              "      <td>20.81070</td>\n",
              "      <td>6.455700</td>\n",
              "      <td>1.72860</td>\n",
              "      <td>3.54630</td>\n",
              "      <td>1.4274</td>\n",
              "      <td>100.0665</td>\n",
              "      <td>3.84900</td>\n",
              "      <td>206.7144</td>\n",
              "      <td>-</td>\n",
              "      <td>0.5175</td>\n",
              "      <td>0.0411</td>\n",
              "      <td>0.000</td>\n",
              "      <td>0.0</td>\n",
              "    </tr>\n",
              "    <tr>\n",
              "      <th>약과</th>\n",
              "      <td>30.0</td>\n",
              "      <td>113.8494</td>\n",
              "      <td>22.18320</td>\n",
              "      <td>2.151900</td>\n",
              "      <td>1.23870</td>\n",
              "      <td>2.57400</td>\n",
              "      <td>4.449</td>\n",
              "      <td>28.23</td>\n",
              "      <td>16.45980</td>\n",
              "      <td>59.4219</td>\n",
              "      <td>-</td>\n",
              "      <td>0.5661</td>\n",
              "      <td>0.1431</td>\n",
              "      <td>0.000</td>\n",
              "      <td>0.0</td>\n",
              "    </tr>\n",
              "    <tr>\n",
              "      <th>유과</th>\n",
              "      <td>30.0</td>\n",
              "      <td>129.0600</td>\n",
              "      <td>24.13650</td>\n",
              "      <td>1.120950</td>\n",
              "      <td>3.50400</td>\n",
              "      <td>0.36090</td>\n",
              "      <td>1.2084</td>\n",
              "      <td>3.6</td>\n",
              "      <td>7.05540</td>\n",
              "      <td>0.0285</td>\n",
              "      <td>-</td>\n",
              "      <td>0.24</td>\n",
              "      <td>0.1968</td>\n",
              "      <td>0.000</td>\n",
              "      <td>0.0</td>\n",
              "    </tr>\n",
              "    <tr>\n",
              "      <th>산자</th>\n",
              "      <td>30.0</td>\n",
              "      <td>121.6985</td>\n",
              "      <td>24.70195</td>\n",
              "      <td>10.632825</td>\n",
              "      <td>1.19665</td>\n",
              "      <td>0.91035</td>\n",
              "      <td>2.00165</td>\n",
              "      <td>20.36125</td>\n",
              "      <td>8.01255</td>\n",
              "      <td>60.9266</td>\n",
              "      <td>-</td>\n",
              "      <td>0.4053</td>\n",
              "      <td>0.27195</td>\n",
              "      <td>0.000</td>\n",
              "      <td>0.0</td>\n",
              "    </tr>\n",
              "    <tr>\n",
              "      <th>깨강정</th>\n",
              "      <td>30.0</td>\n",
              "      <td>150.3000</td>\n",
              "      <td>13.62000</td>\n",
              "      <td>0.000000</td>\n",
              "      <td>9.87000</td>\n",
              "      <td>4.50000</td>\n",
              "      <td>156.0</td>\n",
              "      <td>125.7</td>\n",
              "      <td>24.30000</td>\n",
              "      <td>67.5</td>\n",
              "      <td>0.0</td>\n",
              "      <td>1.38</td>\n",
              "      <td>2.13</td>\n",
              "      <td>0.000</td>\n",
              "      <td>0.0</td>\n",
              "    </tr>\n",
              "  </tbody>\n",
              "</table>\n",
              "<p>400 rows × 15 columns</p>\n",
              "</div>\n",
              "      <button class=\"colab-df-convert\" onclick=\"convertToInteractive('df-8649910c-f294-4445-8c4c-2f3f3678740a')\"\n",
              "              title=\"Convert this dataframe to an interactive table.\"\n",
              "              style=\"display:none;\">\n",
              "        \n",
              "  <svg xmlns=\"http://www.w3.org/2000/svg\" height=\"24px\"viewBox=\"0 0 24 24\"\n",
              "       width=\"24px\">\n",
              "    <path d=\"M0 0h24v24H0V0z\" fill=\"none\"/>\n",
              "    <path d=\"M18.56 5.44l.94 2.06.94-2.06 2.06-.94-2.06-.94-.94-2.06-.94 2.06-2.06.94zm-11 1L8.5 8.5l.94-2.06 2.06-.94-2.06-.94L8.5 2.5l-.94 2.06-2.06.94zm10 10l.94 2.06.94-2.06 2.06-.94-2.06-.94-.94-2.06-.94 2.06-2.06.94z\"/><path d=\"M17.41 7.96l-1.37-1.37c-.4-.4-.92-.59-1.43-.59-.52 0-1.04.2-1.43.59L10.3 9.45l-7.72 7.72c-.78.78-.78 2.05 0 2.83L4 21.41c.39.39.9.59 1.41.59.51 0 1.02-.2 1.41-.59l7.78-7.78 2.81-2.81c.8-.78.8-2.07 0-2.86zM5.41 20L4 18.59l7.72-7.72 1.47 1.35L5.41 20z\"/>\n",
              "  </svg>\n",
              "      </button>\n",
              "      \n",
              "  <style>\n",
              "    .colab-df-container {\n",
              "      display:flex;\n",
              "      flex-wrap:wrap;\n",
              "      gap: 12px;\n",
              "    }\n",
              "\n",
              "    .colab-df-convert {\n",
              "      background-color: #E8F0FE;\n",
              "      border: none;\n",
              "      border-radius: 50%;\n",
              "      cursor: pointer;\n",
              "      display: none;\n",
              "      fill: #1967D2;\n",
              "      height: 32px;\n",
              "      padding: 0 0 0 0;\n",
              "      width: 32px;\n",
              "    }\n",
              "\n",
              "    .colab-df-convert:hover {\n",
              "      background-color: #E2EBFA;\n",
              "      box-shadow: 0px 1px 2px rgba(60, 64, 67, 0.3), 0px 1px 3px 1px rgba(60, 64, 67, 0.15);\n",
              "      fill: #174EA6;\n",
              "    }\n",
              "\n",
              "    [theme=dark] .colab-df-convert {\n",
              "      background-color: #3B4455;\n",
              "      fill: #D2E3FC;\n",
              "    }\n",
              "\n",
              "    [theme=dark] .colab-df-convert:hover {\n",
              "      background-color: #434B5C;\n",
              "      box-shadow: 0px 1px 3px 1px rgba(0, 0, 0, 0.15);\n",
              "      filter: drop-shadow(0px 1px 2px rgba(0, 0, 0, 0.3));\n",
              "      fill: #FFFFFF;\n",
              "    }\n",
              "  </style>\n",
              "\n",
              "      <script>\n",
              "        const buttonEl =\n",
              "          document.querySelector('#df-8649910c-f294-4445-8c4c-2f3f3678740a button.colab-df-convert');\n",
              "        buttonEl.style.display =\n",
              "          google.colab.kernel.accessAllowed ? 'block' : 'none';\n",
              "\n",
              "        async function convertToInteractive(key) {\n",
              "          const element = document.querySelector('#df-8649910c-f294-4445-8c4c-2f3f3678740a');\n",
              "          const dataTable =\n",
              "            await google.colab.kernel.invokeFunction('convertToInteractive',\n",
              "                                                     [key], {});\n",
              "          if (!dataTable) return;\n",
              "\n",
              "          const docLinkHtml = 'Like what you see? Visit the ' +\n",
              "            '<a target=\"_blank\" href=https://colab.research.google.com/notebooks/data_table.ipynb>data table notebook</a>'\n",
              "            + ' to learn more about interactive tables.';\n",
              "          element.innerHTML = '';\n",
              "          dataTable['output_type'] = 'display_data';\n",
              "          await google.colab.output.renderOutput(dataTable, element);\n",
              "          const docLink = document.createElement('div');\n",
              "          docLink.innerHTML = docLinkHtml;\n",
              "          element.appendChild(docLink);\n",
              "        }\n",
              "      </script>\n",
              "    </div>\n",
              "  </div>\n",
              "  "
            ]
          },
          "metadata": {},
          "execution_count": 13
        }
      ]
    },
    {
      "cell_type": "markdown",
      "source": [
        "# 영양성분정보 추출 함수 ====="
      ],
      "metadata": {
        "id": "Ca6uaXbEBYs3"
      }
    },
    {
      "cell_type": "code",
      "source": [
        "# 음식명별 영양성분 정보\n",
        "Nutrition = {'중량': ['중량(g)'],\n",
        "             '성분': ['에너지(kcal)', '콜레스테롤(mg)', '트랜스지방(g)', '탄수화물(g)', '당류(g)', '지방(g)',\n",
        "                    '단백질(g)', '칼슘(mg)', '인(mg)', '나트륨(mg)', '칼륨(mg)', '마그네슘(mg)', '철(mg)', '아연(mg)']}"
      ],
      "metadata": {
        "id": "DEfEtZnMrJEF"
      },
      "execution_count": null,
      "outputs": []
    },
    {
      "cell_type": "code",
      "source": [
        "names = ['곤드레밥', '라면']"
      ],
      "metadata": {
        "id": "WSf_WZzZ4EJL"
      },
      "execution_count": null,
      "outputs": []
    },
    {
      "cell_type": "code",
      "source": [
        "# predict된 음식명에 따라 영양성분 출력 함수 정의\n",
        "def nutrition_info(names):\n",
        "    # 예측된 음식명 담기\n",
        "    food_name = []\n",
        "    # 없는 음식명 담기\n",
        "    food_name_x = []\n",
        "    # 예측된 음식의 영양성분 담기\n",
        "    food_info = {}\n",
        "    # 예측된 음식명들중에 하나씩 반복해서 이름은 음식명에 담고, 영양정보는 영양성분에 담기\n",
        "    for name in names:\n",
        "        if name in DATA.index:\n",
        "            food_name.append(name)\n",
        "            food_info[name] = dict(DATA.loc[name][Nutrition['성분']])\n",
        "        # 음식명이 없으면 없는 음식명에 담고 없는 정보를 출력할 준비 함\n",
        "        else:\n",
        "            food_name_x.append(name)\n",
        "            a = '없는 정보 :', food_name_x\n",
        "    # 결과1: 없는음식명이 없다면 예측된 음식명 리스트와 그에대한 영양성분 정보 출력\n",
        "    if food_name_x == []:\n",
        "        return food_name, food_info\n",
        "    # 결과2: 음식명이 없으면 없는음식명 정보를 출력\n",
        "    elif food_name == []:\n",
        "        return  print(a)\n",
        "    # 결과3: 음식명이 있고, 없는것도 있으면 없는 음식명정보도 출력하고 예측된 음식명 리스트와 영양성분정보 출력\n",
        "    else:\n",
        "        print(a)\n",
        "        return food_name, food_info"
      ],
      "metadata": {
        "id": "05fc7CLNFc2v"
      },
      "execution_count": null,
      "outputs": []
    },
    {
      "cell_type": "code",
      "source": [
        "b = nutrition_info(names)"
      ],
      "metadata": {
        "colab": {
          "base_uri": "https://localhost:8080/"
        },
        "id": "NWimv7QizBlx",
        "outputId": "ef48a3aa-bed9-4940-b169-9605611a4ceb"
      },
      "execution_count": null,
      "outputs": [
        {
          "output_type": "execute_result",
          "data": {
            "text/plain": [
              "(['곤드레밥', '라면'],\n",
              " {'곤드레밥': {'나트륨(mg)': 88.753,\n",
              "   '단백질(g)': 14.14,\n",
              "   '당류(g)': 0.0,\n",
              "   '마그네슘(mg)': 22.400000000000002,\n",
              "   '아연(mg)': 1.7779999999999998,\n",
              "   '에너지(kcal)': 506.8,\n",
              "   '인(mg)': 95.47999999999999,\n",
              "   '지방(g)': 8.372,\n",
              "   '철(mg)': 1.8760000000000001,\n",
              "   '칼륨(mg)': 815.9235000000001,\n",
              "   '칼슘(mg)': 30.324,\n",
              "   '콜레스테롤(mg)': 0.0,\n",
              "   '탄수화물(g)': 108.05199999999999,\n",
              "   '트랜스지방(g)': 0.0},\n",
              "  '라면': {'나트륨(mg)': 1695.5009999999997,\n",
              "   '단백질(g)': 14.077000000000002,\n",
              "   '당류(g)': 0.0,\n",
              "   '마그네슘(mg)': 0.97,\n",
              "   '아연(mg)': 1.1909999999999998,\n",
              "   '에너지(kcal)': 509.32800000000003,\n",
              "   '인(mg)': 145.281,\n",
              "   '지방(g)': 17.748,\n",
              "   '철(mg)': 1.226,\n",
              "   '칼륨(mg)': 374.069,\n",
              "   '칼슘(mg)': 32.993,\n",
              "   '콜레스테롤(mg)': 2.344,\n",
              "   '탄수화물(g)': 83.16800000000002,\n",
              "   '트랜스지방(g)': 0.0}})"
            ]
          },
          "metadata": {},
          "execution_count": 14
        }
      ]
    },
    {
      "cell_type": "code",
      "source": [
        "# 음식별 영양성분 더하기\n",
        "def nutri_add(names):\n",
        "    # 전체음식의 영양성분을 한번에 담을 변수 생성 Nutri\n",
        "    Nutri = {'에너지(kcal)': 0, '콜레스테롤(mg)': 0, '트랜스지방(g)': 0, '탄수화물(g)': 0, '당류(g)': 0, '지방(g)': 0,\n",
        "    '단백질(g)': 0, '칼슘(mg)': 0, '인(mg)': 0, '나트륨(mg)': 0, '칼륨(mg)': 0, '마그네슘(mg)': 0, '철(mg)': 0, '아연(mg)': 0}\n",
        "    # 추출된 전체 음식의 성분별로 영양성분 더하여 dict에 저장\n",
        "    for name in names[0]:\n",
        "        for k in Nutrition['성분']:\n",
        "            Nutri[k] += names[1][name][k]\n",
        "    return Nutri"
      ],
      "metadata": {
        "id": "6vWIPjgFE_E7"
      },
      "execution_count": null,
      "outputs": []
    },
    {
      "cell_type": "code",
      "source": [
        "result = nutri_add(nutrition_info(names))\n",
        "result"
      ],
      "metadata": {
        "colab": {
          "base_uri": "https://localhost:8080/"
        },
        "id": "mcFCFPEWFAZh",
        "outputId": "25c84f28-58e3-447b-f226-4c41b1119b01"
      },
      "execution_count": null,
      "outputs": [
        {
          "output_type": "execute_result",
          "data": {
            "text/plain": [
              "{'나트륨(mg)': 1784.2539999999997,\n",
              " '단백질(g)': 28.217000000000002,\n",
              " '당류(g)': 0.0,\n",
              " '마그네슘(mg)': 23.37,\n",
              " '아연(mg)': 2.9689999999999994,\n",
              " '에너지(kcal)': 1016.128,\n",
              " '인(mg)': 240.761,\n",
              " '지방(g)': 26.12,\n",
              " '철(mg)': 3.1020000000000003,\n",
              " '칼륨(mg)': 1189.9925,\n",
              " '칼슘(mg)': 63.31700000000001,\n",
              " '콜레스테롤(mg)': 2.344,\n",
              " '탄수화물(g)': 191.22000000000003,\n",
              " '트랜스지방(g)': 0.0}"
            ]
          },
          "metadata": {},
          "execution_count": 15
        }
      ]
    },
    {
      "cell_type": "code",
      "source": [
        "# nutrition limit 에 1회식사/1일 영양성분 feature추가\n",
        "# 영양성분별 초과 항목 경고 표시 함수\n",
        "#def "
      ],
      "metadata": {
        "id": "KuOaa3S_2KMS",
        "colab": {
          "base_uri": "https://localhost:8080/",
          "height": 137
        },
        "outputId": "275ff586-a6a7-4c12-b7a1-f370dcfdbdd4"
      },
      "execution_count": null,
      "outputs": [
        {
          "output_type": "error",
          "ename": "SyntaxError",
          "evalue": "ignored",
          "traceback": [
            "\u001b[0;36m  File \u001b[0;32m\"<ipython-input-19-1c24454a6bb6>\"\u001b[0;36m, line \u001b[0;32m3\u001b[0m\n\u001b[0;31m    def\u001b[0m\n\u001b[0m        ^\u001b[0m\n\u001b[0;31mSyntaxError\u001b[0m\u001b[0;31m:\u001b[0m invalid syntax\n"
          ]
        }
      ]
    },
    {
      "cell_type": "markdown",
      "source": [
        "# 하루 섭취 영양성분양을 histogram등 으로 시각화하는 부분 추가"
      ],
      "metadata": {
        "id": "-lb03y6H2whn"
      }
    },
    {
      "cell_type": "code",
      "source": [
        ""
      ],
      "metadata": {
        "id": "OGkttKBM29Xt"
      },
      "execution_count": null,
      "outputs": []
    },
    {
      "cell_type": "markdown",
      "source": [
        "# 가공정보 추출 함수 ====="
      ],
      "metadata": {
        "id": "0DJRvpkME1o0"
      }
    },
    {
      "cell_type": "code",
      "source": [
        "DATA2 = pd.read_excel('/content/drive/MyDrive/영양4조/남진영/[최종]영양권장량.xlsx')\n",
        "DATA2"
      ],
      "metadata": {
        "colab": {
          "base_uri": "https://localhost:8080/",
          "height": 460
        },
        "id": "JG65oEIIE51o",
        "outputId": "624fd755-3a4a-414b-acf7-36db4c8e7fb5"
      },
      "execution_count": null,
      "outputs": [
        {
          "output_type": "stream",
          "name": "stderr",
          "text": [
            "/usr/local/lib/python3.7/dist-packages/openpyxl/worksheet/_reader.py:312: UserWarning: Unknown extension is not supported and will be removed\n",
            "  warn(msg)\n"
          ]
        },
        {
          "output_type": "execute_result",
          "data": {
            "text/plain": [
              "    성별     연령       영양성분 권장(g/일) 상한(g/일)\n",
              "0   남자  19-29  에너지(kcal)    2600       -\n",
              "1   남자  30-39  에너지(kcal)    2500       -\n",
              "2   남자  40-49  에너지(kcal)    2500       -\n",
              "3   남자  50-64  에너지(kcal)    2200       -\n",
              "4   여자  19-29  에너지(kcal)    2000       -\n",
              "..  ..    ...        ...     ...     ...\n",
              "91  남자  50-64   아연(mg/일)      10      35\n",
              "92  여자  19-29   아연(mg/일)       8      35\n",
              "93  여자  30-39   아연(mg/일)       8      35\n",
              "94  여자  40-49   아연(mg/일)       8      35\n",
              "95  여자  50-64   아연(mg/일)       8      35\n",
              "\n",
              "[96 rows x 5 columns]"
            ],
            "text/html": [
              "\n",
              "  <div id=\"df-76b385dc-8499-4d8c-a2f8-45daa700787f\">\n",
              "    <div class=\"colab-df-container\">\n",
              "      <div>\n",
              "<style scoped>\n",
              "    .dataframe tbody tr th:only-of-type {\n",
              "        vertical-align: middle;\n",
              "    }\n",
              "\n",
              "    .dataframe tbody tr th {\n",
              "        vertical-align: top;\n",
              "    }\n",
              "\n",
              "    .dataframe thead th {\n",
              "        text-align: right;\n",
              "    }\n",
              "</style>\n",
              "<table border=\"1\" class=\"dataframe\">\n",
              "  <thead>\n",
              "    <tr style=\"text-align: right;\">\n",
              "      <th></th>\n",
              "      <th>성별</th>\n",
              "      <th>연령</th>\n",
              "      <th>영양성분</th>\n",
              "      <th>권장(g/일)</th>\n",
              "      <th>상한(g/일)</th>\n",
              "    </tr>\n",
              "  </thead>\n",
              "  <tbody>\n",
              "    <tr>\n",
              "      <th>0</th>\n",
              "      <td>남자</td>\n",
              "      <td>19-29</td>\n",
              "      <td>에너지(kcal)</td>\n",
              "      <td>2600</td>\n",
              "      <td>-</td>\n",
              "    </tr>\n",
              "    <tr>\n",
              "      <th>1</th>\n",
              "      <td>남자</td>\n",
              "      <td>30-39</td>\n",
              "      <td>에너지(kcal)</td>\n",
              "      <td>2500</td>\n",
              "      <td>-</td>\n",
              "    </tr>\n",
              "    <tr>\n",
              "      <th>2</th>\n",
              "      <td>남자</td>\n",
              "      <td>40-49</td>\n",
              "      <td>에너지(kcal)</td>\n",
              "      <td>2500</td>\n",
              "      <td>-</td>\n",
              "    </tr>\n",
              "    <tr>\n",
              "      <th>3</th>\n",
              "      <td>남자</td>\n",
              "      <td>50-64</td>\n",
              "      <td>에너지(kcal)</td>\n",
              "      <td>2200</td>\n",
              "      <td>-</td>\n",
              "    </tr>\n",
              "    <tr>\n",
              "      <th>4</th>\n",
              "      <td>여자</td>\n",
              "      <td>19-29</td>\n",
              "      <td>에너지(kcal)</td>\n",
              "      <td>2000</td>\n",
              "      <td>-</td>\n",
              "    </tr>\n",
              "    <tr>\n",
              "      <th>...</th>\n",
              "      <td>...</td>\n",
              "      <td>...</td>\n",
              "      <td>...</td>\n",
              "      <td>...</td>\n",
              "      <td>...</td>\n",
              "    </tr>\n",
              "    <tr>\n",
              "      <th>91</th>\n",
              "      <td>남자</td>\n",
              "      <td>50-64</td>\n",
              "      <td>아연(mg/일)</td>\n",
              "      <td>10</td>\n",
              "      <td>35</td>\n",
              "    </tr>\n",
              "    <tr>\n",
              "      <th>92</th>\n",
              "      <td>여자</td>\n",
              "      <td>19-29</td>\n",
              "      <td>아연(mg/일)</td>\n",
              "      <td>8</td>\n",
              "      <td>35</td>\n",
              "    </tr>\n",
              "    <tr>\n",
              "      <th>93</th>\n",
              "      <td>여자</td>\n",
              "      <td>30-39</td>\n",
              "      <td>아연(mg/일)</td>\n",
              "      <td>8</td>\n",
              "      <td>35</td>\n",
              "    </tr>\n",
              "    <tr>\n",
              "      <th>94</th>\n",
              "      <td>여자</td>\n",
              "      <td>40-49</td>\n",
              "      <td>아연(mg/일)</td>\n",
              "      <td>8</td>\n",
              "      <td>35</td>\n",
              "    </tr>\n",
              "    <tr>\n",
              "      <th>95</th>\n",
              "      <td>여자</td>\n",
              "      <td>50-64</td>\n",
              "      <td>아연(mg/일)</td>\n",
              "      <td>8</td>\n",
              "      <td>35</td>\n",
              "    </tr>\n",
              "  </tbody>\n",
              "</table>\n",
              "<p>96 rows × 5 columns</p>\n",
              "</div>\n",
              "      <button class=\"colab-df-convert\" onclick=\"convertToInteractive('df-76b385dc-8499-4d8c-a2f8-45daa700787f')\"\n",
              "              title=\"Convert this dataframe to an interactive table.\"\n",
              "              style=\"display:none;\">\n",
              "        \n",
              "  <svg xmlns=\"http://www.w3.org/2000/svg\" height=\"24px\"viewBox=\"0 0 24 24\"\n",
              "       width=\"24px\">\n",
              "    <path d=\"M0 0h24v24H0V0z\" fill=\"none\"/>\n",
              "    <path d=\"M18.56 5.44l.94 2.06.94-2.06 2.06-.94-2.06-.94-.94-2.06-.94 2.06-2.06.94zm-11 1L8.5 8.5l.94-2.06 2.06-.94-2.06-.94L8.5 2.5l-.94 2.06-2.06.94zm10 10l.94 2.06.94-2.06 2.06-.94-2.06-.94-.94-2.06-.94 2.06-2.06.94z\"/><path d=\"M17.41 7.96l-1.37-1.37c-.4-.4-.92-.59-1.43-.59-.52 0-1.04.2-1.43.59L10.3 9.45l-7.72 7.72c-.78.78-.78 2.05 0 2.83L4 21.41c.39.39.9.59 1.41.59.51 0 1.02-.2 1.41-.59l7.78-7.78 2.81-2.81c.8-.78.8-2.07 0-2.86zM5.41 20L4 18.59l7.72-7.72 1.47 1.35L5.41 20z\"/>\n",
              "  </svg>\n",
              "      </button>\n",
              "      \n",
              "  <style>\n",
              "    .colab-df-container {\n",
              "      display:flex;\n",
              "      flex-wrap:wrap;\n",
              "      gap: 12px;\n",
              "    }\n",
              "\n",
              "    .colab-df-convert {\n",
              "      background-color: #E8F0FE;\n",
              "      border: none;\n",
              "      border-radius: 50%;\n",
              "      cursor: pointer;\n",
              "      display: none;\n",
              "      fill: #1967D2;\n",
              "      height: 32px;\n",
              "      padding: 0 0 0 0;\n",
              "      width: 32px;\n",
              "    }\n",
              "\n",
              "    .colab-df-convert:hover {\n",
              "      background-color: #E2EBFA;\n",
              "      box-shadow: 0px 1px 2px rgba(60, 64, 67, 0.3), 0px 1px 3px 1px rgba(60, 64, 67, 0.15);\n",
              "      fill: #174EA6;\n",
              "    }\n",
              "\n",
              "    [theme=dark] .colab-df-convert {\n",
              "      background-color: #3B4455;\n",
              "      fill: #D2E3FC;\n",
              "    }\n",
              "\n",
              "    [theme=dark] .colab-df-convert:hover {\n",
              "      background-color: #434B5C;\n",
              "      box-shadow: 0px 1px 3px 1px rgba(0, 0, 0, 0.15);\n",
              "      filter: drop-shadow(0px 1px 2px rgba(0, 0, 0, 0.3));\n",
              "      fill: #FFFFFF;\n",
              "    }\n",
              "  </style>\n",
              "\n",
              "      <script>\n",
              "        const buttonEl =\n",
              "          document.querySelector('#df-76b385dc-8499-4d8c-a2f8-45daa700787f button.colab-df-convert');\n",
              "        buttonEl.style.display =\n",
              "          google.colab.kernel.accessAllowed ? 'block' : 'none';\n",
              "\n",
              "        async function convertToInteractive(key) {\n",
              "          const element = document.querySelector('#df-76b385dc-8499-4d8c-a2f8-45daa700787f');\n",
              "          const dataTable =\n",
              "            await google.colab.kernel.invokeFunction('convertToInteractive',\n",
              "                                                     [key], {});\n",
              "          if (!dataTable) return;\n",
              "\n",
              "          const docLinkHtml = 'Like what you see? Visit the ' +\n",
              "            '<a target=\"_blank\" href=https://colab.research.google.com/notebooks/data_table.ipynb>data table notebook</a>'\n",
              "            + ' to learn more about interactive tables.';\n",
              "          element.innerHTML = '';\n",
              "          dataTable['output_type'] = 'display_data';\n",
              "          await google.colab.output.renderOutput(dataTable, element);\n",
              "          const docLink = document.createElement('div');\n",
              "          docLink.innerHTML = docLinkHtml;\n",
              "          element.appendChild(docLink);\n",
              "        }\n",
              "      </script>\n",
              "    </div>\n",
              "  </div>\n",
              "  "
            ]
          },
          "metadata": {},
          "execution_count": 16
        }
      ]
    },
    {
      "cell_type": "code",
      "source": [
        "DATA2[(DATA2['성별'] =='남자') & (DATA2['연령']=='19-29') & (DATA2['영양성분']=='탄수화물(g/일)')]"
      ],
      "metadata": {
        "colab": {
          "base_uri": "https://localhost:8080/",
          "height": 81
        },
        "id": "X2VkcEafFH1I",
        "outputId": "824c46e2-a513-4b26-c0ed-c0bb760eb8dd"
      },
      "execution_count": null,
      "outputs": [
        {
          "output_type": "execute_result",
          "data": {
            "text/plain": [
              "   성별     연령       영양성분 권장(g/일) 상한(g/일)\n",
              "0  남자  19-29  탄수화물(g/일)     130       -"
            ],
            "text/html": [
              "\n",
              "  <div id=\"df-40715b65-f5dd-4258-8d1e-00ef9db4d4b2\">\n",
              "    <div class=\"colab-df-container\">\n",
              "      <div>\n",
              "<style scoped>\n",
              "    .dataframe tbody tr th:only-of-type {\n",
              "        vertical-align: middle;\n",
              "    }\n",
              "\n",
              "    .dataframe tbody tr th {\n",
              "        vertical-align: top;\n",
              "    }\n",
              "\n",
              "    .dataframe thead th {\n",
              "        text-align: right;\n",
              "    }\n",
              "</style>\n",
              "<table border=\"1\" class=\"dataframe\">\n",
              "  <thead>\n",
              "    <tr style=\"text-align: right;\">\n",
              "      <th></th>\n",
              "      <th>성별</th>\n",
              "      <th>연령</th>\n",
              "      <th>영양성분</th>\n",
              "      <th>권장(g/일)</th>\n",
              "      <th>상한(g/일)</th>\n",
              "    </tr>\n",
              "  </thead>\n",
              "  <tbody>\n",
              "    <tr>\n",
              "      <th>0</th>\n",
              "      <td>남자</td>\n",
              "      <td>19-29</td>\n",
              "      <td>탄수화물(g/일)</td>\n",
              "      <td>130</td>\n",
              "      <td>-</td>\n",
              "    </tr>\n",
              "  </tbody>\n",
              "</table>\n",
              "</div>\n",
              "      <button class=\"colab-df-convert\" onclick=\"convertToInteractive('df-40715b65-f5dd-4258-8d1e-00ef9db4d4b2')\"\n",
              "              title=\"Convert this dataframe to an interactive table.\"\n",
              "              style=\"display:none;\">\n",
              "        \n",
              "  <svg xmlns=\"http://www.w3.org/2000/svg\" height=\"24px\"viewBox=\"0 0 24 24\"\n",
              "       width=\"24px\">\n",
              "    <path d=\"M0 0h24v24H0V0z\" fill=\"none\"/>\n",
              "    <path d=\"M18.56 5.44l.94 2.06.94-2.06 2.06-.94-2.06-.94-.94-2.06-.94 2.06-2.06.94zm-11 1L8.5 8.5l.94-2.06 2.06-.94-2.06-.94L8.5 2.5l-.94 2.06-2.06.94zm10 10l.94 2.06.94-2.06 2.06-.94-2.06-.94-.94-2.06-.94 2.06-2.06.94z\"/><path d=\"M17.41 7.96l-1.37-1.37c-.4-.4-.92-.59-1.43-.59-.52 0-1.04.2-1.43.59L10.3 9.45l-7.72 7.72c-.78.78-.78 2.05 0 2.83L4 21.41c.39.39.9.59 1.41.59.51 0 1.02-.2 1.41-.59l7.78-7.78 2.81-2.81c.8-.78.8-2.07 0-2.86zM5.41 20L4 18.59l7.72-7.72 1.47 1.35L5.41 20z\"/>\n",
              "  </svg>\n",
              "      </button>\n",
              "      \n",
              "  <style>\n",
              "    .colab-df-container {\n",
              "      display:flex;\n",
              "      flex-wrap:wrap;\n",
              "      gap: 12px;\n",
              "    }\n",
              "\n",
              "    .colab-df-convert {\n",
              "      background-color: #E8F0FE;\n",
              "      border: none;\n",
              "      border-radius: 50%;\n",
              "      cursor: pointer;\n",
              "      display: none;\n",
              "      fill: #1967D2;\n",
              "      height: 32px;\n",
              "      padding: 0 0 0 0;\n",
              "      width: 32px;\n",
              "    }\n",
              "\n",
              "    .colab-df-convert:hover {\n",
              "      background-color: #E2EBFA;\n",
              "      box-shadow: 0px 1px 2px rgba(60, 64, 67, 0.3), 0px 1px 3px 1px rgba(60, 64, 67, 0.15);\n",
              "      fill: #174EA6;\n",
              "    }\n",
              "\n",
              "    [theme=dark] .colab-df-convert {\n",
              "      background-color: #3B4455;\n",
              "      fill: #D2E3FC;\n",
              "    }\n",
              "\n",
              "    [theme=dark] .colab-df-convert:hover {\n",
              "      background-color: #434B5C;\n",
              "      box-shadow: 0px 1px 3px 1px rgba(0, 0, 0, 0.15);\n",
              "      filter: drop-shadow(0px 1px 2px rgba(0, 0, 0, 0.3));\n",
              "      fill: #FFFFFF;\n",
              "    }\n",
              "  </style>\n",
              "\n",
              "      <script>\n",
              "        const buttonEl =\n",
              "          document.querySelector('#df-40715b65-f5dd-4258-8d1e-00ef9db4d4b2 button.colab-df-convert');\n",
              "        buttonEl.style.display =\n",
              "          google.colab.kernel.accessAllowed ? 'block' : 'none';\n",
              "\n",
              "        async function convertToInteractive(key) {\n",
              "          const element = document.querySelector('#df-40715b65-f5dd-4258-8d1e-00ef9db4d4b2');\n",
              "          const dataTable =\n",
              "            await google.colab.kernel.invokeFunction('convertToInteractive',\n",
              "                                                     [key], {});\n",
              "          if (!dataTable) return;\n",
              "\n",
              "          const docLinkHtml = 'Like what you see? Visit the ' +\n",
              "            '<a target=\"_blank\" href=https://colab.research.google.com/notebooks/data_table.ipynb>data table notebook</a>'\n",
              "            + ' to learn more about interactive tables.';\n",
              "          element.innerHTML = '';\n",
              "          dataTable['output_type'] = 'display_data';\n",
              "          await google.colab.output.renderOutput(dataTable, element);\n",
              "          const docLink = document.createElement('div');\n",
              "          docLink.innerHTML = docLinkHtml;\n",
              "          element.appendChild(docLink);\n",
              "        }\n",
              "      </script>\n",
              "    </div>\n",
              "  </div>\n",
              "  "
            ]
          },
          "metadata": {},
          "execution_count": 14
        }
      ]
    },
    {
      "cell_type": "code",
      "source": [
        "a = DATA2[(DATA2['성별'] == '남자') & (DATA2['연령']=='19-29')]\n",
        "a[['영양성분','권장(g/일)']]"
      ],
      "metadata": {
        "colab": {
          "base_uri": "https://localhost:8080/",
          "height": 426
        },
        "id": "DGblGcM9GstL",
        "outputId": "1e9c3d0a-a525-46ae-82f4-4b21e7e5a3c0"
      },
      "execution_count": null,
      "outputs": [
        {
          "output_type": "execute_result",
          "data": {
            "text/plain": [
              "          영양성분    권장(g/일)\n",
              "0    에너지(kcal)       2600\n",
              "8    탄수화물(g/일)        130\n",
              "16     당류(g/일)  63.414634\n",
              "24     지방(g/일)  55.026455\n",
              "32    단백질(g/일)         65\n",
              "40    칼슘(mg/일)        800\n",
              "48     인(mg/일)        700\n",
              "56   나트륨(mg/일)      1,500\n",
              "64    칼륨(mg/일)      3,500\n",
              "72  마그네슘(mg/일)        360\n",
              "80     철(mg/일)         10\n",
              "88    아연(mg/일)         10"
            ],
            "text/html": [
              "\n",
              "  <div id=\"df-f7447866-c9e1-4af4-a24e-05772524c37e\">\n",
              "    <div class=\"colab-df-container\">\n",
              "      <div>\n",
              "<style scoped>\n",
              "    .dataframe tbody tr th:only-of-type {\n",
              "        vertical-align: middle;\n",
              "    }\n",
              "\n",
              "    .dataframe tbody tr th {\n",
              "        vertical-align: top;\n",
              "    }\n",
              "\n",
              "    .dataframe thead th {\n",
              "        text-align: right;\n",
              "    }\n",
              "</style>\n",
              "<table border=\"1\" class=\"dataframe\">\n",
              "  <thead>\n",
              "    <tr style=\"text-align: right;\">\n",
              "      <th></th>\n",
              "      <th>영양성분</th>\n",
              "      <th>권장(g/일)</th>\n",
              "    </tr>\n",
              "  </thead>\n",
              "  <tbody>\n",
              "    <tr>\n",
              "      <th>0</th>\n",
              "      <td>에너지(kcal)</td>\n",
              "      <td>2600</td>\n",
              "    </tr>\n",
              "    <tr>\n",
              "      <th>8</th>\n",
              "      <td>탄수화물(g/일)</td>\n",
              "      <td>130</td>\n",
              "    </tr>\n",
              "    <tr>\n",
              "      <th>16</th>\n",
              "      <td>당류(g/일)</td>\n",
              "      <td>63.414634</td>\n",
              "    </tr>\n",
              "    <tr>\n",
              "      <th>24</th>\n",
              "      <td>지방(g/일)</td>\n",
              "      <td>55.026455</td>\n",
              "    </tr>\n",
              "    <tr>\n",
              "      <th>32</th>\n",
              "      <td>단백질(g/일)</td>\n",
              "      <td>65</td>\n",
              "    </tr>\n",
              "    <tr>\n",
              "      <th>40</th>\n",
              "      <td>칼슘(mg/일)</td>\n",
              "      <td>800</td>\n",
              "    </tr>\n",
              "    <tr>\n",
              "      <th>48</th>\n",
              "      <td>인(mg/일)</td>\n",
              "      <td>700</td>\n",
              "    </tr>\n",
              "    <tr>\n",
              "      <th>56</th>\n",
              "      <td>나트륨(mg/일)</td>\n",
              "      <td>1,500</td>\n",
              "    </tr>\n",
              "    <tr>\n",
              "      <th>64</th>\n",
              "      <td>칼륨(mg/일)</td>\n",
              "      <td>3,500</td>\n",
              "    </tr>\n",
              "    <tr>\n",
              "      <th>72</th>\n",
              "      <td>마그네슘(mg/일)</td>\n",
              "      <td>360</td>\n",
              "    </tr>\n",
              "    <tr>\n",
              "      <th>80</th>\n",
              "      <td>철(mg/일)</td>\n",
              "      <td>10</td>\n",
              "    </tr>\n",
              "    <tr>\n",
              "      <th>88</th>\n",
              "      <td>아연(mg/일)</td>\n",
              "      <td>10</td>\n",
              "    </tr>\n",
              "  </tbody>\n",
              "</table>\n",
              "</div>\n",
              "      <button class=\"colab-df-convert\" onclick=\"convertToInteractive('df-f7447866-c9e1-4af4-a24e-05772524c37e')\"\n",
              "              title=\"Convert this dataframe to an interactive table.\"\n",
              "              style=\"display:none;\">\n",
              "        \n",
              "  <svg xmlns=\"http://www.w3.org/2000/svg\" height=\"24px\"viewBox=\"0 0 24 24\"\n",
              "       width=\"24px\">\n",
              "    <path d=\"M0 0h24v24H0V0z\" fill=\"none\"/>\n",
              "    <path d=\"M18.56 5.44l.94 2.06.94-2.06 2.06-.94-2.06-.94-.94-2.06-.94 2.06-2.06.94zm-11 1L8.5 8.5l.94-2.06 2.06-.94-2.06-.94L8.5 2.5l-.94 2.06-2.06.94zm10 10l.94 2.06.94-2.06 2.06-.94-2.06-.94-.94-2.06-.94 2.06-2.06.94z\"/><path d=\"M17.41 7.96l-1.37-1.37c-.4-.4-.92-.59-1.43-.59-.52 0-1.04.2-1.43.59L10.3 9.45l-7.72 7.72c-.78.78-.78 2.05 0 2.83L4 21.41c.39.39.9.59 1.41.59.51 0 1.02-.2 1.41-.59l7.78-7.78 2.81-2.81c.8-.78.8-2.07 0-2.86zM5.41 20L4 18.59l7.72-7.72 1.47 1.35L5.41 20z\"/>\n",
              "  </svg>\n",
              "      </button>\n",
              "      \n",
              "  <style>\n",
              "    .colab-df-container {\n",
              "      display:flex;\n",
              "      flex-wrap:wrap;\n",
              "      gap: 12px;\n",
              "    }\n",
              "\n",
              "    .colab-df-convert {\n",
              "      background-color: #E8F0FE;\n",
              "      border: none;\n",
              "      border-radius: 50%;\n",
              "      cursor: pointer;\n",
              "      display: none;\n",
              "      fill: #1967D2;\n",
              "      height: 32px;\n",
              "      padding: 0 0 0 0;\n",
              "      width: 32px;\n",
              "    }\n",
              "\n",
              "    .colab-df-convert:hover {\n",
              "      background-color: #E2EBFA;\n",
              "      box-shadow: 0px 1px 2px rgba(60, 64, 67, 0.3), 0px 1px 3px 1px rgba(60, 64, 67, 0.15);\n",
              "      fill: #174EA6;\n",
              "    }\n",
              "\n",
              "    [theme=dark] .colab-df-convert {\n",
              "      background-color: #3B4455;\n",
              "      fill: #D2E3FC;\n",
              "    }\n",
              "\n",
              "    [theme=dark] .colab-df-convert:hover {\n",
              "      background-color: #434B5C;\n",
              "      box-shadow: 0px 1px 3px 1px rgba(0, 0, 0, 0.15);\n",
              "      filter: drop-shadow(0px 1px 2px rgba(0, 0, 0, 0.3));\n",
              "      fill: #FFFFFF;\n",
              "    }\n",
              "  </style>\n",
              "\n",
              "      <script>\n",
              "        const buttonEl =\n",
              "          document.querySelector('#df-f7447866-c9e1-4af4-a24e-05772524c37e button.colab-df-convert');\n",
              "        buttonEl.style.display =\n",
              "          google.colab.kernel.accessAllowed ? 'block' : 'none';\n",
              "\n",
              "        async function convertToInteractive(key) {\n",
              "          const element = document.querySelector('#df-f7447866-c9e1-4af4-a24e-05772524c37e');\n",
              "          const dataTable =\n",
              "            await google.colab.kernel.invokeFunction('convertToInteractive',\n",
              "                                                     [key], {});\n",
              "          if (!dataTable) return;\n",
              "\n",
              "          const docLinkHtml = 'Like what you see? Visit the ' +\n",
              "            '<a target=\"_blank\" href=https://colab.research.google.com/notebooks/data_table.ipynb>data table notebook</a>'\n",
              "            + ' to learn more about interactive tables.';\n",
              "          element.innerHTML = '';\n",
              "          dataTable['output_type'] = 'display_data';\n",
              "          await google.colab.output.renderOutput(dataTable, element);\n",
              "          const docLink = document.createElement('div');\n",
              "          docLink.innerHTML = docLinkHtml;\n",
              "          element.appendChild(docLink);\n",
              "        }\n",
              "      </script>\n",
              "    </div>\n",
              "  </div>\n",
              "  "
            ]
          },
          "metadata": {},
          "execution_count": 23
        }
      ]
    },
    {
      "cell_type": "code",
      "source": [
        "gender = '남자'\n",
        "ages = 28\n",
        "augments = '탄수화물(g)'"
      ],
      "metadata": {
        "id": "YJm2X-3lGqhI"
      },
      "execution_count": null,
      "outputs": []
    },
    {
      "cell_type": "code",
      "source": [
        "result['탄수화물(g)']"
      ],
      "metadata": {
        "colab": {
          "base_uri": "https://localhost:8080/"
        },
        "id": "x13wvKdsh87X",
        "outputId": "909e2108-2d6b-41a1-dd95-fe824362ebae"
      },
      "execution_count": null,
      "outputs": [
        {
          "output_type": "execute_result",
          "data": {
            "text/plain": [
              "191.22000000000003"
            ]
          },
          "metadata": {},
          "execution_count": 32
        }
      ]
    },
    {
      "cell_type": "code",
      "source": [
        "type(a[a['영양성분']=='에너지(kcal)']['권장(g/일)'].values[0])"
      ],
      "metadata": {
        "colab": {
          "base_uri": "https://localhost:8080/"
        },
        "id": "qteosy24iaXk",
        "outputId": "01395d58-818f-41f3-9944-32fdc1754098"
      },
      "execution_count": null,
      "outputs": [
        {
          "output_type": "execute_result",
          "data": {
            "text/plain": [
              "int"
            ]
          },
          "metadata": {},
          "execution_count": 45
        }
      ]
    },
    {
      "cell_type": "code",
      "source": [
        "Nutrition['성분']"
      ],
      "metadata": {
        "colab": {
          "base_uri": "https://localhost:8080/"
        },
        "id": "XZ0O7kL7koRy",
        "outputId": "833de1e0-b548-4139-d5f0-8af81927ddd2"
      },
      "execution_count": null,
      "outputs": [
        {
          "output_type": "execute_result",
          "data": {
            "text/plain": [
              "['에너지(kcal)',\n",
              " '콜레스테롤(mg)',\n",
              " '트랜스지방(g)',\n",
              " '탄수화물(g)',\n",
              " '당류(g)',\n",
              " '지방(g)',\n",
              " '단백질(g)',\n",
              " '칼슘(mg)',\n",
              " '인(mg)',\n",
              " '나트륨(mg)',\n",
              " '칼륨(mg)',\n",
              " '마그네슘(mg)',\n",
              " '철(mg)',\n",
              " '아연(mg)']"
            ]
          },
          "metadata": {},
          "execution_count": 26
        }
      ]
    },
    {
      "cell_type": "code",
      "source": [
        "if gender == '남자':\n",
        "    if ages < 19:\n",
        "        print('마니먹어..')\n",
        "    elif ages < 30:\n",
        "        a = DATA2[(DATA2['성별'] == '남자') & (DATA2['연령']=='19-29')]\n",
        "        for aug in Nutrition['성분']:\n",
        "            if int(result[aug]) >= a[a['영양성분']==aug]['권장(g/일)'].values[0]:\n",
        "                print('경고')\n",
        "            else:\n",
        "                print('dd')\n",
        "    elif ages < 40:\n",
        "        DATA2[(DATA2['성별'] == '남자') & (DATA2['연령']=='30-49')]\n",
        "        print('남자 30대')\n",
        "    elif ages < 50:\n",
        "        DATA2[(DATA2['성별'] == '남자') & (DATA2['연령']=='30-49')]\n",
        "        print('남자 40대')\n",
        "    elif ages < 60:\n",
        "        DATA2[(DATA2['성별'] == '남자') & (DATA2['연령']=='50-64')]\n",
        "        print('남자 50대')\n",
        "    elif ages < 65:\n",
        "        DATA2[(DATA2['성별'] == '남자') & (DATA2['연령']=='50-64')]\n",
        "        print('남자 60~64')\n",
        "    else:\n",
        "        print('해당 정보가 없습니다')\n",
        "elif gender == '여자':\n",
        "    if ages < 19:\n",
        "        print('마니먹어..')\n",
        "    elif ages < 30:\n",
        "        DATA2[(DATA2['성별'] == '여자') & (DATA2['연령']=='19-29')]\n",
        "        print('여자 20대')\n",
        "    elif ages < 40:\n",
        "        DATA2[(DATA2['성별'] == '여자') & (DATA2['연령']=='30-49')]\n",
        "        print('여자 30대')\n",
        "    elif ages < 50:\n",
        "        DATA2[(DATA2['성별'] == '여자') & (DATA2['연령']=='30-49')]\n",
        "        print('여자 40대')\n",
        "    elif ages < 60:\n",
        "        DATA2[(DATA2['성별'] == '여자') & (DATA2['연령']=='50-64')]\n",
        "        print('여자 50대')\n",
        "    elif ages < 65:\n",
        "        DATA2[(DATA2['성별'] == '여자') & (DATA2['연령']=='50-64')]\n",
        "        print('여자 60~64')\n",
        "    else:\n",
        "        print('해당 정보가 없습니다')"
      ],
      "metadata": {
        "colab": {
          "base_uri": "https://localhost:8080/",
          "height": 266
        },
        "id": "WGsi_n-4GypX",
        "outputId": "57d92578-622e-40d7-dc4d-1c87f955f3dc"
      },
      "execution_count": null,
      "outputs": [
        {
          "output_type": "stream",
          "name": "stdout",
          "text": [
            "dd\n"
          ]
        },
        {
          "output_type": "error",
          "ename": "IndexError",
          "evalue": "ignored",
          "traceback": [
            "\u001b[0;31m---------------------------------------------------------------------------\u001b[0m",
            "\u001b[0;31mIndexError\u001b[0m                                Traceback (most recent call last)",
            "\u001b[0;32m<ipython-input-47-05424396c29f>\u001b[0m in \u001b[0;36m<module>\u001b[0;34m()\u001b[0m\n\u001b[1;32m      5\u001b[0m         \u001b[0ma\u001b[0m \u001b[0;34m=\u001b[0m \u001b[0mDATA2\u001b[0m\u001b[0;34m[\u001b[0m\u001b[0;34m(\u001b[0m\u001b[0mDATA2\u001b[0m\u001b[0;34m[\u001b[0m\u001b[0;34m'성별'\u001b[0m\u001b[0;34m]\u001b[0m \u001b[0;34m==\u001b[0m \u001b[0;34m'남자'\u001b[0m\u001b[0;34m)\u001b[0m \u001b[0;34m&\u001b[0m \u001b[0;34m(\u001b[0m\u001b[0mDATA2\u001b[0m\u001b[0;34m[\u001b[0m\u001b[0;34m'연령'\u001b[0m\u001b[0;34m]\u001b[0m\u001b[0;34m==\u001b[0m\u001b[0;34m'19-29'\u001b[0m\u001b[0;34m)\u001b[0m\u001b[0;34m]\u001b[0m\u001b[0;34m\u001b[0m\u001b[0;34m\u001b[0m\u001b[0m\n\u001b[1;32m      6\u001b[0m         \u001b[0;32mfor\u001b[0m \u001b[0maug\u001b[0m \u001b[0;32min\u001b[0m \u001b[0mNutrition\u001b[0m\u001b[0;34m[\u001b[0m\u001b[0;34m'성분'\u001b[0m\u001b[0;34m]\u001b[0m\u001b[0;34m:\u001b[0m\u001b[0;34m\u001b[0m\u001b[0;34m\u001b[0m\u001b[0m\n\u001b[0;32m----> 7\u001b[0;31m             \u001b[0;32mif\u001b[0m \u001b[0mint\u001b[0m\u001b[0;34m(\u001b[0m\u001b[0mresult\u001b[0m\u001b[0;34m[\u001b[0m\u001b[0maug\u001b[0m\u001b[0;34m]\u001b[0m\u001b[0;34m)\u001b[0m \u001b[0;34m>=\u001b[0m \u001b[0ma\u001b[0m\u001b[0;34m[\u001b[0m\u001b[0ma\u001b[0m\u001b[0;34m[\u001b[0m\u001b[0;34m'영양성분'\u001b[0m\u001b[0;34m]\u001b[0m\u001b[0;34m==\u001b[0m\u001b[0maug\u001b[0m\u001b[0;34m]\u001b[0m\u001b[0;34m[\u001b[0m\u001b[0;34m'권장(g/일)'\u001b[0m\u001b[0;34m]\u001b[0m\u001b[0;34m.\u001b[0m\u001b[0mvalues\u001b[0m\u001b[0;34m[\u001b[0m\u001b[0;36m0\u001b[0m\u001b[0;34m]\u001b[0m\u001b[0;34m:\u001b[0m\u001b[0;34m\u001b[0m\u001b[0;34m\u001b[0m\u001b[0m\n\u001b[0m\u001b[1;32m      8\u001b[0m                 \u001b[0mprint\u001b[0m\u001b[0;34m(\u001b[0m\u001b[0;34m'경고'\u001b[0m\u001b[0;34m)\u001b[0m\u001b[0;34m\u001b[0m\u001b[0;34m\u001b[0m\u001b[0m\n\u001b[1;32m      9\u001b[0m             \u001b[0;32melse\u001b[0m\u001b[0;34m:\u001b[0m\u001b[0;34m\u001b[0m\u001b[0;34m\u001b[0m\u001b[0m\n",
            "\u001b[0;31mIndexError\u001b[0m: index 0 is out of bounds for axis 0 with size 0"
          ]
        }
      ]
    },
    {
      "cell_type": "code",
      "source": [
        "# 입력받은 개인정보 기준 영양성분 제한 해주는 부분 함수\n",
        "def warning(gender, ages, augments):\n",
        "    a"
      ],
      "metadata": {
        "id": "jOzsSvCkG00m"
      },
      "execution_count": null,
      "outputs": []
    },
    {
      "cell_type": "markdown",
      "source": [
        "# 권장섭취량 판별 함수 ====="
      ],
      "metadata": {
        "id": "NKkY_jdhBZNu"
      }
    },
    {
      "cell_type": "code",
      "source": [
        "# 권장섭취량 DB\n",
        "DATA2 = pd.read_excel(file_path+'=====.xlsx', index_col='=====')"
      ],
      "metadata": {
        "id": "gmjFn8NbBd2G"
      },
      "execution_count": null,
      "outputs": []
    },
    {
      "cell_type": "code",
      "source": [
        "# 추출된 값이 권장섭취량 이상인 경우 경고하는 함수 정의\n",
        "def warning(name):\n",
        "    warn_ment = str('경고')\n",
        "    # a\n",
        "    try:\n",
        "        a\n",
        "        result\n",
        "    except:\n",
        "        pass  \n",
        "\n",
        "    # 예측값에서 가져온 영양성분(총합)이 권장섭취량보다 높은지 확인\n",
        "    if a >= db:\n",
        "      return result\n",
        "    else:\n",
        "      return result"
      ],
      "metadata": {
        "id": "1ycg2_DBBi8h"
      },
      "execution_count": null,
      "outputs": []
    },
    {
      "cell_type": "markdown",
      "source": [
        "# FASTAPI 설정 =====\n",
        "- install fastapi, uvicorn 등\n",
        "- import fastapi, ngrok 등"
      ],
      "metadata": {
        "id": "x7r8hOn_Bn_m"
      }
    },
    {
      "cell_type": "code",
      "source": [
        "!pip install fastapi nest-asyncio pyngrok uvicorn aiofiles python-multipart"
      ],
      "metadata": {
        "id": "gpdvnVwjB3p5",
        "colab": {
          "base_uri": "https://localhost:8080/"
        },
        "outputId": "c89e8164-c84c-4473-d806-b07445976012"
      },
      "execution_count": null,
      "outputs": [
        {
          "output_type": "stream",
          "name": "stdout",
          "text": [
            "Collecting fastapi\n",
            "  Downloading fastapi-0.75.1-py3-none-any.whl (54 kB)\n",
            "\u001b[?25l\r\u001b[K     |██████                          | 10 kB 22.3 MB/s eta 0:00:01\r\u001b[K     |████████████                    | 20 kB 11.8 MB/s eta 0:00:01\r\u001b[K     |██████████████████              | 30 kB 8.9 MB/s eta 0:00:01\r\u001b[K     |████████████████████████        | 40 kB 7.9 MB/s eta 0:00:01\r\u001b[K     |██████████████████████████████  | 51 kB 5.6 MB/s eta 0:00:01\r\u001b[K     |████████████████████████████████| 54 kB 1.9 MB/s \n",
            "\u001b[?25hRequirement already satisfied: nest-asyncio in /usr/local/lib/python3.7/dist-packages (1.5.5)\n",
            "Collecting pyngrok\n",
            "  Downloading pyngrok-5.1.0.tar.gz (745 kB)\n",
            "\u001b[K     |████████████████████████████████| 745 kB 17.9 MB/s \n",
            "\u001b[?25hCollecting uvicorn\n",
            "  Downloading uvicorn-0.17.6-py3-none-any.whl (53 kB)\n",
            "\u001b[K     |████████████████████████████████| 53 kB 1.9 MB/s \n",
            "\u001b[?25hCollecting aiofiles\n",
            "  Downloading aiofiles-0.8.0-py3-none-any.whl (13 kB)\n",
            "Collecting python-multipart\n",
            "  Downloading python-multipart-0.0.5.tar.gz (32 kB)\n",
            "Collecting starlette==0.17.1\n",
            "  Downloading starlette-0.17.1-py3-none-any.whl (58 kB)\n",
            "\u001b[K     |████████████████████████████████| 58 kB 5.7 MB/s \n",
            "\u001b[?25hCollecting pydantic!=1.7,!=1.7.1,!=1.7.2,!=1.7.3,!=1.8,!=1.8.1,<2.0.0,>=1.6.2\n",
            "  Downloading pydantic-1.9.0-cp37-cp37m-manylinux_2_17_x86_64.manylinux2014_x86_64.whl (10.9 MB)\n",
            "\u001b[K     |████████████████████████████████| 10.9 MB 53.6 MB/s \n",
            "\u001b[?25hCollecting anyio<4,>=3.0.0\n",
            "  Downloading anyio-3.5.0-py3-none-any.whl (79 kB)\n",
            "\u001b[K     |████████████████████████████████| 79 kB 8.0 MB/s \n",
            "\u001b[?25hRequirement already satisfied: typing-extensions in /usr/local/lib/python3.7/dist-packages (from starlette==0.17.1->fastapi) (4.1.1)\n",
            "Collecting sniffio>=1.1\n",
            "  Downloading sniffio-1.2.0-py3-none-any.whl (10 kB)\n",
            "Requirement already satisfied: idna>=2.8 in /usr/local/lib/python3.7/dist-packages (from anyio<4,>=3.0.0->starlette==0.17.1->fastapi) (2.10)\n",
            "Requirement already satisfied: PyYAML in /usr/local/lib/python3.7/dist-packages (from pyngrok) (3.13)\n",
            "Requirement already satisfied: click>=7.0 in /usr/local/lib/python3.7/dist-packages (from uvicorn) (7.1.2)\n",
            "Collecting asgiref>=3.4.0\n",
            "  Downloading asgiref-3.5.0-py3-none-any.whl (22 kB)\n",
            "Collecting h11>=0.8\n",
            "  Downloading h11-0.13.0-py3-none-any.whl (58 kB)\n",
            "\u001b[K     |████████████████████████████████| 58 kB 5.1 MB/s \n",
            "\u001b[?25hRequirement already satisfied: six>=1.4.0 in /usr/local/lib/python3.7/dist-packages (from python-multipart) (1.15.0)\n",
            "Building wheels for collected packages: pyngrok, python-multipart\n",
            "  Building wheel for pyngrok (setup.py) ... \u001b[?25l\u001b[?25hdone\n",
            "  Created wheel for pyngrok: filename=pyngrok-5.1.0-py3-none-any.whl size=19007 sha256=6ab549863d35ddeb81bc186e34fe8ca499f8a4a197599c2752169228b58df8fe\n",
            "  Stored in directory: /root/.cache/pip/wheels/bf/e6/af/ccf6598ecefecd44104069371795cb9b3afbcd16987f6ccfb3\n",
            "  Building wheel for python-multipart (setup.py) ... \u001b[?25l\u001b[?25hdone\n",
            "  Created wheel for python-multipart: filename=python_multipart-0.0.5-py3-none-any.whl size=31678 sha256=2a4a15d0337131ab21b39138f6fa05ac4af33f891b0d865df0b54a18c3c7c2bd\n",
            "  Stored in directory: /root/.cache/pip/wheels/2c/41/7c/bfd1c180534ffdcc0972f78c5758f89881602175d48a8bcd2c\n",
            "Successfully built pyngrok python-multipart\n",
            "Installing collected packages: sniffio, anyio, starlette, pydantic, h11, asgiref, uvicorn, python-multipart, pyngrok, fastapi, aiofiles\n",
            "Successfully installed aiofiles-0.8.0 anyio-3.5.0 asgiref-3.5.0 fastapi-0.75.1 h11-0.13.0 pydantic-1.9.0 pyngrok-5.1.0 python-multipart-0.0.5 sniffio-1.2.0 starlette-0.17.1 uvicorn-0.17.6\n"
          ]
        }
      ]
    },
    {
      "cell_type": "code",
      "source": [
        "# 모듈 임포트\n",
        "from fastapi import FastAPI, Request, Form, File, UploadFile\n",
        "from fastapi.responses import HTMLResponse\n",
        "from fastapi.staticfiles import StaticFiles\n",
        "from fastapi.templating import Jinja2Templates\n",
        "import nest_asyncio\n",
        "from pyngrok import ngrok\n",
        "\n",
        "import uvicorn"
      ],
      "metadata": {
        "id": "rz7B5Wn1CAvK"
      },
      "execution_count": null,
      "outputs": []
    },
    {
      "cell_type": "markdown",
      "source": [
        "# HTML파일작성\n",
        "- API 화면 출력용 html 작성"
      ],
      "metadata": {
        "id": "NvQtCTZAsE2p"
      }
    },
    {
      "cell_type": "code",
      "source": [
        "%%writefile templates/main.html\n",
        "<!DOCTYPE html>\n",
        "<html>\n",
        "\t<head>\n",
        "        <link rel=\"preconnect\" href=\"https://fonts.googleapis.com\" />\n",
        "\t\t<link rel=\"preconnect\" href=\"https://fonts.gstatic.com\" crossorigin />\n",
        "\t\t<link\n",
        "\t\t\thref=\"https://fonts.googleapis.com/css2?family=Ubuntu&display=swap\"\n",
        "\t\t\trel=\"stylesheet\"\n",
        "\t\t/>\n",
        "        \n",
        "        <!-- Required meta tags -->\n",
        "\t\t<meta charset=\"utf-8\" />\n",
        "\t\t<meta name=\"viewport\" content=\"width=device-width, initial-scale=1\" />\n",
        "\n",
        "        <!-- Bootstrap CSS -->\n",
        "\t\t<link\n",
        "        href=\"https://cdn.jsdelivr.net/npm/bootstrap@5.1.3/dist/css/bootstrap.min.css\"\n",
        "        rel=\"stylesheet\"\n",
        "        integrity=\"sha384-1BmE4kWBq78iYhFldvKuhfTAU6auU8tT94WrHftjDbrCEXSU1oBoqyl2QvZ6jIW3\"\n",
        "        crossorigin=\"anonymous\"\n",
        "        />\n",
        "\n",
        "        <title>Nutrition_4</title>\n",
        "        <link rel=\"stylesheet\" href=\"/static/style.css\" />\n",
        "    </head>\n",
        "\t<body>\n",
        "        <form method=\"post\" action=\"/print\" enctype=\"multipart/form-data\">\n",
        "            <section class=\"section\">\n",
        "                <h2 class=\"title\">개인 맞춤형 식단 필터링 서비스</h2>\n",
        "                <h5 class=\"subtitle\">정보를 입력해주세요</h5>\n",
        "            <center>\n",
        "            <div class= 'pt-1 Select Gender'>\n",
        "                <select name = 'gender'>\n",
        "                <option type='text', value='male'>남자</option>\n",
        "                <option type='text', value='female'>여자</option>\n",
        "                </select>\n",
        "            </div>\n",
        "            </center>\n",
        "            <center>\n",
        "            <div class= 'pt-1 Input Ages'>\n",
        "                <input type='number' min='19' max=\"64\" name=\"ages\">\n",
        "            </div>\n",
        "            </center>\n",
        "            <center>\n",
        "            <div class= 'pt-1 Select Illness'>\n",
        "                <select name = 'illness'>\n",
        "                <option type='text', value='A'>비만</option>\n",
        "                <option type='text', value='B'>당뇨</option>\n",
        "                <option type='text', value='C'>고혈압</option>\n",
        "                <option type='text', value='D'>고지혈증</option>\n",
        "                <option type='text', value='E'>신부전증</option>\n",
        "                </select>\n",
        "            </div>\n",
        "            </center>\n",
        "            <center>\n",
        "                <div class='pt-2 mb-2 submitbutton'>\n",
        "                  <input type=\"submit\", Value=작동>\n",
        "                </div>\n",
        "            </center>\n",
        "            <div class=\"container file-upload\">\n",
        "                <div class=\"image-upload-wrap\" style=\"width: 65%; margin: 0 auto;\">\n",
        "                    <input\n",
        "                        class=\"file-upload-input\"\n",
        "                        type=\"file\"\n",
        "                        name='img'\n",
        "                        onchange=\"readURL(this);\"\n",
        "                        accept=\"image/*\"\n",
        "                    />\n",
        "                    <div class=\"drag-text\">\n",
        "                        <img src=\"img/upload.png\" class=\"mt-5 pt-2 upload\" style=\"width: 16%;\" />\n",
        "                        <h3 class=\"mb-5 pd-5 pt-4 upload-text\">음식사진을 올려주세요</h3>\n",
        "                    </div>\n",
        "                </div>\n",
        "                <div class=\"file-upload-content\">\n",
        "                    <img class=\"file-upload-image\" id=\"food-image\" src=\"#\" alt=\"your image\" />\n",
        "                    <!-- <p class=\"result-message\"></p> -->\n",
        "                    <div id=\"label-container\"></div>\n",
        "                    <div class=\"image-title-wrap\">\n",
        "                        <button type=\"button\" onclick=\"removeUpload()\" class=\"remove-image\">\n",
        "                            Remove\n",
        "                            <span class=\"image-title\">Uploaded Image</span>\n",
        "                        </button>\n",
        "                    </div>\n",
        "                </div>\n",
        "            </div>\n",
        "        </form>\n",
        "        <script>\n",
        "\t\t\tfunction readURL(input) {\n",
        "\t\t\t\tif (input.files && input.files[0]) {\n",
        "\t\t\t\t\tvar reader = new FileReader();\n",
        "\t\t\t\t\treader.onload = function (e) {\n",
        "\t\t\t\t\t\t$('.image-upload-wrap').hide();\n",
        "\t\t\t\t\t\t$('.file-upload-image').attr('src', e.target.result);\n",
        "\t\t\t\t\t\t$('.file-upload-content').show();\n",
        "\t\t\t\t\t\t$('.image-title').html(input.files[0].name);\n",
        "\t\t\t\t\t};\n",
        "\t\t\t\t\treader.readAsDataURL(input.files[0]);\n",
        "\t\t\t\t\tinit().then(() => {\n",
        "\t\t\t\t\t\tconsole.log('hello');\n",
        "\t\t\t\t\t\tpredict();\n",
        "\t\t\t\t\t});\n",
        "\t\t\t\t} else {\n",
        "\t\t\t\t\tremoveUpload();\n",
        "\t\t\t\t}\n",
        "\t\t\t}\n",
        "\n",
        "\t\t\tfunction removeUpload() {\n",
        "\t\t\t\t$('.file-upload-input').replaceWith($('.file-upload-input').clone());\n",
        "\t\t\t\t$('.file-upload-content').hide();\n",
        "\t\t\t\t$('.image-upload-wrap').show();\n",
        "\t\t\t}\n",
        "\t\t\t$('.image-upload-wrap').bind('dragover', function () {\n",
        "\t\t\t\t$('.image-upload-wrap').addClass('image-dropping');\n",
        "\t\t\t});\n",
        "\t\t\t$('.image-upload-wrap').bind('dragleave', function () {\n",
        "\t\t\t\t$('.image-upload-wrap').removeClass('image-dropping');\n",
        "\t\t\t});\n",
        "\t\t</script>    \n",
        "    </body>\n",
        "\t\n",
        "</html>"
      ],
      "metadata": {
        "id": "RwVwQvNGCBXD",
        "colab": {
          "base_uri": "https://localhost:8080/"
        },
        "outputId": "efd77375-13b1-4bba-b5b9-914ea63b1b86"
      },
      "execution_count": null,
      "outputs": [
        {
          "output_type": "stream",
          "name": "stdout",
          "text": [
            "Overwriting templates/main.html\n"
          ]
        }
      ]
    },
    {
      "cell_type": "markdown",
      "source": [
        "# css 파일 작성"
      ],
      "metadata": {
        "id": "XsTN1nBjtR_2"
      }
    },
    {
      "cell_type": "code",
      "source": [
        "%%writefile static/style.css\n",
        "body {\n",
        "\tfont-family: 'Ubuntu', sans-serif;\n",
        "\tbackground-color: #fff;\n",
        "}\n",
        ".file-upload {\n",
        "\t/* width: 914px; */\n",
        "\tborder-radius: 10px;\n",
        "\tborder: solid 1.5px #f6f7fa;\n",
        "\tbackground-color: #f6f7fa;\n",
        "\tpadding: 13% 5%;\n",
        "\tmargin: 0 auto\n",
        "\t/* width: 600px; */\n",
        "\t\n",
        "}\n",
        ".file-upload-btn {\n",
        "\twidth: 100%;\n",
        "\tmargin: 0;\n",
        "\tcolor: #fff;\n",
        "\tbackground: #a61fb2;\n",
        "\tborder: none;\n",
        "\tpadding: 10px;\n",
        "\tborder-radius: 4px;\n",
        "\tborder-bottom: 4px solid #a61fb2;\n",
        "\ttransition: all 0.2s ease;\n",
        "\toutline: none;\n",
        "\ttext-transform: uppercase;\n",
        "\tfont-weight: 700;\n",
        "}\n",
        ".file-upload-btn:hover {\n",
        "\tbackground: #1a1ca0;\n",
        "\tcolor: #fff;\n",
        "\ttransition: all 0.2s ease;\n",
        "\tcursor: pointer;\n",
        "}\n",
        ".file-upload-btn:active {\n",
        "\tborder: 0;\n",
        "\ttransition: all 0.2s ease;\n",
        "}\n",
        ".file-upload-content {\n",
        "\tdisplay: none;\n",
        "\ttext-align: center;\n",
        "}\n",
        ".file-upload-input {\n",
        "\tposition: absolute;\n",
        "\tmargin: 0;\n",
        "\tpadding: 0;\n",
        "\twidth: 100%;\n",
        "\theight: 100%;\n",
        "\toutline: none;\n",
        "\topacity: 0;\n",
        "\tcursor: pointer;\n",
        "}\n",
        ".image-upload-wrap {\n",
        "\tborder: 4px dashed #0026ff;\n",
        "\tposition: relative;\n",
        "}\n",
        ".image-upload-wrap:hover {\n",
        "\tbackground-color: #f9bbff;\n",
        "\tborder: 4px dashed #fff;\n",
        "}\n",
        ".image-dropping {\n",
        "\tbackground-color: #ff0000;\n",
        "\tborder: 4px dashed #fff;\n",
        "}\n",
        ".image-title-wrap {\n",
        "\tpadding: 0 15px 15px;\n",
        "\tcolor: #222;\n",
        "}\n",
        ".drag-text {\n",
        "\ttext-align: center;\n",
        "}\n",
        ".drag-text h3 {\n",
        "\twidth: 50%;\n",
        "\tfont-weight: 100;\n",
        "\ttext-transform: uppercase;\n",
        "\tcolor: #15824b;\n",
        "\tfont-family: 'Ubuntu', sans-serif;\n",
        "\tfont-size: 1.5rem;\n",
        "\tline-height: 1.53;\n",
        "\ttext-align: center;\n",
        "\tcolor: #35465d;\n",
        "\tmargin: 0 auto;\n",
        "}\n",
        ".file-upload-image {\n",
        "\tmax-height: 200px;\n",
        "\tmax-width: 200px;\n",
        "\tmargin: auto;\n",
        "\tpadding: 20px;\n",
        "}\n",
        ".remove-image {\n",
        "\twidth: 200px;\n",
        "\tmargin: 0;\n",
        "\tcolor: #fff;\n",
        "\tbackground: #cd4535;\n",
        "\tborder: none;\n",
        "\tpadding: 10px;\n",
        "\tborder-radius: 4px;\n",
        "\tborder-bottom: 4px solid #b02818;\n",
        "\ttransition: all 0.2s ease;\n",
        "\toutline: none;\n",
        "\ttext-transform: uppercase;\n",
        "\tfont-weight: 700;\n",
        "}\n",
        ".remove-image:hover {\n",
        "\tbackground: #c13b2a;\n",
        "\tcolor: #fff;\n",
        "\ttransition: all 0.2s ease;\n",
        "\tcursor: pointer;\n",
        "}\n",
        ".remove-image:active {\n",
        "\tborder: 0;\n",
        "\ttransition: all 0.2s ease;\n",
        "}\n",
        "\n",
        ".nav-distance {\n",
        "\tpadding: 2.1% 7.7%;\n",
        "}\n",
        "\n",
        ".navbar-light .navbar-brand {\n",
        "\tfont-family: 'Ubuntu', sans-serif;\n",
        "\tline-height: 1.68;\n",
        "\ttext-align: left;\n",
        "\tcolor: #35465d;\n",
        "}\n",
        "\n",
        ".navbar-light .navbar-toggler {\n",
        "\tborder-color: #fff;\n",
        "}\n",
        "\n",
        ".section {\n",
        "\tmargin-top: 100px;\n",
        "}\n",
        "\n",
        ".title {\n",
        "\tfont-family: 'Ubuntu', sans-serif;\n",
        "\tline-height: 1.67;\n",
        "\ttext-align: center;\n",
        "\tcolor: #35465d;\n",
        "}\n",
        "\n",
        ".subtitle {\n",
        "\tfont-family: 'Ubuntu', sans-serif;\n",
        "\tline-height: 1.53;\n",
        "\ttext-align: center;\n",
        "\tcolor: #35465d;\n",
        "}\n",
        "\n",
        "/* On screens that are 600px or less, set the background color to olive */\n",
        "@media screen and (max-width: 600px) {\n",
        "  html {\n",
        "    font-size: 10px;\n",
        "  }\n",
        "\t.navbar-brand {\n",
        "\t\tfont-size: 2rem;\n",
        "\t}\n",
        "}\n",
        "\n",
        ".github-link {\n",
        "\tfont-family: 'Ubuntu', sans-serif;\n",
        "\tfont-weight: bolder;\n",
        "\tfont-size: 1.0rem;\n",
        "\tline-height: 1.71;\n",
        "\ttext-align: center;\n",
        "\tcolor: #000000;\n",
        "\ttext-decoration: underline;\n",
        "}\n",
        "\n",
        ".github-link: hover {\n",
        "\tfont-family: 'Ubuntu', sans-serif;\n",
        "\tfont-weight: bolder;\n",
        "\tfont-size: 1.0rem;\n",
        "\tline-height: 1.71;\n",
        "\ttext-align: center;\n",
        "\tcolor: #2fb004;\n",
        "\ttext-decoration: underline;\n",
        "}\n",
        "\n",
        ".INFOODD-icon {\n",
        "\twidth: 10%\n",
        "}\n",
        "\n",
        "\n",
        "\n",
        "\n",
        ".image-upload-wrap {\n",
        "\tobject-fit: contain;\n",
        "\tborder-radius: 10px;\n",
        "\tborder: dashed 1.5px\n",
        "\t\t#35465d;\n",
        "\tbackground-color:\n",
        "\t\t#ffffff;\n",
        "}\n",
        "\n",
        ".image-upload-wrap hover {\n",
        "\tobject-fit: contain;\n",
        "\tborder-radius: 10px;\n",
        "\tborder: dashed 1.5px\n",
        "\t\t#35465d;\n",
        "\tbackground-color:\n",
        "\t\t#35465d;\n",
        "}\n",
        "\n",
        ".upload-text {\n",
        "\twidth: 50%;\n",
        "\tfont-family: 'Ubuntu', sans-serif;\n",
        "\tfont-size: 1.6 rem;\n",
        "\tline-height: 1.53;\n",
        "\ttext-align: center;\n",
        "\tcolor: #35465d;\n",
        "\tmargin: 0 auto;\n",
        "}"
      ],
      "metadata": {
        "id": "maAoN-XZtIJB",
        "colab": {
          "base_uri": "https://localhost:8080/"
        },
        "outputId": "a4bd0078-e02b-46fb-ca53-8ae76f4e282f"
      },
      "execution_count": null,
      "outputs": [
        {
          "output_type": "stream",
          "name": "stdout",
          "text": [
            "Overwriting static/style.css\n"
          ]
        }
      ]
    },
    {
      "cell_type": "markdown",
      "source": [
        "# print.html"
      ],
      "metadata": {
        "id": "gLsFCklBoFQn"
      }
    },
    {
      "cell_type": "code",
      "source": [
        "%%writefile templates/print.html\n",
        "<!DOCTYPE html>\n",
        "<html>\n",
        "\t<head>\n",
        "        <link rel=\"preconnect\" href=\"https://fonts.googleapis.com\" />\n",
        "\t\t<link rel=\"preconnect\" href=\"https://fonts.gstatic.com\" crossorigin />\n",
        "\t\t<link\n",
        "\t\t\thref=\"https://fonts.googleapis.com/css2?family=Ubuntu&display=swap\"\n",
        "\t\t\trel=\"stylesheet\"\n",
        "\t\t/>\n",
        "        \n",
        "        <!-- Required meta tags -->\n",
        "\t\t<meta charset=\"utf-8\" />\n",
        "\t\t<meta name=\"viewport\" content=\"width=device-width, initial-scale=1\" />\n",
        "\n",
        "        <!-- Bootstrap CSS -->\n",
        "\t\t<link\n",
        "        href=\"https://cdn.jsdelivr.net/npm/bootstrap@5.1.3/dist/css/bootstrap.min.css\"\n",
        "        rel=\"stylesheet\"\n",
        "        integrity=\"sha384-1BmE4kWBq78iYhFldvKuhfTAU6auU8tT94WrHftjDbrCEXSU1oBoqyl2QvZ6jIW3\"\n",
        "        crossorigin=\"anonymous\"\n",
        "        />\n",
        "\n",
        "        <title>Nutrition_4</title>\n",
        "        <link rel=\"stylesheet\" href=\"/static/style.css\" />\n",
        "    </head>\n",
        "\t<body>\n",
        "        <form method=\"post\" action=\"/print\" enctype=\"multipart/form-data\">\n",
        "            <section class=\"section\">\n",
        "                <h2 class=\"title\">개인 맞춤형 식단 필터링 서비스</h2>\n",
        "            <center>\n",
        "            \n",
        "            </center>\n",
        "    </body>\n",
        "\t\n",
        "</html>"
      ],
      "metadata": {
        "id": "alkLzpDNoHPA",
        "colab": {
          "base_uri": "https://localhost:8080/"
        },
        "outputId": "86cd574a-fe5f-4981-f5bd-3d70a69f602f"
      },
      "execution_count": null,
      "outputs": [
        {
          "output_type": "stream",
          "name": "stdout",
          "text": [
            "Writing templates/print.html\n"
          ]
        }
      ]
    },
    {
      "cell_type": "markdown",
      "source": [
        "# FastAPI 실행\n",
        "- 연결 가능"
      ],
      "metadata": {
        "id": "cIvhXiOfLAYK"
      }
    },
    {
      "cell_type": "code",
      "source": [
        "from typing import Optional\n",
        "from pydantic import BaseModel"
      ],
      "metadata": {
        "id": "IFtrX2cInheR"
      },
      "execution_count": null,
      "outputs": []
    },
    {
      "cell_type": "code",
      "source": [
        "# FastAPI - 변수설정 및 수정 필요\n",
        "from fastapi.staticfiles import StaticFiles\n",
        "\n",
        "class Item(BaseModel):\n",
        "    img: UploadFile = File(...)\n",
        "    gender: str = Form(...)\n",
        "    ages: int = Form(...)\n",
        "    illness: str = Form(...)\n",
        "\n",
        "app=FastAPI()\n",
        "templates = Jinja2Templates(directory=\"templates\")\n",
        "app.mount('/static', StaticFiles(directory='static'), name='static')\n",
        "app.mount('/img', StaticFiles(directory='img'), name='img')\n",
        "\n",
        "@app.get('/', response_class=HTMLResponse)\n",
        "async def read_page(request: Request):\n",
        "  return templates.TemplateResponse(\"main.html\", {\"request\": request, 'item':Item })\n",
        "\n",
        "@app.post('/print', response_class=HTMLResponse)\n",
        "async def get_page(request: Request):\n",
        "  return templates.TemplateResponse(\"print.html\", {\"request\": request})"
      ],
      "metadata": {
        "id": "HLROcN0zKsvU"
      },
      "execution_count": null,
      "outputs": []
    },
    {
      "cell_type": "code",
      "source": [
        "#ngrok authtoken\n",
        "!ngrok authtoken 26P542M5d2txQcLcbZiAZnJa2Uv_ZWHtNDRbdXZKKnUuFqRQ"
      ],
      "metadata": {
        "id": "MZ847sKCLGIg",
        "colab": {
          "base_uri": "https://localhost:8080/"
        },
        "outputId": "363206be-780c-47a3-e890-d44d12bbff96"
      },
      "execution_count": null,
      "outputs": [
        {
          "output_type": "stream",
          "name": "stdout",
          "text": [
            "Authtoken saved to configuration file: /root/.ngrok2/ngrok.yml\n"
          ]
        }
      ]
    },
    {
      "cell_type": "code",
      "source": [
        "ngrok_tunnel = ngrok.connect(8000)\n",
        "print ('Public URL:', ngrok_tunnel.public_url) \n",
        "nest_asyncio.apply()\n",
        "uvicorn.run(app, host='0.0.0.0', port=8000)"
      ],
      "metadata": {
        "id": "G_jRznyNLKos",
        "colab": {
          "base_uri": "https://localhost:8080/"
        },
        "outputId": "da865e07-8588-42ff-9c8a-d1202b33170a"
      },
      "execution_count": null,
      "outputs": [
        {
          "output_type": "stream",
          "name": "stderr",
          "text": [
            "INFO:     Started server process [63]\n",
            "INFO:     Waiting for application startup.\n",
            "INFO:     Application startup complete.\n",
            "INFO:     Uvicorn running on http://0.0.0.0:8000 (Press CTRL+C to quit)\n"
          ]
        },
        {
          "output_type": "stream",
          "name": "stdout",
          "text": [
            "Public URL: http://b9ba-34-73-227-199.ngrok.io\n",
            "INFO:     49.142.75.97:0 - \"GET / HTTP/1.1\" 500 Internal Server Error\n"
          ]
        },
        {
          "output_type": "stream",
          "name": "stderr",
          "text": [
            "ERROR:    Exception in ASGI application\n",
            "Traceback (most recent call last):\n",
            "  File \"/usr/local/lib/python3.7/dist-packages/uvicorn/protocols/http/h11_impl.py\", line 366, in run_asgi\n",
            "    result = await app(self.scope, self.receive, self.send)\n",
            "  File \"/usr/local/lib/python3.7/dist-packages/uvicorn/middleware/proxy_headers.py\", line 75, in __call__\n",
            "    return await self.app(scope, receive, send)\n",
            "  File \"/usr/local/lib/python3.7/dist-packages/fastapi/applications.py\", line 261, in __call__\n",
            "    await super().__call__(scope, receive, send)\n",
            "  File \"/usr/local/lib/python3.7/dist-packages/starlette/applications.py\", line 112, in __call__\n",
            "    await self.middleware_stack(scope, receive, send)\n",
            "  File \"/usr/local/lib/python3.7/dist-packages/starlette/middleware/errors.py\", line 181, in __call__\n",
            "    raise exc\n",
            "  File \"/usr/local/lib/python3.7/dist-packages/starlette/middleware/errors.py\", line 159, in __call__\n",
            "    await self.app(scope, receive, _send)\n",
            "  File \"/usr/local/lib/python3.7/dist-packages/starlette/exceptions.py\", line 82, in __call__\n",
            "    raise exc\n",
            "  File \"/usr/local/lib/python3.7/dist-packages/starlette/exceptions.py\", line 71, in __call__\n",
            "    await self.app(scope, receive, sender)\n",
            "  File \"/usr/local/lib/python3.7/dist-packages/fastapi/middleware/asyncexitstack.py\", line 21, in __call__\n",
            "    raise e\n",
            "  File \"/usr/local/lib/python3.7/dist-packages/fastapi/middleware/asyncexitstack.py\", line 18, in __call__\n",
            "    await self.app(scope, receive, send)\n",
            "  File \"/usr/local/lib/python3.7/dist-packages/starlette/routing.py\", line 656, in __call__\n",
            "    await route.handle(scope, receive, send)\n",
            "  File \"/usr/local/lib/python3.7/dist-packages/starlette/routing.py\", line 259, in handle\n",
            "    await self.app(scope, receive, send)\n",
            "  File \"/usr/local/lib/python3.7/dist-packages/starlette/routing.py\", line 61, in app\n",
            "    response = await func(request)\n",
            "  File \"/usr/local/lib/python3.7/dist-packages/fastapi/routing.py\", line 228, in app\n",
            "    dependant=dependant, values=values, is_coroutine=is_coroutine\n",
            "  File \"/usr/local/lib/python3.7/dist-packages/fastapi/routing.py\", line 160, in run_endpoint_function\n",
            "    return await dependant.call(**values)\n",
            "  File \"<ipython-input-53-08f311c8f5bf>\", line 17, in read_page\n",
            "    return templates.TemplateResponse(\"main.html\", {\"request\": request, 'item':Item })\n",
            "  File \"/usr/local/lib/python3.7/dist-packages/starlette/templating.py\", line 89, in TemplateResponse\n",
            "    template = self.get_template(name)\n",
            "  File \"/usr/local/lib/python3.7/dist-packages/starlette/templating.py\", line 76, in get_template\n",
            "    return self.env.get_template(name)\n",
            "  File \"/usr/local/lib/python3.7/dist-packages/jinja2/environment.py\", line 883, in get_template\n",
            "    return self._load_template(name, self.make_globals(globals))\n",
            "  File \"/usr/local/lib/python3.7/dist-packages/jinja2/environment.py\", line 857, in _load_template\n",
            "    template = self.loader.load(self, name, globals)\n",
            "  File \"/usr/local/lib/python3.7/dist-packages/jinja2/loaders.py\", line 115, in load\n",
            "    source, filename, uptodate = self.get_source(environment, name)\n",
            "  File \"/usr/local/lib/python3.7/dist-packages/jinja2/loaders.py\", line 197, in get_source\n",
            "    raise TemplateNotFound(template)\n",
            "jinja2.exceptions.TemplateNotFound: main.html\n"
          ]
        },
        {
          "output_type": "stream",
          "name": "stdout",
          "text": [
            "INFO:     49.142.75.97:0 - \"GET /favicon.ico HTTP/1.1\" 404 Not Found\n"
          ]
        },
        {
          "output_type": "stream",
          "name": "stderr",
          "text": [
            "INFO:     Shutting down\n",
            "INFO:     Waiting for application shutdown.\n",
            "INFO:     Application shutdown complete.\n",
            "INFO:     Finished server process [63]\n"
          ]
        }
      ]
    },
    {
      "cell_type": "code",
      "source": [
        ""
      ],
      "metadata": {
        "id": "LsPVnAGOc0RG"
      },
      "execution_count": null,
      "outputs": []
    }
  ]
}