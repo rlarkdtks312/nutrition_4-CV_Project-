{
  "nbformat": 4,
  "nbformat_minor": 0,
  "metadata": {
    "colab": {
      "name": "[3rd]code.ipynb",
      "provenance": [],
      "collapsed_sections": [
        "OSB2Z7gDA2lW",
        "xWcbFFw1ruIb",
        "cLfFIwIzs2ZS",
        "NKkY_jdhBZNu",
        "x7r8hOn_Bn_m",
        "cIvhXiOfLAYK"
      ]
    },
    "kernelspec": {
      "name": "python3",
      "display_name": "Python 3"
    },
    "language_info": {
      "name": "python"
    }
  },
  "cells": [
    {
      "cell_type": "code",
      "execution_count": null,
      "metadata": {
        "colab": {
          "base_uri": "https://localhost:8080/"
        },
        "id": "xMWl0M_g-5dR",
        "outputId": "aad8c6e6-b8e1-4656-b989-30f7d0e2fa8a"
      },
      "outputs": [
        {
          "output_type": "stream",
          "name": "stdout",
          "text": [
            "Mounted at /content/drive\n"
          ]
        }
      ],
      "source": [
        "from google.colab import drive\n",
        "drive.mount('/content/drive')"
      ]
    },
    {
      "cell_type": "code",
      "source": [
        "# 기본 데이터베이스에 해당하는 파일 디렉토리(모델 넣기)\n",
        "!mkdir datafile"
      ],
      "metadata": {
        "colab": {
          "base_uri": "https://localhost:8080/"
        },
        "id": "kPrfQ5oPAtsg",
        "outputId": "65f78b7f-792f-4156-a730-96efa5e5fbf4"
      },
      "execution_count": null,
      "outputs": [
        {
          "output_type": "stream",
          "name": "stdout",
          "text": [
            "mkdir: cannot create directory ‘datafile’: File exists\n"
          ]
        }
      ]
    },
    {
      "cell_type": "code",
      "source": [
        "file_path = './datafile/' # 데이터베이스 path"
      ],
      "metadata": {
        "id": "__zsJoZwBARq"
      },
      "execution_count": null,
      "outputs": []
    },
    {
      "cell_type": "code",
      "source": [
        "# static 디렉토리 생성\n",
        "!mkdir static"
      ],
      "metadata": {
        "colab": {
          "base_uri": "https://localhost:8080/"
        },
        "id": "M3uXrKlYAxBG",
        "outputId": "5fa8eadb-627f-4696-f4de-73d594d242d6"
      },
      "execution_count": null,
      "outputs": [
        {
          "output_type": "stream",
          "name": "stdout",
          "text": [
            "mkdir: cannot create directory ‘static’: File exists\n"
          ]
        }
      ]
    },
    {
      "cell_type": "markdown",
      "source": [
        "- datafile 에 학습모델, 분류파일 넣기"
      ],
      "metadata": {
        "id": "k67dxHewdBVh"
      }
    },
    {
      "cell_type": "code",
      "source": [
        "# 임포트\n",
        "import numpy as np\n",
        "import pandas as pd"
      ],
      "metadata": {
        "id": "zyLm69gjAyl6"
      },
      "execution_count": null,
      "outputs": []
    },
    {
      "cell_type": "markdown",
      "source": [
        "# 모델 =====\n",
        "- 모델 불러오기"
      ],
      "metadata": {
        "id": "OSB2Z7gDA2lW"
      }
    },
    {
      "cell_type": "code",
      "source": [
        "# 모델 임포트\n"
      ],
      "metadata": {
        "id": "467hcpT0A2aa"
      },
      "execution_count": null,
      "outputs": []
    },
    {
      "cell_type": "code",
      "source": [
        "# 모델 로드\n"
      ],
      "metadata": {
        "id": "bvl4Zp_GBALK"
      },
      "execution_count": null,
      "outputs": []
    },
    {
      "cell_type": "markdown",
      "source": [
        "# 이미지 모듈 ====="
      ],
      "metadata": {
        "id": "xWcbFFw1ruIb"
      }
    },
    {
      "cell_type": "code",
      "source": [
        "# 추가 모듈 임포트\n",
        "import json\n",
        "from PIL import Image"
      ],
      "metadata": {
        "id": "L21wLSWLBABG"
      },
      "execution_count": null,
      "outputs": []
    },
    {
      "cell_type": "code",
      "source": [
        "img_path = './image/'"
      ],
      "metadata": {
        "id": "d41eBkajBJ_N"
      },
      "execution_count": null,
      "outputs": []
    },
    {
      "cell_type": "markdown",
      "source": [
        "# 이미지 Predict ====="
      ],
      "metadata": {
        "id": "cLfFIwIzs2ZS"
      }
    },
    {
      "cell_type": "code",
      "source": [
        "# 추출된 인덱스 값 1\n",
        "# 인덱스의 라벨 값 2"
      ],
      "metadata": {
        "id": "hCRFtWFABMer"
      },
      "execution_count": null,
      "outputs": []
    },
    {
      "cell_type": "markdown",
      "source": [
        "# 데이터 =====\n",
        "- 영양정보 DB 가져오기"
      ],
      "metadata": {
        "id": "yvMBKfr8BNP9"
      }
    },
    {
      "cell_type": "code",
      "source": [
        "DATA = pd.read_excel(file_path+'음식분류 AI 데이터 영양DB.xlsx', index_col='음 식 명')\n",
        "DATA"
      ],
      "metadata": {
        "colab": {
          "base_uri": "https://localhost:8080/",
          "height": 551
        },
        "id": "CF1I7qnXBTlz",
        "outputId": "485b42b1-1582-4201-ed17-d912561c749f"
      },
      "execution_count": null,
      "outputs": [
        {
          "output_type": "execute_result",
          "data": {
            "text/plain": [
              "       중량(g)  에너지(kcal)    탄수화물(g)      당류(g)    지방(g)    단백질(g)   칼슘(mg)  \\\n",
              "음 식 명                                                                       \n",
              "쌀밥     210.0   334.8000   73.71000   0.000000  0.45000   5.76000      3.6   \n",
              "기타잡곡밥  200.0   302.3620   65.52110   0.000000  0.74620   6.70920    12.06   \n",
              "콩밥     200.0   322.9000   65.84600   0.000000  1.66600   8.42800     24.7   \n",
              "보리밥    200.0   316.1000   70.57000   0.000000  0.14000   5.55000      6.7   \n",
              "돌솥밥    350.0   528.8550  101.85000   0.000000  8.34700  10.18700   61.455   \n",
              "...      ...        ...        ...        ...      ...       ...      ...   \n",
              "다식      30.0   105.1665   20.81070   6.455700  1.72860   3.54630   1.4274   \n",
              "약과      30.0   113.8494   22.18320   2.151900  1.23870   2.57400    4.449   \n",
              "유과      30.0   129.0600   24.13650   1.120950  3.50400   0.36090   1.2084   \n",
              "산자      30.0   121.6985   24.70195  10.632825  1.19665   0.91035  2.00165   \n",
              "깨강정     30.0   150.3000   13.62000   0.000000  9.87000   4.50000      156   \n",
              "\n",
              "          인(mg)    나트륨(mg)    칼륨(mg) 마그네슘(mg)   철(mg)   아연(mg)  콜레스테롤(mg)  \\\n",
              "음 식 명                                                                       \n",
              "쌀밥          126   59.40000     146.7        -    0.36     1.35      0.000   \n",
              "기타잡곡밥   117.836    3.39200   166.718      6.9  1.7447   1.8264      0.000   \n",
              "콩밥        126.9    4.10000     258.4     22.5    1.74     1.61      0.000   \n",
              "보리밥        68.8    4.50000     100.6        0    1.26     1.41      0.000   \n",
              "돌솥밥      193.72  618.31500    624.32   57.785   3.321    2.582      2.365   \n",
              "...         ...        ...       ...      ...     ...      ...        ...   \n",
              "다식     100.0665    3.84900  206.7144        -  0.5175   0.0411      0.000   \n",
              "약과        28.23   16.45980   59.4219        -  0.5661   0.1431      0.000   \n",
              "유과          3.6    7.05540    0.0285        -    0.24   0.1968      0.000   \n",
              "산자     20.36125    8.01255   60.9266        -  0.4053  0.27195      0.000   \n",
              "깨강정       125.7   24.30000      67.5        0    1.38     2.13      0.000   \n",
              "\n",
              "       트랜스지방(g)  \n",
              "음 식 명            \n",
              "쌀밥            0  \n",
              "기타잡곡밥         0  \n",
              "콩밥            0  \n",
              "보리밥           0  \n",
              "돌솥밥           0  \n",
              "...         ...  \n",
              "다식            0  \n",
              "약과            0  \n",
              "유과            0  \n",
              "산자            0  \n",
              "깨강정           0  \n",
              "\n",
              "[400 rows x 15 columns]"
            ],
            "text/html": [
              "\n",
              "  <div id=\"df-24d913f4-863e-40db-9588-6d5b7869127d\">\n",
              "    <div class=\"colab-df-container\">\n",
              "      <div>\n",
              "<style scoped>\n",
              "    .dataframe tbody tr th:only-of-type {\n",
              "        vertical-align: middle;\n",
              "    }\n",
              "\n",
              "    .dataframe tbody tr th {\n",
              "        vertical-align: top;\n",
              "    }\n",
              "\n",
              "    .dataframe thead th {\n",
              "        text-align: right;\n",
              "    }\n",
              "</style>\n",
              "<table border=\"1\" class=\"dataframe\">\n",
              "  <thead>\n",
              "    <tr style=\"text-align: right;\">\n",
              "      <th></th>\n",
              "      <th>중량(g)</th>\n",
              "      <th>에너지(kcal)</th>\n",
              "      <th>탄수화물(g)</th>\n",
              "      <th>당류(g)</th>\n",
              "      <th>지방(g)</th>\n",
              "      <th>단백질(g)</th>\n",
              "      <th>칼슘(mg)</th>\n",
              "      <th>인(mg)</th>\n",
              "      <th>나트륨(mg)</th>\n",
              "      <th>칼륨(mg)</th>\n",
              "      <th>마그네슘(mg)</th>\n",
              "      <th>철(mg)</th>\n",
              "      <th>아연(mg)</th>\n",
              "      <th>콜레스테롤(mg)</th>\n",
              "      <th>트랜스지방(g)</th>\n",
              "    </tr>\n",
              "    <tr>\n",
              "      <th>음 식 명</th>\n",
              "      <th></th>\n",
              "      <th></th>\n",
              "      <th></th>\n",
              "      <th></th>\n",
              "      <th></th>\n",
              "      <th></th>\n",
              "      <th></th>\n",
              "      <th></th>\n",
              "      <th></th>\n",
              "      <th></th>\n",
              "      <th></th>\n",
              "      <th></th>\n",
              "      <th></th>\n",
              "      <th></th>\n",
              "      <th></th>\n",
              "    </tr>\n",
              "  </thead>\n",
              "  <tbody>\n",
              "    <tr>\n",
              "      <th>쌀밥</th>\n",
              "      <td>210.0</td>\n",
              "      <td>334.8000</td>\n",
              "      <td>73.71000</td>\n",
              "      <td>0.000000</td>\n",
              "      <td>0.45000</td>\n",
              "      <td>5.76000</td>\n",
              "      <td>3.6</td>\n",
              "      <td>126</td>\n",
              "      <td>59.40000</td>\n",
              "      <td>146.7</td>\n",
              "      <td>-</td>\n",
              "      <td>0.36</td>\n",
              "      <td>1.35</td>\n",
              "      <td>0.000</td>\n",
              "      <td>0</td>\n",
              "    </tr>\n",
              "    <tr>\n",
              "      <th>기타잡곡밥</th>\n",
              "      <td>200.0</td>\n",
              "      <td>302.3620</td>\n",
              "      <td>65.52110</td>\n",
              "      <td>0.000000</td>\n",
              "      <td>0.74620</td>\n",
              "      <td>6.70920</td>\n",
              "      <td>12.06</td>\n",
              "      <td>117.836</td>\n",
              "      <td>3.39200</td>\n",
              "      <td>166.718</td>\n",
              "      <td>6.9</td>\n",
              "      <td>1.7447</td>\n",
              "      <td>1.8264</td>\n",
              "      <td>0.000</td>\n",
              "      <td>0</td>\n",
              "    </tr>\n",
              "    <tr>\n",
              "      <th>콩밥</th>\n",
              "      <td>200.0</td>\n",
              "      <td>322.9000</td>\n",
              "      <td>65.84600</td>\n",
              "      <td>0.000000</td>\n",
              "      <td>1.66600</td>\n",
              "      <td>8.42800</td>\n",
              "      <td>24.7</td>\n",
              "      <td>126.9</td>\n",
              "      <td>4.10000</td>\n",
              "      <td>258.4</td>\n",
              "      <td>22.5</td>\n",
              "      <td>1.74</td>\n",
              "      <td>1.61</td>\n",
              "      <td>0.000</td>\n",
              "      <td>0</td>\n",
              "    </tr>\n",
              "    <tr>\n",
              "      <th>보리밥</th>\n",
              "      <td>200.0</td>\n",
              "      <td>316.1000</td>\n",
              "      <td>70.57000</td>\n",
              "      <td>0.000000</td>\n",
              "      <td>0.14000</td>\n",
              "      <td>5.55000</td>\n",
              "      <td>6.7</td>\n",
              "      <td>68.8</td>\n",
              "      <td>4.50000</td>\n",
              "      <td>100.6</td>\n",
              "      <td>0</td>\n",
              "      <td>1.26</td>\n",
              "      <td>1.41</td>\n",
              "      <td>0.000</td>\n",
              "      <td>0</td>\n",
              "    </tr>\n",
              "    <tr>\n",
              "      <th>돌솥밥</th>\n",
              "      <td>350.0</td>\n",
              "      <td>528.8550</td>\n",
              "      <td>101.85000</td>\n",
              "      <td>0.000000</td>\n",
              "      <td>8.34700</td>\n",
              "      <td>10.18700</td>\n",
              "      <td>61.455</td>\n",
              "      <td>193.72</td>\n",
              "      <td>618.31500</td>\n",
              "      <td>624.32</td>\n",
              "      <td>57.785</td>\n",
              "      <td>3.321</td>\n",
              "      <td>2.582</td>\n",
              "      <td>2.365</td>\n",
              "      <td>0</td>\n",
              "    </tr>\n",
              "    <tr>\n",
              "      <th>...</th>\n",
              "      <td>...</td>\n",
              "      <td>...</td>\n",
              "      <td>...</td>\n",
              "      <td>...</td>\n",
              "      <td>...</td>\n",
              "      <td>...</td>\n",
              "      <td>...</td>\n",
              "      <td>...</td>\n",
              "      <td>...</td>\n",
              "      <td>...</td>\n",
              "      <td>...</td>\n",
              "      <td>...</td>\n",
              "      <td>...</td>\n",
              "      <td>...</td>\n",
              "      <td>...</td>\n",
              "    </tr>\n",
              "    <tr>\n",
              "      <th>다식</th>\n",
              "      <td>30.0</td>\n",
              "      <td>105.1665</td>\n",
              "      <td>20.81070</td>\n",
              "      <td>6.455700</td>\n",
              "      <td>1.72860</td>\n",
              "      <td>3.54630</td>\n",
              "      <td>1.4274</td>\n",
              "      <td>100.0665</td>\n",
              "      <td>3.84900</td>\n",
              "      <td>206.7144</td>\n",
              "      <td>-</td>\n",
              "      <td>0.5175</td>\n",
              "      <td>0.0411</td>\n",
              "      <td>0.000</td>\n",
              "      <td>0</td>\n",
              "    </tr>\n",
              "    <tr>\n",
              "      <th>약과</th>\n",
              "      <td>30.0</td>\n",
              "      <td>113.8494</td>\n",
              "      <td>22.18320</td>\n",
              "      <td>2.151900</td>\n",
              "      <td>1.23870</td>\n",
              "      <td>2.57400</td>\n",
              "      <td>4.449</td>\n",
              "      <td>28.23</td>\n",
              "      <td>16.45980</td>\n",
              "      <td>59.4219</td>\n",
              "      <td>-</td>\n",
              "      <td>0.5661</td>\n",
              "      <td>0.1431</td>\n",
              "      <td>0.000</td>\n",
              "      <td>0</td>\n",
              "    </tr>\n",
              "    <tr>\n",
              "      <th>유과</th>\n",
              "      <td>30.0</td>\n",
              "      <td>129.0600</td>\n",
              "      <td>24.13650</td>\n",
              "      <td>1.120950</td>\n",
              "      <td>3.50400</td>\n",
              "      <td>0.36090</td>\n",
              "      <td>1.2084</td>\n",
              "      <td>3.6</td>\n",
              "      <td>7.05540</td>\n",
              "      <td>0.0285</td>\n",
              "      <td>-</td>\n",
              "      <td>0.24</td>\n",
              "      <td>0.1968</td>\n",
              "      <td>0.000</td>\n",
              "      <td>0</td>\n",
              "    </tr>\n",
              "    <tr>\n",
              "      <th>산자</th>\n",
              "      <td>30.0</td>\n",
              "      <td>121.6985</td>\n",
              "      <td>24.70195</td>\n",
              "      <td>10.632825</td>\n",
              "      <td>1.19665</td>\n",
              "      <td>0.91035</td>\n",
              "      <td>2.00165</td>\n",
              "      <td>20.36125</td>\n",
              "      <td>8.01255</td>\n",
              "      <td>60.9266</td>\n",
              "      <td>-</td>\n",
              "      <td>0.4053</td>\n",
              "      <td>0.27195</td>\n",
              "      <td>0.000</td>\n",
              "      <td>0</td>\n",
              "    </tr>\n",
              "    <tr>\n",
              "      <th>깨강정</th>\n",
              "      <td>30.0</td>\n",
              "      <td>150.3000</td>\n",
              "      <td>13.62000</td>\n",
              "      <td>0.000000</td>\n",
              "      <td>9.87000</td>\n",
              "      <td>4.50000</td>\n",
              "      <td>156</td>\n",
              "      <td>125.7</td>\n",
              "      <td>24.30000</td>\n",
              "      <td>67.5</td>\n",
              "      <td>0</td>\n",
              "      <td>1.38</td>\n",
              "      <td>2.13</td>\n",
              "      <td>0.000</td>\n",
              "      <td>0</td>\n",
              "    </tr>\n",
              "  </tbody>\n",
              "</table>\n",
              "<p>400 rows × 15 columns</p>\n",
              "</div>\n",
              "      <button class=\"colab-df-convert\" onclick=\"convertToInteractive('df-24d913f4-863e-40db-9588-6d5b7869127d')\"\n",
              "              title=\"Convert this dataframe to an interactive table.\"\n",
              "              style=\"display:none;\">\n",
              "        \n",
              "  <svg xmlns=\"http://www.w3.org/2000/svg\" height=\"24px\"viewBox=\"0 0 24 24\"\n",
              "       width=\"24px\">\n",
              "    <path d=\"M0 0h24v24H0V0z\" fill=\"none\"/>\n",
              "    <path d=\"M18.56 5.44l.94 2.06.94-2.06 2.06-.94-2.06-.94-.94-2.06-.94 2.06-2.06.94zm-11 1L8.5 8.5l.94-2.06 2.06-.94-2.06-.94L8.5 2.5l-.94 2.06-2.06.94zm10 10l.94 2.06.94-2.06 2.06-.94-2.06-.94-.94-2.06-.94 2.06-2.06.94z\"/><path d=\"M17.41 7.96l-1.37-1.37c-.4-.4-.92-.59-1.43-.59-.52 0-1.04.2-1.43.59L10.3 9.45l-7.72 7.72c-.78.78-.78 2.05 0 2.83L4 21.41c.39.39.9.59 1.41.59.51 0 1.02-.2 1.41-.59l7.78-7.78 2.81-2.81c.8-.78.8-2.07 0-2.86zM5.41 20L4 18.59l7.72-7.72 1.47 1.35L5.41 20z\"/>\n",
              "  </svg>\n",
              "      </button>\n",
              "      \n",
              "  <style>\n",
              "    .colab-df-container {\n",
              "      display:flex;\n",
              "      flex-wrap:wrap;\n",
              "      gap: 12px;\n",
              "    }\n",
              "\n",
              "    .colab-df-convert {\n",
              "      background-color: #E8F0FE;\n",
              "      border: none;\n",
              "      border-radius: 50%;\n",
              "      cursor: pointer;\n",
              "      display: none;\n",
              "      fill: #1967D2;\n",
              "      height: 32px;\n",
              "      padding: 0 0 0 0;\n",
              "      width: 32px;\n",
              "    }\n",
              "\n",
              "    .colab-df-convert:hover {\n",
              "      background-color: #E2EBFA;\n",
              "      box-shadow: 0px 1px 2px rgba(60, 64, 67, 0.3), 0px 1px 3px 1px rgba(60, 64, 67, 0.15);\n",
              "      fill: #174EA6;\n",
              "    }\n",
              "\n",
              "    [theme=dark] .colab-df-convert {\n",
              "      background-color: #3B4455;\n",
              "      fill: #D2E3FC;\n",
              "    }\n",
              "\n",
              "    [theme=dark] .colab-df-convert:hover {\n",
              "      background-color: #434B5C;\n",
              "      box-shadow: 0px 1px 3px 1px rgba(0, 0, 0, 0.15);\n",
              "      filter: drop-shadow(0px 1px 2px rgba(0, 0, 0, 0.3));\n",
              "      fill: #FFFFFF;\n",
              "    }\n",
              "  </style>\n",
              "\n",
              "      <script>\n",
              "        const buttonEl =\n",
              "          document.querySelector('#df-24d913f4-863e-40db-9588-6d5b7869127d button.colab-df-convert');\n",
              "        buttonEl.style.display =\n",
              "          google.colab.kernel.accessAllowed ? 'block' : 'none';\n",
              "\n",
              "        async function convertToInteractive(key) {\n",
              "          const element = document.querySelector('#df-24d913f4-863e-40db-9588-6d5b7869127d');\n",
              "          const dataTable =\n",
              "            await google.colab.kernel.invokeFunction('convertToInteractive',\n",
              "                                                     [key], {});\n",
              "          if (!dataTable) return;\n",
              "\n",
              "          const docLinkHtml = 'Like what you see? Visit the ' +\n",
              "            '<a target=\"_blank\" href=https://colab.research.google.com/notebooks/data_table.ipynb>data table notebook</a>'\n",
              "            + ' to learn more about interactive tables.';\n",
              "          element.innerHTML = '';\n",
              "          dataTable['output_type'] = 'display_data';\n",
              "          await google.colab.output.renderOutput(dataTable, element);\n",
              "          const docLink = document.createElement('div');\n",
              "          docLink.innerHTML = docLinkHtml;\n",
              "          element.appendChild(docLink);\n",
              "        }\n",
              "      </script>\n",
              "    </div>\n",
              "  </div>\n",
              "  "
            ]
          },
          "metadata": {},
          "execution_count": 14
        }
      ]
    },
    {
      "cell_type": "markdown",
      "source": [
        "# 영양성분정보 추출 함수 ====="
      ],
      "metadata": {
        "id": "Ca6uaXbEBYs3"
      }
    },
    {
      "cell_type": "code",
      "source": [
        "# 음식명별 영양성분 정보\n",
        "Nutrition = {'중량': ['중량(g)'],\n",
        "             '성분': ['에너지(kcal)','탄수화물(g)','당류(g)','지방(g)','단백질(g)','칼슘(mg)','인(mg)','나트륨(mg)','칼륨(mg)','마그네슘(mg)','철(mg)','아연(mg)','콜레스테롤(mg)','트랜스지방(g)']\n",
        "             }"
      ],
      "metadata": {
        "id": "W7gp6E47tr-S"
      },
      "execution_count": null,
      "outputs": []
    },
    {
      "cell_type": "code",
      "source": [
        "names = ['곤드레밥', '라면']"
      ],
      "metadata": {
        "id": "WSf_WZzZ4EJL"
      },
      "execution_count": null,
      "outputs": []
    },
    {
      "cell_type": "code",
      "source": [
        "names = ['곤드레밥', 'fkaus']"
      ],
      "metadata": {
        "id": "yZ_hwLHAJ9U8"
      },
      "execution_count": null,
      "outputs": []
    },
    {
      "cell_type": "code",
      "source": [
        "names = ['ㅇㅇ', 'fkaus']"
      ],
      "metadata": {
        "id": "jrog_dKhVT8W"
      },
      "execution_count": null,
      "outputs": []
    },
    {
      "cell_type": "code",
      "source": [
        "# 음식명에 따른 영양성분 출력 함수 정의\n",
        "def nutrition_info(names):\n",
        "    food_name = []\n",
        "    food_name_x = []\n",
        "    food_info = {}\n",
        "    for name in names:\n",
        "        if name in DATA.index:\n",
        "            food_name.append(name)\n",
        "            food_info[name] = dict(DATA.loc[name][Nutrition['성분']])\n",
        "        else:\n",
        "            food_name_x.append(name)\n",
        "            a = '없는 정보:', food_name_x\n",
        "\n",
        "    if food_name_x == []:\n",
        "        return food_name, food_info\n",
        "    elif food_name == []:\n",
        "        print(a)\n",
        "        return food_name_x\n",
        "    else:\n",
        "        print(a)\n",
        "        return food_name, food_info"
      ],
      "metadata": {
        "id": "05fc7CLNFc2v"
      },
      "execution_count": null,
      "outputs": []
    },
    {
      "cell_type": "code",
      "source": [
        "nutrition_info(names)"
      ],
      "metadata": {
        "colab": {
          "base_uri": "https://localhost:8080/"
        },
        "id": "NWimv7QizBlx",
        "outputId": "992931df-d6c3-4f4e-b6b3-9cf6201ed5bc"
      },
      "execution_count": null,
      "outputs": [
        {
          "output_type": "stream",
          "name": "stdout",
          "text": [
            "('없는 정보:', ['ㅇㅇ', 'fkaus'])\n"
          ]
        },
        {
          "output_type": "execute_result",
          "data": {
            "text/plain": [
              "['ㅇㅇ', 'fkaus']"
            ]
          },
          "metadata": {},
          "execution_count": 223
        }
      ]
    },
    {
      "cell_type": "markdown",
      "source": [
        "# 권장섭취량 판별 함수 ====="
      ],
      "metadata": {
        "id": "NKkY_jdhBZNu"
      }
    },
    {
      "cell_type": "code",
      "source": [
        "# 권장섭취량 DB\n",
        "DATA2 = pd.read_excel(file_path+'=====.xlsx', index_col='=====')"
      ],
      "metadata": {
        "id": "gmjFn8NbBd2G"
      },
      "execution_count": null,
      "outputs": []
    },
    {
      "cell_type": "code",
      "source": [
        "# 추출된 값이 권장섭취량 이상인 경우 경고하는 함수 정의\n",
        "def warning(name):\n",
        "    warn_ment = str('경고')\n",
        "    # a\n",
        "    try:\n",
        "        a\n",
        "        result\n",
        "    except:\n",
        "        pass  \n",
        "\n",
        "    # 예측값에서 가져온 영양성분(총합)이 권장섭취량보다 높은지 확인\n",
        "    if a >= db:\n",
        "      return result\n",
        "    else:\n",
        "      return result"
      ],
      "metadata": {
        "id": "1ycg2_DBBi8h"
      },
      "execution_count": null,
      "outputs": []
    },
    {
      "cell_type": "markdown",
      "source": [
        "# FASTAPI 연결 ====="
      ],
      "metadata": {
        "id": "x7r8hOn_Bn_m"
      }
    },
    {
      "cell_type": "code",
      "source": [
        "!pip install fastapi nest-asyncio pyngrok uvicorn aiofiles python-multipart"
      ],
      "metadata": {
        "id": "gpdvnVwjB3p5"
      },
      "execution_count": null,
      "outputs": []
    },
    {
      "cell_type": "code",
      "source": [
        "# 모듈 임포트\n",
        "from fastapi import FastAPI, Request, Form, File, UploadFile\n",
        "from fastapi.responses import HTMLResponse\n",
        "from fastapi.staticfiles import StaticFiles\n",
        "from fastapi.templating import Jinja2Templates\n",
        "import nest_asyncio\n",
        "from pyngrok import ngrok\n",
        "\n",
        "import uvicorn"
      ],
      "metadata": {
        "id": "rz7B5Wn1CAvK"
      },
      "execution_count": null,
      "outputs": []
    },
    {
      "cell_type": "code",
      "source": [
        "# API 화면 출력용 html 작성\n"
      ],
      "metadata": {
        "id": "RwVwQvNGCBXD"
      },
      "execution_count": null,
      "outputs": []
    },
    {
      "cell_type": "code",
      "source": [
        "# 템플릿 디렉토리 생성\n",
        "!mkdir templates"
      ],
      "metadata": {
        "id": "vbmenvFOfPBg"
      },
      "execution_count": null,
      "outputs": []
    },
    {
      "cell_type": "markdown",
      "source": [
        "- templates 디렉토리에 index.html / result.html 파일 넣기\n",
        "- static 디렉토리에 style.css 파일 넣기"
      ],
      "metadata": {
        "id": "CZTqAm4GKwtn"
      }
    },
    {
      "cell_type": "markdown",
      "source": [
        "# API 실행"
      ],
      "metadata": {
        "id": "cIvhXiOfLAYK"
      }
    },
    {
      "cell_type": "code",
      "source": [
        "# FastAPI\n",
        "from fastapi.staticfiles import StaticFiles\n",
        "\n",
        "app=FastAPI()\n",
        "templates = Jinja2Templates(directory=\"templates\")\n",
        "app.mount('/static', StaticFiles(directory='static'), name='static')\n",
        "\n",
        "@app.get('/', response_class=HTMLResponse)\n",
        "async def read_page(request: Request):\n",
        "  return templates.TemplateResponse(\"index.html\", {\"request\": request})\n",
        "\n",
        "@app.post('/topic', response_class=HTMLResponse)\n",
        "async def get_page(request: Request, img: UploadFile = File(...), lng: str = Form(...)):\n",
        "  return templates.TemplateResponse(\"result.html\", {\"request\": request})           "
      ],
      "metadata": {
        "id": "HLROcN0zKsvU"
      },
      "execution_count": null,
      "outputs": []
    },
    {
      "cell_type": "code",
      "source": [
        "#ngrok authtoken\n",
        "!ngrok authtoken ====="
      ],
      "metadata": {
        "id": "MZ847sKCLGIg"
      },
      "execution_count": null,
      "outputs": []
    },
    {
      "cell_type": "code",
      "source": [
        "ngrok_tunnel = ngrok.connect(8000)\n",
        "print ('Public URL:', ngrok_tunnel.public_url) \n",
        "nest_asyncio.apply()\n",
        "uvicorn.run(app, host='0.0.0.0', port=8000)"
      ],
      "metadata": {
        "id": "G_jRznyNLKos"
      },
      "execution_count": null,
      "outputs": []
    }
  ]
}