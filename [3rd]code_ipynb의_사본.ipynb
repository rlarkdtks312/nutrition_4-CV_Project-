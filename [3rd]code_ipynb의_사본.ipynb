{
  "cells": [
    {
      "cell_type": "markdown",
      "metadata": {
        "id": "view-in-github",
        "colab_type": "text"
      },
      "source": [
        "<a href=\"https://colab.research.google.com/github/rlarkdtks312/nutrition_4_team/blob/master/%5B3rd%5Dcode_ipynb%EC%9D%98_%EC%82%AC%EB%B3%B8.ipynb\" target=\"_parent\"><img src=\"https://colab.research.google.com/assets/colab-badge.svg\" alt=\"Open In Colab\"/></a>"
      ]
    },
    {
      "cell_type": "code",
      "execution_count": 11,
      "metadata": {
        "colab": {
          "base_uri": "https://localhost:8080/"
        },
        "id": "xMWl0M_g-5dR",
        "outputId": "ff1def41-7609-4f94-824b-ebdadb79c6d0"
      },
      "outputs": [
        {
          "output_type": "stream",
          "name": "stdout",
          "text": [
            "Mounted at /content/drive\n"
          ]
        }
      ],
      "source": [
        "from google.colab import drive\n",
        "drive.mount('/content/drive')"
      ]
    },
    {
      "cell_type": "markdown",
      "metadata": {
        "id": "SAyV0-qfBIo-"
      },
      "source": [
        "# SQLite"
      ]
    },
    {
      "cell_type": "code",
      "execution_count": 12,
      "metadata": {
        "colab": {
          "base_uri": "https://localhost:8080/"
        },
        "id": "ClMJ6cYnBIOZ",
        "outputId": "c3c0db59-6206-4faf-b4f9-9d9c3ecf50c7"
      },
      "outputs": [
        {
          "output_type": "stream",
          "name": "stdout",
          "text": [
            "Reading package lists... Done\n",
            "Building dependency tree       \n",
            "Reading state information... Done\n",
            "sqlite3 is already the newest version (3.22.0-1ubuntu0.4).\n",
            "0 upgraded, 0 newly installed, 0 to remove and 39 not upgraded.\n"
          ]
        }
      ],
      "source": [
        "!apt install sqlite3"
      ]
    },
    {
      "cell_type": "code",
      "source": [
        "import sqlite3"
      ],
      "metadata": {
        "id": "9qzZOW_mZoIk"
      },
      "execution_count": 13,
      "outputs": []
    },
    {
      "cell_type": "markdown",
      "metadata": {
        "id": "OONLumKYpz-m"
      },
      "source": [
        "# 폴더(path) 생성"
      ]
    },
    {
      "cell_type": "code",
      "execution_count": 14,
      "metadata": {
        "id": "kPrfQ5oPAtsg"
      },
      "outputs": [],
      "source": [
        "# 기본 데이터베이스에 해당하는 파일 디렉토리(모델 넣기)\n",
        "!mkdir datafile"
      ]
    },
    {
      "cell_type": "markdown",
      "metadata": {
        "id": "k67dxHewdBVh"
      },
      "source": [
        "- datafile 에 학습모델, 분류파일 넣기"
      ]
    },
    {
      "cell_type": "code",
      "execution_count": 15,
      "metadata": {
        "id": "vbmenvFOfPBg"
      },
      "outputs": [],
      "source": [
        "# 템플릿 디렉토리 생성\n",
        "!mkdir templates"
      ]
    },
    {
      "cell_type": "code",
      "execution_count": 16,
      "metadata": {
        "id": "M3uXrKlYAxBG"
      },
      "outputs": [],
      "source": [
        "# static 디렉토리 생성\n",
        "!mkdir static"
      ]
    },
    {
      "cell_type": "code",
      "execution_count": 17,
      "metadata": {
        "id": "JCcmJ2UpcgJ3"
      },
      "outputs": [],
      "source": [
        "# img 디렉토리 생성\n",
        "!mkdir img"
      ]
    },
    {
      "cell_type": "markdown",
      "metadata": {
        "id": "CZTqAm4GKwtn"
      },
      "source": [
        "- templates 디렉토리에 main.html / result.html 파일 넣기\n",
        "- img 디렉토리에 사용image(png/svg등) 넣기\n",
        "- static 디렉토리에 style.css 파일 넣기"
      ]
    },
    {
      "cell_type": "code",
      "execution_count": 18,
      "metadata": {
        "id": "__zsJoZwBARq"
      },
      "outputs": [],
      "source": [
        "file_path = './datafile/' # 데이터베이스 path"
      ]
    },
    {
      "cell_type": "markdown",
      "metadata": {
        "id": "KlNJys0xqMHO"
      },
      "source": [
        "# 기본모듈(pd/np) 임포트"
      ]
    },
    {
      "cell_type": "code",
      "execution_count": 19,
      "metadata": {
        "id": "zyLm69gjAyl6"
      },
      "outputs": [],
      "source": [
        "import numpy as np\n",
        "import pandas as pd"
      ]
    },
    {
      "cell_type": "markdown",
      "metadata": {
        "id": "OSB2Z7gDA2lW"
      },
      "source": [
        "# 모델 =====\n",
        "- 모델 불러오기"
      ]
    },
    {
      "cell_type": "code",
      "execution_count": null,
      "metadata": {
        "id": "467hcpT0A2aa"
      },
      "outputs": [],
      "source": [
        "# 모델 임포트\n"
      ]
    },
    {
      "cell_type": "code",
      "execution_count": null,
      "metadata": {
        "id": "bvl4Zp_GBALK"
      },
      "outputs": [],
      "source": [
        "# 모델 로드\n"
      ]
    },
    {
      "cell_type": "markdown",
      "metadata": {
        "id": "xWcbFFw1ruIb"
      },
      "source": [
        "# 이미지 모듈 ====="
      ]
    },
    {
      "cell_type": "code",
      "execution_count": 20,
      "metadata": {
        "id": "L21wLSWLBABG"
      },
      "outputs": [],
      "source": [
        "# 추가 모듈 임포트\n",
        "import json\n",
        "from PIL import Image"
      ]
    },
    {
      "cell_type": "code",
      "execution_count": 21,
      "metadata": {
        "id": "d41eBkajBJ_N"
      },
      "outputs": [],
      "source": [
        "img_path = './image/'"
      ]
    },
    {
      "cell_type": "markdown",
      "metadata": {
        "id": "cLfFIwIzs2ZS"
      },
      "source": [
        "# 이미지 Predict ====="
      ]
    },
    {
      "cell_type": "code",
      "execution_count": null,
      "metadata": {
        "id": "hCRFtWFABMer"
      },
      "outputs": [],
      "source": [
        "# 추출된 인덱스 값 1\n",
        "# 인덱스의 라벨 값 2"
      ]
    },
    {
      "cell_type": "markdown",
      "metadata": {
        "id": "yvMBKfr8BNP9"
      },
      "source": [
        "# 데이터 =====\n",
        "- 영양정보 DB 가져오기"
      ]
    },
    {
      "cell_type": "code",
      "execution_count": 22,
      "metadata": {
        "colab": {
          "base_uri": "https://localhost:8080/",
          "height": 620
        },
        "id": "CF1I7qnXBTlz",
        "outputId": "e8e3f24f-a7f7-4fa0-95ae-859a2b0fcbcb"
      },
      "outputs": [
        {
          "output_type": "execute_result",
          "data": {
            "text/plain": [
              "       중량(g)  에너지(kcal)  탄수화물(g)  당류(g)  지방(g)  단백질(g)  칼슘(mg)   인(mg)  \\\n",
              "음식명                                                                      \n",
              "쌀밥     210.0     334.80    73.71   0.00   0.45    5.76    3.60  126.00   \n",
              "기타잡곡밥  200.0     302.36    65.52   0.00   0.75    6.71   12.06  117.84   \n",
              "콩밥     200.0     322.90    65.85   0.00   1.67    8.43   24.70  126.90   \n",
              "보리밥    200.0     316.10    70.57   0.00   0.14    5.55    6.70   68.80   \n",
              "돌솥밥    350.0     528.86   101.85   0.00   8.35   10.19   61.46  193.72   \n",
              "...      ...        ...      ...    ...    ...     ...     ...     ...   \n",
              "다식      30.0     105.17    20.81   6.46   1.73    3.55    1.43  100.07   \n",
              "약과      30.0     113.85    22.18   2.15   1.24    2.57    4.45   28.23   \n",
              "유과      30.0     129.06    24.14   1.12   3.50    0.36    1.21    3.60   \n",
              "산자      30.0     121.70    24.70  10.63   1.20    0.91    2.00   20.36   \n",
              "깨강정     30.0     150.30    13.62   0.00   9.87    4.50  156.00  125.70   \n",
              "\n",
              "       나트륨(mg)  칼륨(mg)  마그네슘(mg)  철(mg)  아연(mg)  콜레스테롤(mg)  트랜스지방(g)  \n",
              "음식명                                                                   \n",
              "쌀밥       59.40  146.70      0.00   0.36    1.35       0.00       0.0  \n",
              "기타잡곡밥     3.39  166.72      6.90   1.74    1.83       0.00       0.0  \n",
              "콩밥        4.10  258.40     22.50   1.74    1.61       0.00       0.0  \n",
              "보리밥       4.50  100.60      0.00   1.26    1.41       0.00       0.0  \n",
              "돌솥밥     618.32  624.32     57.79   3.32    2.58       2.37       0.0  \n",
              "...        ...     ...       ...    ...     ...        ...       ...  \n",
              "다식        3.85  206.71      0.00   0.52    0.04       0.00       0.0  \n",
              "약과       16.46   59.42      0.00   0.57    0.14       0.00       0.0  \n",
              "유과        7.06    0.03      0.00   0.24    0.20       0.00       0.0  \n",
              "산자        8.01   60.93      0.00   0.41    0.27       0.00       0.0  \n",
              "깨강정      24.30   67.50      0.00   1.38    2.13       0.00       0.0  \n",
              "\n",
              "[400 rows x 15 columns]"
            ],
            "text/html": [
              "\n",
              "  <div id=\"df-4d3f1c93-d5c1-480b-866a-d2b4076f0479\">\n",
              "    <div class=\"colab-df-container\">\n",
              "      <div>\n",
              "<style scoped>\n",
              "    .dataframe tbody tr th:only-of-type {\n",
              "        vertical-align: middle;\n",
              "    }\n",
              "\n",
              "    .dataframe tbody tr th {\n",
              "        vertical-align: top;\n",
              "    }\n",
              "\n",
              "    .dataframe thead th {\n",
              "        text-align: right;\n",
              "    }\n",
              "</style>\n",
              "<table border=\"1\" class=\"dataframe\">\n",
              "  <thead>\n",
              "    <tr style=\"text-align: right;\">\n",
              "      <th></th>\n",
              "      <th>중량(g)</th>\n",
              "      <th>에너지(kcal)</th>\n",
              "      <th>탄수화물(g)</th>\n",
              "      <th>당류(g)</th>\n",
              "      <th>지방(g)</th>\n",
              "      <th>단백질(g)</th>\n",
              "      <th>칼슘(mg)</th>\n",
              "      <th>인(mg)</th>\n",
              "      <th>나트륨(mg)</th>\n",
              "      <th>칼륨(mg)</th>\n",
              "      <th>마그네슘(mg)</th>\n",
              "      <th>철(mg)</th>\n",
              "      <th>아연(mg)</th>\n",
              "      <th>콜레스테롤(mg)</th>\n",
              "      <th>트랜스지방(g)</th>\n",
              "    </tr>\n",
              "    <tr>\n",
              "      <th>음식명</th>\n",
              "      <th></th>\n",
              "      <th></th>\n",
              "      <th></th>\n",
              "      <th></th>\n",
              "      <th></th>\n",
              "      <th></th>\n",
              "      <th></th>\n",
              "      <th></th>\n",
              "      <th></th>\n",
              "      <th></th>\n",
              "      <th></th>\n",
              "      <th></th>\n",
              "      <th></th>\n",
              "      <th></th>\n",
              "      <th></th>\n",
              "    </tr>\n",
              "  </thead>\n",
              "  <tbody>\n",
              "    <tr>\n",
              "      <th>쌀밥</th>\n",
              "      <td>210.0</td>\n",
              "      <td>334.80</td>\n",
              "      <td>73.71</td>\n",
              "      <td>0.00</td>\n",
              "      <td>0.45</td>\n",
              "      <td>5.76</td>\n",
              "      <td>3.60</td>\n",
              "      <td>126.00</td>\n",
              "      <td>59.40</td>\n",
              "      <td>146.70</td>\n",
              "      <td>0.00</td>\n",
              "      <td>0.36</td>\n",
              "      <td>1.35</td>\n",
              "      <td>0.00</td>\n",
              "      <td>0.0</td>\n",
              "    </tr>\n",
              "    <tr>\n",
              "      <th>기타잡곡밥</th>\n",
              "      <td>200.0</td>\n",
              "      <td>302.36</td>\n",
              "      <td>65.52</td>\n",
              "      <td>0.00</td>\n",
              "      <td>0.75</td>\n",
              "      <td>6.71</td>\n",
              "      <td>12.06</td>\n",
              "      <td>117.84</td>\n",
              "      <td>3.39</td>\n",
              "      <td>166.72</td>\n",
              "      <td>6.90</td>\n",
              "      <td>1.74</td>\n",
              "      <td>1.83</td>\n",
              "      <td>0.00</td>\n",
              "      <td>0.0</td>\n",
              "    </tr>\n",
              "    <tr>\n",
              "      <th>콩밥</th>\n",
              "      <td>200.0</td>\n",
              "      <td>322.90</td>\n",
              "      <td>65.85</td>\n",
              "      <td>0.00</td>\n",
              "      <td>1.67</td>\n",
              "      <td>8.43</td>\n",
              "      <td>24.70</td>\n",
              "      <td>126.90</td>\n",
              "      <td>4.10</td>\n",
              "      <td>258.40</td>\n",
              "      <td>22.50</td>\n",
              "      <td>1.74</td>\n",
              "      <td>1.61</td>\n",
              "      <td>0.00</td>\n",
              "      <td>0.0</td>\n",
              "    </tr>\n",
              "    <tr>\n",
              "      <th>보리밥</th>\n",
              "      <td>200.0</td>\n",
              "      <td>316.10</td>\n",
              "      <td>70.57</td>\n",
              "      <td>0.00</td>\n",
              "      <td>0.14</td>\n",
              "      <td>5.55</td>\n",
              "      <td>6.70</td>\n",
              "      <td>68.80</td>\n",
              "      <td>4.50</td>\n",
              "      <td>100.60</td>\n",
              "      <td>0.00</td>\n",
              "      <td>1.26</td>\n",
              "      <td>1.41</td>\n",
              "      <td>0.00</td>\n",
              "      <td>0.0</td>\n",
              "    </tr>\n",
              "    <tr>\n",
              "      <th>돌솥밥</th>\n",
              "      <td>350.0</td>\n",
              "      <td>528.86</td>\n",
              "      <td>101.85</td>\n",
              "      <td>0.00</td>\n",
              "      <td>8.35</td>\n",
              "      <td>10.19</td>\n",
              "      <td>61.46</td>\n",
              "      <td>193.72</td>\n",
              "      <td>618.32</td>\n",
              "      <td>624.32</td>\n",
              "      <td>57.79</td>\n",
              "      <td>3.32</td>\n",
              "      <td>2.58</td>\n",
              "      <td>2.37</td>\n",
              "      <td>0.0</td>\n",
              "    </tr>\n",
              "    <tr>\n",
              "      <th>...</th>\n",
              "      <td>...</td>\n",
              "      <td>...</td>\n",
              "      <td>...</td>\n",
              "      <td>...</td>\n",
              "      <td>...</td>\n",
              "      <td>...</td>\n",
              "      <td>...</td>\n",
              "      <td>...</td>\n",
              "      <td>...</td>\n",
              "      <td>...</td>\n",
              "      <td>...</td>\n",
              "      <td>...</td>\n",
              "      <td>...</td>\n",
              "      <td>...</td>\n",
              "      <td>...</td>\n",
              "    </tr>\n",
              "    <tr>\n",
              "      <th>다식</th>\n",
              "      <td>30.0</td>\n",
              "      <td>105.17</td>\n",
              "      <td>20.81</td>\n",
              "      <td>6.46</td>\n",
              "      <td>1.73</td>\n",
              "      <td>3.55</td>\n",
              "      <td>1.43</td>\n",
              "      <td>100.07</td>\n",
              "      <td>3.85</td>\n",
              "      <td>206.71</td>\n",
              "      <td>0.00</td>\n",
              "      <td>0.52</td>\n",
              "      <td>0.04</td>\n",
              "      <td>0.00</td>\n",
              "      <td>0.0</td>\n",
              "    </tr>\n",
              "    <tr>\n",
              "      <th>약과</th>\n",
              "      <td>30.0</td>\n",
              "      <td>113.85</td>\n",
              "      <td>22.18</td>\n",
              "      <td>2.15</td>\n",
              "      <td>1.24</td>\n",
              "      <td>2.57</td>\n",
              "      <td>4.45</td>\n",
              "      <td>28.23</td>\n",
              "      <td>16.46</td>\n",
              "      <td>59.42</td>\n",
              "      <td>0.00</td>\n",
              "      <td>0.57</td>\n",
              "      <td>0.14</td>\n",
              "      <td>0.00</td>\n",
              "      <td>0.0</td>\n",
              "    </tr>\n",
              "    <tr>\n",
              "      <th>유과</th>\n",
              "      <td>30.0</td>\n",
              "      <td>129.06</td>\n",
              "      <td>24.14</td>\n",
              "      <td>1.12</td>\n",
              "      <td>3.50</td>\n",
              "      <td>0.36</td>\n",
              "      <td>1.21</td>\n",
              "      <td>3.60</td>\n",
              "      <td>7.06</td>\n",
              "      <td>0.03</td>\n",
              "      <td>0.00</td>\n",
              "      <td>0.24</td>\n",
              "      <td>0.20</td>\n",
              "      <td>0.00</td>\n",
              "      <td>0.0</td>\n",
              "    </tr>\n",
              "    <tr>\n",
              "      <th>산자</th>\n",
              "      <td>30.0</td>\n",
              "      <td>121.70</td>\n",
              "      <td>24.70</td>\n",
              "      <td>10.63</td>\n",
              "      <td>1.20</td>\n",
              "      <td>0.91</td>\n",
              "      <td>2.00</td>\n",
              "      <td>20.36</td>\n",
              "      <td>8.01</td>\n",
              "      <td>60.93</td>\n",
              "      <td>0.00</td>\n",
              "      <td>0.41</td>\n",
              "      <td>0.27</td>\n",
              "      <td>0.00</td>\n",
              "      <td>0.0</td>\n",
              "    </tr>\n",
              "    <tr>\n",
              "      <th>깨강정</th>\n",
              "      <td>30.0</td>\n",
              "      <td>150.30</td>\n",
              "      <td>13.62</td>\n",
              "      <td>0.00</td>\n",
              "      <td>9.87</td>\n",
              "      <td>4.50</td>\n",
              "      <td>156.00</td>\n",
              "      <td>125.70</td>\n",
              "      <td>24.30</td>\n",
              "      <td>67.50</td>\n",
              "      <td>0.00</td>\n",
              "      <td>1.38</td>\n",
              "      <td>2.13</td>\n",
              "      <td>0.00</td>\n",
              "      <td>0.0</td>\n",
              "    </tr>\n",
              "  </tbody>\n",
              "</table>\n",
              "<p>400 rows × 15 columns</p>\n",
              "</div>\n",
              "      <button class=\"colab-df-convert\" onclick=\"convertToInteractive('df-4d3f1c93-d5c1-480b-866a-d2b4076f0479')\"\n",
              "              title=\"Convert this dataframe to an interactive table.\"\n",
              "              style=\"display:none;\">\n",
              "        \n",
              "  <svg xmlns=\"http://www.w3.org/2000/svg\" height=\"24px\"viewBox=\"0 0 24 24\"\n",
              "       width=\"24px\">\n",
              "    <path d=\"M0 0h24v24H0V0z\" fill=\"none\"/>\n",
              "    <path d=\"M18.56 5.44l.94 2.06.94-2.06 2.06-.94-2.06-.94-.94-2.06-.94 2.06-2.06.94zm-11 1L8.5 8.5l.94-2.06 2.06-.94-2.06-.94L8.5 2.5l-.94 2.06-2.06.94zm10 10l.94 2.06.94-2.06 2.06-.94-2.06-.94-.94-2.06-.94 2.06-2.06.94z\"/><path d=\"M17.41 7.96l-1.37-1.37c-.4-.4-.92-.59-1.43-.59-.52 0-1.04.2-1.43.59L10.3 9.45l-7.72 7.72c-.78.78-.78 2.05 0 2.83L4 21.41c.39.39.9.59 1.41.59.51 0 1.02-.2 1.41-.59l7.78-7.78 2.81-2.81c.8-.78.8-2.07 0-2.86zM5.41 20L4 18.59l7.72-7.72 1.47 1.35L5.41 20z\"/>\n",
              "  </svg>\n",
              "      </button>\n",
              "      \n",
              "  <style>\n",
              "    .colab-df-container {\n",
              "      display:flex;\n",
              "      flex-wrap:wrap;\n",
              "      gap: 12px;\n",
              "    }\n",
              "\n",
              "    .colab-df-convert {\n",
              "      background-color: #E8F0FE;\n",
              "      border: none;\n",
              "      border-radius: 50%;\n",
              "      cursor: pointer;\n",
              "      display: none;\n",
              "      fill: #1967D2;\n",
              "      height: 32px;\n",
              "      padding: 0 0 0 0;\n",
              "      width: 32px;\n",
              "    }\n",
              "\n",
              "    .colab-df-convert:hover {\n",
              "      background-color: #E2EBFA;\n",
              "      box-shadow: 0px 1px 2px rgba(60, 64, 67, 0.3), 0px 1px 3px 1px rgba(60, 64, 67, 0.15);\n",
              "      fill: #174EA6;\n",
              "    }\n",
              "\n",
              "    [theme=dark] .colab-df-convert {\n",
              "      background-color: #3B4455;\n",
              "      fill: #D2E3FC;\n",
              "    }\n",
              "\n",
              "    [theme=dark] .colab-df-convert:hover {\n",
              "      background-color: #434B5C;\n",
              "      box-shadow: 0px 1px 3px 1px rgba(0, 0, 0, 0.15);\n",
              "      filter: drop-shadow(0px 1px 2px rgba(0, 0, 0, 0.3));\n",
              "      fill: #FFFFFF;\n",
              "    }\n",
              "  </style>\n",
              "\n",
              "      <script>\n",
              "        const buttonEl =\n",
              "          document.querySelector('#df-4d3f1c93-d5c1-480b-866a-d2b4076f0479 button.colab-df-convert');\n",
              "        buttonEl.style.display =\n",
              "          google.colab.kernel.accessAllowed ? 'block' : 'none';\n",
              "\n",
              "        async function convertToInteractive(key) {\n",
              "          const element = document.querySelector('#df-4d3f1c93-d5c1-480b-866a-d2b4076f0479');\n",
              "          const dataTable =\n",
              "            await google.colab.kernel.invokeFunction('convertToInteractive',\n",
              "                                                     [key], {});\n",
              "          if (!dataTable) return;\n",
              "\n",
              "          const docLinkHtml = 'Like what you see? Visit the ' +\n",
              "            '<a target=\"_blank\" href=https://colab.research.google.com/notebooks/data_table.ipynb>data table notebook</a>'\n",
              "            + ' to learn more about interactive tables.';\n",
              "          element.innerHTML = '';\n",
              "          dataTable['output_type'] = 'display_data';\n",
              "          await google.colab.output.renderOutput(dataTable, element);\n",
              "          const docLink = document.createElement('div');\n",
              "          docLink.innerHTML = docLinkHtml;\n",
              "          element.appendChild(docLink);\n",
              "        }\n",
              "      </script>\n",
              "    </div>\n",
              "  </div>\n",
              "  "
            ]
          },
          "metadata": {},
          "execution_count": 22
        }
      ],
      "source": [
        "conn = sqlite3.connect('/content/drive/MyDrive/영양4조/[db]food_nutrition.db')\n",
        "sql = \"select * from food_nutrition\"\n",
        "food_nutri = pd.read_sql(sql, conn)\n",
        "food_nutri.set_index('음식명', inplace=True)\n",
        "food_nutri"
      ]
    },
    {
      "cell_type": "markdown",
      "metadata": {
        "id": "Ca6uaXbEBYs3"
      },
      "source": [
        "# 영양성분정보 추출 함수 ====="
      ]
    },
    {
      "cell_type": "code",
      "execution_count": 23,
      "metadata": {
        "id": "DEfEtZnMrJEF"
      },
      "outputs": [],
      "source": [
        "# 음식명별 영양성분 정보\n",
        "Nutrition = {'중량': ['중량(g)'],\n",
        "             '성분': ['에너지(kcal)', '콜레스테롤(mg)', '트랜스지방(g)', '탄수화물(g)', '당류(g)', '지방(g)',\n",
        "                    '단백질(g)', '칼슘(mg)', '인(mg)', '나트륨(mg)', '칼륨(mg)', '마그네슘(mg)', '철(mg)', '아연(mg)']}"
      ]
    },
    {
      "cell_type": "code",
      "execution_count": 24,
      "metadata": {
        "id": "WSf_WZzZ4EJL"
      },
      "outputs": [],
      "source": [
        "food_list = ['쌀밥', '근대된장국', '떡갈비']"
      ]
    },
    {
      "cell_type": "code",
      "execution_count": 25,
      "metadata": {
        "id": "05fc7CLNFc2v"
      },
      "outputs": [],
      "source": [
        "# predict된 음식명에 따라 영양성분 출력 함수 정의\n",
        "def nutrition_info(names):\n",
        "    # 예측된 음식명 담기\n",
        "    food_name = []\n",
        "    # 없는 음식명 담기\n",
        "    food_name_x = []\n",
        "    # 예측된 음식의 영양성분 담기\n",
        "    food_info = {}\n",
        "    # 예측된 음식명들중에 하나씩 반복해서 이름은 음식명에 담고, 영양정보는 영양성분에 담기\n",
        "    for name in names:\n",
        "        if name in food_nutri.index:\n",
        "            food_name.append(name)\n",
        "            food_info[name] = dict(food_nutri.loc[name][Nutrition['성분']])\n",
        "        # 음식명이 없으면 없는 음식명에 담고 없는 정보를 출력할 준비 함\n",
        "        else:\n",
        "            food_name_x.append(name)\n",
        "            a = '없는 정보 :', food_name_x\n",
        "    # 결과1: 없는음식명이 없다면 예측된 음식명 리스트와 그에대한 영양성분 정보 출력\n",
        "    if food_name_x == []:\n",
        "        return food_name, food_info\n",
        "    # 결과2: 음식명이 없으면 없는음식명 정보를 출력\n",
        "    elif food_name == []:\n",
        "        return  print(a)\n",
        "    # 결과3: 음식명이 있고, 없는것도 있으면 없는 음식명정보도 출력하고 예측된 음식명 리스트와 영양성분정보 출력\n",
        "    else:\n",
        "        print(a)\n",
        "        return food_name, food_info"
      ]
    },
    {
      "cell_type": "code",
      "execution_count": 26,
      "metadata": {
        "colab": {
          "base_uri": "https://localhost:8080/"
        },
        "id": "NWimv7QizBlx",
        "outputId": "c40429f5-8358-4425-c4c2-11f565a7d948"
      },
      "outputs": [
        {
          "output_type": "execute_result",
          "data": {
            "text/plain": [
              "(['쌀밥', '근대된장국', '떡갈비'],\n",
              " {'근대된장국': {'나트륨(mg)': 1453.19,\n",
              "   '단백질(g)': 15.31,\n",
              "   '당류(g)': 0.0,\n",
              "   '마그네슘(mg)': 0.0,\n",
              "   '아연(mg)': 2.37,\n",
              "   '에너지(kcal)': 109.26,\n",
              "   '인(mg)': 436.37,\n",
              "   '지방(g)': 3.21,\n",
              "   '철(mg)': 6.12,\n",
              "   '칼륨(mg)': 1211.0,\n",
              "   '칼슘(mg)': 621.1,\n",
              "   '콜레스테롤(mg)': 112.86,\n",
              "   '탄수화물(g)': 8.14,\n",
              "   '트랜스지방(g)': 0.0},\n",
              "  '떡갈비': {'나트륨(mg)': 838.84,\n",
              "   '단백질(g)': 43.09,\n",
              "   '당류(g)': 12.49,\n",
              "   '마그네슘(mg)': 0.0,\n",
              "   '아연(mg)': 8.66,\n",
              "   '에너지(kcal)': 762.99,\n",
              "   '인(mg)': 411.76,\n",
              "   '지방(g)': 51.58,\n",
              "   '철(mg)': 3.26,\n",
              "   '칼륨(mg)': 915.68,\n",
              "   '칼슘(mg)': 26.18,\n",
              "   '콜레스테롤(mg)': 157.5,\n",
              "   '탄수화물(g)': 26.61,\n",
              "   '트랜스지방(g)': 0.0},\n",
              "  '쌀밥': {'나트륨(mg)': 59.4,\n",
              "   '단백질(g)': 5.76,\n",
              "   '당류(g)': 0.0,\n",
              "   '마그네슘(mg)': 0.0,\n",
              "   '아연(mg)': 1.35,\n",
              "   '에너지(kcal)': 334.8,\n",
              "   '인(mg)': 126.0,\n",
              "   '지방(g)': 0.45,\n",
              "   '철(mg)': 0.36,\n",
              "   '칼륨(mg)': 146.7,\n",
              "   '칼슘(mg)': 3.6,\n",
              "   '콜레스테롤(mg)': 0.0,\n",
              "   '탄수화물(g)': 73.71,\n",
              "   '트랜스지방(g)': 0.0}})"
            ]
          },
          "metadata": {},
          "execution_count": 26
        }
      ],
      "source": [
        "nutrition_info(food_list)"
      ]
    },
    {
      "cell_type": "code",
      "execution_count": 27,
      "metadata": {
        "id": "6vWIPjgFE_E7"
      },
      "outputs": [],
      "source": [
        "# 음식별 영양성분 더하기\n",
        "def nutri_add(names):\n",
        "    # 전체음식의 영양성분을 한번에 담을 변수 생성 Nutri\n",
        "    Nutri = {'에너지(kcal)': 0, '콜레스테롤(mg)': 0, '트랜스지방(g)': 0, '탄수화물(g)': 0, '당류(g)': 0, '지방(g)': 0,\n",
        "    '단백질(g)': 0, '칼슘(mg)': 0, '인(mg)': 0, '나트륨(mg)': 0, '칼륨(mg)': 0, '마그네슘(mg)': 0, '철(mg)': 0, '아연(mg)': 0}\n",
        "    # 추출된 전체 음식의 성분별로 영양성분 더하여 dict에 저장\n",
        "    for name in names[0]:\n",
        "        for k in Nutrition['성분']:\n",
        "            Nutri[k] += names[1][name][k]\n",
        "    return Nutri"
      ]
    },
    {
      "cell_type": "code",
      "execution_count": 28,
      "metadata": {
        "colab": {
          "base_uri": "https://localhost:8080/"
        },
        "id": "mcFCFPEWFAZh",
        "outputId": "a567d388-cfec-4038-c9a9-b67096376c68"
      },
      "outputs": [
        {
          "output_type": "execute_result",
          "data": {
            "text/plain": [
              "{'나트륨(mg)': 2351.4300000000003,\n",
              " '단백질(g)': 64.16,\n",
              " '당류(g)': 12.49,\n",
              " '마그네슘(mg)': 0.0,\n",
              " '아연(mg)': 12.38,\n",
              " '에너지(kcal)': 1207.05,\n",
              " '인(mg)': 974.13,\n",
              " '지방(g)': 55.239999999999995,\n",
              " '철(mg)': 9.74,\n",
              " '칼륨(mg)': 2273.38,\n",
              " '칼슘(mg)': 650.88,\n",
              " '콜레스테롤(mg)': 270.36,\n",
              " '탄수화물(g)': 108.46,\n",
              " '트랜스지방(g)': 0.0}"
            ]
          },
          "metadata": {},
          "execution_count": 28
        }
      ],
      "source": [
        "result = nutri_add(nutrition_info(food_list))\n",
        "result"
      ]
    },
    {
      "cell_type": "markdown",
      "metadata": {
        "id": "-lb03y6H2whn"
      },
      "source": [
        "# 하루 섭취 영양성분양을 histogram등 으로 시각화하는 부분 추가"
      ]
    },
    {
      "cell_type": "code",
      "execution_count": null,
      "metadata": {
        "id": "OGkttKBM29Xt"
      },
      "outputs": [],
      "source": [
        ""
      ]
    },
    {
      "cell_type": "markdown",
      "metadata": {
        "id": "0DJRvpkME1o0"
      },
      "source": [
        "# 가공정보 추출 함수 ====="
      ]
    },
    {
      "cell_type": "code",
      "execution_count": 29,
      "metadata": {
        "colab": {
          "base_uri": "https://localhost:8080/",
          "height": 423
        },
        "id": "JG65oEIIE51o",
        "outputId": "99c6e994-52b5-4069-bd3e-a9480243de17"
      },
      "outputs": [
        {
          "output_type": "execute_result",
          "data": {
            "text/plain": [
              "    성별     연령     영양성분  권장(g/일)  권장(g/회)\n",
              "0   남자  19-29  탄수화물(g)    130.0    43.33\n",
              "1   남자  30-39  탄수화물(g)    130.0    43.33\n",
              "2   남자  40-49  탄수화물(g)    130.0    43.33\n",
              "3   남자  50-64  탄수화물(g)    130.0    43.33\n",
              "4   여자  19-29  탄수화물(g)    130.0    43.33\n",
              "..  ..    ...      ...      ...      ...\n",
              "83  남자  50-64   아연(mg)     10.0     3.33\n",
              "84  여자  19-29   아연(mg)      8.0     2.67\n",
              "85  여자  30-39   아연(mg)      8.0     2.67\n",
              "86  여자  40-49   아연(mg)      8.0     2.67\n",
              "87  여자  50-64   아연(mg)      8.0     2.67\n",
              "\n",
              "[88 rows x 5 columns]"
            ],
            "text/html": [
              "\n",
              "  <div id=\"df-b7d31257-310f-4ffe-8844-51c4aae8bc93\">\n",
              "    <div class=\"colab-df-container\">\n",
              "      <div>\n",
              "<style scoped>\n",
              "    .dataframe tbody tr th:only-of-type {\n",
              "        vertical-align: middle;\n",
              "    }\n",
              "\n",
              "    .dataframe tbody tr th {\n",
              "        vertical-align: top;\n",
              "    }\n",
              "\n",
              "    .dataframe thead th {\n",
              "        text-align: right;\n",
              "    }\n",
              "</style>\n",
              "<table border=\"1\" class=\"dataframe\">\n",
              "  <thead>\n",
              "    <tr style=\"text-align: right;\">\n",
              "      <th></th>\n",
              "      <th>성별</th>\n",
              "      <th>연령</th>\n",
              "      <th>영양성분</th>\n",
              "      <th>권장(g/일)</th>\n",
              "      <th>권장(g/회)</th>\n",
              "    </tr>\n",
              "  </thead>\n",
              "  <tbody>\n",
              "    <tr>\n",
              "      <th>0</th>\n",
              "      <td>남자</td>\n",
              "      <td>19-29</td>\n",
              "      <td>탄수화물(g)</td>\n",
              "      <td>130.0</td>\n",
              "      <td>43.33</td>\n",
              "    </tr>\n",
              "    <tr>\n",
              "      <th>1</th>\n",
              "      <td>남자</td>\n",
              "      <td>30-39</td>\n",
              "      <td>탄수화물(g)</td>\n",
              "      <td>130.0</td>\n",
              "      <td>43.33</td>\n",
              "    </tr>\n",
              "    <tr>\n",
              "      <th>2</th>\n",
              "      <td>남자</td>\n",
              "      <td>40-49</td>\n",
              "      <td>탄수화물(g)</td>\n",
              "      <td>130.0</td>\n",
              "      <td>43.33</td>\n",
              "    </tr>\n",
              "    <tr>\n",
              "      <th>3</th>\n",
              "      <td>남자</td>\n",
              "      <td>50-64</td>\n",
              "      <td>탄수화물(g)</td>\n",
              "      <td>130.0</td>\n",
              "      <td>43.33</td>\n",
              "    </tr>\n",
              "    <tr>\n",
              "      <th>4</th>\n",
              "      <td>여자</td>\n",
              "      <td>19-29</td>\n",
              "      <td>탄수화물(g)</td>\n",
              "      <td>130.0</td>\n",
              "      <td>43.33</td>\n",
              "    </tr>\n",
              "    <tr>\n",
              "      <th>...</th>\n",
              "      <td>...</td>\n",
              "      <td>...</td>\n",
              "      <td>...</td>\n",
              "      <td>...</td>\n",
              "      <td>...</td>\n",
              "    </tr>\n",
              "    <tr>\n",
              "      <th>83</th>\n",
              "      <td>남자</td>\n",
              "      <td>50-64</td>\n",
              "      <td>아연(mg)</td>\n",
              "      <td>10.0</td>\n",
              "      <td>3.33</td>\n",
              "    </tr>\n",
              "    <tr>\n",
              "      <th>84</th>\n",
              "      <td>여자</td>\n",
              "      <td>19-29</td>\n",
              "      <td>아연(mg)</td>\n",
              "      <td>8.0</td>\n",
              "      <td>2.67</td>\n",
              "    </tr>\n",
              "    <tr>\n",
              "      <th>85</th>\n",
              "      <td>여자</td>\n",
              "      <td>30-39</td>\n",
              "      <td>아연(mg)</td>\n",
              "      <td>8.0</td>\n",
              "      <td>2.67</td>\n",
              "    </tr>\n",
              "    <tr>\n",
              "      <th>86</th>\n",
              "      <td>여자</td>\n",
              "      <td>40-49</td>\n",
              "      <td>아연(mg)</td>\n",
              "      <td>8.0</td>\n",
              "      <td>2.67</td>\n",
              "    </tr>\n",
              "    <tr>\n",
              "      <th>87</th>\n",
              "      <td>여자</td>\n",
              "      <td>50-64</td>\n",
              "      <td>아연(mg)</td>\n",
              "      <td>8.0</td>\n",
              "      <td>2.67</td>\n",
              "    </tr>\n",
              "  </tbody>\n",
              "</table>\n",
              "<p>88 rows × 5 columns</p>\n",
              "</div>\n",
              "      <button class=\"colab-df-convert\" onclick=\"convertToInteractive('df-b7d31257-310f-4ffe-8844-51c4aae8bc93')\"\n",
              "              title=\"Convert this dataframe to an interactive table.\"\n",
              "              style=\"display:none;\">\n",
              "        \n",
              "  <svg xmlns=\"http://www.w3.org/2000/svg\" height=\"24px\"viewBox=\"0 0 24 24\"\n",
              "       width=\"24px\">\n",
              "    <path d=\"M0 0h24v24H0V0z\" fill=\"none\"/>\n",
              "    <path d=\"M18.56 5.44l.94 2.06.94-2.06 2.06-.94-2.06-.94-.94-2.06-.94 2.06-2.06.94zm-11 1L8.5 8.5l.94-2.06 2.06-.94-2.06-.94L8.5 2.5l-.94 2.06-2.06.94zm10 10l.94 2.06.94-2.06 2.06-.94-2.06-.94-.94-2.06-.94 2.06-2.06.94z\"/><path d=\"M17.41 7.96l-1.37-1.37c-.4-.4-.92-.59-1.43-.59-.52 0-1.04.2-1.43.59L10.3 9.45l-7.72 7.72c-.78.78-.78 2.05 0 2.83L4 21.41c.39.39.9.59 1.41.59.51 0 1.02-.2 1.41-.59l7.78-7.78 2.81-2.81c.8-.78.8-2.07 0-2.86zM5.41 20L4 18.59l7.72-7.72 1.47 1.35L5.41 20z\"/>\n",
              "  </svg>\n",
              "      </button>\n",
              "      \n",
              "  <style>\n",
              "    .colab-df-container {\n",
              "      display:flex;\n",
              "      flex-wrap:wrap;\n",
              "      gap: 12px;\n",
              "    }\n",
              "\n",
              "    .colab-df-convert {\n",
              "      background-color: #E8F0FE;\n",
              "      border: none;\n",
              "      border-radius: 50%;\n",
              "      cursor: pointer;\n",
              "      display: none;\n",
              "      fill: #1967D2;\n",
              "      height: 32px;\n",
              "      padding: 0 0 0 0;\n",
              "      width: 32px;\n",
              "    }\n",
              "\n",
              "    .colab-df-convert:hover {\n",
              "      background-color: #E2EBFA;\n",
              "      box-shadow: 0px 1px 2px rgba(60, 64, 67, 0.3), 0px 1px 3px 1px rgba(60, 64, 67, 0.15);\n",
              "      fill: #174EA6;\n",
              "    }\n",
              "\n",
              "    [theme=dark] .colab-df-convert {\n",
              "      background-color: #3B4455;\n",
              "      fill: #D2E3FC;\n",
              "    }\n",
              "\n",
              "    [theme=dark] .colab-df-convert:hover {\n",
              "      background-color: #434B5C;\n",
              "      box-shadow: 0px 1px 3px 1px rgba(0, 0, 0, 0.15);\n",
              "      filter: drop-shadow(0px 1px 2px rgba(0, 0, 0, 0.3));\n",
              "      fill: #FFFFFF;\n",
              "    }\n",
              "  </style>\n",
              "\n",
              "      <script>\n",
              "        const buttonEl =\n",
              "          document.querySelector('#df-b7d31257-310f-4ffe-8844-51c4aae8bc93 button.colab-df-convert');\n",
              "        buttonEl.style.display =\n",
              "          google.colab.kernel.accessAllowed ? 'block' : 'none';\n",
              "\n",
              "        async function convertToInteractive(key) {\n",
              "          const element = document.querySelector('#df-b7d31257-310f-4ffe-8844-51c4aae8bc93');\n",
              "          const dataTable =\n",
              "            await google.colab.kernel.invokeFunction('convertToInteractive',\n",
              "                                                     [key], {});\n",
              "          if (!dataTable) return;\n",
              "\n",
              "          const docLinkHtml = 'Like what you see? Visit the ' +\n",
              "            '<a target=\"_blank\" href=https://colab.research.google.com/notebooks/data_table.ipynb>data table notebook</a>'\n",
              "            + ' to learn more about interactive tables.';\n",
              "          element.innerHTML = '';\n",
              "          dataTable['output_type'] = 'display_data';\n",
              "          await google.colab.output.renderOutput(dataTable, element);\n",
              "          const docLink = document.createElement('div');\n",
              "          docLink.innerHTML = docLinkHtml;\n",
              "          element.appendChild(docLink);\n",
              "        }\n",
              "      </script>\n",
              "    </div>\n",
              "  </div>\n",
              "  "
            ]
          },
          "metadata": {},
          "execution_count": 29
        }
      ],
      "source": [
        "conn = sqlite3.connect('/content/drive/MyDrive/영양4조/[db]nutrition_recommend.db')\n",
        "sql = \"select * from nutrition_recommend\"\n",
        "nutri_reco = pd.read_sql(sql, conn)\n",
        "nutri_reco"
      ]
    },
    {
      "cell_type": "code",
      "execution_count": 30,
      "metadata": {
        "id": "YJm2X-3lGqhI"
      },
      "outputs": [],
      "source": [
        "gender = '남자'\n",
        "age = 28\n",
        "augments = '탄수화물(g)'"
      ]
    },
    {
      "cell_type": "code",
      "source": [
        "def mod(gender, age, names):\n",
        "    df = nutri_reco[(nutri_reco['성별'] == gender) & (nutri_reco['연령']== age)]\n",
        "    result = nutri_add(nutrition_info(names))\n",
        "    for aug in df['영양성분']:\n",
        "        if int(result[aug]) >= int(df[df['영양성분']==aug]['권장(g/회)']):\n",
        "            c = int(result[aug])\n",
        "            f = int(df[df['영양성분']==aug]['권장(g/회)'])\n",
        "            g = aug.split('(')[1].split(')')[0]\n",
        "            print(aug,'섭취량', round(c-f),g ,'초과!! 경고혀~')\n",
        "        else:\n",
        "            print(aug,'은(는) 아직 안전혀~')\n",
        "    return"
      ],
      "metadata": {
        "id": "CcovM7bn1KAZ"
      },
      "execution_count": 31,
      "outputs": []
    },
    {
      "cell_type": "code",
      "source": [
        "mod('여자', '19-29', food_list)"
      ],
      "metadata": {
        "colab": {
          "base_uri": "https://localhost:8080/"
        },
        "id": "FmTfgOZi1L6o",
        "outputId": "2fa98efd-e277-4f7e-cc30-30c2d66273b5"
      },
      "execution_count": 32,
      "outputs": [
        {
          "output_type": "stream",
          "name": "stdout",
          "text": [
            "탄수화물(g) 섭취량 65 g 초과!! 경고혀~\n",
            "당류(g) 은(는) 아직 안전혀~\n",
            "지방(g) 섭취량 41 g 초과!! 경고혀~\n",
            "단백질(g) 섭취량 46 g 초과!! 경고혀~\n",
            "칼슘(mg) 섭취량 417 mg 초과!! 경고혀~\n",
            "인(mg) 섭취량 741 mg 초과!! 경고혀~\n",
            "나트륨(mg) 섭취량 1851 mg 초과!! 경고혀~\n",
            "칼륨(mg) 섭취량 1107 mg 초과!! 경고혀~\n",
            "마그네슘(mg) 은(는) 아직 안전혀~\n",
            "철(mg) 섭취량 5 mg 초과!! 경고혀~\n",
            "아연(mg) 섭취량 10 mg 초과!! 경고혀~\n"
          ]
        }
      ]
    },
    {
      "cell_type": "markdown",
      "source": [
        "# 웹데이터 받기"
      ],
      "metadata": {
        "id": "R2ioNvUzVrGN"
      }
    },
    {
      "cell_type": "code",
      "source": [
        "# "
      ],
      "metadata": {
        "id": "GNiGWValV8Mn"
      },
      "execution_count": null,
      "outputs": []
    },
    {
      "cell_type": "markdown",
      "metadata": {
        "id": "NKkY_jdhBZNu"
      },
      "source": [
        "# 권장섭취량 판별 함수 ====="
      ]
    },
    {
      "cell_type": "code",
      "execution_count": null,
      "metadata": {
        "id": "gmjFn8NbBd2G"
      },
      "outputs": [],
      "source": [
        "# 권장섭취량 DB\n",
        "DATA2 = pd.read_excel(file_path+'=====.xlsx', index_col='=====')"
      ]
    },
    {
      "cell_type": "code",
      "execution_count": null,
      "metadata": {
        "id": "1ycg2_DBBi8h"
      },
      "outputs": [],
      "source": [
        "# 추출된 값이 권장섭취량 이상인 경우 경고하는 함수 정의\n",
        "def warning(name):\n",
        "    warn_ment = str('경고')\n",
        "    # a\n",
        "    try:\n",
        "        a\n",
        "        result\n",
        "    except:\n",
        "        pass  \n",
        "\n",
        "    # 예측값에서 가져온 영양성분(총합)이 권장섭취량보다 높은지 확인\n",
        "    if a >= db:\n",
        "      return result\n",
        "    else:\n",
        "      return result"
      ]
    },
    {
      "cell_type": "markdown",
      "source": [
        "# 사용자 히스토리 db저장 기능 구현 ====="
      ],
      "metadata": {
        "id": "y1PBvQnbyebP"
      }
    },
    {
      "cell_type": "markdown",
      "source": [
        "- id_record db조회"
      ],
      "metadata": {
        "id": "I-FFk9LUbYxJ"
      }
    },
    {
      "cell_type": "code",
      "source": [
        "data = ['kangsan']"
      ],
      "metadata": {
        "id": "AySVgk0MbQyZ"
      },
      "execution_count": 33,
      "outputs": []
    },
    {
      "cell_type": "code",
      "source": [
        "def id_record(data) : \n",
        "    \n",
        "    conn = sqlite3.connect('/content/drive/MyDrive/영양4조/남궁정후/id_record1.db')\n",
        "\n",
        "    with conn:\n",
        "        cur = conn.cursor()\n",
        "        sql = \"select * from id_record where id=?\"\n",
        "        cur.execute(sql, data)\n",
        "        rows = cur.fetchall()\n",
        "        cols = [column[0] for column in cur.description]\n",
        "        data_df = pd.DataFrame.from_records(data=rows, columns=cols)\n",
        "    return data_df"
      ],
      "metadata": {
        "id": "pJ9VY_J4bXy_"
      },
      "execution_count": 34,
      "outputs": []
    },
    {
      "cell_type": "code",
      "source": [
        "id_record(data)"
      ],
      "metadata": {
        "colab": {
          "base_uri": "https://localhost:8080/",
          "height": 420
        },
        "id": "an3KENnAbeUT",
        "outputId": "246f69d3-4ccf-48be-8b3e-3442483c9f57"
      },
      "execution_count": 35,
      "outputs": [
        {
          "output_type": "execute_result",
          "data": {
            "text/plain": [
              "        id        date  성별     연령  중량(g)  에너지(kcal)  탄수화물(g)  당류(g)  지방(g)  \\\n",
              "0  kangsan  2022-04-14  남자  19-29  200.0      650.0     70.0    3.0   19.2   \n",
              "1  kangsan  2022-04-16  남자  19-29  210.0      720.0     80.0    4.7   16.3   \n",
              "2  kangsan  2022-04-17  남자  19-29  220.0      750.0     74.0    3.3   20.0   \n",
              "3  kangsan  2022-04-17  남자  19-29  220.0      750.0     74.0    3.3   20.0   \n",
              "4  kangsan  2022-04-17  남자  19-29  220.0      750.0     74.0    3.3   20.0   \n",
              "5  kangsan  2022-04-17  남자  19-29  220.0      750.0     74.0    3.3   20.0   \n",
              "\n",
              "   단백질(g)  칼슘(mg)  인(mg)  나트륨(mg)  칼륨(mg)  마그네슘(mg)  철(mg)  아연(mg)  콜레스테롤(mg)  \\\n",
              "0     5.2     2.6   96.0      4.1   142.0       0.0   0.26     2.0        0.0   \n",
              "1     5.9     4.6  136.0      3.0   143.0       0.0   0.30     1.6        0.0   \n",
              "2     6.1     2.8   96.0      4.3   151.0       0.0   0.30     2.1        0.0   \n",
              "3     6.1     2.8   96.0      4.3   151.0       0.0   0.30     2.1        0.0   \n",
              "4     6.1     2.8   96.0      4.3   151.0       0.0   0.30     2.1        0.0   \n",
              "5     6.1     2.8   96.0      4.3   151.0       0.0   0.30     2.1        0.0   \n",
              "\n",
              "   트랜스지방(g)  \n",
              "0       0.0  \n",
              "1       0.0  \n",
              "2       0.0  \n",
              "3       0.0  \n",
              "4       0.0  \n",
              "5       0.0  "
            ],
            "text/html": [
              "\n",
              "  <div id=\"df-405ebe9c-a028-4f9a-8000-af2144f54b93\">\n",
              "    <div class=\"colab-df-container\">\n",
              "      <div>\n",
              "<style scoped>\n",
              "    .dataframe tbody tr th:only-of-type {\n",
              "        vertical-align: middle;\n",
              "    }\n",
              "\n",
              "    .dataframe tbody tr th {\n",
              "        vertical-align: top;\n",
              "    }\n",
              "\n",
              "    .dataframe thead th {\n",
              "        text-align: right;\n",
              "    }\n",
              "</style>\n",
              "<table border=\"1\" class=\"dataframe\">\n",
              "  <thead>\n",
              "    <tr style=\"text-align: right;\">\n",
              "      <th></th>\n",
              "      <th>id</th>\n",
              "      <th>date</th>\n",
              "      <th>성별</th>\n",
              "      <th>연령</th>\n",
              "      <th>중량(g)</th>\n",
              "      <th>에너지(kcal)</th>\n",
              "      <th>탄수화물(g)</th>\n",
              "      <th>당류(g)</th>\n",
              "      <th>지방(g)</th>\n",
              "      <th>단백질(g)</th>\n",
              "      <th>칼슘(mg)</th>\n",
              "      <th>인(mg)</th>\n",
              "      <th>나트륨(mg)</th>\n",
              "      <th>칼륨(mg)</th>\n",
              "      <th>마그네슘(mg)</th>\n",
              "      <th>철(mg)</th>\n",
              "      <th>아연(mg)</th>\n",
              "      <th>콜레스테롤(mg)</th>\n",
              "      <th>트랜스지방(g)</th>\n",
              "    </tr>\n",
              "  </thead>\n",
              "  <tbody>\n",
              "    <tr>\n",
              "      <th>0</th>\n",
              "      <td>kangsan</td>\n",
              "      <td>2022-04-14</td>\n",
              "      <td>남자</td>\n",
              "      <td>19-29</td>\n",
              "      <td>200.0</td>\n",
              "      <td>650.0</td>\n",
              "      <td>70.0</td>\n",
              "      <td>3.0</td>\n",
              "      <td>19.2</td>\n",
              "      <td>5.2</td>\n",
              "      <td>2.6</td>\n",
              "      <td>96.0</td>\n",
              "      <td>4.1</td>\n",
              "      <td>142.0</td>\n",
              "      <td>0.0</td>\n",
              "      <td>0.26</td>\n",
              "      <td>2.0</td>\n",
              "      <td>0.0</td>\n",
              "      <td>0.0</td>\n",
              "    </tr>\n",
              "    <tr>\n",
              "      <th>1</th>\n",
              "      <td>kangsan</td>\n",
              "      <td>2022-04-16</td>\n",
              "      <td>남자</td>\n",
              "      <td>19-29</td>\n",
              "      <td>210.0</td>\n",
              "      <td>720.0</td>\n",
              "      <td>80.0</td>\n",
              "      <td>4.7</td>\n",
              "      <td>16.3</td>\n",
              "      <td>5.9</td>\n",
              "      <td>4.6</td>\n",
              "      <td>136.0</td>\n",
              "      <td>3.0</td>\n",
              "      <td>143.0</td>\n",
              "      <td>0.0</td>\n",
              "      <td>0.30</td>\n",
              "      <td>1.6</td>\n",
              "      <td>0.0</td>\n",
              "      <td>0.0</td>\n",
              "    </tr>\n",
              "    <tr>\n",
              "      <th>2</th>\n",
              "      <td>kangsan</td>\n",
              "      <td>2022-04-17</td>\n",
              "      <td>남자</td>\n",
              "      <td>19-29</td>\n",
              "      <td>220.0</td>\n",
              "      <td>750.0</td>\n",
              "      <td>74.0</td>\n",
              "      <td>3.3</td>\n",
              "      <td>20.0</td>\n",
              "      <td>6.1</td>\n",
              "      <td>2.8</td>\n",
              "      <td>96.0</td>\n",
              "      <td>4.3</td>\n",
              "      <td>151.0</td>\n",
              "      <td>0.0</td>\n",
              "      <td>0.30</td>\n",
              "      <td>2.1</td>\n",
              "      <td>0.0</td>\n",
              "      <td>0.0</td>\n",
              "    </tr>\n",
              "    <tr>\n",
              "      <th>3</th>\n",
              "      <td>kangsan</td>\n",
              "      <td>2022-04-17</td>\n",
              "      <td>남자</td>\n",
              "      <td>19-29</td>\n",
              "      <td>220.0</td>\n",
              "      <td>750.0</td>\n",
              "      <td>74.0</td>\n",
              "      <td>3.3</td>\n",
              "      <td>20.0</td>\n",
              "      <td>6.1</td>\n",
              "      <td>2.8</td>\n",
              "      <td>96.0</td>\n",
              "      <td>4.3</td>\n",
              "      <td>151.0</td>\n",
              "      <td>0.0</td>\n",
              "      <td>0.30</td>\n",
              "      <td>2.1</td>\n",
              "      <td>0.0</td>\n",
              "      <td>0.0</td>\n",
              "    </tr>\n",
              "    <tr>\n",
              "      <th>4</th>\n",
              "      <td>kangsan</td>\n",
              "      <td>2022-04-17</td>\n",
              "      <td>남자</td>\n",
              "      <td>19-29</td>\n",
              "      <td>220.0</td>\n",
              "      <td>750.0</td>\n",
              "      <td>74.0</td>\n",
              "      <td>3.3</td>\n",
              "      <td>20.0</td>\n",
              "      <td>6.1</td>\n",
              "      <td>2.8</td>\n",
              "      <td>96.0</td>\n",
              "      <td>4.3</td>\n",
              "      <td>151.0</td>\n",
              "      <td>0.0</td>\n",
              "      <td>0.30</td>\n",
              "      <td>2.1</td>\n",
              "      <td>0.0</td>\n",
              "      <td>0.0</td>\n",
              "    </tr>\n",
              "    <tr>\n",
              "      <th>5</th>\n",
              "      <td>kangsan</td>\n",
              "      <td>2022-04-17</td>\n",
              "      <td>남자</td>\n",
              "      <td>19-29</td>\n",
              "      <td>220.0</td>\n",
              "      <td>750.0</td>\n",
              "      <td>74.0</td>\n",
              "      <td>3.3</td>\n",
              "      <td>20.0</td>\n",
              "      <td>6.1</td>\n",
              "      <td>2.8</td>\n",
              "      <td>96.0</td>\n",
              "      <td>4.3</td>\n",
              "      <td>151.0</td>\n",
              "      <td>0.0</td>\n",
              "      <td>0.30</td>\n",
              "      <td>2.1</td>\n",
              "      <td>0.0</td>\n",
              "      <td>0.0</td>\n",
              "    </tr>\n",
              "  </tbody>\n",
              "</table>\n",
              "</div>\n",
              "      <button class=\"colab-df-convert\" onclick=\"convertToInteractive('df-405ebe9c-a028-4f9a-8000-af2144f54b93')\"\n",
              "              title=\"Convert this dataframe to an interactive table.\"\n",
              "              style=\"display:none;\">\n",
              "        \n",
              "  <svg xmlns=\"http://www.w3.org/2000/svg\" height=\"24px\"viewBox=\"0 0 24 24\"\n",
              "       width=\"24px\">\n",
              "    <path d=\"M0 0h24v24H0V0z\" fill=\"none\"/>\n",
              "    <path d=\"M18.56 5.44l.94 2.06.94-2.06 2.06-.94-2.06-.94-.94-2.06-.94 2.06-2.06.94zm-11 1L8.5 8.5l.94-2.06 2.06-.94-2.06-.94L8.5 2.5l-.94 2.06-2.06.94zm10 10l.94 2.06.94-2.06 2.06-.94-2.06-.94-.94-2.06-.94 2.06-2.06.94z\"/><path d=\"M17.41 7.96l-1.37-1.37c-.4-.4-.92-.59-1.43-.59-.52 0-1.04.2-1.43.59L10.3 9.45l-7.72 7.72c-.78.78-.78 2.05 0 2.83L4 21.41c.39.39.9.59 1.41.59.51 0 1.02-.2 1.41-.59l7.78-7.78 2.81-2.81c.8-.78.8-2.07 0-2.86zM5.41 20L4 18.59l7.72-7.72 1.47 1.35L5.41 20z\"/>\n",
              "  </svg>\n",
              "      </button>\n",
              "      \n",
              "  <style>\n",
              "    .colab-df-container {\n",
              "      display:flex;\n",
              "      flex-wrap:wrap;\n",
              "      gap: 12px;\n",
              "    }\n",
              "\n",
              "    .colab-df-convert {\n",
              "      background-color: #E8F0FE;\n",
              "      border: none;\n",
              "      border-radius: 50%;\n",
              "      cursor: pointer;\n",
              "      display: none;\n",
              "      fill: #1967D2;\n",
              "      height: 32px;\n",
              "      padding: 0 0 0 0;\n",
              "      width: 32px;\n",
              "    }\n",
              "\n",
              "    .colab-df-convert:hover {\n",
              "      background-color: #E2EBFA;\n",
              "      box-shadow: 0px 1px 2px rgba(60, 64, 67, 0.3), 0px 1px 3px 1px rgba(60, 64, 67, 0.15);\n",
              "      fill: #174EA6;\n",
              "    }\n",
              "\n",
              "    [theme=dark] .colab-df-convert {\n",
              "      background-color: #3B4455;\n",
              "      fill: #D2E3FC;\n",
              "    }\n",
              "\n",
              "    [theme=dark] .colab-df-convert:hover {\n",
              "      background-color: #434B5C;\n",
              "      box-shadow: 0px 1px 3px 1px rgba(0, 0, 0, 0.15);\n",
              "      filter: drop-shadow(0px 1px 2px rgba(0, 0, 0, 0.3));\n",
              "      fill: #FFFFFF;\n",
              "    }\n",
              "  </style>\n",
              "\n",
              "      <script>\n",
              "        const buttonEl =\n",
              "          document.querySelector('#df-405ebe9c-a028-4f9a-8000-af2144f54b93 button.colab-df-convert');\n",
              "        buttonEl.style.display =\n",
              "          google.colab.kernel.accessAllowed ? 'block' : 'none';\n",
              "\n",
              "        async function convertToInteractive(key) {\n",
              "          const element = document.querySelector('#df-405ebe9c-a028-4f9a-8000-af2144f54b93');\n",
              "          const dataTable =\n",
              "            await google.colab.kernel.invokeFunction('convertToInteractive',\n",
              "                                                     [key], {});\n",
              "          if (!dataTable) return;\n",
              "\n",
              "          const docLinkHtml = 'Like what you see? Visit the ' +\n",
              "            '<a target=\"_blank\" href=https://colab.research.google.com/notebooks/data_table.ipynb>data table notebook</a>'\n",
              "            + ' to learn more about interactive tables.';\n",
              "          element.innerHTML = '';\n",
              "          dataTable['output_type'] = 'display_data';\n",
              "          await google.colab.output.renderOutput(dataTable, element);\n",
              "          const docLink = document.createElement('div');\n",
              "          docLink.innerHTML = docLinkHtml;\n",
              "          element.appendChild(docLink);\n",
              "        }\n",
              "      </script>\n",
              "    </div>\n",
              "  </div>\n",
              "  "
            ]
          },
          "metadata": {},
          "execution_count": 35
        }
      ]
    },
    {
      "cell_type": "code",
      "source": [
        "# 전체 데이터 조회\n",
        "\n",
        "conn = sqlite3.connect('/content/drive/MyDrive/영양4조/남궁정후/id_record1.db')\n",
        "\n",
        "with conn:\n",
        "    cur = conn.cursor()\n",
        "    sql = \"select * from id_record\"\n",
        "    cur.execute(sql)\n",
        "    rows = cur.fetchall()\n",
        "    cols = [column[0] for column in cur.description]\n",
        "    data_df = pd.DataFrame.from_records(data=rows, columns=cols)\n",
        "\n",
        "data_df"
      ],
      "metadata": {
        "colab": {
          "base_uri": "https://localhost:8080/",
          "height": 517
        },
        "id": "Yj37dk14bl6c",
        "outputId": "edcdbcde-ba76-44f6-acf0-bfe7ae901bbe"
      },
      "execution_count": 36,
      "outputs": [
        {
          "output_type": "execute_result",
          "data": {
            "text/plain": [
              "         id        date  성별     연령  중량(g)  에너지(kcal)  탄수화물(g)  당류(g)  지방(g)  \\\n",
              "0   kangsan  2022-04-14  남자  19-29  200.0      650.0     70.0    3.0  19.20   \n",
              "1    junghu  2022-04-15  여자  30-39  210.0      750.0     90.0    4.0  19.29   \n",
              "2   kangsan  2022-04-16  남자  19-29  210.0      720.0     80.0    4.7  16.30   \n",
              "3  jinyoung  2022-04-16  여자  30-39  180.0      590.0     62.0    3.0  10.00   \n",
              "4   kangsan  2022-04-17  남자  19-29  220.0      750.0     74.0    3.3  20.00   \n",
              "5   kangsan  2022-04-17  남자  19-29  220.0      750.0     74.0    3.3  20.00   \n",
              "6   kangsan  2022-04-17  남자  19-29  220.0      750.0     74.0    3.3  20.00   \n",
              "7   kangsan  2022-04-17  남자  19-29  220.0      750.0     74.0    3.3  20.00   \n",
              "\n",
              "   단백질(g)  칼슘(mg)  인(mg)  나트륨(mg)  칼륨(mg)  마그네슘(mg)  철(mg)  아연(mg)  콜레스테롤(mg)  \\\n",
              "0     5.2     2.6   96.0      4.1  142.00       0.0   0.26    2.00        0.0   \n",
              "1     7.2     3.6  126.0      4.1  166.72       0.0   0.26    1.83        0.0   \n",
              "2     5.9     4.6  136.0      3.0  143.00       0.0   0.30    1.60        0.0   \n",
              "3     7.0     8.0  117.0      3.0  152.00       0.0   0.30    1.60        0.0   \n",
              "4     6.1     2.8   96.0      4.3  151.00       0.0   0.30    2.10        0.0   \n",
              "5     6.1     2.8   96.0      4.3  151.00       0.0   0.30    2.10        0.0   \n",
              "6     6.1     2.8   96.0      4.3  151.00       0.0   0.30    2.10        0.0   \n",
              "7     6.1     2.8   96.0      4.3  151.00       0.0   0.30    2.10        0.0   \n",
              "\n",
              "   트랜스지방(g)  \n",
              "0       0.0  \n",
              "1       0.0  \n",
              "2       0.0  \n",
              "3       0.0  \n",
              "4       0.0  \n",
              "5       0.0  \n",
              "6       0.0  \n",
              "7       0.0  "
            ],
            "text/html": [
              "\n",
              "  <div id=\"df-807430b2-8fd6-4d57-959a-b855899f7dd8\">\n",
              "    <div class=\"colab-df-container\">\n",
              "      <div>\n",
              "<style scoped>\n",
              "    .dataframe tbody tr th:only-of-type {\n",
              "        vertical-align: middle;\n",
              "    }\n",
              "\n",
              "    .dataframe tbody tr th {\n",
              "        vertical-align: top;\n",
              "    }\n",
              "\n",
              "    .dataframe thead th {\n",
              "        text-align: right;\n",
              "    }\n",
              "</style>\n",
              "<table border=\"1\" class=\"dataframe\">\n",
              "  <thead>\n",
              "    <tr style=\"text-align: right;\">\n",
              "      <th></th>\n",
              "      <th>id</th>\n",
              "      <th>date</th>\n",
              "      <th>성별</th>\n",
              "      <th>연령</th>\n",
              "      <th>중량(g)</th>\n",
              "      <th>에너지(kcal)</th>\n",
              "      <th>탄수화물(g)</th>\n",
              "      <th>당류(g)</th>\n",
              "      <th>지방(g)</th>\n",
              "      <th>단백질(g)</th>\n",
              "      <th>칼슘(mg)</th>\n",
              "      <th>인(mg)</th>\n",
              "      <th>나트륨(mg)</th>\n",
              "      <th>칼륨(mg)</th>\n",
              "      <th>마그네슘(mg)</th>\n",
              "      <th>철(mg)</th>\n",
              "      <th>아연(mg)</th>\n",
              "      <th>콜레스테롤(mg)</th>\n",
              "      <th>트랜스지방(g)</th>\n",
              "    </tr>\n",
              "  </thead>\n",
              "  <tbody>\n",
              "    <tr>\n",
              "      <th>0</th>\n",
              "      <td>kangsan</td>\n",
              "      <td>2022-04-14</td>\n",
              "      <td>남자</td>\n",
              "      <td>19-29</td>\n",
              "      <td>200.0</td>\n",
              "      <td>650.0</td>\n",
              "      <td>70.0</td>\n",
              "      <td>3.0</td>\n",
              "      <td>19.20</td>\n",
              "      <td>5.2</td>\n",
              "      <td>2.6</td>\n",
              "      <td>96.0</td>\n",
              "      <td>4.1</td>\n",
              "      <td>142.00</td>\n",
              "      <td>0.0</td>\n",
              "      <td>0.26</td>\n",
              "      <td>2.00</td>\n",
              "      <td>0.0</td>\n",
              "      <td>0.0</td>\n",
              "    </tr>\n",
              "    <tr>\n",
              "      <th>1</th>\n",
              "      <td>junghu</td>\n",
              "      <td>2022-04-15</td>\n",
              "      <td>여자</td>\n",
              "      <td>30-39</td>\n",
              "      <td>210.0</td>\n",
              "      <td>750.0</td>\n",
              "      <td>90.0</td>\n",
              "      <td>4.0</td>\n",
              "      <td>19.29</td>\n",
              "      <td>7.2</td>\n",
              "      <td>3.6</td>\n",
              "      <td>126.0</td>\n",
              "      <td>4.1</td>\n",
              "      <td>166.72</td>\n",
              "      <td>0.0</td>\n",
              "      <td>0.26</td>\n",
              "      <td>1.83</td>\n",
              "      <td>0.0</td>\n",
              "      <td>0.0</td>\n",
              "    </tr>\n",
              "    <tr>\n",
              "      <th>2</th>\n",
              "      <td>kangsan</td>\n",
              "      <td>2022-04-16</td>\n",
              "      <td>남자</td>\n",
              "      <td>19-29</td>\n",
              "      <td>210.0</td>\n",
              "      <td>720.0</td>\n",
              "      <td>80.0</td>\n",
              "      <td>4.7</td>\n",
              "      <td>16.30</td>\n",
              "      <td>5.9</td>\n",
              "      <td>4.6</td>\n",
              "      <td>136.0</td>\n",
              "      <td>3.0</td>\n",
              "      <td>143.00</td>\n",
              "      <td>0.0</td>\n",
              "      <td>0.30</td>\n",
              "      <td>1.60</td>\n",
              "      <td>0.0</td>\n",
              "      <td>0.0</td>\n",
              "    </tr>\n",
              "    <tr>\n",
              "      <th>3</th>\n",
              "      <td>jinyoung</td>\n",
              "      <td>2022-04-16</td>\n",
              "      <td>여자</td>\n",
              "      <td>30-39</td>\n",
              "      <td>180.0</td>\n",
              "      <td>590.0</td>\n",
              "      <td>62.0</td>\n",
              "      <td>3.0</td>\n",
              "      <td>10.00</td>\n",
              "      <td>7.0</td>\n",
              "      <td>8.0</td>\n",
              "      <td>117.0</td>\n",
              "      <td>3.0</td>\n",
              "      <td>152.00</td>\n",
              "      <td>0.0</td>\n",
              "      <td>0.30</td>\n",
              "      <td>1.60</td>\n",
              "      <td>0.0</td>\n",
              "      <td>0.0</td>\n",
              "    </tr>\n",
              "    <tr>\n",
              "      <th>4</th>\n",
              "      <td>kangsan</td>\n",
              "      <td>2022-04-17</td>\n",
              "      <td>남자</td>\n",
              "      <td>19-29</td>\n",
              "      <td>220.0</td>\n",
              "      <td>750.0</td>\n",
              "      <td>74.0</td>\n",
              "      <td>3.3</td>\n",
              "      <td>20.00</td>\n",
              "      <td>6.1</td>\n",
              "      <td>2.8</td>\n",
              "      <td>96.0</td>\n",
              "      <td>4.3</td>\n",
              "      <td>151.00</td>\n",
              "      <td>0.0</td>\n",
              "      <td>0.30</td>\n",
              "      <td>2.10</td>\n",
              "      <td>0.0</td>\n",
              "      <td>0.0</td>\n",
              "    </tr>\n",
              "    <tr>\n",
              "      <th>5</th>\n",
              "      <td>kangsan</td>\n",
              "      <td>2022-04-17</td>\n",
              "      <td>남자</td>\n",
              "      <td>19-29</td>\n",
              "      <td>220.0</td>\n",
              "      <td>750.0</td>\n",
              "      <td>74.0</td>\n",
              "      <td>3.3</td>\n",
              "      <td>20.00</td>\n",
              "      <td>6.1</td>\n",
              "      <td>2.8</td>\n",
              "      <td>96.0</td>\n",
              "      <td>4.3</td>\n",
              "      <td>151.00</td>\n",
              "      <td>0.0</td>\n",
              "      <td>0.30</td>\n",
              "      <td>2.10</td>\n",
              "      <td>0.0</td>\n",
              "      <td>0.0</td>\n",
              "    </tr>\n",
              "    <tr>\n",
              "      <th>6</th>\n",
              "      <td>kangsan</td>\n",
              "      <td>2022-04-17</td>\n",
              "      <td>남자</td>\n",
              "      <td>19-29</td>\n",
              "      <td>220.0</td>\n",
              "      <td>750.0</td>\n",
              "      <td>74.0</td>\n",
              "      <td>3.3</td>\n",
              "      <td>20.00</td>\n",
              "      <td>6.1</td>\n",
              "      <td>2.8</td>\n",
              "      <td>96.0</td>\n",
              "      <td>4.3</td>\n",
              "      <td>151.00</td>\n",
              "      <td>0.0</td>\n",
              "      <td>0.30</td>\n",
              "      <td>2.10</td>\n",
              "      <td>0.0</td>\n",
              "      <td>0.0</td>\n",
              "    </tr>\n",
              "    <tr>\n",
              "      <th>7</th>\n",
              "      <td>kangsan</td>\n",
              "      <td>2022-04-17</td>\n",
              "      <td>남자</td>\n",
              "      <td>19-29</td>\n",
              "      <td>220.0</td>\n",
              "      <td>750.0</td>\n",
              "      <td>74.0</td>\n",
              "      <td>3.3</td>\n",
              "      <td>20.00</td>\n",
              "      <td>6.1</td>\n",
              "      <td>2.8</td>\n",
              "      <td>96.0</td>\n",
              "      <td>4.3</td>\n",
              "      <td>151.00</td>\n",
              "      <td>0.0</td>\n",
              "      <td>0.30</td>\n",
              "      <td>2.10</td>\n",
              "      <td>0.0</td>\n",
              "      <td>0.0</td>\n",
              "    </tr>\n",
              "  </tbody>\n",
              "</table>\n",
              "</div>\n",
              "      <button class=\"colab-df-convert\" onclick=\"convertToInteractive('df-807430b2-8fd6-4d57-959a-b855899f7dd8')\"\n",
              "              title=\"Convert this dataframe to an interactive table.\"\n",
              "              style=\"display:none;\">\n",
              "        \n",
              "  <svg xmlns=\"http://www.w3.org/2000/svg\" height=\"24px\"viewBox=\"0 0 24 24\"\n",
              "       width=\"24px\">\n",
              "    <path d=\"M0 0h24v24H0V0z\" fill=\"none\"/>\n",
              "    <path d=\"M18.56 5.44l.94 2.06.94-2.06 2.06-.94-2.06-.94-.94-2.06-.94 2.06-2.06.94zm-11 1L8.5 8.5l.94-2.06 2.06-.94-2.06-.94L8.5 2.5l-.94 2.06-2.06.94zm10 10l.94 2.06.94-2.06 2.06-.94-2.06-.94-.94-2.06-.94 2.06-2.06.94z\"/><path d=\"M17.41 7.96l-1.37-1.37c-.4-.4-.92-.59-1.43-.59-.52 0-1.04.2-1.43.59L10.3 9.45l-7.72 7.72c-.78.78-.78 2.05 0 2.83L4 21.41c.39.39.9.59 1.41.59.51 0 1.02-.2 1.41-.59l7.78-7.78 2.81-2.81c.8-.78.8-2.07 0-2.86zM5.41 20L4 18.59l7.72-7.72 1.47 1.35L5.41 20z\"/>\n",
              "  </svg>\n",
              "      </button>\n",
              "      \n",
              "  <style>\n",
              "    .colab-df-container {\n",
              "      display:flex;\n",
              "      flex-wrap:wrap;\n",
              "      gap: 12px;\n",
              "    }\n",
              "\n",
              "    .colab-df-convert {\n",
              "      background-color: #E8F0FE;\n",
              "      border: none;\n",
              "      border-radius: 50%;\n",
              "      cursor: pointer;\n",
              "      display: none;\n",
              "      fill: #1967D2;\n",
              "      height: 32px;\n",
              "      padding: 0 0 0 0;\n",
              "      width: 32px;\n",
              "    }\n",
              "\n",
              "    .colab-df-convert:hover {\n",
              "      background-color: #E2EBFA;\n",
              "      box-shadow: 0px 1px 2px rgba(60, 64, 67, 0.3), 0px 1px 3px 1px rgba(60, 64, 67, 0.15);\n",
              "      fill: #174EA6;\n",
              "    }\n",
              "\n",
              "    [theme=dark] .colab-df-convert {\n",
              "      background-color: #3B4455;\n",
              "      fill: #D2E3FC;\n",
              "    }\n",
              "\n",
              "    [theme=dark] .colab-df-convert:hover {\n",
              "      background-color: #434B5C;\n",
              "      box-shadow: 0px 1px 3px 1px rgba(0, 0, 0, 0.15);\n",
              "      filter: drop-shadow(0px 1px 2px rgba(0, 0, 0, 0.3));\n",
              "      fill: #FFFFFF;\n",
              "    }\n",
              "  </style>\n",
              "\n",
              "      <script>\n",
              "        const buttonEl =\n",
              "          document.querySelector('#df-807430b2-8fd6-4d57-959a-b855899f7dd8 button.colab-df-convert');\n",
              "        buttonEl.style.display =\n",
              "          google.colab.kernel.accessAllowed ? 'block' : 'none';\n",
              "\n",
              "        async function convertToInteractive(key) {\n",
              "          const element = document.querySelector('#df-807430b2-8fd6-4d57-959a-b855899f7dd8');\n",
              "          const dataTable =\n",
              "            await google.colab.kernel.invokeFunction('convertToInteractive',\n",
              "                                                     [key], {});\n",
              "          if (!dataTable) return;\n",
              "\n",
              "          const docLinkHtml = 'Like what you see? Visit the ' +\n",
              "            '<a target=\"_blank\" href=https://colab.research.google.com/notebooks/data_table.ipynb>data table notebook</a>'\n",
              "            + ' to learn more about interactive tables.';\n",
              "          element.innerHTML = '';\n",
              "          dataTable['output_type'] = 'display_data';\n",
              "          await google.colab.output.renderOutput(dataTable, element);\n",
              "          const docLink = document.createElement('div');\n",
              "          docLink.innerHTML = docLinkHtml;\n",
              "          element.appendChild(docLink);\n",
              "        }\n",
              "      </script>\n",
              "    </div>\n",
              "  </div>\n",
              "  "
            ]
          },
          "metadata": {},
          "execution_count": 36
        }
      ]
    },
    {
      "cell_type": "markdown",
      "source": [
        "# nutrition_limit db 조회하기"
      ],
      "metadata": {
        "id": "Y54Pws17bsLw"
      }
    },
    {
      "cell_type": "code",
      "source": [
        "data = ['비만', '남자', '19-29']"
      ],
      "metadata": {
        "id": "T4l6oWLIbwxA"
      },
      "execution_count": 37,
      "outputs": []
    },
    {
      "cell_type": "code",
      "source": [
        "def nutri_limit(data) : \n",
        "    \n",
        "    conn = sqlite3.connect('/content/drive/MyDrive/영양4조/[db]nutrition_limit.db')\n",
        "\n",
        "    with conn:\n",
        "        cur = conn.cursor()\n",
        "        sql = \"select * from nutrition_limit where 질병명=? and 성별=? and 연령=?\"\n",
        "        cur.execute(sql, data)\n",
        "        rows = cur.fetchall()\n",
        "        cols = [column[0] for column in cur.description]\n",
        "        data_df = pd.DataFrame.from_records(data=rows, columns=cols)\n",
        "    return data_df"
      ],
      "metadata": {
        "id": "wSK7DbSzbx_z"
      },
      "execution_count": 38,
      "outputs": []
    },
    {
      "cell_type": "code",
      "source": [
        "nutri_limit(data)"
      ],
      "metadata": {
        "colab": {
          "base_uri": "https://localhost:8080/",
          "height": 81
        },
        "id": "bdzWO-Bmb0Vh",
        "outputId": "2d95a8ae-c00d-4f45-e141-505250b334c9"
      },
      "execution_count": 39,
      "outputs": [
        {
          "output_type": "execute_result",
          "data": {
            "text/plain": [
              "  질병명 영양성분  성별     연령  섭취기준\\n(1일)    단위  \\\n",
              "0  비만   열량  남자  19-29        2100  kcal   \n",
              "\n",
              "                                      경고문구  섭취기준(1회)  \n",
              "0  (필요열량 - 500 kcal) 실천하면 일주일에 0.5kg 감소 예상       700  "
            ],
            "text/html": [
              "\n",
              "  <div id=\"df-50f23607-9a09-4091-82ce-eff8652e0746\">\n",
              "    <div class=\"colab-df-container\">\n",
              "      <div>\n",
              "<style scoped>\n",
              "    .dataframe tbody tr th:only-of-type {\n",
              "        vertical-align: middle;\n",
              "    }\n",
              "\n",
              "    .dataframe tbody tr th {\n",
              "        vertical-align: top;\n",
              "    }\n",
              "\n",
              "    .dataframe thead th {\n",
              "        text-align: right;\n",
              "    }\n",
              "</style>\n",
              "<table border=\"1\" class=\"dataframe\">\n",
              "  <thead>\n",
              "    <tr style=\"text-align: right;\">\n",
              "      <th></th>\n",
              "      <th>질병명</th>\n",
              "      <th>영양성분</th>\n",
              "      <th>성별</th>\n",
              "      <th>연령</th>\n",
              "      <th>섭취기준\\n(1일)</th>\n",
              "      <th>단위</th>\n",
              "      <th>경고문구</th>\n",
              "      <th>섭취기준(1회)</th>\n",
              "    </tr>\n",
              "  </thead>\n",
              "  <tbody>\n",
              "    <tr>\n",
              "      <th>0</th>\n",
              "      <td>비만</td>\n",
              "      <td>열량</td>\n",
              "      <td>남자</td>\n",
              "      <td>19-29</td>\n",
              "      <td>2100</td>\n",
              "      <td>kcal</td>\n",
              "      <td>(필요열량 - 500 kcal) 실천하면 일주일에 0.5kg 감소 예상</td>\n",
              "      <td>700</td>\n",
              "    </tr>\n",
              "  </tbody>\n",
              "</table>\n",
              "</div>\n",
              "      <button class=\"colab-df-convert\" onclick=\"convertToInteractive('df-50f23607-9a09-4091-82ce-eff8652e0746')\"\n",
              "              title=\"Convert this dataframe to an interactive table.\"\n",
              "              style=\"display:none;\">\n",
              "        \n",
              "  <svg xmlns=\"http://www.w3.org/2000/svg\" height=\"24px\"viewBox=\"0 0 24 24\"\n",
              "       width=\"24px\">\n",
              "    <path d=\"M0 0h24v24H0V0z\" fill=\"none\"/>\n",
              "    <path d=\"M18.56 5.44l.94 2.06.94-2.06 2.06-.94-2.06-.94-.94-2.06-.94 2.06-2.06.94zm-11 1L8.5 8.5l.94-2.06 2.06-.94-2.06-.94L8.5 2.5l-.94 2.06-2.06.94zm10 10l.94 2.06.94-2.06 2.06-.94-2.06-.94-.94-2.06-.94 2.06-2.06.94z\"/><path d=\"M17.41 7.96l-1.37-1.37c-.4-.4-.92-.59-1.43-.59-.52 0-1.04.2-1.43.59L10.3 9.45l-7.72 7.72c-.78.78-.78 2.05 0 2.83L4 21.41c.39.39.9.59 1.41.59.51 0 1.02-.2 1.41-.59l7.78-7.78 2.81-2.81c.8-.78.8-2.07 0-2.86zM5.41 20L4 18.59l7.72-7.72 1.47 1.35L5.41 20z\"/>\n",
              "  </svg>\n",
              "      </button>\n",
              "      \n",
              "  <style>\n",
              "    .colab-df-container {\n",
              "      display:flex;\n",
              "      flex-wrap:wrap;\n",
              "      gap: 12px;\n",
              "    }\n",
              "\n",
              "    .colab-df-convert {\n",
              "      background-color: #E8F0FE;\n",
              "      border: none;\n",
              "      border-radius: 50%;\n",
              "      cursor: pointer;\n",
              "      display: none;\n",
              "      fill: #1967D2;\n",
              "      height: 32px;\n",
              "      padding: 0 0 0 0;\n",
              "      width: 32px;\n",
              "    }\n",
              "\n",
              "    .colab-df-convert:hover {\n",
              "      background-color: #E2EBFA;\n",
              "      box-shadow: 0px 1px 2px rgba(60, 64, 67, 0.3), 0px 1px 3px 1px rgba(60, 64, 67, 0.15);\n",
              "      fill: #174EA6;\n",
              "    }\n",
              "\n",
              "    [theme=dark] .colab-df-convert {\n",
              "      background-color: #3B4455;\n",
              "      fill: #D2E3FC;\n",
              "    }\n",
              "\n",
              "    [theme=dark] .colab-df-convert:hover {\n",
              "      background-color: #434B5C;\n",
              "      box-shadow: 0px 1px 3px 1px rgba(0, 0, 0, 0.15);\n",
              "      filter: drop-shadow(0px 1px 2px rgba(0, 0, 0, 0.3));\n",
              "      fill: #FFFFFF;\n",
              "    }\n",
              "  </style>\n",
              "\n",
              "      <script>\n",
              "        const buttonEl =\n",
              "          document.querySelector('#df-50f23607-9a09-4091-82ce-eff8652e0746 button.colab-df-convert');\n",
              "        buttonEl.style.display =\n",
              "          google.colab.kernel.accessAllowed ? 'block' : 'none';\n",
              "\n",
              "        async function convertToInteractive(key) {\n",
              "          const element = document.querySelector('#df-50f23607-9a09-4091-82ce-eff8652e0746');\n",
              "          const dataTable =\n",
              "            await google.colab.kernel.invokeFunction('convertToInteractive',\n",
              "                                                     [key], {});\n",
              "          if (!dataTable) return;\n",
              "\n",
              "          const docLinkHtml = 'Like what you see? Visit the ' +\n",
              "            '<a target=\"_blank\" href=https://colab.research.google.com/notebooks/data_table.ipynb>data table notebook</a>'\n",
              "            + ' to learn more about interactive tables.';\n",
              "          element.innerHTML = '';\n",
              "          dataTable['output_type'] = 'display_data';\n",
              "          await google.colab.output.renderOutput(dataTable, element);\n",
              "          const docLink = document.createElement('div');\n",
              "          docLink.innerHTML = docLinkHtml;\n",
              "          element.appendChild(docLink);\n",
              "        }\n",
              "      </script>\n",
              "    </div>\n",
              "  </div>\n",
              "  "
            ]
          },
          "metadata": {},
          "execution_count": 39
        }
      ]
    },
    {
      "cell_type": "markdown",
      "source": [
        "# id_record 저장"
      ],
      "metadata": {
        "id": "DlCQpgXWb-Cu"
      }
    },
    {
      "cell_type": "code",
      "source": [
        "data = [['kangsan', '2022-04-17', '남자', '19-29', 220, 750, 74, 3.3, 20, 6.1, 2.8, 96, 4.3, 151, 0, 0.3, 2.1, 0, 0]]"
      ],
      "metadata": {
        "id": "joe5VDznhPO8"
      },
      "execution_count": 40,
      "outputs": []
    },
    {
      "cell_type": "code",
      "source": [
        "# 1회분 섭취정보 db저장\n",
        "def add_record(data):\n",
        "    \n",
        "    conn = sqlite3.connect('/content/drive/MyDrive/영양4조/남궁정후/id_record1.db')\n",
        "    \n",
        "    with conn:\n",
        "        cur = conn.cursor()\n",
        "        sql = \"insert into id_record values(?,?,?,?,?,?,?,?,?,?,?,?,?,?,?,?,?,?,?)\"\n",
        "        cur.executemany(sql, data)\n",
        "        \n",
        "        conn.commit()"
      ],
      "metadata": {
        "id": "QzOJSk_4ydXA"
      },
      "execution_count": 41,
      "outputs": []
    },
    {
      "cell_type": "code",
      "source": [
        "add_record(data)"
      ],
      "metadata": {
        "id": "qDriT2--hSaa"
      },
      "execution_count": 42,
      "outputs": []
    },
    {
      "cell_type": "markdown",
      "metadata": {
        "id": "x7r8hOn_Bn_m"
      },
      "source": [
        "# FASTAPI 설정 =====\n",
        "- install fastapi, uvicorn 등\n",
        "- import fastapi, ngrok 등"
      ]
    },
    {
      "cell_type": "code",
      "execution_count": 43,
      "metadata": {
        "colab": {
          "base_uri": "https://localhost:8080/"
        },
        "id": "gpdvnVwjB3p5",
        "outputId": "3ef4d1a8-12ae-4d92-d6b5-2faf50e4a0f4"
      },
      "outputs": [
        {
          "output_type": "stream",
          "name": "stdout",
          "text": [
            "Collecting fastapi\n",
            "  Downloading fastapi-0.75.2-py3-none-any.whl (54 kB)\n",
            "\u001b[?25l\r\u001b[K     |██████                          | 10 kB 23.6 MB/s eta 0:00:01\r\u001b[K     |████████████                    | 20 kB 23.9 MB/s eta 0:00:01\r\u001b[K     |██████████████████              | 30 kB 12.2 MB/s eta 0:00:01\r\u001b[K     |████████████████████████        | 40 kB 7.1 MB/s eta 0:00:01\r\u001b[K     |██████████████████████████████  | 51 kB 8.3 MB/s eta 0:00:01\r\u001b[K     |████████████████████████████████| 54 kB 2.5 MB/s \n",
            "\u001b[?25hRequirement already satisfied: nest-asyncio in /usr/local/lib/python3.7/dist-packages (1.5.5)\n",
            "Collecting pyngrok\n",
            "  Downloading pyngrok-5.1.0.tar.gz (745 kB)\n",
            "\u001b[K     |████████████████████████████████| 745 kB 14.2 MB/s \n",
            "\u001b[?25hCollecting uvicorn\n",
            "  Downloading uvicorn-0.17.6-py3-none-any.whl (53 kB)\n",
            "\u001b[K     |████████████████████████████████| 53 kB 2.4 MB/s \n",
            "\u001b[?25hCollecting aiofiles\n",
            "  Downloading aiofiles-0.8.0-py3-none-any.whl (13 kB)\n",
            "Collecting python-multipart\n",
            "  Downloading python-multipart-0.0.5.tar.gz (32 kB)\n",
            "Collecting pydantic!=1.7,!=1.7.1,!=1.7.2,!=1.7.3,!=1.8,!=1.8.1,<2.0.0,>=1.6.2\n",
            "  Downloading pydantic-1.9.0-cp37-cp37m-manylinux_2_17_x86_64.manylinux2014_x86_64.whl (10.9 MB)\n",
            "\u001b[K     |████████████████████████████████| 10.9 MB 45.7 MB/s \n",
            "\u001b[?25hCollecting starlette==0.17.1\n",
            "  Downloading starlette-0.17.1-py3-none-any.whl (58 kB)\n",
            "\u001b[K     |████████████████████████████████| 58 kB 6.8 MB/s \n",
            "\u001b[?25hRequirement already satisfied: typing-extensions in /usr/local/lib/python3.7/dist-packages (from starlette==0.17.1->fastapi) (4.1.1)\n",
            "Collecting anyio<4,>=3.0.0\n",
            "  Downloading anyio-3.5.0-py3-none-any.whl (79 kB)\n",
            "\u001b[K     |████████████████████████████████| 79 kB 9.2 MB/s \n",
            "\u001b[?25hRequirement already satisfied: idna>=2.8 in /usr/local/lib/python3.7/dist-packages (from anyio<4,>=3.0.0->starlette==0.17.1->fastapi) (2.10)\n",
            "Collecting sniffio>=1.1\n",
            "  Downloading sniffio-1.2.0-py3-none-any.whl (10 kB)\n",
            "Requirement already satisfied: PyYAML in /usr/local/lib/python3.7/dist-packages (from pyngrok) (3.13)\n",
            "Collecting h11>=0.8\n",
            "  Downloading h11-0.13.0-py3-none-any.whl (58 kB)\n",
            "\u001b[K     |████████████████████████████████| 58 kB 6.6 MB/s \n",
            "\u001b[?25hCollecting asgiref>=3.4.0\n",
            "  Downloading asgiref-3.5.0-py3-none-any.whl (22 kB)\n",
            "Requirement already satisfied: click>=7.0 in /usr/local/lib/python3.7/dist-packages (from uvicorn) (7.1.2)\n",
            "Requirement already satisfied: six>=1.4.0 in /usr/local/lib/python3.7/dist-packages (from python-multipart) (1.15.0)\n",
            "Building wheels for collected packages: pyngrok, python-multipart\n",
            "  Building wheel for pyngrok (setup.py) ... \u001b[?25l\u001b[?25hdone\n",
            "  Created wheel for pyngrok: filename=pyngrok-5.1.0-py3-none-any.whl size=19007 sha256=b0a04b8718eafbf130c23070b76296001fa95378b6ab9b47273d2beefdb27415\n",
            "  Stored in directory: /root/.cache/pip/wheels/bf/e6/af/ccf6598ecefecd44104069371795cb9b3afbcd16987f6ccfb3\n",
            "  Building wheel for python-multipart (setup.py) ... \u001b[?25l\u001b[?25hdone\n",
            "  Created wheel for python-multipart: filename=python_multipart-0.0.5-py3-none-any.whl size=31678 sha256=1e7f48f1ffcfcc377e2b0e9b41f1acc3a15fd77b8681a96d0ff06bcd95ff75cc\n",
            "  Stored in directory: /root/.cache/pip/wheels/2c/41/7c/bfd1c180534ffdcc0972f78c5758f89881602175d48a8bcd2c\n",
            "Successfully built pyngrok python-multipart\n",
            "Installing collected packages: sniffio, anyio, starlette, pydantic, h11, asgiref, uvicorn, python-multipart, pyngrok, fastapi, aiofiles\n",
            "Successfully installed aiofiles-0.8.0 anyio-3.5.0 asgiref-3.5.0 fastapi-0.75.2 h11-0.13.0 pydantic-1.9.0 pyngrok-5.1.0 python-multipart-0.0.5 sniffio-1.2.0 starlette-0.17.1 uvicorn-0.17.6\n"
          ]
        }
      ],
      "source": [
        "!pip install fastapi nest-asyncio pyngrok uvicorn aiofiles python-multipart"
      ]
    },
    {
      "cell_type": "code",
      "execution_count": 44,
      "metadata": {
        "id": "rz7B5Wn1CAvK"
      },
      "outputs": [],
      "source": [
        "# 모듈 임포트\n",
        "from fastapi import FastAPI, Request, Form, File, UploadFile, Response\n",
        "from fastapi.responses import HTMLResponse, RedirectResponse\n",
        "from fastapi.staticfiles import StaticFiles\n",
        "from fastapi.templating import Jinja2Templates\n",
        "import nest_asyncio\n",
        "from pyngrok import ngrok\n",
        "\n",
        "import uvicorn"
      ]
    },
    {
      "cell_type": "markdown",
      "metadata": {
        "id": "NvQtCTZAsE2p"
      },
      "source": [
        "# HTML파일작성\n",
        "- API 화면 출력용 html 작성"
      ]
    },
    {
      "cell_type": "code",
      "execution_count": 45,
      "metadata": {
        "colab": {
          "base_uri": "https://localhost:8080/"
        },
        "id": "RwVwQvNGCBXD",
        "outputId": "d367d556-272f-434e-d70d-3e7f0f8de539"
      },
      "outputs": [
        {
          "output_type": "stream",
          "name": "stdout",
          "text": [
            "Writing templates/main.html\n"
          ]
        }
      ],
      "source": [
        "%%writefile templates/main.html\n",
        "<!DOCTYPE html>\n",
        "<html>\n",
        "\t<head>\n",
        "        <link rel=\"preconnect\" href=\"https://fonts.googleapis.com\" />\n",
        "\t\t<link rel=\"preconnect\" href=\"https://fonts.gstatic.com\" crossorigin />\n",
        "\t\t<link\n",
        "\t\t\thref=\"https://fonts.googleapis.com/css2?family=Do+Hyeon&display=swap\"\n",
        "\t\t\trel=\"stylesheet\"\n",
        "\t\t/>\n",
        "        \n",
        "        <!-- Required meta tags -->\n",
        "\t\t<meta charset=\"utf-8\" />\n",
        "\t\t<meta name=\"viewport\" content=\"width=device-width, initial-scale=1\" />\n",
        "\n",
        "        <!-- Bootstrap CSS -->\n",
        "\t\t<link\n",
        "        href=\"https://cdn.jsdelivr.net/npm/bootstrap@5.1.3/dist/css/bootstrap.min.css\"\n",
        "        rel=\"stylesheet\"\n",
        "        integrity=\"sha384-1BmE4kWBq78iYhFldvKuhfTAU6auU8tT94WrHftjDbrCEXSU1oBoqyl2QvZ6jIW3\"\n",
        "        crossorigin=\"anonymous\"\n",
        "        />\n",
        "\n",
        "        <title>Nutrition_4</title>\n",
        "        <link rel=\"stylesheet\" href=\"/static/style.css\" />\n",
        "    </head>\n",
        "\n",
        "\t<body>\n",
        "        <form method=\"post\" action=\"/print\" enctype=\"multipart/form-data\">\n",
        "            <section class=\"section\">\n",
        "                <h1 class=\"title\">개인 맞춤형 식단 필터링 서비스</h1>\n",
        "                <h2 class=\"subtitle\">카카오로그인을 통한 성별/나이정보 동기화기반 서비스 제공</h2>\n",
        "                <div class=\"wrapper\">\n",
        "                    <div class=\"file-upload\">\n",
        "                        <input type=\"file\" />\n",
        "                        <img src=\"img/upload.png\" class=\"mt-5 pt-2 upload\" style=\"width: 16%;\" />\n",
        "                        <h3 class=\"mb-5 pd-5 pt-4 upload-text\">음식사진을 올려주세요</h3>\n",
        "                    </div>\n",
        "                </div>\n",
        "            <input type='submit' Value='제출'>    \n",
        "        </form>\n",
        "\n",
        "    </body>\n",
        "\t\n",
        "</html>"
      ]
    },
    {
      "cell_type": "code",
      "source": [
        "            <div class=\"container file-upload\">\n",
        "                <div class=\"image-upload-wrap\" style=\"width: 45%; margin: 0 auto;\">\n",
        "                    <input\n",
        "                        class=\"file-upload-input\"\n",
        "                        type=\"file\"\n",
        "                        name='img'\n",
        "                        onchange=\"readURL(this);\"\n",
        "                        accept=\"image/*\"\n",
        "                    />\n",
        "                    <div class=\"drag-text\">\n",
        "                        <img src=\"img/upload.png\" class=\"mt-5 pt-2 upload\" style=\"width: 16%;\" />\n",
        "                        <h3 class=\"mb-5 pd-5 pt-4 upload-text\">음식사진을 올려주세요</h3>\n",
        "                    </div>\n",
        "                </div>\n",
        "                \n",
        "                <div class=\"file-upload-content\">\n",
        "                    <img class=\"file-upload-image\" id=\"food-image\" src=\"#\" alt=\"your image\" />\n",
        "                    \n",
        "                    <div id=\"label-container\">사진을 지우시려면 아래 버튼 눌러주세요</div>\n",
        "                    <div class=\"image-title-wrap\">\n",
        "                        <button type=\"button\" onclick=\"removeUpload()\" class=\"remove-image\">\n",
        "                            이미지 삭제\n",
        "                            <span class=\"image-title\">업로드된 이미지</span>\n",
        "                        </button>\n",
        "                    </div>\n",
        "                </div>\n",
        "            </div>\n",
        "            <center>\n",
        "                <div class='pt-2 mb-2 submitbutton'>\n",
        "                  <input type=\"submit\", Value=작동>\n",
        "                </div>\n",
        "            </center>\n",
        "        </form>\n",
        "\n",
        "        <script>\n",
        "\t\t\t// input file들이 들어오면 아래 코드들이 실행\n",
        "\t\t\tfunction readURL(input) {\n",
        "\t\t\t\tif (input.files && input.files[0]) {\n",
        "\t\t\t\t\tvar reader = new FileReader();\n",
        "\t\t\t\t\treader.onload = function (e) {\n",
        "\t\t\t\t\t\t$('.image-upload-wrap').hide();\n",
        "\t\t\t\t\t\t$('.file-upload-image').attr('src', e.target.result);\n",
        "\t\t\t\t\t\t$('.file-upload-content').show();\n",
        "\t\t\t\t\t\t$('.image-title').html(input.files[0].name);\n",
        "\t\t\t\t\t    };\n",
        "\t\t\t\t\treader.readAsDataURL(input.files[0]);\n",
        "\t\t\t\t\tinit().then(() => {\n",
        "\t\t\t\t\t\tconsole.log('hello');\n",
        "\t\t\t\t\t\tpredict();\n",
        "\t\t\t\t\t    });\n",
        "\t\t\t\t    }\n",
        "                else {\n",
        "\t\t\t\t\tremoveUpload();\n",
        "\t\t\t\t    }\n",
        "\t\t\t    }\n",
        "\n",
        "\t\t\tfunction removeUpload() {\n",
        "\t\t\t\t$('.file-upload-input').replaceWith($('.file-upload-input').clone());\n",
        "\t\t\t\t$('.file-upload-content').hide();\n",
        "\t\t\t\t$('.image-upload-wrap').show();\n",
        "                \n",
        "\t\t\t    $('.image-upload-wrap').bind('dragover', \n",
        "                    function () {\n",
        "\t\t\t\t        $('.image-upload-wrap').addClass('image-dropping');\n",
        "\t\t\t            });\n",
        "\t\t\t    $('.image-upload-wrap').bind('dragleave',\n",
        "                    function () {\n",
        "\t\t\t\t        $('.image-upload-wrap').removeClass('image-dropping');\n",
        "\t\t\t            });\n",
        "                }\n",
        "\t\t</script>\n",
        "        <script src=\"https://cdnjs.cloudflare.com/ajax/libs/jquery/3.1.1/jquery.min.js\"></script>"
      ],
      "metadata": {
        "id": "hcToisCiZjvG",
        "colab": {
          "base_uri": "https://localhost:8080/",
          "height": 137
        },
        "outputId": "0bc5006f-4a7c-46cf-90e6-d761ab590d91"
      },
      "execution_count": 46,
      "outputs": [
        {
          "output_type": "error",
          "ename": "SyntaxError",
          "evalue": "ignored",
          "traceback": [
            "\u001b[0;36m  File \u001b[0;32m\"<ipython-input-46-99a592e02f54>\"\u001b[0;36m, line \u001b[0;32m1\u001b[0m\n\u001b[0;31m    <div class=\"container file-upload\">\u001b[0m\n\u001b[0m    ^\u001b[0m\n\u001b[0;31mSyntaxError\u001b[0m\u001b[0;31m:\u001b[0m invalid syntax\n"
          ]
        }
      ]
    },
    {
      "cell_type": "markdown",
      "source": [
        "# index 파일 작성"
      ],
      "metadata": {
        "id": "TcK6yxyuoYIS"
      }
    },
    {
      "cell_type": "code",
      "source": [
        "%%writefile templates/index.html\n",
        "<!DOCTYPE html>\n",
        "<html>\n",
        "\t<head>\n",
        "        <link rel=\"preconnect\" href=\"https://fonts.googleapis.com\" />\n",
        "\t\t<link rel=\"preconnect\" href=\"https://fonts.gstatic.com\" crossorigin />\n",
        "\t\t<link\n",
        "\t\t\thref=\"https://fonts.googleapis.com/css2?family=Gowun+Dodum&display=swap\"\n",
        "\t\t\trel=\"stylesheet\"\n",
        "\t\t/>\n",
        "        \n",
        "        <!-- Required meta tags -->\n",
        "\t\t<meta charset=\"utf-8\" />\n",
        "\t\t<meta name=\"viewport\" content=\"width=device-width, initial-scale=1\" />\n",
        "\n",
        "        <!-- Bootstrap CSS -->\n",
        "\t\t<link\n",
        "        href=\"https://cdn.jsdelivr.net/npm/bootstrap@5.1.3/dist/css/bootstrap.min.css\"\n",
        "        rel=\"stylesheet\"\n",
        "        integrity=\"sha384-1BmE4kWBq78iYhFldvKuhfTAU6auU8tT94WrHftjDbrCEXSU1oBoqyl2QvZ6jIW3\"\n",
        "        crossorigin=\"anonymous\"\n",
        "        />\n",
        "\n",
        "        <title>Nutrition_4</title>\n",
        "        <link rel=\"stylesheet\" href=\"/static/style.css\" />\n",
        "    </head>\n",
        "\n",
        "\t<body>\n",
        "        <form method=\"get\" action=\"/kakao\" enctype=\"multipart/form-data\">\n",
        "            <section class=\"section\">\n",
        "                <h2 class=\"title\">개인 맞춤형 식단 필터링 서비스</h2>\n",
        "                <h5 class=\"subtitle\">카카오로그인을 통한 성별/나이정보 동기화기반 서비스 제공</h5>\n",
        "\n",
        "            <center>\n",
        "                <div class='pt-2 mb-2 submitbutton'>\n",
        "                    <a id=\"btn-kakao-login\" href=\"kakao\">\n",
        "\t\t  \t\t\t<img src=\"img/kakao_login_large_narrow.png\" width=\"200\" alt=\"카카오 로그인 버튼\"/>\n",
        "\t\t\t\t\t</a>\n",
        "                </div>\n",
        "            </center>\n",
        "            <center>\n",
        "            <method=\"post\" action=\"/kakao\" enctype=\"multipart/form-data\"\n",
        "            </center>\n",
        "\n",
        "        </form>\n",
        "\n",
        "    </body>\n",
        "\t\n",
        "</html>"
      ],
      "metadata": {
        "colab": {
          "base_uri": "https://localhost:8080/"
        },
        "id": "wPRv4XAgoXRZ",
        "outputId": "e7db13f8-badf-42d6-ff53-d41c02440125"
      },
      "execution_count": 47,
      "outputs": [
        {
          "output_type": "stream",
          "name": "stdout",
          "text": [
            "Writing templates/index.html\n"
          ]
        }
      ]
    },
    {
      "cell_type": "markdown",
      "metadata": {
        "id": "XsTN1nBjtR_2"
      },
      "source": [
        "# css 파일 작성"
      ]
    },
    {
      "cell_type": "code",
      "execution_count": 48,
      "metadata": {
        "id": "maAoN-XZtIJB",
        "colab": {
          "base_uri": "https://localhost:8080/"
        },
        "outputId": "f79ff32e-8fa4-4407-ab81-26e15c1c43b5"
      },
      "outputs": [
        {
          "output_type": "stream",
          "name": "stdout",
          "text": [
            "Writing static/style.css\n"
          ]
        }
      ],
      "source": [
        "%%writefile static/style.css\n",
        "body {\n",
        "\tfont-family: 'Dokdo', sans-serif;\n",
        "\tbackground-color: #fff;\n",
        "}\n",
        ".file-upload {\n",
        "\t/* width: 914px; */\n",
        "\tborder-radius: 10px;\n",
        "\tborder: solid 1.5px #f6f7fa;\n",
        "\tbackground-color: #f6f7fa;\n",
        "\tpadding: 13% 5%;\n",
        "\tmargin: 0 auto\n",
        "\t/* width: 600px; */\n",
        "\t\n",
        "}\n",
        ".file-upload-btn {\n",
        "\twidth: 100%;\n",
        "\tmargin: 0;\n",
        "\tcolor: #fff;\n",
        "\tbackground: #a61fb2;\n",
        "\tborder: none;\n",
        "\tpadding: 10px;\n",
        "\tborder-radius: 4px;\n",
        "\tborder-bottom: 4px solid #a61fb2;\n",
        "\ttransition: all 0.2s ease;\n",
        "\toutline: none;\n",
        "\ttext-transform: uppercase;\n",
        "\tfont-weight: 700;\n",
        "}\n",
        ".file-upload-btn:hover {\n",
        "\tbackground: #1a1ca0;\n",
        "\tcolor: #fff;\n",
        "\ttransition: all 0.2s ease;\n",
        "\tcursor: pointer;\n",
        "}\n",
        ".file-upload-btn:active {\n",
        "\tborder: 0;\n",
        "\ttransition: all 0.2s ease;\n",
        "}\n",
        ".file-upload-content {\n",
        "\tdisplay: none;\n",
        "\ttext-align: center;\n",
        "}\n",
        ".file-upload-input {\n",
        "\tposition: absolute;\n",
        "\tmargin: 0;\n",
        "\tpadding: 0;\n",
        "\twidth: 100%;\n",
        "\theight: 100%;\n",
        "\toutline: none;\n",
        "\topacity: 0;\n",
        "\tcursor: pointer;\n",
        "}\n",
        ".image-upload-wrap {\n",
        "\tborder: 4px dashed #0026ff;\n",
        "\tposition: relative;\n",
        "}\n",
        ".image-upload-wrap:hover {\n",
        "\tbackground-color: #f9bbff;\n",
        "\tborder: 4px dashed #fff;\n",
        "}\n",
        ".image-dropping {\n",
        "\tbackground-color: #ff0000;\n",
        "\tborder: 4px dashed #fff;\n",
        "}\n",
        ".image-title-wrap {\n",
        "\tpadding: 0 15px 15px;\n",
        "\tcolor: #222;\n",
        "}\n",
        ".drag-text {\n",
        "\ttext-align: center;\n",
        "}\n",
        ".drag-text h3 {\n",
        "\twidth: 50%;\n",
        "\tfont-weight: 100;\n",
        "\ttext-transform: uppercase;\n",
        "\tcolor: #15824b;\n",
        "\tfont-family: 'Ubuntu', sans-serif;\n",
        "\tfont-size: 1.5rem;\n",
        "\tline-height: 1.53;\n",
        "\ttext-align: center;\n",
        "\tcolor: #35465d;\n",
        "\tmargin: 0 auto;\n",
        "}\n",
        ".file-upload-image {\n",
        "\tmax-height: 200px;\n",
        "\tmax-width: 200px;\n",
        "\tmargin: auto;\n",
        "\tpadding: 20px;\n",
        "}\n",
        ".remove-image {\n",
        "\twidth: 200px;\n",
        "\tmargin: 0;\n",
        "\tcolor: #fff;\n",
        "\tbackground: #cd4535;\n",
        "\tborder: none;\n",
        "\tpadding: 10px;\n",
        "\tborder-radius: 4px;\n",
        "\tborder-bottom: 4px solid #b02818;\n",
        "\ttransition: all 0.2s ease;\n",
        "\toutline: none;\n",
        "\ttext-transform: uppercase;\n",
        "\tfont-weight: 700;\n",
        "}\n",
        ".remove-image:hover {\n",
        "\tbackground: #c13b2a;\n",
        "\tcolor: #fff;\n",
        "\ttransition: all 0.2s ease;\n",
        "\tcursor: pointer;\n",
        "}\n",
        ".remove-image:active {\n",
        "\tborder: 0;\n",
        "\ttransition: all 0.2s ease;\n",
        "}\n",
        "\n",
        ".nav-distance {\n",
        "\tpadding: 2.1% 7.7%;\n",
        "}\n",
        "\n",
        ".navbar-light .navbar-brand {\n",
        "\tfont-family: 'Ubuntu', sans-serif;\n",
        "\tline-height: 1.68;\n",
        "\ttext-align: left;\n",
        "\tcolor: #35465d;\n",
        "}\n",
        "\n",
        ".navbar-light .navbar-toggler {\n",
        "\tborder-color: #fff;\n",
        "}\n",
        "\n",
        ".section {\n",
        "\tmargin-top: 100px;\n",
        "}\n",
        "\n",
        ".title {\n",
        "\tfont-family: 'Ubuntu', sans-serif;\n",
        "\tline-height: 1.67;\n",
        "\ttext-align: center;\n",
        "\tcolor: #35465d;\n",
        "}\n",
        "\n",
        ".subtitle {\n",
        "\tfont-family: 'Ubuntu', sans-serif;\n",
        "\tline-height: 1.53;\n",
        "\ttext-align: center;\n",
        "\tcolor: #35465d;\n",
        "}\n",
        "\n",
        "/* On screens that are 600px or less, set the background color to olive */\n",
        "@media screen and (max-width: 600px) {\n",
        "  html {\n",
        "    font-size: 10px;\n",
        "  }\n",
        "\t.navbar-brand {\n",
        "\t\tfont-size: 2rem;\n",
        "\t}\n",
        "}\n",
        "\n",
        ".github-link {\n",
        "\tfont-family: 'Ubuntu', sans-serif;\n",
        "\tfont-weight: bolder;\n",
        "\tfont-size: 1.0rem;\n",
        "\tline-height: 1.71;\n",
        "\ttext-align: center;\n",
        "\tcolor: #000000;\n",
        "\ttext-decoration: underline;\n",
        "}\n",
        "\n",
        ".github-link: hover {\n",
        "\tfont-family: 'Ubuntu', sans-serif;\n",
        "\tfont-weight: bolder;\n",
        "\tfont-size: 1.0rem;\n",
        "\tline-height: 1.71;\n",
        "\ttext-align: center;\n",
        "\tcolor: #2fb004;\n",
        "\ttext-decoration: underline;\n",
        "}\n",
        "\n",
        ".INFOODD-icon {\n",
        "\twidth: 10%\n",
        "}\n",
        "\n",
        "\n",
        "\n",
        "\n",
        ".image-upload-wrap {\n",
        "\tobject-fit: contain;\n",
        "\tborder-radius: 10px;\n",
        "\tborder: dashed 1.5px\n",
        "\t\t#35465d;\n",
        "\tbackground-color:\n",
        "\t\t#ffffff;\n",
        "}\n",
        "\n",
        ".image-upload-wrap hover {\n",
        "\tobject-fit: contain;\n",
        "\tborder-radius: 10px;\n",
        "\tborder: dashed 1.5px\n",
        "\t\t#35465d;\n",
        "\tbackground-color:\n",
        "\t\t#35465d;\n",
        "}\n",
        "\n",
        ".upload-text {\n",
        "\twidth: 50%;\n",
        "\tfont-family: 'Ubuntu', sans-serif;\n",
        "\tfont-size: 1.6 rem;\n",
        "\tline-height: 1.53;\n",
        "\ttext-align: center;\n",
        "\tcolor: #35465d;\n",
        "\tmargin: 0 auto;\n",
        "}"
      ]
    },
    {
      "cell_type": "markdown",
      "source": [
        "# css_2"
      ],
      "metadata": {
        "id": "Ee9XG_qdg42z"
      }
    },
    {
      "cell_type": "code",
      "source": [
        "%%writefile static/style.css\n",
        "body{\n",
        "    font-family: 'Do Hyeon', sans-serif;\n",
        "    background-color:#fff;\n",
        "    height:100%;\n",
        "}\n",
        "\n",
        ".title {\n",
        "\tfont-family: 'Do Hyeon', sans-serif;\n",
        "\tline-height: 1.67;\n",
        "\ttext-align: center;\n",
        "\tcolor: #35465d;\n",
        "}\n",
        "\n",
        ".subtitle {\n",
        "\tfont-family: 'Do Hyeon', sans-serif;\n",
        "\tline-height: 1.53;\n",
        "\ttext-align: center;\n",
        "\tcolor: #35465d;\n",
        "}\n",
        "\n",
        ".wrapper {\n",
        "  width: 100%;\n",
        "  height: 100%;\n",
        "  display: flex;\n",
        "  align-items: center;\n",
        "  justify-content: center;\n",
        "}\n",
        ".wrapper .file-upload {\n",
        "  height: 200px;\n",
        "  width: 200px;\n",
        "  border-radius: 100px;\n",
        "  position: relative;\n",
        "  display: flex;\n",
        "  justify-content: center;\n",
        "  align-items: center;\n",
        "  border: 4px solid #FFFFFF;\n",
        "  overflow: hidden;\n",
        "  background-image: \"img/upload.png\";\n",
        "  background-size: 100% 200%;\n",
        "  transition: all 1s;\n",
        "  color: #FFFFFF;\n",
        "  font-size: 100px;\n",
        "}\n",
        ".wrapper .file-upload input[type=file] {\n",
        "  height: 200px;\n",
        "  width: 200px;\n",
        "  position: absolute;\n",
        "  top: 0;\n",
        "  left: 0;\n",
        "  opacity: 0;\n",
        "  cursor: pointer;\n",
        "}\n",
        ".wrapper .file-upload:hover {\n",
        "  background-position: 0 -100%;\n",
        "  color: #2590EB;\n",
        "}\n",
        "\n"
      ],
      "metadata": {
        "colab": {
          "base_uri": "https://localhost:8080/"
        },
        "id": "WBMIa5TtYxWT",
        "outputId": "a1a6aea8-b16c-4cb7-c1b6-bc8a5e6d3f39"
      },
      "execution_count": 49,
      "outputs": [
        {
          "output_type": "stream",
          "name": "stdout",
          "text": [
            "Overwriting static/style.css\n"
          ]
        }
      ]
    },
    {
      "cell_type": "markdown",
      "metadata": {
        "id": "gLsFCklBoFQn"
      },
      "source": [
        "# print.html"
      ]
    },
    {
      "cell_type": "code",
      "execution_count": 50,
      "metadata": {
        "colab": {
          "base_uri": "https://localhost:8080/"
        },
        "id": "alkLzpDNoHPA",
        "outputId": "68100d86-9b7d-41a7-de57-4614229695a3"
      },
      "outputs": [
        {
          "output_type": "stream",
          "name": "stdout",
          "text": [
            "Writing templates/print.html\n"
          ]
        }
      ],
      "source": [
        "%%writefile templates/print.html\n",
        "<!DOCTYPE html>\n",
        "<html>\n",
        "\t<head>\n",
        "        <link rel=\"preconnect\" href=\"https://fonts.googleapis.com\" />\n",
        "\t\t<link rel=\"preconnect\" href=\"https://fonts.gstatic.com\" crossorigin />\n",
        "\t\t<link\n",
        "\t\t\thref=\"https://fonts.googleapis.com/css2?family=Ubuntu&display=swap\"\n",
        "\t\t\trel=\"stylesheet\"\n",
        "\t\t/>\n",
        "        \n",
        "        <!-- Required meta tags -->\n",
        "\t\t<meta charset=\"utf-8\" />\n",
        "\t\t<meta name=\"viewport\" content=\"width=device-width, initial-scale=1\" />\n",
        "\n",
        "        <!-- Bootstrap CSS -->\n",
        "\t\t<link\n",
        "        href=\"https://cdn.jsdelivr.net/npm/bootstrap@5.1.3/dist/css/bootstrap.min.css\"\n",
        "        rel=\"stylesheet\"\n",
        "        integrity=\"sha384-1BmE4kWBq78iYhFldvKuhfTAU6auU8tT94WrHftjDbrCEXSU1oBoqyl2QvZ6jIW3\"\n",
        "        crossorigin=\"anonymous\"\n",
        "        />\n",
        "\n",
        "        <title>Nutrition_4</title>\n",
        "        <link rel=\"stylesheet\" href=\"/static/style.css\" />\n",
        "    </head>\n",
        "\t<body>\n",
        "        <form method=\"post\" action=\"/print\" enctype=\"multipart/form-data\">\n",
        "            <section class=\"section\">\n",
        "                <h2 class=\"title\">개인 맞춤형 식단 필터링 서비스</h2>\n",
        "            <center>\n",
        "            \n",
        "            </center>\n",
        "    </body>\n",
        "\t\n",
        "</html>"
      ]
    },
    {
      "cell_type": "markdown",
      "metadata": {
        "id": "cIvhXiOfLAYK"
      },
      "source": [
        "# FastAPI 실행\n",
        "- 연결 가능"
      ]
    },
    {
      "cell_type": "code",
      "execution_count": 51,
      "metadata": {
        "id": "HLROcN0zKsvU"
      },
      "outputs": [],
      "source": [
        "# FastAPI\n",
        "from fastapi import FastAPI, Request, Form, File, UploadFile, Response\n",
        "from fastapi.responses import HTMLResponse, RedirectResponse\n",
        "from fastapi.staticfiles import StaticFiles\n",
        "from fastapi.templating import Jinja2Templates\n",
        "import nest_asyncio\n",
        "\n",
        "from flask import Flask, render_template\n",
        "\n",
        "from pyngrok import ngrok\n",
        "import uvicorn\n",
        "from typing import Optional\n",
        "from pydantic import BaseModel\n",
        "\n",
        "import requests\n",
        "\n",
        "# class Item(BaseModel):\n",
        "#     img: UploadFile = File(...)\n",
        "#     gender: str = Form(...)\n",
        "#     age: str = Form(...)\n",
        "#     illness: Optional[str] = Form(...)\n",
        "\n",
        "\n",
        "app=FastAPI()\n",
        "templates = Jinja2Templates(directory=\"templates\")\n",
        "app.mount('/static', StaticFiles(directory='static'), name='static')\n",
        "app.mount('/img', StaticFiles(directory='img'), name='img')\n",
        "\n",
        "@app.get('/', response_class=HTMLResponse)\n",
        "async def read_page(request: Request):\n",
        "  return templates.TemplateResponse(\"index.html\", {\"request\": request })\n",
        "\n",
        "@app.get('/kakao',response_class=HTMLResponse)\n",
        "async def kakao(response: Response, request: Request):\n",
        "    REST_API_KEY = '7f4c07a7aabae79cb7848959a5d66f37'\n",
        "    REDIRECT_URI = \"http://localhost:8000/oauth\"\n",
        "    url_1 = f\"https://kauth.kakao.com/oauth/authorize?client_id={REST_API_KEY}&response_type=code&redirect_uri={REDIRECT_URI}\"\n",
        "    response_1 = RedirectResponse(url_1)\n",
        "    \n",
        "    return templates.TemplateResponse(\"main.html\", {\"request\": request , 'response': res_2})\n",
        "    # return response_1\n",
        "\n",
        "@app.get(\"/oauth\",response_class=HTMLResponse)\n",
        "async def token(response: Response, request: Request, code: Optional[str] = \"NONE\"):\n",
        "    global res_2\n",
        "    REST_API_KEY = '7f4c07a7aabae79cb7848959a5d66f37'\n",
        "    url_2 = f\"https://kauth.kakao.com/oauth/token?grant_type=authorization_code&client_id={REST_API_KEY}&redirect_uri=http://localhost:8000/oauth&code={code}&client_secret=PNT2pRV4hZ74YUFVwPj5DUsF22qRUcp8\"\n",
        "\n",
        "    payload = {}\n",
        "    headers_2 = {\n",
        "        'Content-Type': 'application/x-ww1w-form-urlencodedd;charset=utf-8'\n",
        "    }\n",
        "\n",
        "    response_2 = requests.request(\"POST\", url_2, headers=headers_2, data=payload)\n",
        "    res = response_2.json()\n",
        "    response.set_cookie(key='kakao', value=str(res['access_token']))\n",
        "\n",
        "    url_3 = \"https://kapi.kakao.com/v2/user/me?property_keys=[\\\"kakao_account.email\\\", \\\"kakao_account.age_range\\\", \\\"kakao_account.gender\\\"]\"\n",
        "\n",
        "    payload = {}\n",
        "    headers_3 = {\n",
        "        'Authorization': 'Bearer {}'.format(res['access_token'])\n",
        "    }\n",
        "\n",
        "    response_3 = requests.request(\"GET\", url_3, headers=headers_3, data=payload)\n",
        "\n",
        "    res_2 = response_3.json\n",
        "\n",
        "    return\n",
        "    # return res_2\n",
        "    # return render_template('main.html', data = res_2)\n",
        "\n",
        "@app.post('/print', response_class=HTMLResponse)\n",
        "async def get_page(request: Request, res_2):\n",
        "\n",
        "    return templates.TemplateResponse(\"print.html\", {\"request\": request})"
      ]
    },
    {
      "cell_type": "markdown",
      "source": [
        "# ngrok"
      ],
      "metadata": {
        "id": "Cy8GiVHfRSLq"
      }
    },
    {
      "cell_type": "code",
      "execution_count": null,
      "metadata": {
        "colab": {
          "base_uri": "https://localhost:8080/"
        },
        "id": "MZ847sKCLGIg",
        "outputId": "faf5f97b-3604-467c-ba7b-aead6ddfd990"
      },
      "outputs": [
        {
          "output_type": "stream",
          "name": "stdout",
          "text": [
            "/bin/bash: ngrok: command not found\n"
          ]
        }
      ],
      "source": [
        "#ngrok authtoken\n",
        "!ngrok authtoken 26RhX4IScFICGrbkh2IDi8fR5X1_5ytw6BgDee8PpHQHbSbxZ"
      ]
    },
    {
      "cell_type": "code",
      "execution_count": null,
      "metadata": {
        "colab": {
          "base_uri": "https://localhost:8080/"
        },
        "id": "G_jRznyNLKos",
        "outputId": "7423de8b-7a31-4408-a165-f74e46ed1a6b"
      },
      "outputs": [
        {
          "output_type": "stream",
          "name": "stdout",
          "text": [
            ""
          ]
        },
        {
          "output_type": "stream",
          "name": "stderr",
          "text": [
            "INFO:     Started server process [59]\n",
            "INFO:     Waiting for application startup.\n",
            "INFO:     Application startup complete.\n",
            "INFO:     Uvicorn running on http://0.0.0.0:8000 (Press CTRL+C to quit)\n"
          ]
        },
        {
          "output_type": "stream",
          "name": "stdout",
          "text": [
            "Public URL: http://4fbb-34-125-46-227.ngrok.io\n"
          ]
        }
      ],
      "source": [
        "ngrok_tunnel = ngrok.connect(8000)\n",
        "print ('Public URL:', ngrok_tunnel.public_url) \n",
        "nest_asyncio.apply()\n",
        "uvicorn.run(app, host='0.0.0.0', port=8000)"
      ]
    },
    {
      "cell_type": "code",
      "source": [
        ""
      ],
      "metadata": {
        "id": "k8WVHA2KXB3d"
      },
      "execution_count": null,
      "outputs": []
    }
  ],
  "metadata": {
    "colab": {
      "collapsed_sections": [
        "SAyV0-qfBIo-",
        "OONLumKYpz-m",
        "KlNJys0xqMHO",
        "xWcbFFw1ruIb",
        "cLfFIwIzs2ZS",
        "yvMBKfr8BNP9",
        "-lb03y6H2whn",
        "NKkY_jdhBZNu",
        "x7r8hOn_Bn_m",
        "TcK6yxyuoYIS",
        "XsTN1nBjtR_2",
        "Ee9XG_qdg42z",
        "gLsFCklBoFQn"
      ],
      "name": "[3rd]code.ipynb의 사본",
      "provenance": [],
      "include_colab_link": true
    },
    "kernelspec": {
      "display_name": "Python 3",
      "name": "python3"
    },
    "language_info": {
      "name": "python"
    }
  },
  "nbformat": 4,
  "nbformat_minor": 0
}