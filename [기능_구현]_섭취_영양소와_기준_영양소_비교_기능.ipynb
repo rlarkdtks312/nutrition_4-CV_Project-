{
  "nbformat": 4,
  "nbformat_minor": 0,
  "metadata": {
    "colab": {
      "name": "[기능 구현] 섭취 영양소와 기준 영양소 비교 기능",
      "provenance": [],
      "include_colab_link": true
    },
    "kernelspec": {
      "name": "python3",
      "display_name": "Python 3"
    },
    "language_info": {
      "name": "python"
    }
  },
  "cells": [
    {
      "cell_type": "markdown",
      "metadata": {
        "id": "view-in-github",
        "colab_type": "text"
      },
      "source": [
        "<a href=\"https://colab.research.google.com/github/rlarkdtks312/nutrition_4_team/blob/master/%5B%EA%B8%B0%EB%8A%A5_%EA%B5%AC%ED%98%84%5D_%EC%84%AD%EC%B7%A8_%EC%98%81%EC%96%91%EC%86%8C%EC%99%80_%EA%B8%B0%EC%A4%80_%EC%98%81%EC%96%91%EC%86%8C_%EB%B9%84%EA%B5%90_%EA%B8%B0%EB%8A%A5.ipynb\" target=\"_parent\"><img src=\"https://colab.research.google.com/assets/colab-badge.svg\" alt=\"Open In Colab\"/></a>"
      ]
    },
    {
      "cell_type": "markdown",
      "source": [
        "### SQLite"
      ],
      "metadata": {
        "id": "PXgThUcohYHi"
      }
    },
    {
      "cell_type": "code",
      "source": [
        "!apt install sqlite3"
      ],
      "metadata": {
        "colab": {
          "base_uri": "https://localhost:8080/"
        },
        "id": "-cxfMBbEiNpy",
        "outputId": "63ee561d-1799-4a55-c13b-e446441ad3c7"
      },
      "execution_count": null,
      "outputs": [
        {
          "output_type": "stream",
          "name": "stdout",
          "text": [
            "Reading package lists... Done\n",
            "Building dependency tree       \n",
            "Reading state information... Done\n",
            "Suggested packages:\n",
            "  sqlite3-doc\n",
            "The following NEW packages will be installed:\n",
            "  sqlite3\n",
            "0 upgraded, 1 newly installed, 0 to remove and 39 not upgraded.\n",
            "Need to get 752 kB of archives.\n",
            "After this operation, 2,482 kB of additional disk space will be used.\n",
            "Get:1 http://archive.ubuntu.com/ubuntu bionic-updates/main amd64 sqlite3 amd64 3.22.0-1ubuntu0.4 [752 kB]\n",
            "Fetched 752 kB in 0s (5,943 kB/s)\n",
            "Selecting previously unselected package sqlite3.\n",
            "(Reading database ... 155455 files and directories currently installed.)\n",
            "Preparing to unpack .../sqlite3_3.22.0-1ubuntu0.4_amd64.deb ...\n",
            "Unpacking sqlite3 (3.22.0-1ubuntu0.4) ...\n",
            "Setting up sqlite3 (3.22.0-1ubuntu0.4) ...\n",
            "Processing triggers for man-db (2.8.3-2ubuntu0.1) ...\n"
          ]
        }
      ]
    },
    {
      "cell_type": "code",
      "source": [
        "from google.colab import drive\n",
        "drive.mount('/content/drive')"
      ],
      "metadata": {
        "colab": {
          "base_uri": "https://localhost:8080/"
        },
        "id": "L64zfphBiQvl",
        "outputId": "b71b0ddd-6dbd-4fba-f303-7cba92ab26ca"
      },
      "execution_count": null,
      "outputs": [
        {
          "output_type": "stream",
          "name": "stdout",
          "text": [
            "Mounted at /content/drive\n"
          ]
        }
      ]
    },
    {
      "cell_type": "code",
      "source": [
        "import numpy as np\n",
        "import pandas as pd"
      ],
      "metadata": {
        "id": "2zhgroeTiTGC"
      },
      "execution_count": null,
      "outputs": []
    },
    {
      "cell_type": "markdown",
      "source": [
        "### data1 영양권장량"
      ],
      "metadata": {
        "id": "gY7n639dh0zy"
      }
    },
    {
      "cell_type": "code",
      "source": [
        "data1 = pd.read_excel('/content/drive/MyDrive/영양4조/남진영/[최종]영양권장량.xlsx')\n",
        "data1"
      ],
      "metadata": {
        "colab": {
          "base_uri": "https://localhost:8080/",
          "height": 480
        },
        "id": "paNdyX3hh9h8",
        "outputId": "f4d16c47-cbc4-41f4-a01f-c46743f4ba5b"
      },
      "execution_count": null,
      "outputs": [
        {
          "output_type": "stream",
          "name": "stderr",
          "text": [
            "/usr/local/lib/python3.7/dist-packages/openpyxl/worksheet/_reader.py:312: UserWarning: Unknown extension is not supported and will be removed\n",
            "  warn(msg)\n"
          ]
        },
        {
          "output_type": "execute_result",
          "data": {
            "text/plain": [
              "    성별     연령       영양성분 권장(g/일) 상한(g/일)\n",
              "0   남자  19-29  에너지(kcal)    2600       -\n",
              "1   남자  30-39  에너지(kcal)    2500       -\n",
              "2   남자  40-49  에너지(kcal)    2500       -\n",
              "3   남자  50-64  에너지(kcal)    2200       -\n",
              "4   여자  19-29  에너지(kcal)    2000       -\n",
              "..  ..    ...        ...     ...     ...\n",
              "91  남자  50-64   아연(mg/일)      10      35\n",
              "92  여자  19-29   아연(mg/일)       8      35\n",
              "93  여자  30-39   아연(mg/일)       8      35\n",
              "94  여자  40-49   아연(mg/일)       8      35\n",
              "95  여자  50-64   아연(mg/일)       8      35\n",
              "\n",
              "[96 rows x 5 columns]"
            ],
            "text/html": [
              "\n",
              "  <div id=\"df-c8b33d6d-652c-4b94-ac54-69561128571c\">\n",
              "    <div class=\"colab-df-container\">\n",
              "      <div>\n",
              "<style scoped>\n",
              "    .dataframe tbody tr th:only-of-type {\n",
              "        vertical-align: middle;\n",
              "    }\n",
              "\n",
              "    .dataframe tbody tr th {\n",
              "        vertical-align: top;\n",
              "    }\n",
              "\n",
              "    .dataframe thead th {\n",
              "        text-align: right;\n",
              "    }\n",
              "</style>\n",
              "<table border=\"1\" class=\"dataframe\">\n",
              "  <thead>\n",
              "    <tr style=\"text-align: right;\">\n",
              "      <th></th>\n",
              "      <th>성별</th>\n",
              "      <th>연령</th>\n",
              "      <th>영양성분</th>\n",
              "      <th>권장(g/일)</th>\n",
              "      <th>상한(g/일)</th>\n",
              "    </tr>\n",
              "  </thead>\n",
              "  <tbody>\n",
              "    <tr>\n",
              "      <th>0</th>\n",
              "      <td>남자</td>\n",
              "      <td>19-29</td>\n",
              "      <td>에너지(kcal)</td>\n",
              "      <td>2600</td>\n",
              "      <td>-</td>\n",
              "    </tr>\n",
              "    <tr>\n",
              "      <th>1</th>\n",
              "      <td>남자</td>\n",
              "      <td>30-39</td>\n",
              "      <td>에너지(kcal)</td>\n",
              "      <td>2500</td>\n",
              "      <td>-</td>\n",
              "    </tr>\n",
              "    <tr>\n",
              "      <th>2</th>\n",
              "      <td>남자</td>\n",
              "      <td>40-49</td>\n",
              "      <td>에너지(kcal)</td>\n",
              "      <td>2500</td>\n",
              "      <td>-</td>\n",
              "    </tr>\n",
              "    <tr>\n",
              "      <th>3</th>\n",
              "      <td>남자</td>\n",
              "      <td>50-64</td>\n",
              "      <td>에너지(kcal)</td>\n",
              "      <td>2200</td>\n",
              "      <td>-</td>\n",
              "    </tr>\n",
              "    <tr>\n",
              "      <th>4</th>\n",
              "      <td>여자</td>\n",
              "      <td>19-29</td>\n",
              "      <td>에너지(kcal)</td>\n",
              "      <td>2000</td>\n",
              "      <td>-</td>\n",
              "    </tr>\n",
              "    <tr>\n",
              "      <th>...</th>\n",
              "      <td>...</td>\n",
              "      <td>...</td>\n",
              "      <td>...</td>\n",
              "      <td>...</td>\n",
              "      <td>...</td>\n",
              "    </tr>\n",
              "    <tr>\n",
              "      <th>91</th>\n",
              "      <td>남자</td>\n",
              "      <td>50-64</td>\n",
              "      <td>아연(mg/일)</td>\n",
              "      <td>10</td>\n",
              "      <td>35</td>\n",
              "    </tr>\n",
              "    <tr>\n",
              "      <th>92</th>\n",
              "      <td>여자</td>\n",
              "      <td>19-29</td>\n",
              "      <td>아연(mg/일)</td>\n",
              "      <td>8</td>\n",
              "      <td>35</td>\n",
              "    </tr>\n",
              "    <tr>\n",
              "      <th>93</th>\n",
              "      <td>여자</td>\n",
              "      <td>30-39</td>\n",
              "      <td>아연(mg/일)</td>\n",
              "      <td>8</td>\n",
              "      <td>35</td>\n",
              "    </tr>\n",
              "    <tr>\n",
              "      <th>94</th>\n",
              "      <td>여자</td>\n",
              "      <td>40-49</td>\n",
              "      <td>아연(mg/일)</td>\n",
              "      <td>8</td>\n",
              "      <td>35</td>\n",
              "    </tr>\n",
              "    <tr>\n",
              "      <th>95</th>\n",
              "      <td>여자</td>\n",
              "      <td>50-64</td>\n",
              "      <td>아연(mg/일)</td>\n",
              "      <td>8</td>\n",
              "      <td>35</td>\n",
              "    </tr>\n",
              "  </tbody>\n",
              "</table>\n",
              "<p>96 rows × 5 columns</p>\n",
              "</div>\n",
              "      <button class=\"colab-df-convert\" onclick=\"convertToInteractive('df-c8b33d6d-652c-4b94-ac54-69561128571c')\"\n",
              "              title=\"Convert this dataframe to an interactive table.\"\n",
              "              style=\"display:none;\">\n",
              "        \n",
              "  <svg xmlns=\"http://www.w3.org/2000/svg\" height=\"24px\"viewBox=\"0 0 24 24\"\n",
              "       width=\"24px\">\n",
              "    <path d=\"M0 0h24v24H0V0z\" fill=\"none\"/>\n",
              "    <path d=\"M18.56 5.44l.94 2.06.94-2.06 2.06-.94-2.06-.94-.94-2.06-.94 2.06-2.06.94zm-11 1L8.5 8.5l.94-2.06 2.06-.94-2.06-.94L8.5 2.5l-.94 2.06-2.06.94zm10 10l.94 2.06.94-2.06 2.06-.94-2.06-.94-.94-2.06-.94 2.06-2.06.94z\"/><path d=\"M17.41 7.96l-1.37-1.37c-.4-.4-.92-.59-1.43-.59-.52 0-1.04.2-1.43.59L10.3 9.45l-7.72 7.72c-.78.78-.78 2.05 0 2.83L4 21.41c.39.39.9.59 1.41.59.51 0 1.02-.2 1.41-.59l7.78-7.78 2.81-2.81c.8-.78.8-2.07 0-2.86zM5.41 20L4 18.59l7.72-7.72 1.47 1.35L5.41 20z\"/>\n",
              "  </svg>\n",
              "      </button>\n",
              "      \n",
              "  <style>\n",
              "    .colab-df-container {\n",
              "      display:flex;\n",
              "      flex-wrap:wrap;\n",
              "      gap: 12px;\n",
              "    }\n",
              "\n",
              "    .colab-df-convert {\n",
              "      background-color: #E8F0FE;\n",
              "      border: none;\n",
              "      border-radius: 50%;\n",
              "      cursor: pointer;\n",
              "      display: none;\n",
              "      fill: #1967D2;\n",
              "      height: 32px;\n",
              "      padding: 0 0 0 0;\n",
              "      width: 32px;\n",
              "    }\n",
              "\n",
              "    .colab-df-convert:hover {\n",
              "      background-color: #E2EBFA;\n",
              "      box-shadow: 0px 1px 2px rgba(60, 64, 67, 0.3), 0px 1px 3px 1px rgba(60, 64, 67, 0.15);\n",
              "      fill: #174EA6;\n",
              "    }\n",
              "\n",
              "    [theme=dark] .colab-df-convert {\n",
              "      background-color: #3B4455;\n",
              "      fill: #D2E3FC;\n",
              "    }\n",
              "\n",
              "    [theme=dark] .colab-df-convert:hover {\n",
              "      background-color: #434B5C;\n",
              "      box-shadow: 0px 1px 3px 1px rgba(0, 0, 0, 0.15);\n",
              "      filter: drop-shadow(0px 1px 2px rgba(0, 0, 0, 0.3));\n",
              "      fill: #FFFFFF;\n",
              "    }\n",
              "  </style>\n",
              "\n",
              "      <script>\n",
              "        const buttonEl =\n",
              "          document.querySelector('#df-c8b33d6d-652c-4b94-ac54-69561128571c button.colab-df-convert');\n",
              "        buttonEl.style.display =\n",
              "          google.colab.kernel.accessAllowed ? 'block' : 'none';\n",
              "\n",
              "        async function convertToInteractive(key) {\n",
              "          const element = document.querySelector('#df-c8b33d6d-652c-4b94-ac54-69561128571c');\n",
              "          const dataTable =\n",
              "            await google.colab.kernel.invokeFunction('convertToInteractive',\n",
              "                                                     [key], {});\n",
              "          if (!dataTable) return;\n",
              "\n",
              "          const docLinkHtml = 'Like what you see? Visit the ' +\n",
              "            '<a target=\"_blank\" href=https://colab.research.google.com/notebooks/data_table.ipynb>data table notebook</a>'\n",
              "            + ' to learn more about interactive tables.';\n",
              "          element.innerHTML = '';\n",
              "          dataTable['output_type'] = 'display_data';\n",
              "          await google.colab.output.renderOutput(dataTable, element);\n",
              "          const docLink = document.createElement('div');\n",
              "          docLink.innerHTML = docLinkHtml;\n",
              "          element.appendChild(docLink);\n",
              "        }\n",
              "      </script>\n",
              "    </div>\n",
              "  </div>\n",
              "  "
            ]
          },
          "metadata": {},
          "execution_count": 9
        }
      ]
    },
    {
      "cell_type": "code",
      "source": [
        ""
      ],
      "metadata": {
        "id": "Z806cmN3hkbX"
      },
      "execution_count": null,
      "outputs": []
    },
    {
      "cell_type": "code",
      "source": [
        ""
      ],
      "metadata": {
        "id": "TEwbgFk0iJjs"
      },
      "execution_count": null,
      "outputs": []
    },
    {
      "cell_type": "markdown",
      "source": [
        "### 음식영양소 db 조회 food_nutrition= 기준영양소"
      ],
      "metadata": {
        "id": "TvARMXi9bicF"
      }
    },
    {
      "cell_type": "code",
      "source": [
        "import sqlite3"
      ],
      "metadata": {
        "id": "mzK63-bOd-A2"
      },
      "execution_count": null,
      "outputs": []
    },
    {
      "cell_type": "code",
      "source": [
        "conn = sqlite3.connect('/content/drive/MyDrive/영양4조/[db]food_nutrition.db')\n",
        "conn"
      ],
      "metadata": {
        "id": "qz5fUef6E2f2",
        "colab": {
          "base_uri": "https://localhost:8080/"
        },
        "outputId": "36f3eaee-81ca-4a5a-a1d8-9f8a208ef00a"
      },
      "execution_count": null,
      "outputs": [
        {
          "output_type": "execute_result",
          "data": {
            "text/plain": [
              "<sqlite3.Connection at 0x7f36be5a7570>"
            ]
          },
          "metadata": {},
          "execution_count": 9
        }
      ]
    },
    {
      "cell_type": "code",
      "source": [
        "with conn:\n",
        "    cur = conn.cursor()\n",
        "    sql = \"select * from food_nutrition where 음식명=?\"\n",
        "    cur.execute(sql, ('쌀밥',))\n",
        "    rows = cur.fetchall()\n",
        "    \n",
        "    for row in rows:\n",
        "        print(row)"
      ],
      "metadata": {
        "colab": {
          "base_uri": "https://localhost:8080/"
        },
        "id": "_iF_xLT9cRLs",
        "outputId": "b965cd78-ef32-4793-9c08-90093d8ea9c1"
      },
      "execution_count": null,
      "outputs": [
        {
          "output_type": "stream",
          "name": "stdout",
          "text": [
            "('쌀밥', 210.0, 334.8, 73.71, 0.0, 0.45, 5.76, 3.6, 126.0, 59.4, 146.7, 0.0, 0.36, 1.35, 0.0, 0.0)\n"
          ]
        }
      ]
    },
    {
      "cell_type": "code",
      "source": [
        "food_list = ['쌀밥', '근대된장국', '떡갈비']"
      ],
      "metadata": {
        "id": "PgAe8Az2cSyi"
      },
      "execution_count": null,
      "outputs": []
    },
    {
      "cell_type": "code",
      "source": [
        "def food_nutri(food_list) : \n",
        "    \n",
        "    conn = sqlite3.connect('/content/drive/MyDrive/영양4조/[db]food_nutrition.db')\n",
        "\n",
        "    with conn:\n",
        "        cur = conn.cursor()\n",
        "        sql = \"select * from food_nutrition where 음식명=?\"\n",
        "        for i in food_list:\n",
        "            food = (i,)\n",
        "            cur.execute(sql, food)\n",
        "            rows = cur.fetchall()\n",
        "            cols = [column[0] for column in cur.description]\n",
        "    data_df = pd.DataFrame.from_records(data=rows, columns=cols)\n",
        "\n",
        "    return data_df"
      ],
      "metadata": {
        "id": "JMvpT-PpOVsI"
      },
      "execution_count": null,
      "outputs": []
    },
    {
      "cell_type": "code",
      "source": [
        "food_nutri(food_list)"
      ],
      "metadata": {
        "colab": {
          "base_uri": "https://localhost:8080/",
          "height": 176
        },
        "id": "nKbMv5smd662",
        "outputId": "67995723-dc68-4d1b-8a73-f1ffbad1f695"
      },
      "execution_count": null,
      "outputs": [
        {
          "output_type": "execute_result",
          "data": {
            "text/plain": [
              "   음식명  중량(g)  에너지(kcal)  탄수화물(g)  당류(g)  지방(g)  단백질(g)  칼슘(mg)   인(mg)  \\\n",
              "0  떡갈비  250.0     762.99    26.61  12.49  51.58   43.09   26.18  411.76   \n",
              "\n",
              "   나트륨(mg)  칼륨(mg)  마그네슘(mg)  철(mg)  아연(mg)  콜레스테롤(mg)  트랜스지방(g)  \n",
              "0   838.84  915.68       0.0   3.26    8.66      157.5       0.0  "
            ],
            "text/html": [
              "\n",
              "  <div id=\"df-802258a0-193f-4c2f-9ee5-7746d27d6e41\">\n",
              "    <div class=\"colab-df-container\">\n",
              "      <div>\n",
              "<style scoped>\n",
              "    .dataframe tbody tr th:only-of-type {\n",
              "        vertical-align: middle;\n",
              "    }\n",
              "\n",
              "    .dataframe tbody tr th {\n",
              "        vertical-align: top;\n",
              "    }\n",
              "\n",
              "    .dataframe thead th {\n",
              "        text-align: right;\n",
              "    }\n",
              "</style>\n",
              "<table border=\"1\" class=\"dataframe\">\n",
              "  <thead>\n",
              "    <tr style=\"text-align: right;\">\n",
              "      <th></th>\n",
              "      <th>음식명</th>\n",
              "      <th>중량(g)</th>\n",
              "      <th>에너지(kcal)</th>\n",
              "      <th>탄수화물(g)</th>\n",
              "      <th>당류(g)</th>\n",
              "      <th>지방(g)</th>\n",
              "      <th>단백질(g)</th>\n",
              "      <th>칼슘(mg)</th>\n",
              "      <th>인(mg)</th>\n",
              "      <th>나트륨(mg)</th>\n",
              "      <th>칼륨(mg)</th>\n",
              "      <th>마그네슘(mg)</th>\n",
              "      <th>철(mg)</th>\n",
              "      <th>아연(mg)</th>\n",
              "      <th>콜레스테롤(mg)</th>\n",
              "      <th>트랜스지방(g)</th>\n",
              "    </tr>\n",
              "  </thead>\n",
              "  <tbody>\n",
              "    <tr>\n",
              "      <th>0</th>\n",
              "      <td>떡갈비</td>\n",
              "      <td>250.0</td>\n",
              "      <td>762.99</td>\n",
              "      <td>26.61</td>\n",
              "      <td>12.49</td>\n",
              "      <td>51.58</td>\n",
              "      <td>43.09</td>\n",
              "      <td>26.18</td>\n",
              "      <td>411.76</td>\n",
              "      <td>838.84</td>\n",
              "      <td>915.68</td>\n",
              "      <td>0.0</td>\n",
              "      <td>3.26</td>\n",
              "      <td>8.66</td>\n",
              "      <td>157.5</td>\n",
              "      <td>0.0</td>\n",
              "    </tr>\n",
              "  </tbody>\n",
              "</table>\n",
              "</div>\n",
              "      <button class=\"colab-df-convert\" onclick=\"convertToInteractive('df-802258a0-193f-4c2f-9ee5-7746d27d6e41')\"\n",
              "              title=\"Convert this dataframe to an interactive table.\"\n",
              "              style=\"display:none;\">\n",
              "        \n",
              "  <svg xmlns=\"http://www.w3.org/2000/svg\" height=\"24px\"viewBox=\"0 0 24 24\"\n",
              "       width=\"24px\">\n",
              "    <path d=\"M0 0h24v24H0V0z\" fill=\"none\"/>\n",
              "    <path d=\"M18.56 5.44l.94 2.06.94-2.06 2.06-.94-2.06-.94-.94-2.06-.94 2.06-2.06.94zm-11 1L8.5 8.5l.94-2.06 2.06-.94-2.06-.94L8.5 2.5l-.94 2.06-2.06.94zm10 10l.94 2.06.94-2.06 2.06-.94-2.06-.94-.94-2.06-.94 2.06-2.06.94z\"/><path d=\"M17.41 7.96l-1.37-1.37c-.4-.4-.92-.59-1.43-.59-.52 0-1.04.2-1.43.59L10.3 9.45l-7.72 7.72c-.78.78-.78 2.05 0 2.83L4 21.41c.39.39.9.59 1.41.59.51 0 1.02-.2 1.41-.59l7.78-7.78 2.81-2.81c.8-.78.8-2.07 0-2.86zM5.41 20L4 18.59l7.72-7.72 1.47 1.35L5.41 20z\"/>\n",
              "  </svg>\n",
              "      </button>\n",
              "      \n",
              "  <style>\n",
              "    .colab-df-container {\n",
              "      display:flex;\n",
              "      flex-wrap:wrap;\n",
              "      gap: 12px;\n",
              "    }\n",
              "\n",
              "    .colab-df-convert {\n",
              "      background-color: #E8F0FE;\n",
              "      border: none;\n",
              "      border-radius: 50%;\n",
              "      cursor: pointer;\n",
              "      display: none;\n",
              "      fill: #1967D2;\n",
              "      height: 32px;\n",
              "      padding: 0 0 0 0;\n",
              "      width: 32px;\n",
              "    }\n",
              "\n",
              "    .colab-df-convert:hover {\n",
              "      background-color: #E2EBFA;\n",
              "      box-shadow: 0px 1px 2px rgba(60, 64, 67, 0.3), 0px 1px 3px 1px rgba(60, 64, 67, 0.15);\n",
              "      fill: #174EA6;\n",
              "    }\n",
              "\n",
              "    [theme=dark] .colab-df-convert {\n",
              "      background-color: #3B4455;\n",
              "      fill: #D2E3FC;\n",
              "    }\n",
              "\n",
              "    [theme=dark] .colab-df-convert:hover {\n",
              "      background-color: #434B5C;\n",
              "      box-shadow: 0px 1px 3px 1px rgba(0, 0, 0, 0.15);\n",
              "      filter: drop-shadow(0px 1px 2px rgba(0, 0, 0, 0.3));\n",
              "      fill: #FFFFFF;\n",
              "    }\n",
              "  </style>\n",
              "\n",
              "      <script>\n",
              "        const buttonEl =\n",
              "          document.querySelector('#df-802258a0-193f-4c2f-9ee5-7746d27d6e41 button.colab-df-convert');\n",
              "        buttonEl.style.display =\n",
              "          google.colab.kernel.accessAllowed ? 'block' : 'none';\n",
              "\n",
              "        async function convertToInteractive(key) {\n",
              "          const element = document.querySelector('#df-802258a0-193f-4c2f-9ee5-7746d27d6e41');\n",
              "          const dataTable =\n",
              "            await google.colab.kernel.invokeFunction('convertToInteractive',\n",
              "                                                     [key], {});\n",
              "          if (!dataTable) return;\n",
              "\n",
              "          const docLinkHtml = 'Like what you see? Visit the ' +\n",
              "            '<a target=\"_blank\" href=https://colab.research.google.com/notebooks/data_table.ipynb>data table notebook</a>'\n",
              "            + ' to learn more about interactive tables.';\n",
              "          element.innerHTML = '';\n",
              "          dataTable['output_type'] = 'display_data';\n",
              "          await google.colab.output.renderOutput(dataTable, element);\n",
              "          const docLink = document.createElement('div');\n",
              "          docLink.innerHTML = docLinkHtml;\n",
              "          element.appendChild(docLink);\n",
              "        }\n",
              "      </script>\n",
              "    </div>\n",
              "  </div>\n",
              "  "
            ]
          },
          "metadata": {},
          "execution_count": 18
        }
      ]
    },
    {
      "cell_type": "code",
      "source": [
        "conn = sqlite3.connect('/content/drive/MyDrive/영양4조/[db]food_nutrition.db')\n",
        "sql = (\"select * from food_nutrition\")\n",
        "ms = pd.read_sql(sql, conn)\n",
        "ms.dropna(inplace=True)\n",
        "ms.replace('-','0',inplace=True)\n",
        "ms"
      ],
      "metadata": {
        "colab": {
          "base_uri": "https://localhost:8080/",
          "height": 588
        },
        "id": "TEpQXL9omfa_",
        "outputId": "127a8575-dfdc-4a14-c932-73b30e083cbe"
      },
      "execution_count": null,
      "outputs": [
        {
          "output_type": "execute_result",
          "data": {
            "text/plain": [
              "       음식명  중량(g)  에너지(kcal)  탄수화물(g)  당류(g)  지방(g)  단백질(g)  칼슘(mg)   인(mg)  \\\n",
              "0       쌀밥  210.0     334.80    73.71   0.00   0.45    5.76    3.60  126.00   \n",
              "1    기타잡곡밥  200.0     302.36    65.52   0.00   0.75    6.71   12.06  117.84   \n",
              "2       콩밥  200.0     322.90    65.85   0.00   1.67    8.43   24.70  126.90   \n",
              "3      보리밥  200.0     316.10    70.57   0.00   0.14    5.55    6.70   68.80   \n",
              "4      돌솥밥  350.0     528.86   101.85   0.00   8.35   10.19   61.46  193.72   \n",
              "..     ...    ...        ...      ...    ...    ...     ...     ...     ...   \n",
              "395     다식   30.0     105.17    20.81   6.46   1.73    3.55    1.43  100.07   \n",
              "396     약과   30.0     113.85    22.18   2.15   1.24    2.57    4.45   28.23   \n",
              "397     유과   30.0     129.06    24.14   1.12   3.50    0.36    1.21    3.60   \n",
              "398     산자   30.0     121.70    24.70  10.63   1.20    0.91    2.00   20.36   \n",
              "399    깨강정   30.0     150.30    13.62   0.00   9.87    4.50  156.00  125.70   \n",
              "\n",
              "     나트륨(mg)  칼륨(mg)  마그네슘(mg)  철(mg)  아연(mg)  콜레스테롤(mg)  트랜스지방(g)  \n",
              "0      59.40  146.70      0.00   0.36    1.35       0.00       0.0  \n",
              "1       3.39  166.72      6.90   1.74    1.83       0.00       0.0  \n",
              "2       4.10  258.40     22.50   1.74    1.61       0.00       0.0  \n",
              "3       4.50  100.60      0.00   1.26    1.41       0.00       0.0  \n",
              "4     618.32  624.32     57.79   3.32    2.58       2.37       0.0  \n",
              "..       ...     ...       ...    ...     ...        ...       ...  \n",
              "395     3.85  206.71      0.00   0.52    0.04       0.00       0.0  \n",
              "396    16.46   59.42      0.00   0.57    0.14       0.00       0.0  \n",
              "397     7.06    0.03      0.00   0.24    0.20       0.00       0.0  \n",
              "398     8.01   60.93      0.00   0.41    0.27       0.00       0.0  \n",
              "399    24.30   67.50      0.00   1.38    2.13       0.00       0.0  \n",
              "\n",
              "[400 rows x 16 columns]"
            ],
            "text/html": [
              "\n",
              "  <div id=\"df-44439f9b-0e60-4bf5-899e-a6fbf68f927b\">\n",
              "    <div class=\"colab-df-container\">\n",
              "      <div>\n",
              "<style scoped>\n",
              "    .dataframe tbody tr th:only-of-type {\n",
              "        vertical-align: middle;\n",
              "    }\n",
              "\n",
              "    .dataframe tbody tr th {\n",
              "        vertical-align: top;\n",
              "    }\n",
              "\n",
              "    .dataframe thead th {\n",
              "        text-align: right;\n",
              "    }\n",
              "</style>\n",
              "<table border=\"1\" class=\"dataframe\">\n",
              "  <thead>\n",
              "    <tr style=\"text-align: right;\">\n",
              "      <th></th>\n",
              "      <th>음식명</th>\n",
              "      <th>중량(g)</th>\n",
              "      <th>에너지(kcal)</th>\n",
              "      <th>탄수화물(g)</th>\n",
              "      <th>당류(g)</th>\n",
              "      <th>지방(g)</th>\n",
              "      <th>단백질(g)</th>\n",
              "      <th>칼슘(mg)</th>\n",
              "      <th>인(mg)</th>\n",
              "      <th>나트륨(mg)</th>\n",
              "      <th>칼륨(mg)</th>\n",
              "      <th>마그네슘(mg)</th>\n",
              "      <th>철(mg)</th>\n",
              "      <th>아연(mg)</th>\n",
              "      <th>콜레스테롤(mg)</th>\n",
              "      <th>트랜스지방(g)</th>\n",
              "    </tr>\n",
              "  </thead>\n",
              "  <tbody>\n",
              "    <tr>\n",
              "      <th>0</th>\n",
              "      <td>쌀밥</td>\n",
              "      <td>210.0</td>\n",
              "      <td>334.80</td>\n",
              "      <td>73.71</td>\n",
              "      <td>0.00</td>\n",
              "      <td>0.45</td>\n",
              "      <td>5.76</td>\n",
              "      <td>3.60</td>\n",
              "      <td>126.00</td>\n",
              "      <td>59.40</td>\n",
              "      <td>146.70</td>\n",
              "      <td>0.00</td>\n",
              "      <td>0.36</td>\n",
              "      <td>1.35</td>\n",
              "      <td>0.00</td>\n",
              "      <td>0.0</td>\n",
              "    </tr>\n",
              "    <tr>\n",
              "      <th>1</th>\n",
              "      <td>기타잡곡밥</td>\n",
              "      <td>200.0</td>\n",
              "      <td>302.36</td>\n",
              "      <td>65.52</td>\n",
              "      <td>0.00</td>\n",
              "      <td>0.75</td>\n",
              "      <td>6.71</td>\n",
              "      <td>12.06</td>\n",
              "      <td>117.84</td>\n",
              "      <td>3.39</td>\n",
              "      <td>166.72</td>\n",
              "      <td>6.90</td>\n",
              "      <td>1.74</td>\n",
              "      <td>1.83</td>\n",
              "      <td>0.00</td>\n",
              "      <td>0.0</td>\n",
              "    </tr>\n",
              "    <tr>\n",
              "      <th>2</th>\n",
              "      <td>콩밥</td>\n",
              "      <td>200.0</td>\n",
              "      <td>322.90</td>\n",
              "      <td>65.85</td>\n",
              "      <td>0.00</td>\n",
              "      <td>1.67</td>\n",
              "      <td>8.43</td>\n",
              "      <td>24.70</td>\n",
              "      <td>126.90</td>\n",
              "      <td>4.10</td>\n",
              "      <td>258.40</td>\n",
              "      <td>22.50</td>\n",
              "      <td>1.74</td>\n",
              "      <td>1.61</td>\n",
              "      <td>0.00</td>\n",
              "      <td>0.0</td>\n",
              "    </tr>\n",
              "    <tr>\n",
              "      <th>3</th>\n",
              "      <td>보리밥</td>\n",
              "      <td>200.0</td>\n",
              "      <td>316.10</td>\n",
              "      <td>70.57</td>\n",
              "      <td>0.00</td>\n",
              "      <td>0.14</td>\n",
              "      <td>5.55</td>\n",
              "      <td>6.70</td>\n",
              "      <td>68.80</td>\n",
              "      <td>4.50</td>\n",
              "      <td>100.60</td>\n",
              "      <td>0.00</td>\n",
              "      <td>1.26</td>\n",
              "      <td>1.41</td>\n",
              "      <td>0.00</td>\n",
              "      <td>0.0</td>\n",
              "    </tr>\n",
              "    <tr>\n",
              "      <th>4</th>\n",
              "      <td>돌솥밥</td>\n",
              "      <td>350.0</td>\n",
              "      <td>528.86</td>\n",
              "      <td>101.85</td>\n",
              "      <td>0.00</td>\n",
              "      <td>8.35</td>\n",
              "      <td>10.19</td>\n",
              "      <td>61.46</td>\n",
              "      <td>193.72</td>\n",
              "      <td>618.32</td>\n",
              "      <td>624.32</td>\n",
              "      <td>57.79</td>\n",
              "      <td>3.32</td>\n",
              "      <td>2.58</td>\n",
              "      <td>2.37</td>\n",
              "      <td>0.0</td>\n",
              "    </tr>\n",
              "    <tr>\n",
              "      <th>...</th>\n",
              "      <td>...</td>\n",
              "      <td>...</td>\n",
              "      <td>...</td>\n",
              "      <td>...</td>\n",
              "      <td>...</td>\n",
              "      <td>...</td>\n",
              "      <td>...</td>\n",
              "      <td>...</td>\n",
              "      <td>...</td>\n",
              "      <td>...</td>\n",
              "      <td>...</td>\n",
              "      <td>...</td>\n",
              "      <td>...</td>\n",
              "      <td>...</td>\n",
              "      <td>...</td>\n",
              "      <td>...</td>\n",
              "    </tr>\n",
              "    <tr>\n",
              "      <th>395</th>\n",
              "      <td>다식</td>\n",
              "      <td>30.0</td>\n",
              "      <td>105.17</td>\n",
              "      <td>20.81</td>\n",
              "      <td>6.46</td>\n",
              "      <td>1.73</td>\n",
              "      <td>3.55</td>\n",
              "      <td>1.43</td>\n",
              "      <td>100.07</td>\n",
              "      <td>3.85</td>\n",
              "      <td>206.71</td>\n",
              "      <td>0.00</td>\n",
              "      <td>0.52</td>\n",
              "      <td>0.04</td>\n",
              "      <td>0.00</td>\n",
              "      <td>0.0</td>\n",
              "    </tr>\n",
              "    <tr>\n",
              "      <th>396</th>\n",
              "      <td>약과</td>\n",
              "      <td>30.0</td>\n",
              "      <td>113.85</td>\n",
              "      <td>22.18</td>\n",
              "      <td>2.15</td>\n",
              "      <td>1.24</td>\n",
              "      <td>2.57</td>\n",
              "      <td>4.45</td>\n",
              "      <td>28.23</td>\n",
              "      <td>16.46</td>\n",
              "      <td>59.42</td>\n",
              "      <td>0.00</td>\n",
              "      <td>0.57</td>\n",
              "      <td>0.14</td>\n",
              "      <td>0.00</td>\n",
              "      <td>0.0</td>\n",
              "    </tr>\n",
              "    <tr>\n",
              "      <th>397</th>\n",
              "      <td>유과</td>\n",
              "      <td>30.0</td>\n",
              "      <td>129.06</td>\n",
              "      <td>24.14</td>\n",
              "      <td>1.12</td>\n",
              "      <td>3.50</td>\n",
              "      <td>0.36</td>\n",
              "      <td>1.21</td>\n",
              "      <td>3.60</td>\n",
              "      <td>7.06</td>\n",
              "      <td>0.03</td>\n",
              "      <td>0.00</td>\n",
              "      <td>0.24</td>\n",
              "      <td>0.20</td>\n",
              "      <td>0.00</td>\n",
              "      <td>0.0</td>\n",
              "    </tr>\n",
              "    <tr>\n",
              "      <th>398</th>\n",
              "      <td>산자</td>\n",
              "      <td>30.0</td>\n",
              "      <td>121.70</td>\n",
              "      <td>24.70</td>\n",
              "      <td>10.63</td>\n",
              "      <td>1.20</td>\n",
              "      <td>0.91</td>\n",
              "      <td>2.00</td>\n",
              "      <td>20.36</td>\n",
              "      <td>8.01</td>\n",
              "      <td>60.93</td>\n",
              "      <td>0.00</td>\n",
              "      <td>0.41</td>\n",
              "      <td>0.27</td>\n",
              "      <td>0.00</td>\n",
              "      <td>0.0</td>\n",
              "    </tr>\n",
              "    <tr>\n",
              "      <th>399</th>\n",
              "      <td>깨강정</td>\n",
              "      <td>30.0</td>\n",
              "      <td>150.30</td>\n",
              "      <td>13.62</td>\n",
              "      <td>0.00</td>\n",
              "      <td>9.87</td>\n",
              "      <td>4.50</td>\n",
              "      <td>156.00</td>\n",
              "      <td>125.70</td>\n",
              "      <td>24.30</td>\n",
              "      <td>67.50</td>\n",
              "      <td>0.00</td>\n",
              "      <td>1.38</td>\n",
              "      <td>2.13</td>\n",
              "      <td>0.00</td>\n",
              "      <td>0.0</td>\n",
              "    </tr>\n",
              "  </tbody>\n",
              "</table>\n",
              "<p>400 rows × 16 columns</p>\n",
              "</div>\n",
              "      <button class=\"colab-df-convert\" onclick=\"convertToInteractive('df-44439f9b-0e60-4bf5-899e-a6fbf68f927b')\"\n",
              "              title=\"Convert this dataframe to an interactive table.\"\n",
              "              style=\"display:none;\">\n",
              "        \n",
              "  <svg xmlns=\"http://www.w3.org/2000/svg\" height=\"24px\"viewBox=\"0 0 24 24\"\n",
              "       width=\"24px\">\n",
              "    <path d=\"M0 0h24v24H0V0z\" fill=\"none\"/>\n",
              "    <path d=\"M18.56 5.44l.94 2.06.94-2.06 2.06-.94-2.06-.94-.94-2.06-.94 2.06-2.06.94zm-11 1L8.5 8.5l.94-2.06 2.06-.94-2.06-.94L8.5 2.5l-.94 2.06-2.06.94zm10 10l.94 2.06.94-2.06 2.06-.94-2.06-.94-.94-2.06-.94 2.06-2.06.94z\"/><path d=\"M17.41 7.96l-1.37-1.37c-.4-.4-.92-.59-1.43-.59-.52 0-1.04.2-1.43.59L10.3 9.45l-7.72 7.72c-.78.78-.78 2.05 0 2.83L4 21.41c.39.39.9.59 1.41.59.51 0 1.02-.2 1.41-.59l7.78-7.78 2.81-2.81c.8-.78.8-2.07 0-2.86zM5.41 20L4 18.59l7.72-7.72 1.47 1.35L5.41 20z\"/>\n",
              "  </svg>\n",
              "      </button>\n",
              "      \n",
              "  <style>\n",
              "    .colab-df-container {\n",
              "      display:flex;\n",
              "      flex-wrap:wrap;\n",
              "      gap: 12px;\n",
              "    }\n",
              "\n",
              "    .colab-df-convert {\n",
              "      background-color: #E8F0FE;\n",
              "      border: none;\n",
              "      border-radius: 50%;\n",
              "      cursor: pointer;\n",
              "      display: none;\n",
              "      fill: #1967D2;\n",
              "      height: 32px;\n",
              "      padding: 0 0 0 0;\n",
              "      width: 32px;\n",
              "    }\n",
              "\n",
              "    .colab-df-convert:hover {\n",
              "      background-color: #E2EBFA;\n",
              "      box-shadow: 0px 1px 2px rgba(60, 64, 67, 0.3), 0px 1px 3px 1px rgba(60, 64, 67, 0.15);\n",
              "      fill: #174EA6;\n",
              "    }\n",
              "\n",
              "    [theme=dark] .colab-df-convert {\n",
              "      background-color: #3B4455;\n",
              "      fill: #D2E3FC;\n",
              "    }\n",
              "\n",
              "    [theme=dark] .colab-df-convert:hover {\n",
              "      background-color: #434B5C;\n",
              "      box-shadow: 0px 1px 3px 1px rgba(0, 0, 0, 0.15);\n",
              "      filter: drop-shadow(0px 1px 2px rgba(0, 0, 0, 0.3));\n",
              "      fill: #FFFFFF;\n",
              "    }\n",
              "  </style>\n",
              "\n",
              "      <script>\n",
              "        const buttonEl =\n",
              "          document.querySelector('#df-44439f9b-0e60-4bf5-899e-a6fbf68f927b button.colab-df-convert');\n",
              "        buttonEl.style.display =\n",
              "          google.colab.kernel.accessAllowed ? 'block' : 'none';\n",
              "\n",
              "        async function convertToInteractive(key) {\n",
              "          const element = document.querySelector('#df-44439f9b-0e60-4bf5-899e-a6fbf68f927b');\n",
              "          const dataTable =\n",
              "            await google.colab.kernel.invokeFunction('convertToInteractive',\n",
              "                                                     [key], {});\n",
              "          if (!dataTable) return;\n",
              "\n",
              "          const docLinkHtml = 'Like what you see? Visit the ' +\n",
              "            '<a target=\"_blank\" href=https://colab.research.google.com/notebooks/data_table.ipynb>data table notebook</a>'\n",
              "            + ' to learn more about interactive tables.';\n",
              "          element.innerHTML = '';\n",
              "          dataTable['output_type'] = 'display_data';\n",
              "          await google.colab.output.renderOutput(dataTable, element);\n",
              "          const docLink = document.createElement('div');\n",
              "          docLink.innerHTML = docLinkHtml;\n",
              "          element.appendChild(docLink);\n",
              "        }\n",
              "      </script>\n",
              "    </div>\n",
              "  </div>\n",
              "  "
            ]
          },
          "metadata": {},
          "execution_count": 19
        }
      ]
    },
    {
      "cell_type": "markdown",
      "source": [
        "### id_record db 조회 id_record=섭취영양소"
      ],
      "metadata": {
        "id": "LNkVOLxUeVEf"
      }
    },
    {
      "cell_type": "code",
      "source": [
        "import sqlite3"
      ],
      "metadata": {
        "id": "B2d0nyVSftkm"
      },
      "execution_count": null,
      "outputs": []
    },
    {
      "cell_type": "code",
      "source": [
        "conn = sqlite3.connect('/content/drive/MyDrive/영양4조/남궁정후/id_record1.db')\n",
        "conn"
      ],
      "metadata": {
        "colab": {
          "base_uri": "https://localhost:8080/"
        },
        "id": "AP3x4ThseVEh",
        "outputId": "27607d22-0d3a-45ab-ddcf-d4a66d64b7ff"
      },
      "execution_count": null,
      "outputs": [
        {
          "output_type": "execute_result",
          "data": {
            "text/plain": [
              "<sqlite3.Connection at 0x7f36be5a7b90>"
            ]
          },
          "metadata": {},
          "execution_count": 21
        }
      ]
    },
    {
      "cell_type": "code",
      "source": [
        "with conn:\n",
        "    cur = conn.cursor()\n",
        "    sql = \"select * from id_record where id=?\"\n",
        "    cur.execute(sql, ('kangsan',))\n",
        "    rows = cur.fetchall()\n",
        "    \n",
        "    for row in rows:\n",
        "        print(row)"
      ],
      "metadata": {
        "colab": {
          "base_uri": "https://localhost:8080/"
        },
        "outputId": "e7ac72e8-7e16-432c-f637-ba5d74722fad",
        "id": "JzM3FgmseVEk"
      },
      "execution_count": null,
      "outputs": [
        {
          "output_type": "stream",
          "name": "stdout",
          "text": [
            "('kangsan', '2022-04-14', '남자', '19-29', 200.0, 650.0, 70.0, 3.0, 19.2, 5.2, 2.6, 96.0, 4.1, 142.0, 0.0, 0.26, 2.0, 0.0, 0.0)\n",
            "('kangsan', '2022-04-16', '남자', '19-29', 210.0, 720.0, 80.0, 4.7, 16.3, 5.9, 4.6, 136.0, 3.0, 143.0, 0.0, 0.3, 1.6, 0.0, 0.0)\n",
            "('kangsan', '2022-04-17', '남자', '19-29', 220.0, 750.0, 74.0, 3.3, 20.0, 6.1, 2.8, 96.0, 4.3, 151.0, 0.0, 0.3, 2.1, 0.0, 0.0)\n"
          ]
        }
      ]
    },
    {
      "cell_type": "code",
      "source": [
        "# 전체 데이터 조회\n",
        "with conn:\n",
        "    cur = conn.cursor()\n",
        "    sql = \"select * from id_record\"\n",
        "    cur.execute(sql)\n",
        "    rows = cur.fetchall()\n",
        "    \n",
        "    for row in rows:\n",
        "        print(row)"
      ],
      "metadata": {
        "colab": {
          "base_uri": "https://localhost:8080/"
        },
        "id": "Bc__UXYZUNLt",
        "outputId": "35ad9ce4-84bd-4649-ed74-5bc806d88898"
      },
      "execution_count": null,
      "outputs": [
        {
          "output_type": "stream",
          "name": "stdout",
          "text": [
            "('kangsan', '2022-04-14', '남자', '19-29', 200.0, 650.0, 70.0, 3.0, 19.2, 5.2, 2.6, 96.0, 4.1, 142.0, 0.0, 0.26, 2.0, 0.0, 0.0)\n",
            "('junghu', '2022-04-15', '여자', '30-39', 210.0, 750.0, 90.0, 4.0, 19.29, 7.2, 3.6, 126.0, 4.1, 166.72, 0.0, 0.26, 1.83, 0.0, 0.0)\n",
            "('kangsan', '2022-04-16', '남자', '19-29', 210.0, 720.0, 80.0, 4.7, 16.3, 5.9, 4.6, 136.0, 3.0, 143.0, 0.0, 0.3, 1.6, 0.0, 0.0)\n",
            "('jinyoung', '2022-04-16', '여자', '30-39', 180.0, 590.0, 62.0, 3.0, 10.0, 7.0, 8.0, 117.0, 3.0, 152.0, 0.0, 0.3, 1.6, 0.0, 0.0)\n",
            "('kangsan', '2022-04-17', '남자', '19-29', 220.0, 750.0, 74.0, 3.3, 20.0, 6.1, 2.8, 96.0, 4.3, 151.0, 0.0, 0.3, 2.1, 0.0, 0.0)\n"
          ]
        }
      ]
    },
    {
      "cell_type": "markdown",
      "source": [
        "###셀 병합"
      ],
      "metadata": {
        "id": "0hf5-1wcg1IL"
      }
    },
    {
      "cell_type": "code",
      "source": [
        "data1,conn"
      ],
      "metadata": {
        "colab": {
          "base_uri": "https://localhost:8080/"
        },
        "id": "CC1s7Qfpg8XW",
        "outputId": "cd3e5200-5f17-466e-ca54-bb58883b8f04"
      },
      "execution_count": null,
      "outputs": [
        {
          "output_type": "execute_result",
          "data": {
            "text/plain": [
              "(    성별     연령       영양성분 권장(g/일) 상한(g/일)\n",
              " 0   남자  19-29  에너지(kcal)    2600       -\n",
              " 1   남자  30-39  에너지(kcal)    2500       -\n",
              " 2   남자  40-49  에너지(kcal)    2500       -\n",
              " 3   남자  50-64  에너지(kcal)    2200       -\n",
              " 4   여자  19-29  에너지(kcal)    2000       -\n",
              " ..  ..    ...        ...     ...     ...\n",
              " 91  남자  50-64   아연(mg/일)      10      35\n",
              " 92  여자  19-29   아연(mg/일)       8      35\n",
              " 93  여자  30-39   아연(mg/일)       8      35\n",
              " 94  여자  40-49   아연(mg/일)       8      35\n",
              " 95  여자  50-64   아연(mg/일)       8      35\n",
              " \n",
              " [96 rows x 5 columns], <sqlite3.Connection at 0x7f2e4b58b3b0>)"
            ]
          },
          "metadata": {},
          "execution_count": 68
        }
      ]
    },
    {
      "cell_type": "markdown",
      "metadata": {
        "id": "yvMBKfr8BNP9"
      },
      "source": [
        "# 데이터 =====\n",
        "- 영양정보 DB 가져오기"
      ]
    },
    {
      "cell_type": "code",
      "source": [
        "DATA = pd.read_excel('/content/drive/MyDrive/영양4조/dataset/nutritionDB/음식분류 AI 데이터 영양DB.xlsx', index_col='음 식 명')\n",
        "DATA.head()"
      ],
      "metadata": {
        "colab": {
          "base_uri": "https://localhost:8080/",
          "height": 420
        },
        "id": "Q436-m2HZ8uG",
        "outputId": "ab66c97d-b503-4258-e800-4ff55c8b0959"
      },
      "execution_count": null,
      "outputs": [
        {
          "output_type": "execute_result",
          "data": {
            "text/plain": [
              "       중량(g)  에너지(kcal)   탄수화물(g)  당류(g)   지방(g)   단백질(g)  칼슘(mg)    인(mg)  \\\n",
              "음 식 명                                                                        \n",
              "쌀밥     210.0    334.800   73.7100    0.0  0.4500   5.7600     3.6    126.0   \n",
              "기타잡곡밥  200.0    302.362   65.5211    0.0  0.7462   6.7092   12.06  117.836   \n",
              "콩밥     200.0    322.900   65.8460    0.0  1.6660   8.4280    24.7    126.9   \n",
              "보리밥    200.0    316.100   70.5700    0.0  0.1400   5.5500     6.7     68.8   \n",
              "돌솥밥    350.0    528.855  101.8500    0.0  8.3470  10.1870  61.455   193.72   \n",
              "\n",
              "       나트륨(mg)   칼륨(mg) 마그네슘(mg)   철(mg)  아연(mg)  콜레스테롤(mg)  트랜스지방(g)  \n",
              "음 식 명                                                                  \n",
              "쌀밥      59.400    146.7        -    0.36    1.35      0.000       0.0  \n",
              "기타잡곡밥    3.392  166.718      6.9  1.7447  1.8264      0.000       0.0  \n",
              "콩밥       4.100    258.4     22.5    1.74    1.61      0.000       0.0  \n",
              "보리밥      4.500    100.6      0.0    1.26    1.41      0.000       0.0  \n",
              "돌솥밥    618.315   624.32   57.785   3.321   2.582      2.365       0.0  "
            ],
            "text/html": [
              "\n",
              "  <div id=\"df-56030453-ac66-4b5b-9cd4-9d9ba08ee5b9\">\n",
              "    <div class=\"colab-df-container\">\n",
              "      <div>\n",
              "<style scoped>\n",
              "    .dataframe tbody tr th:only-of-type {\n",
              "        vertical-align: middle;\n",
              "    }\n",
              "\n",
              "    .dataframe tbody tr th {\n",
              "        vertical-align: top;\n",
              "    }\n",
              "\n",
              "    .dataframe thead th {\n",
              "        text-align: right;\n",
              "    }\n",
              "</style>\n",
              "<table border=\"1\" class=\"dataframe\">\n",
              "  <thead>\n",
              "    <tr style=\"text-align: right;\">\n",
              "      <th></th>\n",
              "      <th>중량(g)</th>\n",
              "      <th>에너지(kcal)</th>\n",
              "      <th>탄수화물(g)</th>\n",
              "      <th>당류(g)</th>\n",
              "      <th>지방(g)</th>\n",
              "      <th>단백질(g)</th>\n",
              "      <th>칼슘(mg)</th>\n",
              "      <th>인(mg)</th>\n",
              "      <th>나트륨(mg)</th>\n",
              "      <th>칼륨(mg)</th>\n",
              "      <th>마그네슘(mg)</th>\n",
              "      <th>철(mg)</th>\n",
              "      <th>아연(mg)</th>\n",
              "      <th>콜레스테롤(mg)</th>\n",
              "      <th>트랜스지방(g)</th>\n",
              "    </tr>\n",
              "    <tr>\n",
              "      <th>음 식 명</th>\n",
              "      <th></th>\n",
              "      <th></th>\n",
              "      <th></th>\n",
              "      <th></th>\n",
              "      <th></th>\n",
              "      <th></th>\n",
              "      <th></th>\n",
              "      <th></th>\n",
              "      <th></th>\n",
              "      <th></th>\n",
              "      <th></th>\n",
              "      <th></th>\n",
              "      <th></th>\n",
              "      <th></th>\n",
              "      <th></th>\n",
              "    </tr>\n",
              "  </thead>\n",
              "  <tbody>\n",
              "    <tr>\n",
              "      <th>쌀밥</th>\n",
              "      <td>210.0</td>\n",
              "      <td>334.800</td>\n",
              "      <td>73.7100</td>\n",
              "      <td>0.0</td>\n",
              "      <td>0.4500</td>\n",
              "      <td>5.7600</td>\n",
              "      <td>3.6</td>\n",
              "      <td>126.0</td>\n",
              "      <td>59.400</td>\n",
              "      <td>146.7</td>\n",
              "      <td>-</td>\n",
              "      <td>0.36</td>\n",
              "      <td>1.35</td>\n",
              "      <td>0.000</td>\n",
              "      <td>0.0</td>\n",
              "    </tr>\n",
              "    <tr>\n",
              "      <th>기타잡곡밥</th>\n",
              "      <td>200.0</td>\n",
              "      <td>302.362</td>\n",
              "      <td>65.5211</td>\n",
              "      <td>0.0</td>\n",
              "      <td>0.7462</td>\n",
              "      <td>6.7092</td>\n",
              "      <td>12.06</td>\n",
              "      <td>117.836</td>\n",
              "      <td>3.392</td>\n",
              "      <td>166.718</td>\n",
              "      <td>6.9</td>\n",
              "      <td>1.7447</td>\n",
              "      <td>1.8264</td>\n",
              "      <td>0.000</td>\n",
              "      <td>0.0</td>\n",
              "    </tr>\n",
              "    <tr>\n",
              "      <th>콩밥</th>\n",
              "      <td>200.0</td>\n",
              "      <td>322.900</td>\n",
              "      <td>65.8460</td>\n",
              "      <td>0.0</td>\n",
              "      <td>1.6660</td>\n",
              "      <td>8.4280</td>\n",
              "      <td>24.7</td>\n",
              "      <td>126.9</td>\n",
              "      <td>4.100</td>\n",
              "      <td>258.4</td>\n",
              "      <td>22.5</td>\n",
              "      <td>1.74</td>\n",
              "      <td>1.61</td>\n",
              "      <td>0.000</td>\n",
              "      <td>0.0</td>\n",
              "    </tr>\n",
              "    <tr>\n",
              "      <th>보리밥</th>\n",
              "      <td>200.0</td>\n",
              "      <td>316.100</td>\n",
              "      <td>70.5700</td>\n",
              "      <td>0.0</td>\n",
              "      <td>0.1400</td>\n",
              "      <td>5.5500</td>\n",
              "      <td>6.7</td>\n",
              "      <td>68.8</td>\n",
              "      <td>4.500</td>\n",
              "      <td>100.6</td>\n",
              "      <td>0.0</td>\n",
              "      <td>1.26</td>\n",
              "      <td>1.41</td>\n",
              "      <td>0.000</td>\n",
              "      <td>0.0</td>\n",
              "    </tr>\n",
              "    <tr>\n",
              "      <th>돌솥밥</th>\n",
              "      <td>350.0</td>\n",
              "      <td>528.855</td>\n",
              "      <td>101.8500</td>\n",
              "      <td>0.0</td>\n",
              "      <td>8.3470</td>\n",
              "      <td>10.1870</td>\n",
              "      <td>61.455</td>\n",
              "      <td>193.72</td>\n",
              "      <td>618.315</td>\n",
              "      <td>624.32</td>\n",
              "      <td>57.785</td>\n",
              "      <td>3.321</td>\n",
              "      <td>2.582</td>\n",
              "      <td>2.365</td>\n",
              "      <td>0.0</td>\n",
              "    </tr>\n",
              "  </tbody>\n",
              "</table>\n",
              "</div>\n",
              "      <button class=\"colab-df-convert\" onclick=\"convertToInteractive('df-56030453-ac66-4b5b-9cd4-9d9ba08ee5b9')\"\n",
              "              title=\"Convert this dataframe to an interactive table.\"\n",
              "              style=\"display:none;\">\n",
              "        \n",
              "  <svg xmlns=\"http://www.w3.org/2000/svg\" height=\"24px\"viewBox=\"0 0 24 24\"\n",
              "       width=\"24px\">\n",
              "    <path d=\"M0 0h24v24H0V0z\" fill=\"none\"/>\n",
              "    <path d=\"M18.56 5.44l.94 2.06.94-2.06 2.06-.94-2.06-.94-.94-2.06-.94 2.06-2.06.94zm-11 1L8.5 8.5l.94-2.06 2.06-.94-2.06-.94L8.5 2.5l-.94 2.06-2.06.94zm10 10l.94 2.06.94-2.06 2.06-.94-2.06-.94-.94-2.06-.94 2.06-2.06.94z\"/><path d=\"M17.41 7.96l-1.37-1.37c-.4-.4-.92-.59-1.43-.59-.52 0-1.04.2-1.43.59L10.3 9.45l-7.72 7.72c-.78.78-.78 2.05 0 2.83L4 21.41c.39.39.9.59 1.41.59.51 0 1.02-.2 1.41-.59l7.78-7.78 2.81-2.81c.8-.78.8-2.07 0-2.86zM5.41 20L4 18.59l7.72-7.72 1.47 1.35L5.41 20z\"/>\n",
              "  </svg>\n",
              "      </button>\n",
              "      \n",
              "  <style>\n",
              "    .colab-df-container {\n",
              "      display:flex;\n",
              "      flex-wrap:wrap;\n",
              "      gap: 12px;\n",
              "    }\n",
              "\n",
              "    .colab-df-convert {\n",
              "      background-color: #E8F0FE;\n",
              "      border: none;\n",
              "      border-radius: 50%;\n",
              "      cursor: pointer;\n",
              "      display: none;\n",
              "      fill: #1967D2;\n",
              "      height: 32px;\n",
              "      padding: 0 0 0 0;\n",
              "      width: 32px;\n",
              "    }\n",
              "\n",
              "    .colab-df-convert:hover {\n",
              "      background-color: #E2EBFA;\n",
              "      box-shadow: 0px 1px 2px rgba(60, 64, 67, 0.3), 0px 1px 3px 1px rgba(60, 64, 67, 0.15);\n",
              "      fill: #174EA6;\n",
              "    }\n",
              "\n",
              "    [theme=dark] .colab-df-convert {\n",
              "      background-color: #3B4455;\n",
              "      fill: #D2E3FC;\n",
              "    }\n",
              "\n",
              "    [theme=dark] .colab-df-convert:hover {\n",
              "      background-color: #434B5C;\n",
              "      box-shadow: 0px 1px 3px 1px rgba(0, 0, 0, 0.15);\n",
              "      filter: drop-shadow(0px 1px 2px rgba(0, 0, 0, 0.3));\n",
              "      fill: #FFFFFF;\n",
              "    }\n",
              "  </style>\n",
              "\n",
              "      <script>\n",
              "        const buttonEl =\n",
              "          document.querySelector('#df-56030453-ac66-4b5b-9cd4-9d9ba08ee5b9 button.colab-df-convert');\n",
              "        buttonEl.style.display =\n",
              "          google.colab.kernel.accessAllowed ? 'block' : 'none';\n",
              "\n",
              "        async function convertToInteractive(key) {\n",
              "          const element = document.querySelector('#df-56030453-ac66-4b5b-9cd4-9d9ba08ee5b9');\n",
              "          const dataTable =\n",
              "            await google.colab.kernel.invokeFunction('convertToInteractive',\n",
              "                                                     [key], {});\n",
              "          if (!dataTable) return;\n",
              "\n",
              "          const docLinkHtml = 'Like what you see? Visit the ' +\n",
              "            '<a target=\"_blank\" href=https://colab.research.google.com/notebooks/data_table.ipynb>data table notebook</a>'\n",
              "            + ' to learn more about interactive tables.';\n",
              "          element.innerHTML = '';\n",
              "          dataTable['output_type'] = 'display_data';\n",
              "          await google.colab.output.renderOutput(dataTable, element);\n",
              "          const docLink = document.createElement('div');\n",
              "          docLink.innerHTML = docLinkHtml;\n",
              "          element.appendChild(docLink);\n",
              "        }\n",
              "      </script>\n",
              "    </div>\n",
              "  </div>\n",
              "  "
            ]
          },
          "metadata": {},
          "execution_count": 53
        }
      ]
    },
    {
      "cell_type": "markdown",
      "metadata": {
        "id": "Ca6uaXbEBYs3"
      },
      "source": [
        "# 영양성분정보 추출 함수 "
      ]
    },
    {
      "cell_type": "code",
      "source": [
        "# 음식명별 영양성분 정보\n",
        "Nutrition = {'중량': ['중량(g)'],\n",
        "             '성분': ['에너지(kcal)', '콜레스테롤(mg)', '트랜스지방(g)', '탄수화물(g)', '당류(g)', '지방(g)',\n",
        "                    '단백질(g)', '칼슘(mg)', '인(mg)', '나트륨(mg)', '칼륨(mg)', '마그네슘(mg)', '철(mg)', '아연(mg)']}"
      ],
      "metadata": {
        "id": "OzHOuNysZLF2"
      },
      "execution_count": null,
      "outputs": []
    },
    {
      "cell_type": "code",
      "source": [
        "names = ['곤드레밥', '라면']"
      ],
      "metadata": {
        "id": "kQAGlLx1ZO7L"
      },
      "execution_count": null,
      "outputs": []
    },
    {
      "cell_type": "code",
      "source": [
        "# predict된 음식명에 따라 영양성분 출력 함수 정의\n",
        "def nutrition_info(names):\n",
        "    # 예측된 음식명 담기\n",
        "    food_name = []\n",
        "    # 없는 음식명 담기\n",
        "    food_name_x = []\n",
        "    # 예측된 음식의 영양성분 담기\n",
        "    food_info = {}\n",
        "    # 예측된 음식명들중에 하나씩 반복해서 이름은 음식명에 담고, 영양정보는 영양성분에 담기\n",
        "    for name in names:\n",
        "        if name in DATA.index:\n",
        "            food_name.append(name)\n",
        "            food_info[name] = dict(DATA.loc[name][Nutrition['성분']])\n",
        "        # 음식명이 없으면 없는 음식명에 담고 없는 정보를 출력할 준비 함\n",
        "        else:\n",
        "            food_name_x.append(name)\n",
        "            a = '없는 정보 :', food_name_x\n",
        "    # 결과1: 없는음식명이 없다면 예측된 음식명 리스트와 그에대한 영양성분 정보 출력\n",
        "    if food_name_x == []:\n",
        "        return food_name, food_info\n",
        "    # 결과2: 음식명이 없으면 없는음식명 정보를 출력\n",
        "    elif food_name == []:\n",
        "        return  print(a)\n",
        "    # 결과3: 음식명이 있고, 없는것도 있으면 없는 음식명정보도 출력하고 예측된 음식명 리스트와 영양성분정보 출력\n",
        "    else:\n",
        "        print(a)\n",
        "        return food_name, food_info"
      ],
      "metadata": {
        "id": "dRm6hF_PZO_L"
      },
      "execution_count": null,
      "outputs": []
    },
    {
      "cell_type": "code",
      "source": [
        "nutrition_info(names)"
      ],
      "metadata": {
        "colab": {
          "base_uri": "https://localhost:8080/",
          "height": 303
        },
        "id": "IJbbpgRzZP8y",
        "outputId": "470e053b-cd80-4716-dad7-d3f6fe1d48f8"
      },
      "execution_count": null,
      "outputs": [
        {
          "output_type": "error",
          "ename": "NameError",
          "evalue": "ignored",
          "traceback": [
            "\u001b[0;31m---------------------------------------------------------------------------\u001b[0m",
            "\u001b[0;31mNameError\u001b[0m                                 Traceback (most recent call last)",
            "\u001b[0;32m<ipython-input-27-5443dd97e029>\u001b[0m in \u001b[0;36m<module>\u001b[0;34m()\u001b[0m\n\u001b[0;32m----> 1\u001b[0;31m \u001b[0mnutrition_info\u001b[0m\u001b[0;34m(\u001b[0m\u001b[0mnames\u001b[0m\u001b[0;34m)\u001b[0m\u001b[0;34m\u001b[0m\u001b[0;34m\u001b[0m\u001b[0m\n\u001b[0m",
            "\u001b[0;32m<ipython-input-26-e96d69b8e867>\u001b[0m in \u001b[0;36mnutrition_info\u001b[0;34m(names)\u001b[0m\n\u001b[1;32m      9\u001b[0m     \u001b[0;31m# 예측된 음식명들중에 하나씩 반복해서 이름은 음식명에 담고, 영양정보는 영양성분에 담기\u001b[0m\u001b[0;34m\u001b[0m\u001b[0;34m\u001b[0m\u001b[0;34m\u001b[0m\u001b[0m\n\u001b[1;32m     10\u001b[0m     \u001b[0;32mfor\u001b[0m \u001b[0mname\u001b[0m \u001b[0;32min\u001b[0m \u001b[0mnames\u001b[0m\u001b[0;34m:\u001b[0m\u001b[0;34m\u001b[0m\u001b[0;34m\u001b[0m\u001b[0m\n\u001b[0;32m---> 11\u001b[0;31m         \u001b[0;32mif\u001b[0m \u001b[0mname\u001b[0m \u001b[0;32min\u001b[0m \u001b[0mDATA\u001b[0m\u001b[0;34m.\u001b[0m\u001b[0mindex\u001b[0m\u001b[0;34m:\u001b[0m\u001b[0;34m\u001b[0m\u001b[0;34m\u001b[0m\u001b[0m\n\u001b[0m\u001b[1;32m     12\u001b[0m             \u001b[0mfood_name\u001b[0m\u001b[0;34m.\u001b[0m\u001b[0mappend\u001b[0m\u001b[0;34m(\u001b[0m\u001b[0mname\u001b[0m\u001b[0;34m)\u001b[0m\u001b[0;34m\u001b[0m\u001b[0;34m\u001b[0m\u001b[0m\n\u001b[1;32m     13\u001b[0m             \u001b[0mfood_info\u001b[0m\u001b[0;34m[\u001b[0m\u001b[0mname\u001b[0m\u001b[0;34m]\u001b[0m \u001b[0;34m=\u001b[0m \u001b[0mdict\u001b[0m\u001b[0;34m(\u001b[0m\u001b[0mDATA\u001b[0m\u001b[0;34m.\u001b[0m\u001b[0mloc\u001b[0m\u001b[0;34m[\u001b[0m\u001b[0mname\u001b[0m\u001b[0;34m]\u001b[0m\u001b[0;34m[\u001b[0m\u001b[0mNutrition\u001b[0m\u001b[0;34m[\u001b[0m\u001b[0;34m'성분'\u001b[0m\u001b[0;34m]\u001b[0m\u001b[0;34m]\u001b[0m\u001b[0;34m)\u001b[0m\u001b[0;34m\u001b[0m\u001b[0;34m\u001b[0m\u001b[0m\n",
            "\u001b[0;31mNameError\u001b[0m: name 'DATA' is not defined"
          ]
        }
      ]
    },
    {
      "cell_type": "code",
      "source": [
        "# 음식별 영양성분 더하기\n",
        "def nutri_add(names):\n",
        "    # 전체음식의 영양성분을 한번에 담을 변수 생성 Nutri\n",
        "    Nutri = {'에너지(kcal)': 0, '콜레스테롤(mg)': 0, '트랜스지방(g)': 0, '탄수화물(g)': 0, '당류(g)': 0, '지방(g)': 0,\n",
        "    '단백질(g)': 0, '칼슘(mg)': 0, '인(mg)': 0, '나트륨(mg)': 0, '칼륨(mg)': 0, '마그네슘(mg)': 0, '철(mg)': 0, '아연(mg)': 0}\n",
        "    # 추출된 전체 음식의 성분별로 영양성분 더하여 dict에 저장\n",
        "    for name in names[0]:\n",
        "        for k in Nutrition['성분']:\n",
        "            Nutri[k] += names[1][name][k]\n",
        "    return Nutri"
      ],
      "metadata": {
        "id": "4OdsoK3aZaDu"
      },
      "execution_count": null,
      "outputs": []
    },
    {
      "cell_type": "code",
      "source": [
        "result = nutri_add(nutrition_info(names))\n",
        "result"
      ],
      "metadata": {
        "colab": {
          "base_uri": "https://localhost:8080/",
          "height": 322
        },
        "id": "4urxLbD0ZaUX",
        "outputId": "7cd8eab7-233b-4ce8-9d4f-1892bec00e5f"
      },
      "execution_count": null,
      "outputs": [
        {
          "output_type": "error",
          "ename": "NameError",
          "evalue": "ignored",
          "traceback": [
            "\u001b[0;31m---------------------------------------------------------------------------\u001b[0m",
            "\u001b[0;31mNameError\u001b[0m                                 Traceback (most recent call last)",
            "\u001b[0;32m<ipython-input-29-37a4de99d92d>\u001b[0m in \u001b[0;36m<module>\u001b[0;34m()\u001b[0m\n\u001b[0;32m----> 1\u001b[0;31m \u001b[0mresult\u001b[0m \u001b[0;34m=\u001b[0m \u001b[0mnutri_add\u001b[0m\u001b[0;34m(\u001b[0m\u001b[0mnutrition_info\u001b[0m\u001b[0;34m(\u001b[0m\u001b[0mnames\u001b[0m\u001b[0;34m)\u001b[0m\u001b[0;34m)\u001b[0m\u001b[0;34m\u001b[0m\u001b[0;34m\u001b[0m\u001b[0m\n\u001b[0m\u001b[1;32m      2\u001b[0m \u001b[0mresult\u001b[0m\u001b[0;34m\u001b[0m\u001b[0;34m\u001b[0m\u001b[0m\n",
            "\u001b[0;32m<ipython-input-26-e96d69b8e867>\u001b[0m in \u001b[0;36mnutrition_info\u001b[0;34m(names)\u001b[0m\n\u001b[1;32m      9\u001b[0m     \u001b[0;31m# 예측된 음식명들중에 하나씩 반복해서 이름은 음식명에 담고, 영양정보는 영양성분에 담기\u001b[0m\u001b[0;34m\u001b[0m\u001b[0;34m\u001b[0m\u001b[0;34m\u001b[0m\u001b[0m\n\u001b[1;32m     10\u001b[0m     \u001b[0;32mfor\u001b[0m \u001b[0mname\u001b[0m \u001b[0;32min\u001b[0m \u001b[0mnames\u001b[0m\u001b[0;34m:\u001b[0m\u001b[0;34m\u001b[0m\u001b[0;34m\u001b[0m\u001b[0m\n\u001b[0;32m---> 11\u001b[0;31m         \u001b[0;32mif\u001b[0m \u001b[0mname\u001b[0m \u001b[0;32min\u001b[0m \u001b[0mDATA\u001b[0m\u001b[0;34m.\u001b[0m\u001b[0mindex\u001b[0m\u001b[0;34m:\u001b[0m\u001b[0;34m\u001b[0m\u001b[0;34m\u001b[0m\u001b[0m\n\u001b[0m\u001b[1;32m     12\u001b[0m             \u001b[0mfood_name\u001b[0m\u001b[0;34m.\u001b[0m\u001b[0mappend\u001b[0m\u001b[0;34m(\u001b[0m\u001b[0mname\u001b[0m\u001b[0;34m)\u001b[0m\u001b[0;34m\u001b[0m\u001b[0;34m\u001b[0m\u001b[0m\n\u001b[1;32m     13\u001b[0m             \u001b[0mfood_info\u001b[0m\u001b[0;34m[\u001b[0m\u001b[0mname\u001b[0m\u001b[0;34m]\u001b[0m \u001b[0;34m=\u001b[0m \u001b[0mdict\u001b[0m\u001b[0;34m(\u001b[0m\u001b[0mDATA\u001b[0m\u001b[0;34m.\u001b[0m\u001b[0mloc\u001b[0m\u001b[0;34m[\u001b[0m\u001b[0mname\u001b[0m\u001b[0;34m]\u001b[0m\u001b[0;34m[\u001b[0m\u001b[0mNutrition\u001b[0m\u001b[0;34m[\u001b[0m\u001b[0;34m'성분'\u001b[0m\u001b[0;34m]\u001b[0m\u001b[0;34m]\u001b[0m\u001b[0;34m)\u001b[0m\u001b[0;34m\u001b[0m\u001b[0;34m\u001b[0m\u001b[0m\n",
            "\u001b[0;31mNameError\u001b[0m: name 'DATA' is not defined"
          ]
        }
      ]
    },
    {
      "cell_type": "markdown",
      "metadata": {
        "id": "sDc14JF6bBqn"
      },
      "source": [
        "# 가공정보 추출 함수 "
      ]
    },
    {
      "cell_type": "code",
      "execution_count": null,
      "metadata": {
        "colab": {
          "base_uri": "https://localhost:8080/",
          "height": 460
        },
        "id": "JG65oEIIE51o",
        "outputId": "96c1136a-94e1-4057-dd54-25c74b4c48a2"
      },
      "outputs": [
        {
          "output_type": "stream",
          "name": "stderr",
          "text": [
            "/usr/local/lib/python3.7/dist-packages/openpyxl/worksheet/_reader.py:312: UserWarning: Unknown extension is not supported and will be removed\n",
            "  warn(msg)\n"
          ]
        },
        {
          "output_type": "execute_result",
          "data": {
            "text/plain": [
              "    성별     연령       영양성분  권장(g/일) 상한(g/일)\n",
              "0   남자  19-29  에너지(kcal)   2600.0       -\n",
              "1   남자  30-39  에너지(kcal)   2500.0       -\n",
              "2   남자  40-49  에너지(kcal)   2500.0       -\n",
              "3   남자  50-64  에너지(kcal)   2200.0       -\n",
              "4   여자  19-29  에너지(kcal)   2000.0       -\n",
              "..  ..    ...        ...      ...     ...\n",
              "91  남자  50-64     아연(mg)     10.0      35\n",
              "92  여자  19-29     아연(mg)      8.0      35\n",
              "93  여자  30-39     아연(mg)      8.0      35\n",
              "94  여자  40-49     아연(mg)      8.0      35\n",
              "95  여자  50-64     아연(mg)      8.0      35\n",
              "\n",
              "[96 rows x 5 columns]"
            ],
            "text/html": [
              "\n",
              "  <div id=\"df-067f5686-37bd-4755-9513-499e5fb02567\">\n",
              "    <div class=\"colab-df-container\">\n",
              "      <div>\n",
              "<style scoped>\n",
              "    .dataframe tbody tr th:only-of-type {\n",
              "        vertical-align: middle;\n",
              "    }\n",
              "\n",
              "    .dataframe tbody tr th {\n",
              "        vertical-align: top;\n",
              "    }\n",
              "\n",
              "    .dataframe thead th {\n",
              "        text-align: right;\n",
              "    }\n",
              "</style>\n",
              "<table border=\"1\" class=\"dataframe\">\n",
              "  <thead>\n",
              "    <tr style=\"text-align: right;\">\n",
              "      <th></th>\n",
              "      <th>성별</th>\n",
              "      <th>연령</th>\n",
              "      <th>영양성분</th>\n",
              "      <th>권장(g/일)</th>\n",
              "      <th>상한(g/일)</th>\n",
              "    </tr>\n",
              "  </thead>\n",
              "  <tbody>\n",
              "    <tr>\n",
              "      <th>0</th>\n",
              "      <td>남자</td>\n",
              "      <td>19-29</td>\n",
              "      <td>에너지(kcal)</td>\n",
              "      <td>2600.0</td>\n",
              "      <td>-</td>\n",
              "    </tr>\n",
              "    <tr>\n",
              "      <th>1</th>\n",
              "      <td>남자</td>\n",
              "      <td>30-39</td>\n",
              "      <td>에너지(kcal)</td>\n",
              "      <td>2500.0</td>\n",
              "      <td>-</td>\n",
              "    </tr>\n",
              "    <tr>\n",
              "      <th>2</th>\n",
              "      <td>남자</td>\n",
              "      <td>40-49</td>\n",
              "      <td>에너지(kcal)</td>\n",
              "      <td>2500.0</td>\n",
              "      <td>-</td>\n",
              "    </tr>\n",
              "    <tr>\n",
              "      <th>3</th>\n",
              "      <td>남자</td>\n",
              "      <td>50-64</td>\n",
              "      <td>에너지(kcal)</td>\n",
              "      <td>2200.0</td>\n",
              "      <td>-</td>\n",
              "    </tr>\n",
              "    <tr>\n",
              "      <th>4</th>\n",
              "      <td>여자</td>\n",
              "      <td>19-29</td>\n",
              "      <td>에너지(kcal)</td>\n",
              "      <td>2000.0</td>\n",
              "      <td>-</td>\n",
              "    </tr>\n",
              "    <tr>\n",
              "      <th>...</th>\n",
              "      <td>...</td>\n",
              "      <td>...</td>\n",
              "      <td>...</td>\n",
              "      <td>...</td>\n",
              "      <td>...</td>\n",
              "    </tr>\n",
              "    <tr>\n",
              "      <th>91</th>\n",
              "      <td>남자</td>\n",
              "      <td>50-64</td>\n",
              "      <td>아연(mg)</td>\n",
              "      <td>10.0</td>\n",
              "      <td>35</td>\n",
              "    </tr>\n",
              "    <tr>\n",
              "      <th>92</th>\n",
              "      <td>여자</td>\n",
              "      <td>19-29</td>\n",
              "      <td>아연(mg)</td>\n",
              "      <td>8.0</td>\n",
              "      <td>35</td>\n",
              "    </tr>\n",
              "    <tr>\n",
              "      <th>93</th>\n",
              "      <td>여자</td>\n",
              "      <td>30-39</td>\n",
              "      <td>아연(mg)</td>\n",
              "      <td>8.0</td>\n",
              "      <td>35</td>\n",
              "    </tr>\n",
              "    <tr>\n",
              "      <th>94</th>\n",
              "      <td>여자</td>\n",
              "      <td>40-49</td>\n",
              "      <td>아연(mg)</td>\n",
              "      <td>8.0</td>\n",
              "      <td>35</td>\n",
              "    </tr>\n",
              "    <tr>\n",
              "      <th>95</th>\n",
              "      <td>여자</td>\n",
              "      <td>50-64</td>\n",
              "      <td>아연(mg)</td>\n",
              "      <td>8.0</td>\n",
              "      <td>35</td>\n",
              "    </tr>\n",
              "  </tbody>\n",
              "</table>\n",
              "<p>96 rows × 5 columns</p>\n",
              "</div>\n",
              "      <button class=\"colab-df-convert\" onclick=\"convertToInteractive('df-067f5686-37bd-4755-9513-499e5fb02567')\"\n",
              "              title=\"Convert this dataframe to an interactive table.\"\n",
              "              style=\"display:none;\">\n",
              "        \n",
              "  <svg xmlns=\"http://www.w3.org/2000/svg\" height=\"24px\"viewBox=\"0 0 24 24\"\n",
              "       width=\"24px\">\n",
              "    <path d=\"M0 0h24v24H0V0z\" fill=\"none\"/>\n",
              "    <path d=\"M18.56 5.44l.94 2.06.94-2.06 2.06-.94-2.06-.94-.94-2.06-.94 2.06-2.06.94zm-11 1L8.5 8.5l.94-2.06 2.06-.94-2.06-.94L8.5 2.5l-.94 2.06-2.06.94zm10 10l.94 2.06.94-2.06 2.06-.94-2.06-.94-.94-2.06-.94 2.06-2.06.94z\"/><path d=\"M17.41 7.96l-1.37-1.37c-.4-.4-.92-.59-1.43-.59-.52 0-1.04.2-1.43.59L10.3 9.45l-7.72 7.72c-.78.78-.78 2.05 0 2.83L4 21.41c.39.39.9.59 1.41.59.51 0 1.02-.2 1.41-.59l7.78-7.78 2.81-2.81c.8-.78.8-2.07 0-2.86zM5.41 20L4 18.59l7.72-7.72 1.47 1.35L5.41 20z\"/>\n",
              "  </svg>\n",
              "      </button>\n",
              "      \n",
              "  <style>\n",
              "    .colab-df-container {\n",
              "      display:flex;\n",
              "      flex-wrap:wrap;\n",
              "      gap: 12px;\n",
              "    }\n",
              "\n",
              "    .colab-df-convert {\n",
              "      background-color: #E8F0FE;\n",
              "      border: none;\n",
              "      border-radius: 50%;\n",
              "      cursor: pointer;\n",
              "      display: none;\n",
              "      fill: #1967D2;\n",
              "      height: 32px;\n",
              "      padding: 0 0 0 0;\n",
              "      width: 32px;\n",
              "    }\n",
              "\n",
              "    .colab-df-convert:hover {\n",
              "      background-color: #E2EBFA;\n",
              "      box-shadow: 0px 1px 2px rgba(60, 64, 67, 0.3), 0px 1px 3px 1px rgba(60, 64, 67, 0.15);\n",
              "      fill: #174EA6;\n",
              "    }\n",
              "\n",
              "    [theme=dark] .colab-df-convert {\n",
              "      background-color: #3B4455;\n",
              "      fill: #D2E3FC;\n",
              "    }\n",
              "\n",
              "    [theme=dark] .colab-df-convert:hover {\n",
              "      background-color: #434B5C;\n",
              "      box-shadow: 0px 1px 3px 1px rgba(0, 0, 0, 0.15);\n",
              "      filter: drop-shadow(0px 1px 2px rgba(0, 0, 0, 0.3));\n",
              "      fill: #FFFFFF;\n",
              "    }\n",
              "  </style>\n",
              "\n",
              "      <script>\n",
              "        const buttonEl =\n",
              "          document.querySelector('#df-067f5686-37bd-4755-9513-499e5fb02567 button.colab-df-convert');\n",
              "        buttonEl.style.display =\n",
              "          google.colab.kernel.accessAllowed ? 'block' : 'none';\n",
              "\n",
              "        async function convertToInteractive(key) {\n",
              "          const element = document.querySelector('#df-067f5686-37bd-4755-9513-499e5fb02567');\n",
              "          const dataTable =\n",
              "            await google.colab.kernel.invokeFunction('convertToInteractive',\n",
              "                                                     [key], {});\n",
              "          if (!dataTable) return;\n",
              "\n",
              "          const docLinkHtml = 'Like what you see? Visit the ' +\n",
              "            '<a target=\"_blank\" href=https://colab.research.google.com/notebooks/data_table.ipynb>data table notebook</a>'\n",
              "            + ' to learn more about interactive tables.';\n",
              "          element.innerHTML = '';\n",
              "          dataTable['output_type'] = 'display_data';\n",
              "          await google.colab.output.renderOutput(dataTable, element);\n",
              "          const docLink = document.createElement('div');\n",
              "          docLink.innerHTML = docLinkHtml;\n",
              "          element.appendChild(docLink);\n",
              "        }\n",
              "      </script>\n",
              "    </div>\n",
              "  </div>\n",
              "  "
            ]
          },
          "metadata": {},
          "execution_count": 69
        }
      ],
      "source": [
        "DATA2 = pd.read_excel('/content/drive/MyDrive/영양4조/남진영/[최종]영양권장량.xlsx')\n",
        "DATA2"
      ]
    },
    {
      "cell_type": "code",
      "execution_count": null,
      "metadata": {
        "colab": {
          "base_uri": "https://localhost:8080/",
          "height": 50
        },
        "id": "X2VkcEafFH1I",
        "outputId": "8092e21c-9d3f-4fdd-d642-7bd4887fdfc6"
      },
      "outputs": [
        {
          "output_type": "execute_result",
          "data": {
            "text/plain": [
              "Empty DataFrame\n",
              "Columns: [성별, 연령, 영양성분, 권장(g/일), 상한(g/일)]\n",
              "Index: []"
            ],
            "text/html": [
              "\n",
              "  <div id=\"df-2d26353e-c5c9-4fa8-a4d3-2f922a110f3c\">\n",
              "    <div class=\"colab-df-container\">\n",
              "      <div>\n",
              "<style scoped>\n",
              "    .dataframe tbody tr th:only-of-type {\n",
              "        vertical-align: middle;\n",
              "    }\n",
              "\n",
              "    .dataframe tbody tr th {\n",
              "        vertical-align: top;\n",
              "    }\n",
              "\n",
              "    .dataframe thead th {\n",
              "        text-align: right;\n",
              "    }\n",
              "</style>\n",
              "<table border=\"1\" class=\"dataframe\">\n",
              "  <thead>\n",
              "    <tr style=\"text-align: right;\">\n",
              "      <th></th>\n",
              "      <th>성별</th>\n",
              "      <th>연령</th>\n",
              "      <th>영양성분</th>\n",
              "      <th>권장(g/일)</th>\n",
              "      <th>상한(g/일)</th>\n",
              "    </tr>\n",
              "  </thead>\n",
              "  <tbody>\n",
              "  </tbody>\n",
              "</table>\n",
              "</div>\n",
              "      <button class=\"colab-df-convert\" onclick=\"convertToInteractive('df-2d26353e-c5c9-4fa8-a4d3-2f922a110f3c')\"\n",
              "              title=\"Convert this dataframe to an interactive table.\"\n",
              "              style=\"display:none;\">\n",
              "        \n",
              "  <svg xmlns=\"http://www.w3.org/2000/svg\" height=\"24px\"viewBox=\"0 0 24 24\"\n",
              "       width=\"24px\">\n",
              "    <path d=\"M0 0h24v24H0V0z\" fill=\"none\"/>\n",
              "    <path d=\"M18.56 5.44l.94 2.06.94-2.06 2.06-.94-2.06-.94-.94-2.06-.94 2.06-2.06.94zm-11 1L8.5 8.5l.94-2.06 2.06-.94-2.06-.94L8.5 2.5l-.94 2.06-2.06.94zm10 10l.94 2.06.94-2.06 2.06-.94-2.06-.94-.94-2.06-.94 2.06-2.06.94z\"/><path d=\"M17.41 7.96l-1.37-1.37c-.4-.4-.92-.59-1.43-.59-.52 0-1.04.2-1.43.59L10.3 9.45l-7.72 7.72c-.78.78-.78 2.05 0 2.83L4 21.41c.39.39.9.59 1.41.59.51 0 1.02-.2 1.41-.59l7.78-7.78 2.81-2.81c.8-.78.8-2.07 0-2.86zM5.41 20L4 18.59l7.72-7.72 1.47 1.35L5.41 20z\"/>\n",
              "  </svg>\n",
              "      </button>\n",
              "      \n",
              "  <style>\n",
              "    .colab-df-container {\n",
              "      display:flex;\n",
              "      flex-wrap:wrap;\n",
              "      gap: 12px;\n",
              "    }\n",
              "\n",
              "    .colab-df-convert {\n",
              "      background-color: #E8F0FE;\n",
              "      border: none;\n",
              "      border-radius: 50%;\n",
              "      cursor: pointer;\n",
              "      display: none;\n",
              "      fill: #1967D2;\n",
              "      height: 32px;\n",
              "      padding: 0 0 0 0;\n",
              "      width: 32px;\n",
              "    }\n",
              "\n",
              "    .colab-df-convert:hover {\n",
              "      background-color: #E2EBFA;\n",
              "      box-shadow: 0px 1px 2px rgba(60, 64, 67, 0.3), 0px 1px 3px 1px rgba(60, 64, 67, 0.15);\n",
              "      fill: #174EA6;\n",
              "    }\n",
              "\n",
              "    [theme=dark] .colab-df-convert {\n",
              "      background-color: #3B4455;\n",
              "      fill: #D2E3FC;\n",
              "    }\n",
              "\n",
              "    [theme=dark] .colab-df-convert:hover {\n",
              "      background-color: #434B5C;\n",
              "      box-shadow: 0px 1px 3px 1px rgba(0, 0, 0, 0.15);\n",
              "      filter: drop-shadow(0px 1px 2px rgba(0, 0, 0, 0.3));\n",
              "      fill: #FFFFFF;\n",
              "    }\n",
              "  </style>\n",
              "\n",
              "      <script>\n",
              "        const buttonEl =\n",
              "          document.querySelector('#df-2d26353e-c5c9-4fa8-a4d3-2f922a110f3c button.colab-df-convert');\n",
              "        buttonEl.style.display =\n",
              "          google.colab.kernel.accessAllowed ? 'block' : 'none';\n",
              "\n",
              "        async function convertToInteractive(key) {\n",
              "          const element = document.querySelector('#df-2d26353e-c5c9-4fa8-a4d3-2f922a110f3c');\n",
              "          const dataTable =\n",
              "            await google.colab.kernel.invokeFunction('convertToInteractive',\n",
              "                                                     [key], {});\n",
              "          if (!dataTable) return;\n",
              "\n",
              "          const docLinkHtml = 'Like what you see? Visit the ' +\n",
              "            '<a target=\"_blank\" href=https://colab.research.google.com/notebooks/data_table.ipynb>data table notebook</a>'\n",
              "            + ' to learn more about interactive tables.';\n",
              "          element.innerHTML = '';\n",
              "          dataTable['output_type'] = 'display_data';\n",
              "          await google.colab.output.renderOutput(dataTable, element);\n",
              "          const docLink = document.createElement('div');\n",
              "          docLink.innerHTML = docLinkHtml;\n",
              "          element.appendChild(docLink);\n",
              "        }\n",
              "      </script>\n",
              "    </div>\n",
              "  </div>\n",
              "  "
            ]
          },
          "metadata": {},
          "execution_count": 70
        }
      ],
      "source": [
        "DATA2[(DATA2['성별'] =='남자') & (DATA2['연령']=='19-29') & (DATA2['영양성분']=='탄수화물(g/일)')]"
      ]
    },
    {
      "cell_type": "code",
      "execution_count": null,
      "metadata": {
        "colab": {
          "base_uri": "https://localhost:8080/",
          "height": 425
        },
        "id": "DGblGcM9GstL",
        "outputId": "d4fc7500-f4e8-4553-e6dc-2d83062d3da1"
      },
      "outputs": [
        {
          "output_type": "execute_result",
          "data": {
            "text/plain": [
              "         영양성분      권장(g/일)\n",
              "0   에너지(kcal)  2600.000000\n",
              "8     탄수화물(g)   130.000000\n",
              "16      당류(g)    63.414634\n",
              "24      지방(g)    55.026455\n",
              "32     단백질(g)    65.000000\n",
              "40     칼슘(mg)   800.000000\n",
              "48      인(mg)   700.000000\n",
              "56    나트륨(mg)  1500.000000\n",
              "64     칼륨(mg)  3500.000000\n",
              "72   마그네슘(mg)   360.000000\n",
              "80      철(mg)    10.000000\n",
              "88     아연(mg)    10.000000"
            ],
            "text/html": [
              "\n",
              "  <div id=\"df-da70713c-de97-4cf8-9a14-1cf7fef90cf5\">\n",
              "    <div class=\"colab-df-container\">\n",
              "      <div>\n",
              "<style scoped>\n",
              "    .dataframe tbody tr th:only-of-type {\n",
              "        vertical-align: middle;\n",
              "    }\n",
              "\n",
              "    .dataframe tbody tr th {\n",
              "        vertical-align: top;\n",
              "    }\n",
              "\n",
              "    .dataframe thead th {\n",
              "        text-align: right;\n",
              "    }\n",
              "</style>\n",
              "<table border=\"1\" class=\"dataframe\">\n",
              "  <thead>\n",
              "    <tr style=\"text-align: right;\">\n",
              "      <th></th>\n",
              "      <th>영양성분</th>\n",
              "      <th>권장(g/일)</th>\n",
              "    </tr>\n",
              "  </thead>\n",
              "  <tbody>\n",
              "    <tr>\n",
              "      <th>0</th>\n",
              "      <td>에너지(kcal)</td>\n",
              "      <td>2600.000000</td>\n",
              "    </tr>\n",
              "    <tr>\n",
              "      <th>8</th>\n",
              "      <td>탄수화물(g)</td>\n",
              "      <td>130.000000</td>\n",
              "    </tr>\n",
              "    <tr>\n",
              "      <th>16</th>\n",
              "      <td>당류(g)</td>\n",
              "      <td>63.414634</td>\n",
              "    </tr>\n",
              "    <tr>\n",
              "      <th>24</th>\n",
              "      <td>지방(g)</td>\n",
              "      <td>55.026455</td>\n",
              "    </tr>\n",
              "    <tr>\n",
              "      <th>32</th>\n",
              "      <td>단백질(g)</td>\n",
              "      <td>65.000000</td>\n",
              "    </tr>\n",
              "    <tr>\n",
              "      <th>40</th>\n",
              "      <td>칼슘(mg)</td>\n",
              "      <td>800.000000</td>\n",
              "    </tr>\n",
              "    <tr>\n",
              "      <th>48</th>\n",
              "      <td>인(mg)</td>\n",
              "      <td>700.000000</td>\n",
              "    </tr>\n",
              "    <tr>\n",
              "      <th>56</th>\n",
              "      <td>나트륨(mg)</td>\n",
              "      <td>1500.000000</td>\n",
              "    </tr>\n",
              "    <tr>\n",
              "      <th>64</th>\n",
              "      <td>칼륨(mg)</td>\n",
              "      <td>3500.000000</td>\n",
              "    </tr>\n",
              "    <tr>\n",
              "      <th>72</th>\n",
              "      <td>마그네슘(mg)</td>\n",
              "      <td>360.000000</td>\n",
              "    </tr>\n",
              "    <tr>\n",
              "      <th>80</th>\n",
              "      <td>철(mg)</td>\n",
              "      <td>10.000000</td>\n",
              "    </tr>\n",
              "    <tr>\n",
              "      <th>88</th>\n",
              "      <td>아연(mg)</td>\n",
              "      <td>10.000000</td>\n",
              "    </tr>\n",
              "  </tbody>\n",
              "</table>\n",
              "</div>\n",
              "      <button class=\"colab-df-convert\" onclick=\"convertToInteractive('df-da70713c-de97-4cf8-9a14-1cf7fef90cf5')\"\n",
              "              title=\"Convert this dataframe to an interactive table.\"\n",
              "              style=\"display:none;\">\n",
              "        \n",
              "  <svg xmlns=\"http://www.w3.org/2000/svg\" height=\"24px\"viewBox=\"0 0 24 24\"\n",
              "       width=\"24px\">\n",
              "    <path d=\"M0 0h24v24H0V0z\" fill=\"none\"/>\n",
              "    <path d=\"M18.56 5.44l.94 2.06.94-2.06 2.06-.94-2.06-.94-.94-2.06-.94 2.06-2.06.94zm-11 1L8.5 8.5l.94-2.06 2.06-.94-2.06-.94L8.5 2.5l-.94 2.06-2.06.94zm10 10l.94 2.06.94-2.06 2.06-.94-2.06-.94-.94-2.06-.94 2.06-2.06.94z\"/><path d=\"M17.41 7.96l-1.37-1.37c-.4-.4-.92-.59-1.43-.59-.52 0-1.04.2-1.43.59L10.3 9.45l-7.72 7.72c-.78.78-.78 2.05 0 2.83L4 21.41c.39.39.9.59 1.41.59.51 0 1.02-.2 1.41-.59l7.78-7.78 2.81-2.81c.8-.78.8-2.07 0-2.86zM5.41 20L4 18.59l7.72-7.72 1.47 1.35L5.41 20z\"/>\n",
              "  </svg>\n",
              "      </button>\n",
              "      \n",
              "  <style>\n",
              "    .colab-df-container {\n",
              "      display:flex;\n",
              "      flex-wrap:wrap;\n",
              "      gap: 12px;\n",
              "    }\n",
              "\n",
              "    .colab-df-convert {\n",
              "      background-color: #E8F0FE;\n",
              "      border: none;\n",
              "      border-radius: 50%;\n",
              "      cursor: pointer;\n",
              "      display: none;\n",
              "      fill: #1967D2;\n",
              "      height: 32px;\n",
              "      padding: 0 0 0 0;\n",
              "      width: 32px;\n",
              "    }\n",
              "\n",
              "    .colab-df-convert:hover {\n",
              "      background-color: #E2EBFA;\n",
              "      box-shadow: 0px 1px 2px rgba(60, 64, 67, 0.3), 0px 1px 3px 1px rgba(60, 64, 67, 0.15);\n",
              "      fill: #174EA6;\n",
              "    }\n",
              "\n",
              "    [theme=dark] .colab-df-convert {\n",
              "      background-color: #3B4455;\n",
              "      fill: #D2E3FC;\n",
              "    }\n",
              "\n",
              "    [theme=dark] .colab-df-convert:hover {\n",
              "      background-color: #434B5C;\n",
              "      box-shadow: 0px 1px 3px 1px rgba(0, 0, 0, 0.15);\n",
              "      filter: drop-shadow(0px 1px 2px rgba(0, 0, 0, 0.3));\n",
              "      fill: #FFFFFF;\n",
              "    }\n",
              "  </style>\n",
              "\n",
              "      <script>\n",
              "        const buttonEl =\n",
              "          document.querySelector('#df-da70713c-de97-4cf8-9a14-1cf7fef90cf5 button.colab-df-convert');\n",
              "        buttonEl.style.display =\n",
              "          google.colab.kernel.accessAllowed ? 'block' : 'none';\n",
              "\n",
              "        async function convertToInteractive(key) {\n",
              "          const element = document.querySelector('#df-da70713c-de97-4cf8-9a14-1cf7fef90cf5');\n",
              "          const dataTable =\n",
              "            await google.colab.kernel.invokeFunction('convertToInteractive',\n",
              "                                                     [key], {});\n",
              "          if (!dataTable) return;\n",
              "\n",
              "          const docLinkHtml = 'Like what you see? Visit the ' +\n",
              "            '<a target=\"_blank\" href=https://colab.research.google.com/notebooks/data_table.ipynb>data table notebook</a>'\n",
              "            + ' to learn more about interactive tables.';\n",
              "          element.innerHTML = '';\n",
              "          dataTable['output_type'] = 'display_data';\n",
              "          await google.colab.output.renderOutput(dataTable, element);\n",
              "          const docLink = document.createElement('div');\n",
              "          docLink.innerHTML = docLinkHtml;\n",
              "          element.appendChild(docLink);\n",
              "        }\n",
              "      </script>\n",
              "    </div>\n",
              "  </div>\n",
              "  "
            ]
          },
          "metadata": {},
          "execution_count": 71
        }
      ],
      "source": [
        "a = DATA2[(DATA2['성별'] == '남자') & (DATA2['연령']=='19-29')]\n",
        "a[['영양성분','권장(g/일)']]"
      ]
    },
    {
      "cell_type": "code",
      "execution_count": null,
      "metadata": {
        "id": "YJm2X-3lGqhI"
      },
      "outputs": [],
      "source": [
        "gender = '남자'\n",
        "ages = 28\n",
        "augments = '탄수화물(g)'"
      ]
    },
    {
      "cell_type": "code",
      "execution_count": null,
      "metadata": {
        "colab": {
          "base_uri": "https://localhost:8080/"
        },
        "id": "x13wvKdsh87X",
        "outputId": "787017d6-ec0b-467a-9abc-1e6d9d6f37e4"
      },
      "outputs": [
        {
          "output_type": "execute_result",
          "data": {
            "text/plain": [
              "191.22000000000003"
            ]
          },
          "metadata": {},
          "execution_count": 73
        }
      ],
      "source": [
        "result['탄수화물(g)']"
      ]
    },
    {
      "cell_type": "code",
      "execution_count": null,
      "metadata": {
        "colab": {
          "base_uri": "https://localhost:8080/"
        },
        "id": "qteosy24iaXk",
        "outputId": "356b8ef6-7e74-4f8e-efa3-16dd7c2687d8"
      },
      "outputs": [
        {
          "output_type": "execute_result",
          "data": {
            "text/plain": [
              "numpy.float64"
            ]
          },
          "metadata": {},
          "execution_count": 74
        }
      ],
      "source": [
        "type(a[a['영양성분']=='에너지(kcal)']['권장(g/일)'].values[0])"
      ]
    },
    {
      "cell_type": "code",
      "execution_count": null,
      "metadata": {
        "colab": {
          "base_uri": "https://localhost:8080/"
        },
        "id": "XZ0O7kL7koRy",
        "outputId": "8d6b523a-40f4-4f32-99b3-b083ea9ec05a"
      },
      "outputs": [
        {
          "output_type": "execute_result",
          "data": {
            "text/plain": [
              "['에너지(kcal)',\n",
              " '콜레스테롤(mg)',\n",
              " '트랜스지방(g)',\n",
              " '탄수화물(g)',\n",
              " '당류(g)',\n",
              " '지방(g)',\n",
              " '단백질(g)',\n",
              " '칼슘(mg)',\n",
              " '인(mg)',\n",
              " '나트륨(mg)',\n",
              " '칼륨(mg)',\n",
              " '마그네슘(mg)',\n",
              " '철(mg)',\n",
              " '아연(mg)']"
            ]
          },
          "metadata": {},
          "execution_count": 75
        }
      ],
      "source": [
        "Nutrition['성분']"
      ]
    },
    {
      "cell_type": "code",
      "source": [
        "def mod(gender, age, names):\n",
        "    df = DATA2[(DATA2['성별'] == gender) & (DATA2['연령']== age)]\n",
        "    result = nutri_add(nutrition_info(names))\n",
        "    for aug in df['영양성분']:\n",
        "        if int(result[aug]) >= int(df[df['영양성분']==aug]['권장(g/일)']):\n",
        "            c = int(result[aug])\n",
        "            f = int(df[df['영양성분']==aug]['권장(g/일)'])\n",
        "            g = aug.split('(')[1].split(')')[0]\n",
        "            print(aug,'섭취량', round(c-f),g ,'초과!경고~')\n",
        "        else:\n",
        "            print(aug,'은(는) 안전~')\n",
        "    return"
      ],
      "metadata": {
        "id": "afewFT3raNDg"
      },
      "execution_count": null,
      "outputs": []
    },
    {
      "cell_type": "code",
      "source": [
        "mod('남자', '19-29', names)"
      ],
      "metadata": {
        "colab": {
          "base_uri": "https://localhost:8080/"
        },
        "id": "znzAFalBaP9_",
        "outputId": "9774fbba-4db2-46fa-aee7-280335a1555a"
      },
      "execution_count": null,
      "outputs": [
        {
          "output_type": "stream",
          "name": "stdout",
          "text": [
            "에너지(kcal) 은(는) 안전~\n",
            "탄수화물(g) 섭취량 61 g 초과!경고~\n",
            "당류(g) 은(는) 안전~\n",
            "지방(g) 은(는) 안전~\n",
            "단백질(g) 은(는) 안전~\n",
            "칼슘(mg) 은(는) 안전~\n",
            "인(mg) 은(는) 안전~\n",
            "나트륨(mg) 섭취량 284 mg 초과!경고~\n",
            "칼륨(mg) 은(는) 안전~\n",
            "마그네슘(mg) 은(는) 안전~\n",
            "철(mg) 은(는) 안전~\n",
            "아연(mg) 은(는) 안전~\n"
          ]
        }
      ]
    },
    {
      "cell_type": "code",
      "source": [
        "if gender == '남자':\n",
        "  if ages < 19:\n",
        "    print('마니먹어..')\n",
        "  elif ages < 30:\n",
        "    a = DATA2[(DATA2['성별'] == '남자') & (DATA2['연령']=='19-29')]\n",
        "    for aug in Nutrition['성분']:\n",
        "      print(result[aug])\n",
        "      print(a[a['영양성분']==[aug]]['권장(g/일)'].values[0]gm\n",
        "      if int(result[aug]) >= a[a['영양성분']==[aug]]['권장(g/일)'].values[0]:\n",
        "        print('경고')\n",
        "      else:\n",
        "        print('dd')"
      ],
      "metadata": {
        "colab": {
          "base_uri": "https://localhost:8080/",
          "height": 137
        },
        "id": "LavnHDO2bO39",
        "outputId": "fa1331c0-f24b-4527-b942-a692df255aa3"
      },
      "execution_count": null,
      "outputs": [
        {
          "output_type": "error",
          "ename": "SyntaxError",
          "evalue": "ignored",
          "traceback": [
            "\u001b[0;36m  File \u001b[0;32m\"<ipython-input-76-ae4f2f7fd322>\"\u001b[0;36m, line \u001b[0;32m8\u001b[0m\n\u001b[0;31m    print(a[a['영양성분']==[aug]]['권장(g/일)'].values[0]gm\u001b[0m\n\u001b[0m                                                   ^\u001b[0m\n\u001b[0;31mSyntaxError\u001b[0m\u001b[0;31m:\u001b[0m invalid syntax\n"
          ]
        }
      ]
    },
    {
      "cell_type": "code",
      "execution_count": null,
      "metadata": {
        "colab": {
          "base_uri": "https://localhost:8080/",
          "height": 266
        },
        "id": "WGsi_n-4GypX",
        "outputId": "367fcc02-d9b3-4d37-993b-8d8b4d18ee58"
      },
      "outputs": [
        {
          "output_type": "stream",
          "name": "stdout",
          "text": [
            "dd\n"
          ]
        },
        {
          "output_type": "error",
          "ename": "IndexError",
          "evalue": "ignored",
          "traceback": [
            "\u001b[0;31m---------------------------------------------------------------------------\u001b[0m",
            "\u001b[0;31mIndexError\u001b[0m                                Traceback (most recent call last)",
            "\u001b[0;32m<ipython-input-58-05424396c29f>\u001b[0m in \u001b[0;36m<module>\u001b[0;34m()\u001b[0m\n\u001b[1;32m      5\u001b[0m         \u001b[0ma\u001b[0m \u001b[0;34m=\u001b[0m \u001b[0mDATA2\u001b[0m\u001b[0;34m[\u001b[0m\u001b[0;34m(\u001b[0m\u001b[0mDATA2\u001b[0m\u001b[0;34m[\u001b[0m\u001b[0;34m'성별'\u001b[0m\u001b[0;34m]\u001b[0m \u001b[0;34m==\u001b[0m \u001b[0;34m'남자'\u001b[0m\u001b[0;34m)\u001b[0m \u001b[0;34m&\u001b[0m \u001b[0;34m(\u001b[0m\u001b[0mDATA2\u001b[0m\u001b[0;34m[\u001b[0m\u001b[0;34m'연령'\u001b[0m\u001b[0;34m]\u001b[0m\u001b[0;34m==\u001b[0m\u001b[0;34m'19-29'\u001b[0m\u001b[0;34m)\u001b[0m\u001b[0;34m]\u001b[0m\u001b[0;34m\u001b[0m\u001b[0;34m\u001b[0m\u001b[0m\n\u001b[1;32m      6\u001b[0m         \u001b[0;32mfor\u001b[0m \u001b[0maug\u001b[0m \u001b[0;32min\u001b[0m \u001b[0mNutrition\u001b[0m\u001b[0;34m[\u001b[0m\u001b[0;34m'성분'\u001b[0m\u001b[0;34m]\u001b[0m\u001b[0;34m:\u001b[0m\u001b[0;34m\u001b[0m\u001b[0;34m\u001b[0m\u001b[0m\n\u001b[0;32m----> 7\u001b[0;31m             \u001b[0;32mif\u001b[0m \u001b[0mint\u001b[0m\u001b[0;34m(\u001b[0m\u001b[0mresult\u001b[0m\u001b[0;34m[\u001b[0m\u001b[0maug\u001b[0m\u001b[0;34m]\u001b[0m\u001b[0;34m)\u001b[0m \u001b[0;34m>=\u001b[0m \u001b[0ma\u001b[0m\u001b[0;34m[\u001b[0m\u001b[0ma\u001b[0m\u001b[0;34m[\u001b[0m\u001b[0;34m'영양성분'\u001b[0m\u001b[0;34m]\u001b[0m\u001b[0;34m==\u001b[0m\u001b[0maug\u001b[0m\u001b[0;34m]\u001b[0m\u001b[0;34m[\u001b[0m\u001b[0;34m'권장(g/일)'\u001b[0m\u001b[0;34m]\u001b[0m\u001b[0;34m.\u001b[0m\u001b[0mvalues\u001b[0m\u001b[0;34m[\u001b[0m\u001b[0;36m0\u001b[0m\u001b[0;34m]\u001b[0m\u001b[0;34m:\u001b[0m\u001b[0;34m\u001b[0m\u001b[0;34m\u001b[0m\u001b[0m\n\u001b[0m\u001b[1;32m      8\u001b[0m                 \u001b[0mprint\u001b[0m\u001b[0;34m(\u001b[0m\u001b[0;34m'경고'\u001b[0m\u001b[0;34m)\u001b[0m\u001b[0;34m\u001b[0m\u001b[0;34m\u001b[0m\u001b[0m\n\u001b[1;32m      9\u001b[0m             \u001b[0;32melse\u001b[0m\u001b[0;34m:\u001b[0m\u001b[0;34m\u001b[0m\u001b[0;34m\u001b[0m\u001b[0m\n",
            "\u001b[0;31mIndexError\u001b[0m: index 0 is out of bounds for axis 0 with size 0"
          ]
        }
      ],
      "source": [
        "if gender == '남자':\n",
        "    if ages < 19:\n",
        "        print('마니먹어..')\n",
        "    elif ages < 30:\n",
        "        a = DATA2[(DATA2['성별'] == '남자') & (DATA2['연령']=='19-29')]\n",
        "        for aug in Nutrition['성분']:\n",
        "            if int(result[aug]) >= a[a['영양성분']==aug]['권장(g/일)'].values[0]:\n",
        "                print('경고')\n",
        "            else:\n",
        "                print('dd')\n",
        "    elif ages < 40:\n",
        "        DATA2[(DATA2['성별'] == '남자') & (DATA2['연령']=='30-49')]\n",
        "        print('남자 30대')\n",
        "    elif ages < 50:\n",
        "        DATA2[(DATA2['성별'] == '남자') & (DATA2['연령']=='30-49')]\n",
        "        print('남자 40대')\n",
        "    elif ages < 60:\n",
        "        DATA2[(DATA2['성별'] == '남자') & (DATA2['연령']=='50-64')]\n",
        "        print('남자 50대')\n",
        "    elif ages < 65:\n",
        "        DATA2[(DATA2['성별'] == '남자') & (DATA2['연령']=='50-64')]\n",
        "        print('남자 60~64')\n",
        "    else:\n",
        "        print('해당 정보가 없습니다')\n",
        "elif gender == '여자':\n",
        "    if ages < 19:\n",
        "        print('마니먹어..')\n",
        "    elif ages < 30:\n",
        "        DATA2[(DATA2['성별'] == '여자') & (DATA2['연령']=='19-29')]\n",
        "        print('여자 20대')\n",
        "    elif ages < 40:\n",
        "        DATA2[(DATA2['성별'] == '여자') & (DATA2['연령']=='30-49')]\n",
        "        print('여자 30대')\n",
        "    elif ages < 50:\n",
        "        DATA2[(DATA2['성별'] == '여자') & (DATA2['연령']=='30-49')]\n",
        "        print('여자 40대')\n",
        "    elif ages < 60:\n",
        "        DATA2[(DATA2['성별'] == '여자') & (DATA2['연령']=='50-64')]\n",
        "        print('여자 50대')\n",
        "    elif ages < 65:\n",
        "        DATA2[(DATA2['성별'] == '여자') & (DATA2['연령']=='50-64')]\n",
        "        print('여자 60~64')\n",
        "    else:\n",
        "        print('해당 정보가 없습니다')"
      ]
    },
    {
      "cell_type": "code",
      "execution_count": null,
      "metadata": {
        "id": "jOzsSvCkG00m"
      },
      "outputs": [],
      "source": [
        "# 입력받은 개인정보 기준 영양성분 제한 해주는 부분 함수\n",
        "def warning(gender, ages, augments):\n",
        "    a"
      ]
    },
    {
      "cell_type": "markdown",
      "metadata": {
        "id": "vUPapFTSTayC"
      },
      "source": [
        "# FASTAPI 설정 =====\n",
        "- install fastapi, uvicorn 등\n",
        "- import fastapi, ngrok 등"
      ]
    },
    {
      "cell_type": "code",
      "source": [
        "!pip install fastapi nest-asyncio pyngrok uvicorn aiofiles python-multipart"
      ],
      "metadata": {
        "colab": {
          "base_uri": "https://localhost:8080/"
        },
        "id": "Bo8eMHujitZJ",
        "outputId": "0e71c0d6-5fdc-4301-8f1e-27abcadde455"
      },
      "execution_count": null,
      "outputs": [
        {
          "output_type": "stream",
          "name": "stdout",
          "text": [
            "Collecting fastapi\n",
            "  Downloading fastapi-0.75.1-py3-none-any.whl (54 kB)\n",
            "\u001b[?25l\r\u001b[K     |██████                          | 10 kB 19.1 MB/s eta 0:00:01\r\u001b[K     |████████████                    | 20 kB 10.7 MB/s eta 0:00:01\r\u001b[K     |██████████████████              | 30 kB 9.0 MB/s eta 0:00:01\r\u001b[K     |████████████████████████        | 40 kB 8.2 MB/s eta 0:00:01\r\u001b[K     |██████████████████████████████  | 51 kB 5.3 MB/s eta 0:00:01\r\u001b[K     |████████████████████████████████| 54 kB 1.7 MB/s \n",
            "\u001b[?25hRequirement already satisfied: nest-asyncio in /usr/local/lib/python3.7/dist-packages (1.5.5)\n",
            "Collecting pyngrok\n",
            "  Downloading pyngrok-5.1.0.tar.gz (745 kB)\n",
            "\u001b[K     |████████████████████████████████| 745 kB 10.0 MB/s \n",
            "\u001b[?25hCollecting uvicorn\n",
            "  Downloading uvicorn-0.17.6-py3-none-any.whl (53 kB)\n",
            "\u001b[K     |████████████████████████████████| 53 kB 1.9 MB/s \n",
            "\u001b[?25hCollecting aiofiles\n",
            "  Downloading aiofiles-0.8.0-py3-none-any.whl (13 kB)\n",
            "Collecting python-multipart\n",
            "  Downloading python-multipart-0.0.5.tar.gz (32 kB)\n",
            "Collecting starlette==0.17.1\n",
            "  Downloading starlette-0.17.1-py3-none-any.whl (58 kB)\n",
            "\u001b[K     |████████████████████████████████| 58 kB 5.1 MB/s \n",
            "\u001b[?25hCollecting pydantic!=1.7,!=1.7.1,!=1.7.2,!=1.7.3,!=1.8,!=1.8.1,<2.0.0,>=1.6.2\n",
            "  Downloading pydantic-1.9.0-cp37-cp37m-manylinux_2_17_x86_64.manylinux2014_x86_64.whl (10.9 MB)\n",
            "\u001b[K     |████████████████████████████████| 10.9 MB 45.3 MB/s \n",
            "\u001b[?25hRequirement already satisfied: typing-extensions in /usr/local/lib/python3.7/dist-packages (from starlette==0.17.1->fastapi) (4.1.1)\n",
            "Collecting anyio<4,>=3.0.0\n",
            "  Downloading anyio-3.5.0-py3-none-any.whl (79 kB)\n",
            "\u001b[K     |████████████████████████████████| 79 kB 6.9 MB/s \n",
            "\u001b[?25hCollecting sniffio>=1.1\n",
            "  Downloading sniffio-1.2.0-py3-none-any.whl (10 kB)\n",
            "Requirement already satisfied: idna>=2.8 in /usr/local/lib/python3.7/dist-packages (from anyio<4,>=3.0.0->starlette==0.17.1->fastapi) (2.10)\n",
            "Requirement already satisfied: PyYAML in /usr/local/lib/python3.7/dist-packages (from pyngrok) (3.13)\n",
            "Collecting asgiref>=3.4.0\n",
            "  Downloading asgiref-3.5.0-py3-none-any.whl (22 kB)\n",
            "Collecting h11>=0.8\n",
            "  Downloading h11-0.13.0-py3-none-any.whl (58 kB)\n",
            "\u001b[K     |████████████████████████████████| 58 kB 4.9 MB/s \n",
            "\u001b[?25hRequirement already satisfied: click>=7.0 in /usr/local/lib/python3.7/dist-packages (from uvicorn) (7.1.2)\n",
            "Requirement already satisfied: six>=1.4.0 in /usr/local/lib/python3.7/dist-packages (from python-multipart) (1.15.0)\n",
            "Building wheels for collected packages: pyngrok, python-multipart\n",
            "  Building wheel for pyngrok (setup.py) ... \u001b[?25l\u001b[?25hdone\n",
            "  Created wheel for pyngrok: filename=pyngrok-5.1.0-py3-none-any.whl size=19007 sha256=8161319f588dff48bebb856fab3783b86763ff8f206910e74c9fea620e3e5eb6\n",
            "  Stored in directory: /root/.cache/pip/wheels/bf/e6/af/ccf6598ecefecd44104069371795cb9b3afbcd16987f6ccfb3\n",
            "  Building wheel for python-multipart (setup.py) ... \u001b[?25l\u001b[?25hdone\n",
            "  Created wheel for python-multipart: filename=python_multipart-0.0.5-py3-none-any.whl size=31678 sha256=919d99f5d7da1cfc97257ac7d165953ea50f5acbf8510ccca95d4d735dd9941c\n",
            "  Stored in directory: /root/.cache/pip/wheels/2c/41/7c/bfd1c180534ffdcc0972f78c5758f89881602175d48a8bcd2c\n",
            "Successfully built pyngrok python-multipart\n",
            "Installing collected packages: sniffio, anyio, starlette, pydantic, h11, asgiref, uvicorn, python-multipart, pyngrok, fastapi, aiofiles\n",
            "Successfully installed aiofiles-0.8.0 anyio-3.5.0 asgiref-3.5.0 fastapi-0.75.1 h11-0.13.0 pydantic-1.9.0 pyngrok-5.1.0 python-multipart-0.0.5 sniffio-1.2.0 starlette-0.17.1 uvicorn-0.17.6\n"
          ]
        }
      ]
    },
    {
      "cell_type": "code",
      "source": [
        ""
      ],
      "metadata": {
        "id": "AlmBZiIIWlBw"
      },
      "execution_count": null,
      "outputs": []
    },
    {
      "cell_type": "markdown",
      "metadata": {
        "id": "NvQtCTZAsE2p"
      },
      "source": [
        "# HTML파일작성\n",
        "- API 화면 출력용 html 작성"
      ]
    },
    {
      "cell_type": "code",
      "execution_count": null,
      "metadata": {
        "colab": {
          "base_uri": "https://localhost:8080/"
        },
        "id": "RwVwQvNGCBXD",
        "outputId": "5a4488b4-f30a-4dfd-dbd0-fde9325b0e90"
      },
      "outputs": [
        {
          "output_type": "stream",
          "name": "stdout",
          "text": [
            "Overwriting templates/main.html\n"
          ]
        }
      ],
      "source": [
        "%%writefile templates/main.html\n",
        "<!DOCTYPE html>\n",
        "<html>\n",
        "\t<head>\n",
        "        <link rel=\"preconnect\" href=\"https://fonts.googleapis.com\" />\n",
        "\t\t<link rel=\"preconnect\" href=\"https://fonts.gstatic.com\" crossorigin />\n",
        "\t\t<link\n",
        "\t\t\thref=\"https://fonts.googleapis.com/css2?family=Gowun+Dodum&display=swap\"\n",
        "\t\t\trel=\"stylesheet\"\n",
        "\t\t/>\n",
        "        \n",
        "        <!-- Required meta tags -->\n",
        "\t\t<meta charset=\"utf-8\" />\n",
        "\t\t<meta name=\"viewport\" content=\"width=device-width, initial-scale=1\" />\n",
        "\n",
        "        <!-- Bootstrap CSS -->\n",
        "\t\t<link\n",
        "        href=\"https://cdn.jsdelivr.net/npm/bootstrap@5.1.3/dist/css/bootstrap.min.css\"\n",
        "        rel=\"stylesheet\"\n",
        "        integrity=\"sha384-1BmE4kWBq78iYhFldvKuhfTAU6auU8tT94WrHftjDbrCEXSU1oBoqyl2QvZ6jIW3\"\n",
        "        crossorigin=\"anonymous\"\n",
        "        />\n",
        "\n",
        "        <title>Nutrition_4</title>\n",
        "        <link rel=\"stylesheet\" href=\"/static/style.css\" />\n",
        "    </head>\n",
        "\t<body>\n",
        "        <form method=\"post\" action=\"/print\" enctype=\"multipart/form-data\">\n",
        "            <section class=\"section\">\n",
        "                <h2 class=\"title\">개인맞춤 식단 필터링 서비스</h2>\n",
        "                <h5 class=\"subtitle\">정보를 입력해주세요</h5>\n",
        "            <center>\n",
        "            <div class= 'pt-1 Select Gender'>\n",
        "                <select name = 'gender'>\n",
        "                <option type='text', value='male'>남자</option>\n",
        "                <option type='text', value='female'>여자</option>\n",
        "                </select>\n",
        "            </div>\n",
        "            </center>\n",
        "            <center>\n",
        "            <div class= 'pt-1 Input Ages'>\n",
        "                <input type='number' min='19' max=\"64\" name=\"ages\">\n",
        "            </div>\n",
        "            </center>\n",
        "            <center>\n",
        "            <div class= 'pt-1 Select Illness'>\n",
        "                <select name = 'illness'>\n",
        "                <option type='text', value='A'>비만</option>\n",
        "                <option type='text', value='B'>당뇨</option>\n",
        "                <option type='text', value='C'>고혈압</option>\n",
        "                <option type='text', value='D'>고지혈증</option>\n",
        "                <option type='text', value='E'>신부전증</option>\n",
        "                </select>\n",
        "            </div>\n",
        "            </center>\n",
        "            <center>\n",
        "                <div class='pt-2 mb-2 submitbutton'>\n",
        "                  <input type=\"submit\", Value=작동>\n",
        "                </div>\n",
        "            </center>\n",
        "            <div class=\"container file-upload\">\n",
        "                <div class=\"image-upload-wrap\" style=\"width: 65%; margin: 0 auto;\">\n",
        "                    <input\n",
        "                        class=\"file-upload-input\"\n",
        "                        type=\"file\"\n",
        "                        name='img'\n",
        "                        onchange=\"readURL(this);\"\n",
        "                        accept=\"image/*\"\n",
        "                    />\n",
        "                    <div class=\"drag-text\">\n",
        "                        <img src=\"img/upload.png\" class=\"mt-5 pt-2 upload\" style=\"width: 16%;\" />\n",
        "                        <h3 class=\"mb-5 pd-5 pt-4 upload-text\">음식사진을 올려주세요</h3>\n",
        "                    </div>\n",
        "                </div>\n",
        "                <div class=\"file-upload-content\">\n",
        "                    <img class=\"file-upload-image\" id=\"food-image\" src=\"#\" alt=\"your image\" />\n",
        "                    <!-- <p class=\"result-message\"></p> -->\n",
        "                    <div id=\"label-container\"></div>\n",
        "                    <div class=\"image-title-wrap\">\n",
        "                        <button type=\"button\" onclick=\"removeUpload()\" class=\"remove-image\">\n",
        "                            Remove\n",
        "                            <span class=\"image-title\">Uploaded Image</span>\n",
        "                        </button>\n",
        "                    </div>\n",
        "                </div>\n",
        "            </div>\n",
        "        </form>\n",
        "        # <script>\n",
        "\t\t# \tfunction readURL(input) {\n",
        "\t\t# \t\tif (input.files && input.files[0]) {\n",
        "\t\t# \t\t\tvar reader = new FileReader();\n",
        "\t\t# \t\t\treader.onload = function (e) {\n",
        "\t\t# \t\t\t\t$('.image-upload-wrap').hide();\n",
        "\t\t# \t\t\t\t$('.file-upload-image').attr('src', e.target.result);\n",
        "\t\t# \t\t\t\t$('.file-upload-content').show();\n",
        "\t\t# \t\t\t\t$('.image-title').html(input.files[0].name);\n",
        "\t\t# \t\t\t};\n",
        "\t\t# \t\t\treader.readAsDataURL(input.files[0]);\n",
        "\t\t# \t\t\tinit().then(() => {\n",
        "\t\t# \t\t\t\tconsole.log('hello');\n",
        "\t\t# \t\t\t\tpredict();\n",
        "\t\t# \t\t\t});\n",
        "\t\t# \t\t} else {\n",
        "\t\t# \t\t\tremoveUpload();\n",
        "\t\t# \t\t}\n",
        "\t\t# \t}\n",
        "\n",
        "\t\t# \tfunction removeUpload() {\n",
        "\t\t# \t\t$('.file-upload-input').replaceWith($('.file-upload-input').clone());\n",
        "\t\t# \t\t$('.file-upload-content').hide();\n",
        "\t\t# \t\t$('.image-upload-wrap').show();\n",
        "\t\t# \t}\n",
        "\t\t# \t$('.image-upload-wrap').bind('dragover', function () {\n",
        "\t\t# \t\t$('.image-upload-wrap').addClass('image-dropping');\n",
        "\t\t# \t});\n",
        "\t\t# \t$('.image-upload-wrap').bind('dragleave', function () {\n",
        "\t\t# \t\t$('.image-upload-wrap').removeClass('image-dropping');\n",
        "\t\t# \t});\n",
        "\t\t# </script>    \n",
        "    </body>\n",
        "\t\n",
        "</html>"
      ]
    },
    {
      "cell_type": "code",
      "execution_count": null,
      "metadata": {
        "colab": {
          "base_uri": "https://localhost:8080/"
        },
        "outputId": "c89e8164-c84c-4473-d806-b07445976012",
        "id": "PW9PRkqqTayD"
      },
      "outputs": [
        {
          "name": "stdout",
          "output_type": "stream",
          "text": [
            "Collecting fastapi\n",
            "  Downloading fastapi-0.75.1-py3-none-any.whl (54 kB)\n",
            "\u001b[?25l\r\u001b[K     |██████                          | 10 kB 22.3 MB/s eta 0:00:01\r\u001b[K     |████████████                    | 20 kB 11.8 MB/s eta 0:00:01\r\u001b[K     |██████████████████              | 30 kB 8.9 MB/s eta 0:00:01\r\u001b[K     |████████████████████████        | 40 kB 7.9 MB/s eta 0:00:01\r\u001b[K     |██████████████████████████████  | 51 kB 5.6 MB/s eta 0:00:01\r\u001b[K     |████████████████████████████████| 54 kB 1.9 MB/s \n",
            "\u001b[?25hRequirement already satisfied: nest-asyncio in /usr/local/lib/python3.7/dist-packages (1.5.5)\n",
            "Collecting pyngrok\n",
            "  Downloading pyngrok-5.1.0.tar.gz (745 kB)\n",
            "\u001b[K     |████████████████████████████████| 745 kB 17.9 MB/s \n",
            "\u001b[?25hCollecting uvicorn\n",
            "  Downloading uvicorn-0.17.6-py3-none-any.whl (53 kB)\n",
            "\u001b[K     |████████████████████████████████| 53 kB 1.9 MB/s \n",
            "\u001b[?25hCollecting aiofiles\n",
            "  Downloading aiofiles-0.8.0-py3-none-any.whl (13 kB)\n",
            "Collecting python-multipart\n",
            "  Downloading python-multipart-0.0.5.tar.gz (32 kB)\n",
            "Collecting starlette==0.17.1\n",
            "  Downloading starlette-0.17.1-py3-none-any.whl (58 kB)\n",
            "\u001b[K     |████████████████████████████████| 58 kB 5.7 MB/s \n",
            "\u001b[?25hCollecting pydantic!=1.7,!=1.7.1,!=1.7.2,!=1.7.3,!=1.8,!=1.8.1,<2.0.0,>=1.6.2\n",
            "  Downloading pydantic-1.9.0-cp37-cp37m-manylinux_2_17_x86_64.manylinux2014_x86_64.whl (10.9 MB)\n",
            "\u001b[K     |████████████████████████████████| 10.9 MB 53.6 MB/s \n",
            "\u001b[?25hCollecting anyio<4,>=3.0.0\n",
            "  Downloading anyio-3.5.0-py3-none-any.whl (79 kB)\n",
            "\u001b[K     |████████████████████████████████| 79 kB 8.0 MB/s \n",
            "\u001b[?25hRequirement already satisfied: typing-extensions in /usr/local/lib/python3.7/dist-packages (from starlette==0.17.1->fastapi) (4.1.1)\n",
            "Collecting sniffio>=1.1\n",
            "  Downloading sniffio-1.2.0-py3-none-any.whl (10 kB)\n",
            "Requirement already satisfied: idna>=2.8 in /usr/local/lib/python3.7/dist-packages (from anyio<4,>=3.0.0->starlette==0.17.1->fastapi) (2.10)\n",
            "Requirement already satisfied: PyYAML in /usr/local/lib/python3.7/dist-packages (from pyngrok) (3.13)\n",
            "Requirement already satisfied: click>=7.0 in /usr/local/lib/python3.7/dist-packages (from uvicorn) (7.1.2)\n",
            "Collecting asgiref>=3.4.0\n",
            "  Downloading asgiref-3.5.0-py3-none-any.whl (22 kB)\n",
            "Collecting h11>=0.8\n",
            "  Downloading h11-0.13.0-py3-none-any.whl (58 kB)\n",
            "\u001b[K     |████████████████████████████████| 58 kB 5.1 MB/s \n",
            "\u001b[?25hRequirement already satisfied: six>=1.4.0 in /usr/local/lib/python3.7/dist-packages (from python-multipart) (1.15.0)\n",
            "Building wheels for collected packages: pyngrok, python-multipart\n",
            "  Building wheel for pyngrok (setup.py) ... \u001b[?25l\u001b[?25hdone\n",
            "  Created wheel for pyngrok: filename=pyngrok-5.1.0-py3-none-any.whl size=19007 sha256=6ab549863d35ddeb81bc186e34fe8ca499f8a4a197599c2752169228b58df8fe\n",
            "  Stored in directory: /root/.cache/pip/wheels/bf/e6/af/ccf6598ecefecd44104069371795cb9b3afbcd16987f6ccfb3\n",
            "  Building wheel for python-multipart (setup.py) ... \u001b[?25l\u001b[?25hdone\n",
            "  Created wheel for python-multipart: filename=python_multipart-0.0.5-py3-none-any.whl size=31678 sha256=2a4a15d0337131ab21b39138f6fa05ac4af33f891b0d865df0b54a18c3c7c2bd\n",
            "  Stored in directory: /root/.cache/pip/wheels/2c/41/7c/bfd1c180534ffdcc0972f78c5758f89881602175d48a8bcd2c\n",
            "Successfully built pyngrok python-multipart\n",
            "Installing collected packages: sniffio, anyio, starlette, pydantic, h11, asgiref, uvicorn, python-multipart, pyngrok, fastapi, aiofiles\n",
            "Successfully installed aiofiles-0.8.0 anyio-3.5.0 asgiref-3.5.0 fastapi-0.75.1 h11-0.13.0 pydantic-1.9.0 pyngrok-5.1.0 python-multipart-0.0.5 sniffio-1.2.0 starlette-0.17.1 uvicorn-0.17.6\n"
          ]
        }
      ],
      "source": [
        "!pip install fastapi nest-asyncio pyngrok uvicorn aiofiles python-multipart"
      ]
    },
    {
      "cell_type": "markdown",
      "metadata": {
        "id": "XsTN1nBjtR_2"
      },
      "source": [
        "# css 파일 작성"
      ]
    },
    {
      "cell_type": "code",
      "execution_count": null,
      "metadata": {
        "colab": {
          "base_uri": "https://localhost:8080/"
        },
        "id": "maAoN-XZtIJB",
        "outputId": "14dc6914-1f7b-4ee2-82da-02c37c11c782"
      },
      "outputs": [
        {
          "output_type": "stream",
          "name": "stdout",
          "text": [
            "Writing static/style.css\n"
          ]
        }
      ],
      "source": [
        "%%writefile static/style.css\n",
        "body {\n",
        "\tfont-family: 'Ubuntu', sans-serif;\n",
        "\tbackground-color: #fff;\n",
        "}\n",
        ".file-upload {\n",
        "\t/* width: 914px; */\n",
        "\tborder-radius: 10px;\n",
        "\tborder: solid 1.5px #f6f7fa;\n",
        "\tbackground-color: #f6f7fa;\n",
        "\tpadding: 13% 5%;\n",
        "\tmargin: 0 auto\n",
        "\t/* width: 600px; */\n",
        "\t\n",
        "}\n",
        ".file-upload-btn {\n",
        "\twidth: 100%;\n",
        "\tmargin: 0;\n",
        "\tcolor: #fff;\n",
        "\tbackground: #a61fb2;\n",
        "\tborder: none;\n",
        "\tpadding: 10px;\n",
        "\tborder-radius: 4px;\n",
        "\tborder-bottom: 4px solid #a61fb2;\n",
        "\ttransition: all 0.2s ease;\n",
        "\toutline: none;\n",
        "\ttext-transform: uppercase;\n",
        "\tfont-weight: 700;\n",
        "}\n",
        ".file-upload-btn:hover {\n",
        "\tbackground: #1a1ca0;\n",
        "\tcolor: #fff;\n",
        "\ttransition: all 0.2s ease;\n",
        "\tcursor: pointer;\n",
        "}\n",
        ".file-upload-btn:active {\n",
        "\tborder: 0;\n",
        "\ttransition: all 0.2s ease;\n",
        "}\n",
        ".file-upload-content {\n",
        "\tdisplay: none;\n",
        "\ttext-align: center;\n",
        "}\n",
        ".file-upload-input {\n",
        "\tposition: absolute;\n",
        "\tmargin: 0;\n",
        "\tpadding: 0;\n",
        "\twidth: 100%;\n",
        "\theight: 100%;\n",
        "\toutline: none;\n",
        "\topacity: 0;\n",
        "\tcursor: pointer;\n",
        "}\n",
        ".image-upload-wrap {\n",
        "\tborder: 4px dashed #0026ff;\n",
        "\tposition: relative;\n",
        "}\n",
        ".image-upload-wrap:hover {\n",
        "\tbackground-color: #f9bbff;\n",
        "\tborder: 4px dashed #fff;\n",
        "}\n",
        ".image-dropping {\n",
        "\tbackground-color: #ff0000;\n",
        "\tborder: 4px dashed #fff;\n",
        "}\n",
        ".image-title-wrap {\n",
        "\tpadding: 0 15px 15px;\n",
        "\tcolor: #222;\n",
        "}\n",
        ".drag-text {\n",
        "\ttext-align: center;\n",
        "}\n",
        ".drag-text h3 {\n",
        "\twidth: 50%;\n",
        "\tfont-weight: 100;\n",
        "\ttext-transform: uppercase;\n",
        "\tcolor: #15824b;\n",
        "\tfont-family: 'Ubuntu', sans-serif;\n",
        "\tfont-size: 1.5rem;\n",
        "\tline-height: 1.53;\n",
        "\ttext-align: center;\n",
        "\tcolor: #35465d;\n",
        "\tmargin: 0 auto;\n",
        "}\n",
        ".file-upload-image {\n",
        "\tmax-height: 200px;\n",
        "\tmax-width: 200px;\n",
        "\tmargin: auto;\n",
        "\tpadding: 20px;\n",
        "}\n",
        ".remove-image {\n",
        "\twidth: 200px;\n",
        "\tmargin: 0;\n",
        "\tcolor: #fff;\n",
        "\tbackground: #cd4535;\n",
        "\tborder: none;\n",
        "\tpadding: 10px;\n",
        "\tborder-radius: 4px;\n",
        "\tborder-bottom: 4px solid #b02818;\n",
        "\ttransition: all 0.2s ease;\n",
        "\toutline: none;\n",
        "\ttext-transform: uppercase;\n",
        "\tfont-weight: 700;\n",
        "}\n",
        ".remove-image:hover {\n",
        "\tbackground: #c13b2a;\n",
        "\tcolor: #fff;\n",
        "\ttransition: all 0.2s ease;\n",
        "\tcursor: pointer;\n",
        "}\n",
        ".remove-image:active {\n",
        "\tborder: 0;\n",
        "\ttransition: all 0.2s ease;\n",
        "}\n",
        "\n",
        ".nav-distance {\n",
        "\tpadding: 2.1% 7.7%;\n",
        "}\n",
        "\n",
        ".navbar-light .navbar-brand {\n",
        "\tfont-family: 'Ubuntu', sans-serif;\n",
        "\tline-height: 1.68;\n",
        "\ttext-align: left;\n",
        "\tcolor: #35465d;\n",
        "}\n",
        "\n",
        ".navbar-light .navbar-toggler {\n",
        "\tborder-color: #fff;\n",
        "}\n",
        "\n",
        ".section {\n",
        "\tmargin-top: 100px;\n",
        "}\n",
        "\n",
        ".title {\n",
        "\tfont-family: 'Ubuntu', sans-serif;\n",
        "\tline-height: 1.67;\n",
        "\ttext-align: center;\n",
        "\tcolor: #35465d;\n",
        "}\n",
        "\n",
        ".subtitle {\n",
        "\tfont-family: 'Ubuntu', sans-serif;\n",
        "\tline-height: 1.53;\n",
        "\ttext-align: center;\n",
        "\tcolor: #35465d;\n",
        "}\n",
        "\n",
        "/* On screens that are 600px or less, set the background color to olive */\n",
        "@media screen and (max-width: 600px) {\n",
        "  html {\n",
        "    font-size: 10px;\n",
        "  }\n",
        "\t.navbar-brand {\n",
        "\t\tfont-size: 2rem;\n",
        "\t}\n",
        "}\n",
        "\n",
        ".github-link {\n",
        "\tfont-family: 'Ubuntu', sans-serif;\n",
        "\tfont-weight: bolder;\n",
        "\tfont-size: 1.0rem;\n",
        "\tline-height: 1.71;\n",
        "\ttext-align: center;\n",
        "\tcolor: #000000;\n",
        "\ttext-decoration: underline;\n",
        "}\n",
        "\n",
        ".github-link: hover {\n",
        "\tfont-family: 'Ubuntu', sans-serif;\n",
        "\tfont-weight: bolder;\n",
        "\tfont-size: 1.0rem;\n",
        "\tline-height: 1.71;\n",
        "\ttext-align: center;\n",
        "\tcolor: #2fb004;\n",
        "\ttext-decoration: underline;\n",
        "}\n",
        "\n",
        ".INFOODD-icon {\n",
        "\twidth: 10%\n",
        "}\n",
        "\n",
        "\n",
        "\n",
        "\n",
        ".image-upload-wrap {\n",
        "\tobject-fit: contain;\n",
        "\tborder-radius: 10px;\n",
        "\tborder: dashed 1.5px\n",
        "\t\t#35465d;\n",
        "\tbackground-color:\n",
        "\t\t#ffffff;\n",
        "}\n",
        "\n",
        ".image-upload-wrap hover {\n",
        "\tobject-fit: contain;\n",
        "\tborder-radius: 10px;\n",
        "\tborder: dashed 1.5px\n",
        "\t\t#35465d;\n",
        "\tbackground-color:\n",
        "\t\t#35465d;\n",
        "}\n",
        "\n",
        ".upload-text {\n",
        "\twidth: 50%;\n",
        "\tfont-family: 'Ubuntu', sans-serif;\n",
        "\tfont-size: 1.6 rem;\n",
        "\tline-height: 1.53;\n",
        "\ttext-align: center;\n",
        "\tcolor: #35465d;\n",
        "\tmargin: 0 auto;\n",
        "}"
      ]
    },
    {
      "cell_type": "code",
      "source": [
        ""
      ],
      "metadata": {
        "id": "hElMx8zGTEWC"
      },
      "execution_count": null,
      "outputs": []
    },
    {
      "cell_type": "code",
      "source": [
        ""
      ],
      "metadata": {
        "id": "KblXTXMVTYSs"
      },
      "execution_count": null,
      "outputs": []
    },
    {
      "cell_type": "code",
      "source": [
        ""
      ],
      "metadata": {
        "id": "TWrrCEWhgt9-"
      },
      "execution_count": null,
      "outputs": []
    },
    {
      "cell_type": "markdown",
      "metadata": {
        "id": "gLsFCklBoFQn"
      },
      "source": [
        "# print.html"
      ]
    },
    {
      "cell_type": "code",
      "execution_count": null,
      "metadata": {
        "colab": {
          "base_uri": "https://localhost:8080/"
        },
        "id": "alkLzpDNoHPA",
        "outputId": "86cd574a-fe5f-4981-f5bd-3d70a69f602f"
      },
      "outputs": [
        {
          "name": "stdout",
          "output_type": "stream",
          "text": [
            "Writing templates/print.html\n"
          ]
        }
      ],
      "source": [
        "%%writefile templates/print.html\n",
        "<!DOCTYPE html>\n",
        "<html>\n",
        "\t<head>\n",
        "        <link rel=\"preconnect\" href=\"https://fonts.googleapis.com\" />\n",
        "\t\t<link rel=\"preconnect\" href=\"https://fonts.gstatic.com\" crossorigin />\n",
        "\t\t<link\n",
        "\t\t\thref=\"https://fonts.googleapis.com/css2?family=Ubuntu&display=swap\"\n",
        "\t\t\trel=\"stylesheet\"\n",
        "\t\t/>\n",
        "        \n",
        "        <!-- Required meta tags -->\n",
        "\t\t<meta charset=\"utf-8\" />\n",
        "\t\t<meta name=\"viewport\" content=\"width=device-width, initial-scale=1\" />\n",
        "\n",
        "        <!-- Bootstrap CSS -->\n",
        "\t\t<link\n",
        "        href=\"https://cdn.jsdelivr.net/npm/bootstrap@5.1.3/dist/css/bootstrap.min.css\"\n",
        "        rel=\"stylesheet\"\n",
        "        integrity=\"sha384-1BmE4kWBq78iYhFldvKuhfTAU6auU8tT94WrHftjDbrCEXSU1oBoqyl2QvZ6jIW3\"\n",
        "        crossorigin=\"anonymous\"\n",
        "        />\n",
        "\n",
        "        <title>Nutrition_4</title>\n",
        "        <link rel=\"stylesheet\" href=\"/static/style.css\" />\n",
        "    </head>\n",
        "\t<body>\n",
        "        <form method=\"post\" action=\"/print\" enctype=\"multipart/form-data\">\n",
        "            <section class=\"section\">\n",
        "                <h2 class=\"title\">개인 맞춤형 식단 필터링 서비스</h2>\n",
        "            <center>\n",
        "            \n",
        "            </center>\n",
        "    </body>\n",
        "\t\n",
        "</html>"
      ]
    },
    {
      "cell_type": "code",
      "source": [
        ""
      ],
      "metadata": {
        "id": "4A7yfFAVSreJ"
      },
      "execution_count": null,
      "outputs": []
    },
    {
      "cell_type": "markdown",
      "metadata": {
        "id": "cIvhXiOfLAYK"
      },
      "source": [
        "# FastAPI 실행\n",
        "- 연결 가능"
      ]
    },
    {
      "cell_type": "code",
      "execution_count": null,
      "metadata": {
        "id": "IFtrX2cInheR"
      },
      "outputs": [],
      "source": [
        "from typing import Optional\n",
        "from pydantic import BaseModel"
      ]
    },
    {
      "cell_type": "code",
      "execution_count": null,
      "metadata": {
        "id": "HLROcN0zKsvU"
      },
      "outputs": [],
      "source": [
        "# FastAPI - 변수설정 및 수정 필요\n",
        "from fastapi.staticfiles import StaticFiles\n",
        "\n",
        "class Select_Gender(BaseModel):\n",
        "    img: UploadFile = File(...)\n",
        "    gender: str = Form(...)\n",
        "    ages: int = Form(...)\n",
        "    illness: Optional[str] = Form(...)\n",
        "\n",
        "app=FastAPI()\n",
        "templates = Jinja2Templates(directory=\"templates\")\n",
        "app.mount('/static', StaticFiles(directory='static'), name='static')\n",
        "app.mount('/img', StaticFiles(directory='img'), name='img')\n",
        "\n",
        "@app.get('/', response_class=HTMLResponse)\n",
        "async def read_page(request: Request):\n",
        "  return templates.TemplateResponse(\"main.html\", {\"request\": request, 'item':Item })\n",
        "\n",
        "@app.post('/print', response_class=HTMLResponse)\n",
        "async def get_page(request: Request):\n",
        "  return templates.TemplateResponse(\"print.html\", {\"request\": request})"
      ]
    },
    {
      "cell_type": "code",
      "execution_count": null,
      "metadata": {
        "colab": {
          "base_uri": "https://localhost:8080/"
        },
        "id": "MZ847sKCLGIg",
        "outputId": "ebc7da45-d87b-4ff6-a99f-e178efdf44aa"
      },
      "outputs": [
        {
          "output_type": "stream",
          "name": "stdout",
          "text": [
            "Authtoken saved to configuration file: /root/.ngrok2/ngrok.yml\n"
          ]
        }
      ],
      "source": [
        "#ngrok authtoken\n",
        "!ngrok authtoken 26P542M5d2txQcLcbZiAZnJa2Uv_ZWHtNDRbdXZKKnUuFqRQ"
      ]
    },
    {
      "cell_type": "code",
      "execution_count": null,
      "metadata": {
        "colab": {
          "base_uri": "https://localhost:8080/"
        },
        "id": "G_jRznyNLKos",
        "outputId": "e2f73713-691a-4010-d32c-a4402a582a72"
      },
      "outputs": [
        {
          "output_type": "stream",
          "name": "stdout",
          "text": [
            "Public URL: http://f6c0-34-73-227-199.ngrok.io\n"
          ]
        },
        {
          "output_type": "stream",
          "name": "stderr",
          "text": [
            "INFO:     Started server process [63]\n",
            "INFO:     Waiting for application startup.\n",
            "INFO:     Application startup complete.\n",
            "INFO:     Uvicorn running on http://0.0.0.0:8000 (Press CTRL+C to quit)\n"
          ]
        },
        {
          "output_type": "stream",
          "name": "stdout",
          "text": [
            "INFO:     49.142.75.97:0 - \"GET / HTTP/1.1\" 200 OK\n",
            "INFO:     49.142.75.97:0 - \"GET /style.css HTTP/1.1\" 200 OK\n",
            "INFO:     49.142.75.97:0 - \"GET / HTTP/1.1\" 200 OK\n",
            "INFO:     49.142.75.97:0 - \"GET /upload.png HTTP/1.1\" 404 Not Found\n",
            "INFO:     49.142.75.97:0 - \"GET /favicon.ico HTTP/1.1\" 404 Not Found\n"
          ]
        },
        {
          "output_type": "stream",
          "name": "stderr",
          "text": [
            "INFO:     Shutting down\n",
            "INFO:     Waiting for application shutdown.\n",
            "INFO:     Application shutdown complete.\n",
            "INFO:     Finished server process [63]\n"
          ]
        }
      ],
      "source": [
        "ngrok_tunnel = ngrok.connect(8000)\n",
        "print ('Public URL:', ngrok_tunnel.public_url) \n",
        "nest_asyncio.apply()\n",
        "uvicorn.run(app, host='0.0.0.0', port=8000)"
      ]
    },
    {
      "cell_type": "code",
      "execution_count": null,
      "metadata": {
        "id": "LsPVnAGOc0RG"
      },
      "outputs": [],
      "source": [
        "@app.get('/', response_class=HTMLResponse)\n",
        "async def read_page(request: Request):\n",
        "  return templates.TemplateResponse(\"index.html\", {\"request\": request})\n"
      ]
    },
    {
      "cell_type": "code",
      "source": [
        "app=FastAPI()\n",
        "templates = Jinja2Templates(directory=\"templates\")\n",
        "app.mount('/static', StaticFiles(directory='static'), name='static')\n",
        "app.mount('/img', StaticFiles(directory='img'), name='img')\n"
      ],
      "metadata": {
        "id": "9i6Y2PqyNTTu"
      },
      "execution_count": null,
      "outputs": []
    },
    {
      "cell_type": "code",
      "source": [
        "!pip install fastapi nest-asyncio pyngrok uvicorn aiofiles python-multipart\n",
        "\n",
        "# 모듈 임포트\n",
        "from fastapi import FastAPI, Request, Form, File, UploadFile\n",
        "from fastapi.responses import HTMLResponse\n",
        "from fastapi.staticfiles import StaticFiles\n",
        "from fastapi.templating import Jinja2Templates\n",
        "import nest_asyncio\n",
        "from pyngrok import ngrok\n",
        "\n",
        "import uvicorn\n"
      ],
      "metadata": {
        "id": "LbGGERLjNXST"
      },
      "execution_count": null,
      "outputs": []
    }
  ]
}